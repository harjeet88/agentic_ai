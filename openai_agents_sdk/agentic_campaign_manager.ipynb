{
  "nbformat": 4,
  "nbformat_minor": 0,
  "metadata": {
    "colab": {
      "provenance": [],
      "include_colab_link": true
    },
    "kernelspec": {
      "name": "python3",
      "display_name": "Python 3"
    },
    "language_info": {
      "name": "python"
    }
  },
  "cells": [
    {
      "cell_type": "markdown",
      "metadata": {
        "id": "view-in-github",
        "colab_type": "text"
      },
      "source": [
        "<a href=\"https://colab.research.google.com/github/harjeet88/agentic_ai/blob/main/openai_agents_sdk/agentic_campaign_manager.ipynb\" target=\"_parent\"><img src=\"https://colab.research.google.com/assets/colab-badge.svg\" alt=\"Open In Colab\"/></a>"
      ]
    },
    {
      "cell_type": "code",
      "execution_count": 23,
      "metadata": {
        "id": "kzjqIY5e9nDh"
      },
      "outputs": [],
      "source": [
        "from google.colab import userdata\n",
        "google_api_key = userdata.get('GOOGLE_API_KEY')\n",
        "openai_api_key=userdata.get('OPENAI_API_KEY')\n",
        "sendgrid_api_key=userdata.get('SENDGRID_API_KEY')"
      ]
    },
    {
      "cell_type": "code",
      "source": [
        "import os\n",
        "os.environ[\"OPENAI_API_KEY\"] = openai_api_key\n",
        "os.environ[\"GOOGLE_API_KEY\"] = google_api_key\n",
        "os.environ[\"SENDGRID_API_KEY\"] = sendgrid_api_key"
      ],
      "metadata": {
        "id": "arAnH3R4BkC-"
      },
      "execution_count": 24,
      "outputs": []
    },
    {
      "cell_type": "code",
      "metadata": {
        "colab": {
          "base_uri": "https://localhost:8080/"
        },
        "id": "6591a7c8",
        "outputId": "4f668d64-ada4-4188-ec12-f73b727a1fae"
      },
      "source": [
        "!pip install openai-agents"
      ],
      "execution_count": 3,
      "outputs": [
        {
          "output_type": "stream",
          "name": "stdout",
          "text": [
            "Collecting openai-agents\n",
            "  Downloading openai_agents-0.0.19-py3-none-any.whl.metadata (8.3 kB)\n",
            "Collecting griffe<2,>=1.5.6 (from openai-agents)\n",
            "  Downloading griffe-1.7.3-py3-none-any.whl.metadata (5.0 kB)\n",
            "Collecting mcp<2,>=1.9.4 (from openai-agents)\n",
            "  Downloading mcp-1.9.4-py3-none-any.whl.metadata (28 kB)\n",
            "Collecting openai>=1.87.0 (from openai-agents)\n",
            "  Downloading openai-1.90.0-py3-none-any.whl.metadata (26 kB)\n",
            "Requirement already satisfied: pydantic<3,>=2.10 in /usr/local/lib/python3.11/dist-packages (from openai-agents) (2.11.7)\n",
            "Requirement already satisfied: requests<3,>=2.0 in /usr/local/lib/python3.11/dist-packages (from openai-agents) (2.32.3)\n",
            "Collecting types-requests<3,>=2.0 (from openai-agents)\n",
            "  Downloading types_requests-2.32.4.20250611-py3-none-any.whl.metadata (2.1 kB)\n",
            "Requirement already satisfied: typing-extensions<5,>=4.12.2 in /usr/local/lib/python3.11/dist-packages (from openai-agents) (4.14.0)\n",
            "Collecting colorama>=0.4 (from griffe<2,>=1.5.6->openai-agents)\n",
            "  Downloading colorama-0.4.6-py2.py3-none-any.whl.metadata (17 kB)\n",
            "Requirement already satisfied: anyio>=4.5 in /usr/local/lib/python3.11/dist-packages (from mcp<2,>=1.9.4->openai-agents) (4.9.0)\n",
            "Collecting httpx-sse>=0.4 (from mcp<2,>=1.9.4->openai-agents)\n",
            "  Downloading httpx_sse-0.4.0-py3-none-any.whl.metadata (9.0 kB)\n",
            "Requirement already satisfied: httpx>=0.27 in /usr/local/lib/python3.11/dist-packages (from mcp<2,>=1.9.4->openai-agents) (0.28.1)\n",
            "Collecting pydantic-settings>=2.5.2 (from mcp<2,>=1.9.4->openai-agents)\n",
            "  Downloading pydantic_settings-2.10.0-py3-none-any.whl.metadata (3.4 kB)\n",
            "Requirement already satisfied: python-multipart>=0.0.9 in /usr/local/lib/python3.11/dist-packages (from mcp<2,>=1.9.4->openai-agents) (0.0.20)\n",
            "Collecting sse-starlette>=1.6.1 (from mcp<2,>=1.9.4->openai-agents)\n",
            "  Downloading sse_starlette-2.3.6-py3-none-any.whl.metadata (10 kB)\n",
            "Requirement already satisfied: starlette>=0.27 in /usr/local/lib/python3.11/dist-packages (from mcp<2,>=1.9.4->openai-agents) (0.46.2)\n",
            "Requirement already satisfied: uvicorn>=0.23.1 in /usr/local/lib/python3.11/dist-packages (from mcp<2,>=1.9.4->openai-agents) (0.34.3)\n",
            "Requirement already satisfied: distro<2,>=1.7.0 in /usr/local/lib/python3.11/dist-packages (from openai>=1.87.0->openai-agents) (1.9.0)\n",
            "Requirement already satisfied: jiter<1,>=0.4.0 in /usr/local/lib/python3.11/dist-packages (from openai>=1.87.0->openai-agents) (0.10.0)\n",
            "Requirement already satisfied: sniffio in /usr/local/lib/python3.11/dist-packages (from openai>=1.87.0->openai-agents) (1.3.1)\n",
            "Requirement already satisfied: tqdm>4 in /usr/local/lib/python3.11/dist-packages (from openai>=1.87.0->openai-agents) (4.67.1)\n",
            "Requirement already satisfied: annotated-types>=0.6.0 in /usr/local/lib/python3.11/dist-packages (from pydantic<3,>=2.10->openai-agents) (0.7.0)\n",
            "Requirement already satisfied: pydantic-core==2.33.2 in /usr/local/lib/python3.11/dist-packages (from pydantic<3,>=2.10->openai-agents) (2.33.2)\n",
            "Requirement already satisfied: typing-inspection>=0.4.0 in /usr/local/lib/python3.11/dist-packages (from pydantic<3,>=2.10->openai-agents) (0.4.1)\n",
            "Requirement already satisfied: charset-normalizer<4,>=2 in /usr/local/lib/python3.11/dist-packages (from requests<3,>=2.0->openai-agents) (3.4.2)\n",
            "Requirement already satisfied: idna<4,>=2.5 in /usr/local/lib/python3.11/dist-packages (from requests<3,>=2.0->openai-agents) (3.10)\n",
            "Requirement already satisfied: urllib3<3,>=1.21.1 in /usr/local/lib/python3.11/dist-packages (from requests<3,>=2.0->openai-agents) (2.4.0)\n",
            "Requirement already satisfied: certifi>=2017.4.17 in /usr/local/lib/python3.11/dist-packages (from requests<3,>=2.0->openai-agents) (2025.6.15)\n",
            "Requirement already satisfied: httpcore==1.* in /usr/local/lib/python3.11/dist-packages (from httpx>=0.27->mcp<2,>=1.9.4->openai-agents) (1.0.9)\n",
            "Requirement already satisfied: h11>=0.16 in /usr/local/lib/python3.11/dist-packages (from httpcore==1.*->httpx>=0.27->mcp<2,>=1.9.4->openai-agents) (0.16.0)\n",
            "Collecting python-dotenv>=0.21.0 (from pydantic-settings>=2.5.2->mcp<2,>=1.9.4->openai-agents)\n",
            "  Downloading python_dotenv-1.1.0-py3-none-any.whl.metadata (24 kB)\n",
            "Requirement already satisfied: click>=7.0 in /usr/local/lib/python3.11/dist-packages (from uvicorn>=0.23.1->mcp<2,>=1.9.4->openai-agents) (8.2.1)\n",
            "Downloading openai_agents-0.0.19-py3-none-any.whl (126 kB)\n",
            "\u001b[2K   \u001b[90m━━━━━━━━━━━━━━━━━━━━━━━━━━━━━━━━━━━━━━━━\u001b[0m \u001b[32m126.7/126.7 kB\u001b[0m \u001b[31m6.2 MB/s\u001b[0m eta \u001b[36m0:00:00\u001b[0m\n",
            "\u001b[?25hDownloading griffe-1.7.3-py3-none-any.whl (129 kB)\n",
            "\u001b[2K   \u001b[90m━━━━━━━━━━━━━━━━━━━━━━━━━━━━━━━━━━━━━━━━\u001b[0m \u001b[32m129.3/129.3 kB\u001b[0m \u001b[31m10.9 MB/s\u001b[0m eta \u001b[36m0:00:00\u001b[0m\n",
            "\u001b[?25hDownloading mcp-1.9.4-py3-none-any.whl (130 kB)\n",
            "\u001b[2K   \u001b[90m━━━━━━━━━━━━━━━━━━━━━━━━━━━━━━━━━━━━━━━━\u001b[0m \u001b[32m130.2/130.2 kB\u001b[0m \u001b[31m10.9 MB/s\u001b[0m eta \u001b[36m0:00:00\u001b[0m\n",
            "\u001b[?25hDownloading openai-1.90.0-py3-none-any.whl (734 kB)\n",
            "\u001b[2K   \u001b[90m━━━━━━━━━━━━━━━━━━━━━━━━━━━━━━━━━━━━━━━━\u001b[0m \u001b[32m734.6/734.6 kB\u001b[0m \u001b[31m32.1 MB/s\u001b[0m eta \u001b[36m0:00:00\u001b[0m\n",
            "\u001b[?25hDownloading types_requests-2.32.4.20250611-py3-none-any.whl (20 kB)\n",
            "Downloading colorama-0.4.6-py2.py3-none-any.whl (25 kB)\n",
            "Downloading httpx_sse-0.4.0-py3-none-any.whl (7.8 kB)\n",
            "Downloading pydantic_settings-2.10.0-py3-none-any.whl (45 kB)\n",
            "\u001b[2K   \u001b[90m━━━━━━━━━━━━━━━━━━━━━━━━━━━━━━━━━━━━━━━━\u001b[0m \u001b[32m45.2/45.2 kB\u001b[0m \u001b[31m3.6 MB/s\u001b[0m eta \u001b[36m0:00:00\u001b[0m\n",
            "\u001b[?25hDownloading sse_starlette-2.3.6-py3-none-any.whl (10 kB)\n",
            "Downloading python_dotenv-1.1.0-py3-none-any.whl (20 kB)\n",
            "Installing collected packages: types-requests, python-dotenv, httpx-sse, colorama, sse-starlette, griffe, pydantic-settings, openai, mcp, openai-agents\n",
            "  Attempting uninstall: openai\n",
            "    Found existing installation: openai 1.86.0\n",
            "    Uninstalling openai-1.86.0:\n",
            "      Successfully uninstalled openai-1.86.0\n",
            "Successfully installed colorama-0.4.6 griffe-1.7.3 httpx-sse-0.4.0 mcp-1.9.4 openai-1.90.0 openai-agents-0.0.19 pydantic-settings-2.10.0 python-dotenv-1.1.0 sse-starlette-2.3.6 types-requests-2.32.4.20250611\n"
          ]
        }
      ]
    },
    {
      "cell_type": "code",
      "source": [
        "!pip install sendgrid"
      ],
      "metadata": {
        "id": "256BeReYC8Y8",
        "outputId": "4645375e-d2ea-4a80-a20d-1d31af54dad1",
        "colab": {
          "base_uri": "https://localhost:8080/"
        }
      },
      "execution_count": 6,
      "outputs": [
        {
          "output_type": "stream",
          "name": "stdout",
          "text": [
            "Collecting sendgrid\n",
            "  Downloading sendgrid-6.12.4-py3-none-any.whl.metadata (12 kB)\n",
            "Collecting python-http-client>=3.2.1 (from sendgrid)\n",
            "  Downloading python_http_client-3.3.7-py3-none-any.whl.metadata (6.9 kB)\n",
            "Collecting ecdsa<1,>=0.19.1 (from sendgrid)\n",
            "  Downloading ecdsa-0.19.1-py2.py3-none-any.whl.metadata (29 kB)\n",
            "Requirement already satisfied: werkzeug>=2.2.0 in /usr/local/lib/python3.11/dist-packages (from sendgrid) (3.1.3)\n",
            "Requirement already satisfied: six>=1.9.0 in /usr/local/lib/python3.11/dist-packages (from ecdsa<1,>=0.19.1->sendgrid) (1.17.0)\n",
            "Requirement already satisfied: MarkupSafe>=2.1.1 in /usr/local/lib/python3.11/dist-packages (from werkzeug>=2.2.0->sendgrid) (3.0.2)\n",
            "Downloading sendgrid-6.12.4-py3-none-any.whl (102 kB)\n",
            "\u001b[2K   \u001b[90m━━━━━━━━━━━━━━━━━━━━━━━━━━━━━━━━━━━━━━━━\u001b[0m \u001b[32m102.1/102.1 kB\u001b[0m \u001b[31m5.2 MB/s\u001b[0m eta \u001b[36m0:00:00\u001b[0m\n",
            "\u001b[?25hDownloading ecdsa-0.19.1-py2.py3-none-any.whl (150 kB)\n",
            "\u001b[2K   \u001b[90m━━━━━━━━━━━━━━━━━━━━━━━━━━━━━━━━━━━━━━━━\u001b[0m \u001b[32m150.6/150.6 kB\u001b[0m \u001b[31m10.6 MB/s\u001b[0m eta \u001b[36m0:00:00\u001b[0m\n",
            "\u001b[?25hDownloading python_http_client-3.3.7-py3-none-any.whl (8.4 kB)\n",
            "Installing collected packages: python-http-client, ecdsa, sendgrid\n",
            "Successfully installed ecdsa-0.19.1 python-http-client-3.3.7 sendgrid-6.12.4\n"
          ]
        }
      ]
    },
    {
      "cell_type": "code",
      "source": [
        "from agents import Agent, Runner, trace, function_tool\n",
        "from openai.types.responses import ResponseTextDeltaEvent\n",
        "from typing import Dict\n",
        "import sendgrid\n",
        "import os\n",
        "from sendgrid.helpers.mail import Mail, Email, To, Content\n",
        "import asyncio"
      ],
      "metadata": {
        "id": "anq93ASoAZ3c"
      },
      "execution_count": 7,
      "outputs": []
    },
    {
      "cell_type": "code",
      "source": [
        "instructions1 = \"You are a sales agent working for ComplAI, \\\n",
        "a company that provides a SaaS tool for ensuring SOC2 compliance and preparing for audits, powered by AI. \\\n",
        "You write professional, serious cold emails.\"\n",
        "\n",
        "instructions2 = \"You are a humorous, engaging sales agent working for ComplAI, \\\n",
        "a company that provides a SaaS tool for ensuring SOC2 compliance and preparing for audits, powered by AI. \\\n",
        "You write witty, engaging cold emails that are likely to get a response.\"\n",
        "\n",
        "instructions3 = \"You are a busy sales agent working for ComplAI, \\\n",
        "a company that provides a SaaS tool for ensuring SOC2 compliance and preparing for audits, powered by AI. \\\n",
        "You write concise, to the point cold emails.\""
      ],
      "metadata": {
        "id": "M-xoniAIAzmF"
      },
      "execution_count": 8,
      "outputs": []
    },
    {
      "cell_type": "code",
      "source": [
        "sales_agent1 = Agent(\n",
        "        name=\"Professional Sales Agent\",\n",
        "        instructions=instructions1,\n",
        "        model=\"gpt-4o-mini\"\n",
        ")\n",
        "\n",
        "sales_agent2 = Agent(\n",
        "        name=\"Engaging Sales Agent\",\n",
        "        instructions=instructions2,\n",
        "        model=\"gpt-4o-mini\"\n",
        ")\n",
        "\n",
        "sales_agent3 = Agent(\n",
        "        name=\"Busy Sales Agent\",\n",
        "        instructions=instructions3,\n",
        "        model=\"gpt-4o-mini\"\n",
        ")"
      ],
      "metadata": {
        "id": "F-ObH9ZTA4kd"
      },
      "execution_count": 9,
      "outputs": []
    },
    {
      "cell_type": "code",
      "source": [
        "result = Runner.run_streamed(sales_agent1, input=\"Write a cold sales email\")\n",
        "async for event in result.stream_events():\n",
        "    if event.type == \"raw_response_event\" and isinstance(event.data, ResponseTextDeltaEvent):\n",
        "        print(event.data.delta, end=\"\", flush=True)"
      ],
      "metadata": {
        "id": "pALjsrBcDHeN",
        "outputId": "f85a4fea-66fa-4900-8fbe-a4161334144b",
        "colab": {
          "base_uri": "https://localhost:8080/"
        }
      },
      "execution_count": 10,
      "outputs": [
        {
          "output_type": "stream",
          "name": "stdout",
          "text": [
            "Subject: Simplify Your SOC 2 Compliance Process with ComplAI\n",
            "\n",
            "Hi [Recipient's Name],\n",
            "\n",
            "I hope this message finds you well. My name is [Your Name], and I’m reaching out to introduce you to ComplAI, a cutting-edge SaaS solution specifically designed to streamline SOC 2 compliance and audit preparations.\n",
            "\n",
            "Navigating the complexities of SOC 2 requirements can be overwhelming, especially in today’s fast-paced business environment. ComplAI leverages advanced AI technology to automate compliance tasks, saving your team valuable time and reducing the risk of oversight. Our platform offers:\n",
            "\n",
            "- **Automated Documentation**: Easily generate and manage compliance documentation.\n",
            "- **Real-time Monitoring**: Stay up-to-date with compliance requirements and changes.\n",
            "- **Seamless Audit Preparation**: Simplify the audit process with organized, accessible records.\n",
            "\n",
            "We’ve helped organizations like yours not only achieve compliance but do so efficiently and confidently. I would love to discuss how ComplAI can specifically benefit [Company Name].\n",
            "\n",
            "Are you available for a brief call next week to explore this further? \n",
            "\n",
            "Thank you for your time, and I look forward to the opportunity to connect.\n",
            "\n",
            "Best regards,\n",
            "\n",
            "[Your Name]  \n",
            "[Your Position]  \n",
            "ComplAI  \n",
            "[Your Contact Information]  \n",
            "[Your Website]  "
          ]
        }
      ]
    },
    {
      "cell_type": "code",
      "source": [
        "message = \"Write a cold sales email\"\n",
        "\n",
        "with trace(\"Parallel cold emails\"):\n",
        "    results = await asyncio.gather(\n",
        "        Runner.run(sales_agent1, message),\n",
        "        Runner.run(sales_agent2, message),\n",
        "        Runner.run(sales_agent3, message),\n",
        "    )\n",
        "\n",
        "outputs = [result.final_output for result in results]\n",
        "\n",
        "for output in outputs:\n",
        "    print(output + \"\\n\\n\")"
      ],
      "metadata": {
        "id": "HXna9_qdDKdJ",
        "outputId": "c8aad0ea-32a5-4aef-8e62-49bc85f8fbdf",
        "colab": {
          "base_uri": "https://localhost:8080/"
        }
      },
      "execution_count": 11,
      "outputs": [
        {
          "output_type": "stream",
          "name": "stdout",
          "text": [
            "Subject: Secure Your SOC 2 Compliance with ComplAI\n",
            "\n",
            "Hi [First Name],\n",
            "\n",
            "I hope this message finds you well. My name is [Your Name], and I’m reaching out from ComplAI, where we specialize in helping organizations like yours achieve SOC 2 compliance efficiently and effectively.\n",
            "\n",
            "In today’s digital landscape, ensuring data security and compliance can be a complex challenge. Our AI-powered SaaS tool streamlines the entire compliance process, from risk assessments to audit preparation, saving your team valuable time and resources.\n",
            "\n",
            "Key benefits of using ComplAI include:\n",
            "- Automated documentation and policy generation\n",
            "- Real-time compliance monitoring\n",
            "- Tailored guidance based on your specific industry needs\n",
            "\n",
            "I’d love to explore how we can help your organization simplify SOC 2 compliance. Would you be available for a brief call next week?\n",
            "\n",
            "Thank you for your time, and I look forward to connecting.\n",
            "\n",
            "Best regards,\n",
            "\n",
            "[Your Name]  \n",
            "[Your Position]  \n",
            "ComplAI  \n",
            "[Your Phone Number]  \n",
            "[Your Email Address]  \n",
            "[Your LinkedIn Profile or Company Website]  \n",
            "\n",
            "\n",
            "Subject: Is Your Compliance as Easy as Pie? 🥧 (Spoiler: It Should Be!)\n",
            "\n",
            "Hey [Recipient's Name],\n",
            "\n",
            "Hope you’re having a day as smooth as freshly churned butter! 🧈\n",
            "\n",
            "I'm reaching out from ComplAI, where we believe that SOC2 compliance shouldn’t feel like trying to find a unicorn in a haystack. We’re here to help you make compliance as easy as pie—key lime, if you’re feeling adventurous!\n",
            "\n",
            "Imagine having a trusty AI sidekick that does all the heavy lifting, like a superhero but without the spandex suit. 💪🦸‍♂️ With ComplAI, you can:\n",
            "\n",
            "- **Zap through audits** faster than you can say “SOC2”.\n",
            "- **Track compliance** like a hawk (or maybe a very diligent owl?).\n",
            "- **Ditch the stress** and focus on what you do best—growing your business!\n",
            "\n",
            "Ready to trade in the chaos for a coffee break? Let’s set up a quick chat! I promise it’ll be more fun than reading your company’s compliance handbook. (And you might even thank me for it!)\n",
            "\n",
            "Best pie wishes,  \n",
            "[Your Name]  \n",
            "[Your Position]  \n",
            "ComplAI  \n",
            "[P.S. Seriously, we can even discuss pie recipes! 🍰]\n",
            "\n",
            "\n",
            "Subject: Simplify Your SOC 2 Compliance with AI\n",
            "\n",
            "Hi [Recipient's Name],\n",
            "\n",
            "I hope this message finds you well. I’m reaching out to introduce you to ComplAI, our AI-powered tool designed to streamline SOC 2 compliance and audit preparation.\n",
            "\n",
            "With ComplAI, you can:\n",
            "- Automate compliance tasks, saving time and reducing errors.\n",
            "- Gain insights into your current compliance status with real-time updates.\n",
            "- Easily prepare for audits, ensuring you’re always ready.\n",
            "\n",
            "I’d love to schedule a brief call to discuss how ComplAI can support your compliance efforts. Are you available this week?\n",
            "\n",
            "Best,  \n",
            "[Your Name]  \n",
            "[Your Position]  \n",
            "ComplAI  \n",
            "[Your Contact Information]\n",
            "\n",
            "\n"
          ]
        }
      ]
    },
    {
      "cell_type": "code",
      "source": [
        "sales_picker = Agent(\n",
        "    name=\"sales_picker\",\n",
        "    instructions=\"You pick the best cold sales email from the given options. \\\n",
        "Imagine you are a customer and pick the one you are most likely to respond to. \\\n",
        "Do not give an explanation; reply with the selected email only.\",\n",
        "    model=\"gpt-4o-mini\"\n",
        ")"
      ],
      "metadata": {
        "id": "coGXua2pDQIT"
      },
      "execution_count": 12,
      "outputs": []
    },
    {
      "cell_type": "code",
      "source": [
        "message = \"Write a cold sales email\"\n",
        "\n",
        "with trace(\"Selection from sales people\"):\n",
        "    results = await asyncio.gather(\n",
        "        Runner.run(sales_agent1, message),\n",
        "        Runner.run(sales_agent2, message),\n",
        "        Runner.run(sales_agent3, message),\n",
        "    )\n",
        "    outputs = [result.final_output for result in results]\n",
        "\n",
        "    emails = \"Cold sales emails:\\n\\n\".join(outputs)\n",
        "\n",
        "    best = await Runner.run(sales_picker, emails)\n",
        "\n",
        "    print(f\"Best sales email:\\n{best.final_output}\")"
      ],
      "metadata": {
        "id": "5UGKGTxdDWG0",
        "outputId": "5c87b4f3-679a-4e92-84fa-3313bd15c40f",
        "colab": {
          "base_uri": "https://localhost:8080/"
        }
      },
      "execution_count": 25,
      "outputs": [
        {
          "output_type": "stream",
          "name": "stdout",
          "text": [
            "Best sales email:\n",
            "Subject: Does Your Audit Preparation Make You Want to Pull Your Hair Out? 🧑‍🦲\n",
            "\n",
            "Hey [First Name],\n",
            "\n",
            "Ever feel like preparing for a SOC2 audit is like trying to find a unicorn in a haystack? 🦄 Well, I’m here to tell you that you don't have to go on a magical quest anymore!\n",
            "\n",
            "At ComplAI, we believe that compliance should be less “head-scratching” and more “cruising on autopilot.” Our AI-powered tool helps you sail smoothly through the murky waters of SOC2 compliance, leaving you free to focus on what you do best—running your business (and maybe even taking a much-deserved coffee break!).\n",
            "\n",
            "Imagine a world where audits are as easy as pie (the kind that doesn’t make you feel guilty afterward). With ComplAI, we’ll take care of the compliance mumbo-jumbo so you can skip the stress and still look good in front of your stakeholders.\n",
            "\n",
            "Curious to learn how it works? Let’s schedule a quick chat and turn that audit anxiety into confidence! 🚀\n",
            "\n",
            "Best  \n",
            "[Your Name]  \n",
            "Chief Compliance Cheerleader  \n",
            "ComplAI  \n",
            "P.S. There’s no unicorns involved, but we promise it’ll be magical! 🪄\n"
          ]
        }
      ]
    },
    {
      "cell_type": "markdown",
      "source": [
        "#Using Tools"
      ],
      "metadata": {
        "id": "X298ga7FDrCA"
      }
    },
    {
      "cell_type": "code",
      "source": [
        "sales_agent1 = Agent(\n",
        "        name=\"Professional Sales Agent\",\n",
        "        instructions=instructions1,\n",
        "        model=\"gpt-4o-mini\",\n",
        ")\n",
        "\n",
        "sales_agent2 = Agent(\n",
        "        name=\"Engaging Sales Agent\",\n",
        "        instructions=instructions2,\n",
        "        model=\"gpt-4o-mini\",\n",
        ")\n",
        "\n",
        "sales_agent3 = Agent(\n",
        "        name=\"Busy Sales Agent\",\n",
        "        instructions=instructions3,\n",
        "        model=\"gpt-4o-mini\",\n",
        ")\n"
      ],
      "metadata": {
        "id": "mR3B0Xu7DaiK"
      },
      "execution_count": 15,
      "outputs": []
    },
    {
      "cell_type": "code",
      "source": [
        "sales_agent1"
      ],
      "metadata": {
        "id": "GAw-KmmnDp5w",
        "outputId": "56da2bcc-be11-4857-cd5b-af3ae384bc2f",
        "colab": {
          "base_uri": "https://localhost:8080/"
        }
      },
      "execution_count": 16,
      "outputs": [
        {
          "output_type": "execute_result",
          "data": {
            "text/plain": [
              "Agent(name='Professional Sales Agent', instructions='You are a sales agent working for ComplAI, a company that provides a SaaS tool for ensuring SOC2 compliance and preparing for audits, powered by AI. You write professional, serious cold emails.', prompt=None, handoff_description=None, handoffs=[], model='gpt-4o-mini', model_settings=ModelSettings(temperature=None, top_p=None, frequency_penalty=None, presence_penalty=None, tool_choice=None, parallel_tool_calls=None, truncation=None, max_tokens=None, reasoning=None, metadata=None, store=None, include_usage=None, extra_query=None, extra_body=None, extra_headers=None, extra_args=None), tools=[], mcp_servers=[], mcp_config={}, input_guardrails=[], output_guardrails=[], output_type=None, hooks=None, tool_use_behavior='run_llm_again', reset_tool_choice=True)"
            ]
          },
          "metadata": {},
          "execution_count": 16
        }
      ]
    },
    {
      "cell_type": "code",
      "source": [],
      "metadata": {
        "id": "D0f_KxZcHbFb"
      },
      "execution_count": null,
      "outputs": []
    },
    {
      "cell_type": "code",
      "source": [
        "@function_tool\n",
        "def send_email(body: str):\n",
        "    \"\"\" Send out an email with the given body to all sales prospects \"\"\"\n",
        "    sg = sendgrid.SendGridAPIClient(api_key=os.environ.get('SENDGRID_API_KEY'))\n",
        "    from_email = Email(\"data.savvy.learn@gmail.com\")  # Change to your verified sender\n",
        "    to_email = To(\"aforalgo@gmail.com\")  # Change to your recipient\n",
        "    content = Content(\"text/plain\", body)\n",
        "    mail = Mail(from_email, to_email, \"Sales email\", content).get()\n",
        "    response = sg.client.mail.send.post(request_body=mail)\n",
        "    return {\"status\": \"success\"}"
      ],
      "metadata": {
        "id": "4xRF72jmDyPF"
      },
      "execution_count": 17,
      "outputs": []
    },
    {
      "cell_type": "code",
      "source": [
        "# Let's look at it\n",
        "send_email"
      ],
      "metadata": {
        "id": "vAaonGWaFxiw",
        "outputId": "1686e97a-03bc-48e0-902d-39681ec615e2",
        "colab": {
          "base_uri": "https://localhost:8080/"
        }
      },
      "execution_count": 18,
      "outputs": [
        {
          "output_type": "execute_result",
          "data": {
            "text/plain": [
              "FunctionTool(name='send_email', description='Send out an email with the given body to all sales prospects', params_json_schema={'properties': {'body': {'title': 'Body', 'type': 'string'}}, 'required': ['body'], 'title': 'send_email_args', 'type': 'object', 'additionalProperties': False}, on_invoke_tool=<function function_tool.<locals>._create_function_tool.<locals>._on_invoke_tool at 0x7ae80fb5eca0>, strict_json_schema=True, is_enabled=True)"
            ]
          },
          "metadata": {},
          "execution_count": 18
        }
      ]
    },
    {
      "cell_type": "code",
      "source": [
        "tool1 = sales_agent1.as_tool(tool_name=\"sales_agent1\", tool_description=\"Write a cold sales email\")\n",
        "tool1"
      ],
      "metadata": {
        "id": "Z7KVa_gkF1p-",
        "outputId": "8e158530-3dfc-414a-d8c7-423f457077c4",
        "colab": {
          "base_uri": "https://localhost:8080/"
        }
      },
      "execution_count": 19,
      "outputs": [
        {
          "output_type": "execute_result",
          "data": {
            "text/plain": [
              "FunctionTool(name='sales_agent1', description='Write a cold sales email', params_json_schema={'properties': {'input': {'title': 'Input', 'type': 'string'}}, 'required': ['input'], 'title': 'sales_agent1_args', 'type': 'object', 'additionalProperties': False}, on_invoke_tool=<function function_tool.<locals>._create_function_tool.<locals>._on_invoke_tool at 0x7ae80e6a1120>, strict_json_schema=True, is_enabled=True)"
            ]
          },
          "metadata": {},
          "execution_count": 19
        }
      ]
    },
    {
      "cell_type": "code",
      "source": [
        "description = \"Write a cold sales email\"\n",
        "\n",
        "tool1 = sales_agent1.as_tool(tool_name=\"sales_agent1\", tool_description=description)\n",
        "tool2 = sales_agent2.as_tool(tool_name=\"sales_agent2\", tool_description=description)\n",
        "tool3 = sales_agent3.as_tool(tool_name=\"sales_agent3\", tool_description=description)\n",
        "\n",
        "tools = [tool1, tool2, tool3, send_email]\n",
        "\n",
        "tools"
      ],
      "metadata": {
        "id": "q35AdACkF4Xy",
        "outputId": "e57a38f5-533b-49f7-dec0-31d50d5ebf41",
        "colab": {
          "base_uri": "https://localhost:8080/"
        }
      },
      "execution_count": 20,
      "outputs": [
        {
          "output_type": "execute_result",
          "data": {
            "text/plain": [
              "[FunctionTool(name='sales_agent1', description='Write a cold sales email', params_json_schema={'properties': {'input': {'title': 'Input', 'type': 'string'}}, 'required': ['input'], 'title': 'sales_agent1_args', 'type': 'object', 'additionalProperties': False}, on_invoke_tool=<function function_tool.<locals>._create_function_tool.<locals>._on_invoke_tool at 0x7ae80e356c00>, strict_json_schema=True, is_enabled=True),\n",
              " FunctionTool(name='sales_agent2', description='Write a cold sales email', params_json_schema={'properties': {'input': {'title': 'Input', 'type': 'string'}}, 'required': ['input'], 'title': 'sales_agent2_args', 'type': 'object', 'additionalProperties': False}, on_invoke_tool=<function function_tool.<locals>._create_function_tool.<locals>._on_invoke_tool at 0x7ae80e356b60>, strict_json_schema=True, is_enabled=True),\n",
              " FunctionTool(name='sales_agent3', description='Write a cold sales email', params_json_schema={'properties': {'input': {'title': 'Input', 'type': 'string'}}, 'required': ['input'], 'title': 'sales_agent3_args', 'type': 'object', 'additionalProperties': False}, on_invoke_tool=<function function_tool.<locals>._create_function_tool.<locals>._on_invoke_tool at 0x7ae80fb5eb60>, strict_json_schema=True, is_enabled=True),\n",
              " FunctionTool(name='send_email', description='Send out an email with the given body to all sales prospects', params_json_schema={'properties': {'body': {'title': 'Body', 'type': 'string'}}, 'required': ['body'], 'title': 'send_email_args', 'type': 'object', 'additionalProperties': False}, on_invoke_tool=<function function_tool.<locals>._create_function_tool.<locals>._on_invoke_tool at 0x7ae80fb5eca0>, strict_json_schema=True, is_enabled=True)]"
            ]
          },
          "metadata": {},
          "execution_count": 20
        }
      ]
    },
    {
      "cell_type": "code",
      "source": [
        "instructions =\"You are a sales manager working for ComplAI. You use the tools given to you to generate cold sales emails. \\\n",
        "You never generate sales emails yourself; you always use the tools. \\\n",
        "You try all 3 sales_agent tools once before choosing the best one. \\\n",
        "You pick the single best email and use the send_email tool to send the best email (and only the best email) to the user.\"\n",
        "\n",
        "\n",
        "sales_manager = Agent(name=\"Sales Manager\", instructions=instructions, tools=tools, model=\"gpt-4o-mini\")\n",
        "\n",
        "message = \"Send a cold sales email addressed to 'Dear CEO'\"\n",
        "\n",
        "with trace(\"Sales manager\"):\n",
        "    result = await Runner.run(sales_manager, message)"
      ],
      "metadata": {
        "id": "OlWPNg3QF7cf",
        "outputId": "3e81fae1-0495-44b1-d580-e649f7aa1702",
        "colab": {
          "base_uri": "https://localhost:8080/"
        }
      },
      "execution_count": 26,
      "outputs": [
        {
          "output_type": "stream",
          "name": "stderr",
          "text": [
            "ERROR:openai.agents:Error getting response: Error code: 429 - {'error': {'message': 'Rate limit reached for gpt-4o-mini in organization org-r2UWGvZfAxwY64LO4s2miWUO on requests per min (RPM): Limit 3, Used 3, Requested 1. Please try again in 20s. Visit https://platform.openai.com/account/rate-limits to learn more. You can increase your rate limit by adding a payment method to your account at https://platform.openai.com/account/billing.', 'type': 'requests', 'param': None, 'code': 'rate_limit_exceeded'}}. (request_id: req_298593dfc539a01297ef5e487e23594b)\n"
          ]
        }
      ]
    },
    {
      "cell_type": "code",
      "source": [
        "print(result)"
      ],
      "metadata": {
        "id": "BOsEFgZsF-hW",
        "outputId": "b146cbf5-18f7-47b4-9137-def5027f1bee",
        "colab": {
          "base_uri": "https://localhost:8080/"
        }
      },
      "execution_count": 27,
      "outputs": [
        {
          "output_type": "stream",
          "name": "stdout",
          "text": [
            "RunResult:\n",
            "- Last agent: Agent(name=\"Sales Manager\", ...)\n",
            "- Final output (str):\n",
            "    The cold sales email has been successfully sent to the CEO. If you need any more assistance or another outreach, feel free to ask!\n",
            "- 9 new item(s)\n",
            "- 3 raw response(s)\n",
            "- 0 input guardrail result(s)\n",
            "- 0 output guardrail result(s)\n",
            "(See `RunResult` for more details)\n"
          ]
        }
      ]
    },
    {
      "cell_type": "code",
      "source": [],
      "metadata": {
        "id": "pRWWgP_DG3pb"
      },
      "execution_count": null,
      "outputs": []
    }
  ]
}