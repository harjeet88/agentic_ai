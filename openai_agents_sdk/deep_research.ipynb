{
  "nbformat": 4,
  "nbformat_minor": 0,
  "metadata": {
    "colab": {
      "provenance": [],
      "include_colab_link": true
    },
    "kernelspec": {
      "name": "python3",
      "display_name": "Python 3"
    },
    "language_info": {
      "name": "python"
    }
  },
  "cells": [
    {
      "cell_type": "markdown",
      "metadata": {
        "id": "view-in-github",
        "colab_type": "text"
      },
      "source": [
        "<a href=\"https://colab.research.google.com/github/harjeet88/agentic_ai/blob/main/openai_agents_sdk/deep_research.ipynb\" target=\"_parent\"><img src=\"https://colab.research.google.com/assets/colab-badge.svg\" alt=\"Open In Colab\"/></a>"
      ]
    },
    {
      "cell_type": "code",
      "execution_count": 1,
      "metadata": {
        "id": "kzjqIY5e9nDh"
      },
      "outputs": [],
      "source": [
        "from google.colab import userdata\n",
        "google_api_key = userdata.get('GOOGLE_API_KEY')\n",
        "openai_api_key=userdata.get('OPENAI_API_KEY')\n",
        "#sendgrid_api_key=userdata.get('SENDGRID_API_KEY')"
      ]
    },
    {
      "cell_type": "code",
      "source": [
        "import os\n",
        "os.environ[\"OPENAI_API_KEY\"] = openai_api_key\n",
        "os.environ[\"GOOGLE_API_KEY\"] = google_api_key\n",
        "#os.environ[\"SENDGRID_API_KEY\"] = sendgrid_api_key"
      ],
      "metadata": {
        "id": "arAnH3R4BkC-"
      },
      "execution_count": 2,
      "outputs": []
    },
    {
      "cell_type": "code",
      "metadata": {
        "colab": {
          "base_uri": "https://localhost:8080/"
        },
        "id": "6591a7c8",
        "outputId": "66d4ac75-140a-411f-be31-fe69e7dff76d"
      },
      "source": [
        "!pip install openai-agents"
      ],
      "execution_count": 4,
      "outputs": [
        {
          "output_type": "stream",
          "name": "stdout",
          "text": [
            "Collecting openai-agents\n",
            "  Downloading openai_agents-0.0.19-py3-none-any.whl.metadata (8.3 kB)\n",
            "Collecting griffe<2,>=1.5.6 (from openai-agents)\n",
            "  Downloading griffe-1.7.3-py3-none-any.whl.metadata (5.0 kB)\n",
            "Collecting mcp<2,>=1.9.4 (from openai-agents)\n",
            "  Downloading mcp-1.9.4-py3-none-any.whl.metadata (28 kB)\n",
            "Collecting openai>=1.87.0 (from openai-agents)\n",
            "  Downloading openai-1.90.0-py3-none-any.whl.metadata (26 kB)\n",
            "Requirement already satisfied: pydantic<3,>=2.10 in /usr/local/lib/python3.11/dist-packages (from openai-agents) (2.11.7)\n",
            "Requirement already satisfied: requests<3,>=2.0 in /usr/local/lib/python3.11/dist-packages (from openai-agents) (2.32.3)\n",
            "Collecting types-requests<3,>=2.0 (from openai-agents)\n",
            "  Downloading types_requests-2.32.4.20250611-py3-none-any.whl.metadata (2.1 kB)\n",
            "Requirement already satisfied: typing-extensions<5,>=4.12.2 in /usr/local/lib/python3.11/dist-packages (from openai-agents) (4.14.0)\n",
            "Collecting colorama>=0.4 (from griffe<2,>=1.5.6->openai-agents)\n",
            "  Downloading colorama-0.4.6-py2.py3-none-any.whl.metadata (17 kB)\n",
            "Requirement already satisfied: anyio>=4.5 in /usr/local/lib/python3.11/dist-packages (from mcp<2,>=1.9.4->openai-agents) (4.9.0)\n",
            "Collecting httpx-sse>=0.4 (from mcp<2,>=1.9.4->openai-agents)\n",
            "  Downloading httpx_sse-0.4.0-py3-none-any.whl.metadata (9.0 kB)\n",
            "Requirement already satisfied: httpx>=0.27 in /usr/local/lib/python3.11/dist-packages (from mcp<2,>=1.9.4->openai-agents) (0.28.1)\n",
            "Collecting pydantic-settings>=2.5.2 (from mcp<2,>=1.9.4->openai-agents)\n",
            "  Downloading pydantic_settings-2.10.0-py3-none-any.whl.metadata (3.4 kB)\n",
            "Requirement already satisfied: python-multipart>=0.0.9 in /usr/local/lib/python3.11/dist-packages (from mcp<2,>=1.9.4->openai-agents) (0.0.20)\n",
            "Collecting sse-starlette>=1.6.1 (from mcp<2,>=1.9.4->openai-agents)\n",
            "  Downloading sse_starlette-2.3.6-py3-none-any.whl.metadata (10 kB)\n",
            "Requirement already satisfied: starlette>=0.27 in /usr/local/lib/python3.11/dist-packages (from mcp<2,>=1.9.4->openai-agents) (0.46.2)\n",
            "Requirement already satisfied: uvicorn>=0.23.1 in /usr/local/lib/python3.11/dist-packages (from mcp<2,>=1.9.4->openai-agents) (0.34.3)\n",
            "Requirement already satisfied: distro<2,>=1.7.0 in /usr/local/lib/python3.11/dist-packages (from openai>=1.87.0->openai-agents) (1.9.0)\n",
            "Requirement already satisfied: jiter<1,>=0.4.0 in /usr/local/lib/python3.11/dist-packages (from openai>=1.87.0->openai-agents) (0.10.0)\n",
            "Requirement already satisfied: sniffio in /usr/local/lib/python3.11/dist-packages (from openai>=1.87.0->openai-agents) (1.3.1)\n",
            "Requirement already satisfied: tqdm>4 in /usr/local/lib/python3.11/dist-packages (from openai>=1.87.0->openai-agents) (4.67.1)\n",
            "Requirement already satisfied: annotated-types>=0.6.0 in /usr/local/lib/python3.11/dist-packages (from pydantic<3,>=2.10->openai-agents) (0.7.0)\n",
            "Requirement already satisfied: pydantic-core==2.33.2 in /usr/local/lib/python3.11/dist-packages (from pydantic<3,>=2.10->openai-agents) (2.33.2)\n",
            "Requirement already satisfied: typing-inspection>=0.4.0 in /usr/local/lib/python3.11/dist-packages (from pydantic<3,>=2.10->openai-agents) (0.4.1)\n",
            "Requirement already satisfied: charset-normalizer<4,>=2 in /usr/local/lib/python3.11/dist-packages (from requests<3,>=2.0->openai-agents) (3.4.2)\n",
            "Requirement already satisfied: idna<4,>=2.5 in /usr/local/lib/python3.11/dist-packages (from requests<3,>=2.0->openai-agents) (3.10)\n",
            "Requirement already satisfied: urllib3<3,>=1.21.1 in /usr/local/lib/python3.11/dist-packages (from requests<3,>=2.0->openai-agents) (2.4.0)\n",
            "Requirement already satisfied: certifi>=2017.4.17 in /usr/local/lib/python3.11/dist-packages (from requests<3,>=2.0->openai-agents) (2025.6.15)\n",
            "Requirement already satisfied: httpcore==1.* in /usr/local/lib/python3.11/dist-packages (from httpx>=0.27->mcp<2,>=1.9.4->openai-agents) (1.0.9)\n",
            "Requirement already satisfied: h11>=0.16 in /usr/local/lib/python3.11/dist-packages (from httpcore==1.*->httpx>=0.27->mcp<2,>=1.9.4->openai-agents) (0.16.0)\n",
            "Collecting python-dotenv>=0.21.0 (from pydantic-settings>=2.5.2->mcp<2,>=1.9.4->openai-agents)\n",
            "  Downloading python_dotenv-1.1.0-py3-none-any.whl.metadata (24 kB)\n",
            "Requirement already satisfied: click>=7.0 in /usr/local/lib/python3.11/dist-packages (from uvicorn>=0.23.1->mcp<2,>=1.9.4->openai-agents) (8.2.1)\n",
            "Downloading openai_agents-0.0.19-py3-none-any.whl (126 kB)\n",
            "\u001b[2K   \u001b[90m━━━━━━━━━━━━━━━━━━━━━━━━━━━━━━━━━━━━━━━━\u001b[0m \u001b[32m126.7/126.7 kB\u001b[0m \u001b[31m10.4 MB/s\u001b[0m eta \u001b[36m0:00:00\u001b[0m\n",
            "\u001b[?25hDownloading griffe-1.7.3-py3-none-any.whl (129 kB)\n",
            "\u001b[2K   \u001b[90m━━━━━━━━━━━━━━━━━━━━━━━━━━━━━━━━━━━━━━━━\u001b[0m \u001b[32m129.3/129.3 kB\u001b[0m \u001b[31m12.8 MB/s\u001b[0m eta \u001b[36m0:00:00\u001b[0m\n",
            "\u001b[?25hDownloading mcp-1.9.4-py3-none-any.whl (130 kB)\n",
            "\u001b[2K   \u001b[90m━━━━━━━━━━━━━━━━━━━━━━━━━━━━━━━━━━━━━━━━\u001b[0m \u001b[32m130.2/130.2 kB\u001b[0m \u001b[31m12.5 MB/s\u001b[0m eta \u001b[36m0:00:00\u001b[0m\n",
            "\u001b[?25hDownloading openai-1.90.0-py3-none-any.whl (734 kB)\n",
            "\u001b[2K   \u001b[90m━━━━━━━━━━━━━━━━━━━━━━━━━━━━━━━━━━━━━━━━\u001b[0m \u001b[32m734.6/734.6 kB\u001b[0m \u001b[31m46.7 MB/s\u001b[0m eta \u001b[36m0:00:00\u001b[0m\n",
            "\u001b[?25hDownloading types_requests-2.32.4.20250611-py3-none-any.whl (20 kB)\n",
            "Downloading colorama-0.4.6-py2.py3-none-any.whl (25 kB)\n",
            "Downloading httpx_sse-0.4.0-py3-none-any.whl (7.8 kB)\n",
            "Downloading pydantic_settings-2.10.0-py3-none-any.whl (45 kB)\n",
            "\u001b[2K   \u001b[90m━━━━━━━━━━━━━━━━━━━━━━━━━━━━━━━━━━━━━━━━\u001b[0m \u001b[32m45.2/45.2 kB\u001b[0m \u001b[31m3.8 MB/s\u001b[0m eta \u001b[36m0:00:00\u001b[0m\n",
            "\u001b[?25hDownloading sse_starlette-2.3.6-py3-none-any.whl (10 kB)\n",
            "Downloading python_dotenv-1.1.0-py3-none-any.whl (20 kB)\n",
            "Installing collected packages: types-requests, python-dotenv, httpx-sse, colorama, sse-starlette, griffe, pydantic-settings, openai, mcp, openai-agents\n",
            "  Attempting uninstall: openai\n",
            "    Found existing installation: openai 1.86.0\n",
            "    Uninstalling openai-1.86.0:\n",
            "      Successfully uninstalled openai-1.86.0\n",
            "Successfully installed colorama-0.4.6 griffe-1.7.3 httpx-sse-0.4.0 mcp-1.9.4 openai-1.90.0 openai-agents-0.0.19 pydantic-settings-2.10.0 python-dotenv-1.1.0 sse-starlette-2.3.6 types-requests-2.32.4.20250611\n"
          ]
        }
      ]
    },
    {
      "cell_type": "code",
      "source": [
        "from agents import Agent, WebSearchTool, trace, Runner, gen_trace_id, function_tool\n",
        "from agents.model_settings import ModelSettings\n",
        "from pydantic import BaseModel, Field\n",
        "from dotenv import load_dotenv\n",
        "import asyncio\n",
        "#import sendgrid\n",
        "import os\n",
        "#from sendgrid.helpers.mail import Mail, Email, To, Content\n",
        "from typing import Dict\n",
        "from IPython.display import display, Markdown"
      ],
      "metadata": {
        "id": "anq93ASoAZ3c"
      },
      "execution_count": 9,
      "outputs": []
    },
    {
      "cell_type": "code",
      "source": [
        "INSTRUCTIONS = \"You are a research assistant. Given a search term, you search the web for that term and \\\n",
        "produce a concise summary of the results. The summary must 2-3 paragraphs and less than 300 \\\n",
        "words. Capture the main points. Write succintly, no need to have complete sentences or good \\\n",
        "grammar. This will be consumed by someone synthesizing a report, so it's vital you capture the \\\n",
        "essence and ignore any fluff. Do not include any additional commentary other than the summary itself.\"\n",
        "\n",
        "search_agent = Agent(\n",
        "    name=\"Search agent\",\n",
        "    instructions=INSTRUCTIONS,\n",
        "    tools=[WebSearchTool(search_context_size=\"low\")],\n",
        "    model=\"gpt-4o-mini\",\n",
        "    model_settings=ModelSettings(tool_choice=\"required\"),\n",
        ")"
      ],
      "metadata": {
        "id": "pRWWgP_DG3pb"
      },
      "execution_count": 10,
      "outputs": []
    },
    {
      "cell_type": "code",
      "source": [
        "message = \"Latest AI Agent frameworks in 2025\"\n",
        "\n",
        "with trace(\"Search\"):\n",
        "    result = await Runner.run(search_agent, message)\n",
        "\n",
        "display(Markdown(result.final_output))"
      ],
      "metadata": {
        "id": "xVJK9NDc6gWZ",
        "outputId": "2fb06c9e-381e-4815-90e6-70ce29c2fbe8",
        "colab": {
          "base_uri": "https://localhost:8080/",
          "height": 343
        }
      },
      "execution_count": 11,
      "outputs": [
        {
          "output_type": "display_data",
          "data": {
            "text/plain": [
              "<IPython.core.display.Markdown object>"
            ],
            "text/markdown": "As of June 2025, several AI agent frameworks have emerged, each offering unique capabilities for developing intelligent systems:\n\n- **LangGraph**: An extension of LangChain, LangGraph introduces a graph-based system for managing agent workflows. It supports complex decision-making processes with features like branching, looping, and asynchronous task execution, making it suitable for applications such as loan processing and workflow automation. ([phyniks.com](https://phyniks.com/blog/top-7-agentic-ai-frameworks-in-2025?utm_source=openai))\n\n- **AutoGen**: Developed by Microsoft, AutoGen focuses on multi-agent systems and code automation. It enables agents to communicate in natural language, facilitating tasks like planning, development, and review. AutoGen includes built-in agents and a graphical interface for prototyping, aiming to simplify the creation of collaborative AI agents. ([medium.com](https://medium.com/%40elisowski/top-ai-agent-frameworks-in-2025-9bcedab2e239?utm_source=openai))\n\n- **CrewAI**: CrewAI emphasizes role-based task execution, assigning specific roles to agents to complete complex workflows. This approach mimics real-world team dynamics, enhancing specialization and task division, and is particularly effective in data science and content creation projects. ([odsc.medium.com](https://odsc.medium.com/top-10-open-source-ai-agent-frameworks-to-know-in-2025-c739854ec859?utm_source=openai))\n\n- **Eliza**: Eliza is an open-source, Web3-friendly AI agent operating system that integrates seamlessly with blockchain applications. It allows for the deployment of AI agents capable of interacting with smart contracts and blockchain data, expanding the scope of AI agents into decentralized environments. ([arxiv.org](https://arxiv.org/abs/2501.06781?utm_source=openai))\n\n- **AutoAgent**: AutoAgent is a fully automated, zero-code framework for LLM agents, enabling users to create and deploy AI agents through natural language instructions. It comprises components like an actionable engine and a self-managing file system, facilitating efficient agent development without coding requirements. ([arxiv.org](https://arxiv.org/abs/2502.05957?utm_source=openai))\n\nThese frameworks reflect the rapid advancements in AI agent development, offering diverse tools for building intelligent, autonomous systems across various applications. "
          },
          "metadata": {}
        }
      ]
    },
    {
      "cell_type": "code",
      "source": [
        "# See note above about cost of WebSearchTool\n",
        "\n",
        "HOW_MANY_SEARCHES = 2\n",
        "\n",
        "INSTRUCTIONS = f\"You are a helpful research assistant. Given a query, come up with a set of web searches \\\n",
        "to perform to best answer the query. Output {HOW_MANY_SEARCHES} terms to query for.\"\n",
        "\n",
        "# Use Pydantic to define the Schema of our response - this is known as \"Structured Outputs\"\n",
        "# With massive thanks to student Wes C. for discovering and fixing a nasty bug with this!\n",
        "\n",
        "class WebSearchItem(BaseModel):\n",
        "    reason: str = Field(description=\"Your reasoning for why this search is important to the query.\")\n",
        "\n",
        "    query: str = Field(description=\"The search term to use for the web search.\")\n",
        "\n",
        "\n",
        "class WebSearchPlan(BaseModel):\n",
        "    searches: list[WebSearchItem] = Field(description=\"A list of web searches to perform to best answer the query.\")\n",
        "\n",
        "\n",
        "planner_agent = Agent(\n",
        "    name=\"PlannerAgent\",\n",
        "    instructions=INSTRUCTIONS,\n",
        "    model=\"gpt-4o-mini\",\n",
        "    output_type=WebSearchPlan,\n",
        ")"
      ],
      "metadata": {
        "id": "ine6lqtw6knS"
      },
      "execution_count": 12,
      "outputs": []
    },
    {
      "cell_type": "code",
      "source": [
        "message = \"Latest AI Agent frameworks in 2025\"\n",
        "\n",
        "with trace(\"Search\"):\n",
        "    result = await Runner.run(planner_agent, message)\n",
        "    print(result.final_output)"
      ],
      "metadata": {
        "id": "7qgKZR1a6wp1",
        "outputId": "7eab3b42-179d-4443-8680-54bd9665bd38",
        "colab": {
          "base_uri": "https://localhost:8080/"
        }
      },
      "execution_count": 13,
      "outputs": [
        {
          "output_type": "stream",
          "name": "stdout",
          "text": [
            "searches=[WebSearchItem(reason='To find recent developments in AI agent frameworks specifically for the year 2025.', query='latest AI agent frameworks 2025'), WebSearchItem(reason='To explore existing frameworks and their advancements, focusing on AI agents.', query='AI agent framework innovations 2025')]\n"
          ]
        }
      ]
    },
    {
      "cell_type": "code",
      "source": [
        "INSTRUCTIONS = (\n",
        "    \"You are a senior researcher tasked with writing a cohesive report for a research query. \"\n",
        "    \"You will be provided with the original query, and some initial research done by a research assistant.\\n\"\n",
        "    \"You should first come up with an outline for the report that describes the structure and \"\n",
        "    \"flow of the report. Then, generate the report and return that as your final output.\\n\"\n",
        "    \"The final output should be in markdown format, and it should be lengthy and detailed. Aim \"\n",
        "    \"for 5-10 pages of content, at least 1000 words.\"\n",
        ")\n",
        "\n",
        "\n",
        "class ReportData(BaseModel):\n",
        "    short_summary: str = Field(description=\"A short 2-3 sentence summary of the findings.\")\n",
        "\n",
        "    markdown_report: str = Field(description=\"The final report\")\n",
        "\n",
        "    follow_up_questions: list[str] = Field(description=\"Suggested topics to research further\")\n",
        "\n",
        "\n",
        "writer_agent = Agent(\n",
        "    name=\"WriterAgent\",\n",
        "    instructions=INSTRUCTIONS,\n",
        "    model=\"gpt-4o-mini\",\n",
        "    output_type=ReportData,\n",
        ")"
      ],
      "metadata": {
        "id": "BVdlmXBE65CT"
      },
      "execution_count": 15,
      "outputs": []
    },
    {
      "cell_type": "code",
      "source": [
        "async def plan_searches(query: str):\n",
        "    \"\"\" Use the planner_agent to plan which searches to run for the query \"\"\"\n",
        "    print(\"Planning searches...\")\n",
        "    result = await Runner.run(planner_agent, f\"Query: {query}\")\n",
        "    print(f\"Will perform {len(result.final_output.searches)} searches\")\n",
        "    return result.final_output\n",
        "\n",
        "async def perform_searches(search_plan: WebSearchPlan):\n",
        "    \"\"\" Call search() for each item in the search plan \"\"\"\n",
        "    print(\"Searching...\")\n",
        "    tasks = [asyncio.create_task(search(item)) for item in search_plan.searches]\n",
        "    results = await asyncio.gather(*tasks)\n",
        "    print(\"Finished searching\")\n",
        "    return results\n",
        "\n",
        "async def search(item: WebSearchItem):\n",
        "    \"\"\" Use the search agent to run a web search for each item in the search plan \"\"\"\n",
        "    input = f\"Search term: {item.query}\\nReason for searching: {item.reason}\"\n",
        "    result = await Runner.run(search_agent, input)\n",
        "    return result.final_output"
      ],
      "metadata": {
        "id": "u9N80k2g68UZ"
      },
      "execution_count": 16,
      "outputs": []
    },
    {
      "cell_type": "code",
      "source": [
        "async def write_report(query: str, search_results: list[str]):\n",
        "    \"\"\" Use the writer agent to write a report based on the search results\"\"\"\n",
        "    print(\"Thinking about report...\")\n",
        "    input = f\"Original query: {query}\\nSummarized search results: {search_results}\"\n",
        "    result = await Runner.run(writer_agent, input)\n",
        "    print(\"Finished writing report\")\n",
        "    return result.final_output"
      ],
      "metadata": {
        "id": "xNnp89vK7HcM"
      },
      "execution_count": 17,
      "outputs": []
    },
    {
      "cell_type": "code",
      "source": [
        "query =\"Latest AI Agent frameworks in 2025\"\n",
        "\n",
        "with trace(\"Research trace\"):\n",
        "    print(\"Starting research...\")\n",
        "    search_plan = await plan_searches(query)\n",
        "    search_results = await perform_searches(search_plan)\n",
        "    report = await write_report(query, search_results)\n",
        "    #await send_email(report)\n",
        "    print(\"Hooray!\")"
      ],
      "metadata": {
        "id": "6r_EumtU7KUL",
        "outputId": "e13f9dc3-f54f-4e5f-9621-5a99271c5bc6",
        "colab": {
          "base_uri": "https://localhost:8080/"
        }
      },
      "execution_count": 18,
      "outputs": [
        {
          "output_type": "stream",
          "name": "stdout",
          "text": [
            "Starting research...\n",
            "Planning searches...\n",
            "Will perform 2 searches\n",
            "Searching...\n",
            "Finished searching\n",
            "Thinking about report...\n",
            "Finished writing report\n",
            "Hooray!\n"
          ]
        }
      ]
    },
    {
      "cell_type": "code",
      "source": [
        "Markdown(report.markdown_report)"
      ],
      "metadata": {
        "id": "UEvryXQt7P4W",
        "outputId": "45356746-eeb6-48ee-f653-ac5c74f87af8",
        "colab": {
          "base_uri": "https://localhost:8080/",
          "height": 1000
        }
      },
      "execution_count": 23,
      "outputs": [
        {
          "output_type": "execute_result",
          "data": {
            "text/plain": [
              "<IPython.core.display.Markdown object>"
            ],
            "text/markdown": "# Latest AI Agent Frameworks in 2025: A Comprehensive Overview\n\n## Table of Contents\n\n1. [Introduction](#introduction)  \n2. [Key AI Agent Frameworks in 2025](#key-ai-agent-frameworks-in-2025)  \n   - LangGraph  \n   - AutoGen  \n   - Eliza  \n   - OpenAI Operator  \n   - Model Context Protocol (MCP)  \n3. [Emerging Trends in AI Agent Technologies](#emerging-trends-in-ai-agent-technologies)  \n   - Agentic AI Systems  \n   - Task-Specific AI Agents  \n   - Multi-Agent Collaboration  \n   - Integration with IoT and Personal Devices  \n   - Advancements in AI Reasoning  \n   - AI-Augmented Decision-Making  \n   - Edge AI  \n   - AI-Powered Cybersecurity  \n   - Green AI  \n   - No-Code and Low-Code AI Builders  \n4. [Conclusion](#conclusion)  \n5. [References](#references)  \n\n## Introduction  \nThe field of artificial intelligence is experiencing unprecedented growth, particularly in the development of AI agents—intelligent systems capable of autonomously executing tasks and interacting with their environment. As of 2025, several new frameworks have emerged which are reshaping how these AI agents are built and deployed. This report aims to provide an overview of the latest frameworks and the trends driving the evolution of AI agent technology.  \n\n## Key AI Agent Frameworks in 2025  \n\n### LangGraph  \nLangGraph represents an innovative evolution of the LangChain framework, introducing a graph-based architecture that facilitates sophisticated agent workflows. This framework enables agents to navigate complex decision-making tasks by supporting dynamic branching, looping, and conditional flows. Applications benefiting from LangGraph include those requiring intricate logical processes, such as strategic business planning and advanced gaming systems.  \n\n### AutoGen  \nDeveloped by Microsoft, AutoGen emphasizes collaborative multi-agent interactions. Utilizing natural language processing, it enables agents to communicate and coordinate tasks seamlessly. Within this framework, built-in agents can work together in real-time, allowing for the rapid prototyping of complex AI systems. This collaboration not only speeds up development but also enhances the performance of deployed solutions across various sectors, including customer service and project management.  \n\n### Eliza  \nEliza stands out as a Web3-friendly, open-source framework that integrates deeply with blockchain technologies. By allowing developers to create AI agents that can engage with smart contracts and access blockchain data, Eliza broadens the potential for decentralized applications (DApps). This integration is crucial for industries transitioning to blockchain solutions, enabling more automated and trustworthy transactions and communications.  \n\n### OpenAI Operator  \nLaunched in early 2025, the OpenAI Operator employs advanced models to automate web interactions. This AI agent is designed to autonomously perform tasks such as filling out forms and scheduling appointments. Its capability to interact with web interfaces marks a significant step forward in automating routine online activities, enhancing productivity, and enabling users to focus on core tasks.  \n\n### Model Context Protocol (MCP)  \nIntroduced by Anthropic, the Model Context Protocol (MCP) serves to standardize data access across disparate AI systems. By promoting interoperability and simplifying data integration, MCP allows AI agents to function more robustly while ensuring they can be easily adapted to various applications. This is crucial for the development of sophisticated AI solutions that require access to diverse datasets.  \n\n## Emerging Trends in AI Agent Technologies  \nThe evolution of AI agent frameworks is accompanied by significant trends that highlight their increasing autonomy, specialization, and integration. These trends include:  \n\n### Agentic AI Systems  \nThe emergence of autonomous AI agents capable of executing complex sequences of actions with minimal human oversight is becoming commonplace. These systems leverage advanced machine learning techniques to self-improve, leading to reductions in operational times and costs across knowledge-intensive operations.  \n\n### Task-Specific AI Agents  \nA marked focus on developing tailored AI agents for specific domains—such as customer support, financial planning, and sales forecasting—is gaining momentum. This specialization enables quicker training and deployment, resulting in higher performance and effectiveness when addressing distinct industry needs.  \n\n### Multi-Agent Collaboration  \nThe paradigm is shifting from single-agent reliance to ecosystems of collaborative agents. These agents can communicate and share information, working together to complete intricate tasks and enhancing efficiency in enterprise workflows. This cooperation is vital for industries facing complex challenges requiring multiple agent contributions.  \n\n### Integration with IoT and Personal Devices  \nAI agents are being increasingly integrated with the Internet of Things (IoT), resulting in a unified communication framework among devices. This integration allows for enhanced automation and facilitates real-time decision-making in settings such as smart homes, cities, and offices.  \n\n### Advancements in AI Reasoning  \nAI agents are now improving their reasoning capabilities, progressing beyond basic pattern recognition to understanding causal relationships. This enables them to make logical inferences and solve problems systematically, allowing for thorough decision-making and enhancing their ability to adapt to new challenges.  \n\n### AI-Augmented Decision-Making  \nAI is transitioning into a co-pilot role in decision-making processes across various sectors. Agents are now expected to provide actionable insights and analytics that improve the accuracy and efficiency of tasks ranging from financial forecasts to medical diagnoses.  \n\n### Edge AI  \nThe rise of Edge AI is proving crucial as processing occurs closer to data sources, enabling real-time operations. This is especially relevant in applications involving autonomous vehicles and drones, where immediacy can improve outcomes dramatically.  \n\n### AI-Powered Cybersecurity  \nIntelligent agents are becoming pivotal in cybersecurity, continuously monitoring systems and predicting threats. This proactive approach ensures quicker prevention and response times, thereby strengthening the security of digital ecosystems.  \n\n### Green AI  \nSustainability is becoming a key focus for AI development. Solutions that prioritize energy efficiency—termed Green AI—are crucial as the industry seeks to reduce the carbon footprint associated with data-heavy applications without compromising performance.  \n\n### No-Code and Low-Code AI Builders  \nThe advent of no-code and low-code platforms democratizes AI development, allowing individuals without deep programming knowledge to create AI agents. Using intuitive interfaces, these tools significantly lower the barriers to entry, fostering innovation across startups, educational sectors, and small to medium enterprises.  \n\n## Conclusion  \nAs we navigate through 2025, the landscape of AI agent frameworks continues to progress rapidly. With frameworks like LangGraph, AutoGen, and Eliza, developers now have access to powerful tools that enhance collaboration, decision-making, and integration across diverse environments. The trends identified highlight a shift towards more autonomous, specialized, and sustainable AI solutions that promise to transform industries and augment capabilities globally. With these advancements, AI agents are poised to play a pivotal role in shaping future technologies and applications.\n\n## References  \n- [Phyniks - AI Agent Frameworks in 2025](https://phyniks.com/blog/top-7-agentic-ai-frameworks-in-2025?utm_source=openai)  \n- [Medium - AutoGen and Collaborations](https://medium.com/%40elisowski/top-ai-agent-frameworks-in-2025-9bcedab2e239?utm_source=openai)  \n- [arXiv - Eliza Framework](https://arxiv.org/abs/2501.06781?utm_source=openai)  \n- [Wikipedia - OpenAI Operator](https://en.wikipedia.org/wiki/OpenAI_Operator?utm_source=openai)  \n- [Wikipedia - MCP Protocol](https://en.wikipedia.org/wiki/Model_Context_Protocol?utm_source=openai)  \n- [Zynova - AI Trends 2025](https://www.zynova.io/blog/ai-trends-2025?utm_source=openai)  \n- [Global Biz Outlook - AI Trends](https://globalbizoutlook.com/top-10-ai-agent-trends-and-forecasts-to-watch/?utm_source=openai)  \n- [Treu Partners - Technology Trends of 2025](https://treupartners.com/top-technology-trends-of-2025-ai-and-intelligent-ai-agents-lead/?utm_source=openai)  \n- [Dev.to - AI Agent Trends](https://dev.to/aniruddhaadak/the-top-5-ai-agent-trends-for-2025-386g?utm_source=openai)  \n- [Medium - No-Code AI Solutions](https://medium.com/coinmonks/top-10-ai-agent-development-trends-to-watch-in-2025-921f14272843?utm_source=openai)  \n"
          },
          "metadata": {},
          "execution_count": 23
        }
      ]
    },
    {
      "cell_type": "code",
      "source": [],
      "metadata": {
        "id": "ID2n_oa17dcL"
      },
      "execution_count": null,
      "outputs": []
    }
  ]
}