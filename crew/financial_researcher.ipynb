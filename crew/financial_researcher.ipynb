{
  "nbformat": 4,
  "nbformat_minor": 0,
  "metadata": {
    "colab": {
      "provenance": [],
      "toc_visible": true,
      "include_colab_link": true
    },
    "kernelspec": {
      "name": "python3",
      "display_name": "Python 3"
    },
    "language_info": {
      "name": "python"
    }
  },
  "cells": [
    {
      "cell_type": "markdown",
      "metadata": {
        "id": "view-in-github",
        "colab_type": "text"
      },
      "source": [
        "<a href=\"https://colab.research.google.com/github/harjeet88/agentic_ai/blob/main/crew/financial_researcher.ipynb\" target=\"_parent\"><img src=\"https://colab.research.google.com/assets/colab-badge.svg\" alt=\"Open In Colab\"/></a>"
      ]
    },
    {
      "cell_type": "code",
      "execution_count": null,
      "metadata": {
        "id": "RU8HXrJfgjm9"
      },
      "outputs": [],
      "source": [
        "!curl -LsSf https://astral.sh/uv/install.sh | sh"
      ]
    },
    {
      "cell_type": "code",
      "source": [
        "!git clone https://github.com/ed-donner/agents.git"
      ],
      "metadata": {
        "id": "0jpZ4X1EYvYr"
      },
      "execution_count": null,
      "outputs": []
    },
    {
      "cell_type": "code",
      "source": [
        "!cd agents\n",
        "!uv sync\n",
        "!cd 3_crew/\n",
        "!uv tool install crewai\n",
        "!export PATH=\"/root/.local/bin:$PATH\"\n",
        "!crewai create crew financial_researcher1\n"
      ],
      "metadata": {
        "id": "jX5MBfjPYyrE"
      },
      "execution_count": null,
      "outputs": []
    },
    {
      "cell_type": "code",
      "source": [
        "from google.colab import drive\n",
        "drive.mount('/content/drive')"
      ],
      "metadata": {
        "id": "0PF9PYaiZSTu"
      },
      "execution_count": null,
      "outputs": []
    }
  ]
}