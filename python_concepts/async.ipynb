{
  "nbformat": 4,
  "nbformat_minor": 0,
  "metadata": {
    "colab": {
      "provenance": [],
      "include_colab_link": true
    },
    "kernelspec": {
      "name": "python3",
      "display_name": "Python 3"
    },
    "language_info": {
      "name": "python"
    }
  },
  "cells": [
    {
      "cell_type": "markdown",
      "metadata": {
        "id": "view-in-github",
        "colab_type": "text"
      },
      "source": [
        "<a href=\"https://colab.research.google.com/github/harjeet88/agentic_ai/blob/main/python_concepts/async.ipynb\" target=\"_parent\"><img src=\"https://colab.research.google.com/assets/colab-badge.svg\" alt=\"Open In Colab\"/></a>"
      ]
    },
    {
      "cell_type": "code",
      "execution_count": 1,
      "metadata": {
        "id": "kzjqIY5e9nDh"
      },
      "outputs": [],
      "source": [
        "from google.colab import userdata\n",
        "google_api_key = userdata.get('GOOGLE_API_KEY')\n",
        "openai_api_key=userdata.get('OPENAI_API_KEY')\n",
        "#sendgrid_api_key=userdata.get('SENDGRID_API_KEY')"
      ]
    },
    {
      "cell_type": "code",
      "source": [
        "import os\n",
        "os.environ[\"OPENAI_API_KEY\"] = openai_api_key\n",
        "os.environ[\"GOOGLE_API_KEY\"] = google_api_key\n",
        "#os.environ[\"SENDGRID_API_KEY\"] = sendgrid_api_key"
      ],
      "metadata": {
        "id": "arAnH3R4BkC-"
      },
      "execution_count": 2,
      "outputs": []
    },
    {
      "cell_type": "code",
      "source": [
        "import asyncio"
      ],
      "metadata": {
        "id": "0wxFRO3xA7i7"
      },
      "execution_count": 3,
      "outputs": []
    },
    {
      "cell_type": "code",
      "source": [
        "async def fn():\n",
        "\n",
        "    print(\"one\")\n",
        "    await asyncio.sleep(1)\n",
        "    await fn2()\n",
        "    print('four')\n",
        "    await asyncio.sleep(1)\n",
        "    print('five')\n",
        "    await asyncio.sleep(1)"
      ],
      "metadata": {
        "id": "84x_YFbrA8Pj"
      },
      "execution_count": 4,
      "outputs": []
    },
    {
      "cell_type": "code",
      "source": [
        "async def fn2():\n",
        "    await asyncio.sleep(1)\n",
        "    print(\"two\")\n",
        "    await asyncio.sleep(1)\n",
        "    print(\"three\")"
      ],
      "metadata": {
        "id": "-RH4LMEsA_mc"
      },
      "execution_count": 5,
      "outputs": []
    },
    {
      "cell_type": "code",
      "source": [
        "await fn()"
      ],
      "metadata": {
        "colab": {
          "base_uri": "https://localhost:8080/"
        },
        "id": "T930tFeYBB6h",
        "outputId": "2e06e6f9-51da-4ec9-c204-1ade94b04eb7"
      },
      "execution_count": 10,
      "outputs": [
        {
          "output_type": "stream",
          "name": "stdout",
          "text": [
            "one\n",
            "two\n",
            "three\n",
            "four\n",
            "five\n"
          ]
        }
      ]
    },
    {
      "cell_type": "code",
      "source": [
        "await fn2()"
      ],
      "metadata": {
        "colab": {
          "base_uri": "https://localhost:8080/"
        },
        "id": "_a72qiQ5BHNq",
        "outputId": "6cb22565-c66e-4c7e-bcc8-80b5f6ccb8cf"
      },
      "execution_count": 11,
      "outputs": [
        {
          "output_type": "stream",
          "name": "stdout",
          "text": [
            "two\n",
            "three\n"
          ]
        }
      ]
    },
    {
      "cell_type": "code",
      "source": [
        "async def fn():\n",
        "    #await fn2()\n",
        "    task=asyncio.create_task(fn2())\n",
        "    print(\"one\")\n",
        "    #await asyncio.sleep(1)\n",
        "    #await fn2()\n",
        "    print('four')\n",
        "    await asyncio.sleep(1)\n",
        "    print('five')\n",
        "    await asyncio.sleep(1)\n",
        "\n",
        "async def fn2():\n",
        "    #await asyncio.sleep(1)\n",
        "    print(\"two\")\n",
        "    await asyncio.sleep(2)\n",
        "    print(\"three\")"
      ],
      "metadata": {
        "id": "TcPPLT4LBmQK"
      },
      "execution_count": 21,
      "outputs": []
    },
    {
      "cell_type": "code",
      "source": [
        "await fn()"
      ],
      "metadata": {
        "id": "8Yz3zbwqBti5",
        "outputId": "3f8946cc-680c-4f13-f01b-281ccabf199d",
        "colab": {
          "base_uri": "https://localhost:8080/"
        }
      },
      "execution_count": 22,
      "outputs": [
        {
          "output_type": "stream",
          "name": "stdout",
          "text": [
            "one\n",
            "four\n",
            "two\n",
            "five\n",
            "three\n"
          ]
        }
      ]
    },
    {
      "cell_type": "code",
      "source": [
        "async def func1():\n",
        "    print(\"Function 1 started..\")\n",
        "    await asyncio.sleep(2)\n",
        "    print(\"Function 1 Ended\")"
      ],
      "metadata": {
        "id": "9Veqmbg_BvCC"
      },
      "execution_count": 23,
      "outputs": []
    },
    {
      "cell_type": "code",
      "source": [
        "async def func2():\n",
        "    print(\"Function 2 started..\")\n",
        "    await asyncio.sleep(3)\n",
        "    print(\"Function 2 Ended\")"
      ],
      "metadata": {
        "id": "zKWI9ixbC4bv"
      },
      "execution_count": 24,
      "outputs": []
    },
    {
      "cell_type": "code",
      "source": [
        "async def func3():\n",
        "    print(\"Function 3 started..\")\n",
        "    await asyncio.sleep(1)\n",
        "    print(\"Function 3 Ended\")"
      ],
      "metadata": {
        "id": "WiyCR4T9C7DL"
      },
      "execution_count": 25,
      "outputs": []
    },
    {
      "cell_type": "code",
      "source": [
        "async def r():\n",
        "    L = await asyncio.gather(\n",
        "        func1(),\n",
        "        func2(),\n",
        "        func3(),\n",
        "    )\n",
        "    print(\"Main Ended..\")"
      ],
      "metadata": {
        "id": "okfRvYyLC9JD"
      },
      "execution_count": 29,
      "outputs": []
    },
    {
      "cell_type": "code",
      "source": [
        "await r()"
      ],
      "metadata": {
        "id": "DA9_4kRIDAlC",
        "outputId": "055d60ce-2172-4a1a-9436-5f1b79447e25",
        "colab": {
          "base_uri": "https://localhost:8080/"
        }
      },
      "execution_count": 31,
      "outputs": [
        {
          "output_type": "stream",
          "name": "stdout",
          "text": [
            "Function 1 started..\n",
            "Function 2 started..\n",
            "Function 3 started..\n",
            "Function 3 Ended\n",
            "Function 1 Ended\n",
            "Function 2 Ended\n",
            "Main Ended..\n"
          ]
        }
      ]
    },
    {
      "cell_type": "code",
      "source": [],
      "metadata": {
        "id": "5X-Ci5kZDDwv"
      },
      "execution_count": null,
      "outputs": []
    }
  ]
}