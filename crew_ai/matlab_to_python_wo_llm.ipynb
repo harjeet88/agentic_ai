{
  "nbformat": 4,
  "nbformat_minor": 0,
  "metadata": {
    "colab": {
      "provenance": [],
      "include_colab_link": true
    },
    "kernelspec": {
      "name": "python3",
      "display_name": "Python 3"
    },
    "language_info": {
      "name": "python"
    }
  },
  "cells": [
    {
      "cell_type": "markdown",
      "metadata": {
        "id": "view-in-github",
        "colab_type": "text"
      },
      "source": [
        "<a href=\"https://colab.research.google.com/github/harjeet88/agentic_ai/blob/main/crew_ai/matlab_to_python_wo_llm.ipynb\" target=\"_parent\"><img src=\"https://colab.research.google.com/assets/colab-badge.svg\" alt=\"Open In Colab\"/></a>"
      ]
    },
    {
      "cell_type": "markdown",
      "source": [
        "### Install required pacakges\n"
      ],
      "metadata": {
        "id": "HV1DyBd2RHrN"
      }
    },
    {
      "cell_type": "code",
      "metadata": {
        "id": "7805d468",
        "colab": {
          "base_uri": "https://localhost:8080/"
        },
        "outputId": "a84fc1fe-3e56-498e-a29e-816e574abb07"
      },
      "source": [
        "!pip install --upgrade --quiet  langchain-community"
      ],
      "execution_count": 1,
      "outputs": [
        {
          "output_type": "stream",
          "name": "stdout",
          "text": [
            "\u001b[?25l   \u001b[90m━━━━━━━━━━━━━━━━━━━━━━━━━━━━━━━━━━━━━━━━\u001b[0m \u001b[32m0.0/2.5 MB\u001b[0m \u001b[31m?\u001b[0m eta \u001b[36m-:--:--\u001b[0m\r\u001b[2K   \u001b[91m━━━━━━━━━━━━━━━━━━━━━━━━━━━━━━━━━━━━━━━\u001b[0m\u001b[91m╸\u001b[0m \u001b[32m2.5/2.5 MB\u001b[0m \u001b[31m119.2 MB/s\u001b[0m eta \u001b[36m0:00:01\u001b[0m\r\u001b[2K   \u001b[90m━━━━━━━━━━━━━━━━━━━━━━━━━━━━━━━━━━━━━━━━\u001b[0m \u001b[32m2.5/2.5 MB\u001b[0m \u001b[31m53.8 MB/s\u001b[0m eta \u001b[36m0:00:00\u001b[0m\n",
            "\u001b[?25h\u001b[?25l   \u001b[90m━━━━━━━━━━━━━━━━━━━━━━━━━━━━━━━━━━━━━━━━\u001b[0m \u001b[32m0.0/1.0 MB\u001b[0m \u001b[31m?\u001b[0m eta \u001b[36m-:--:--\u001b[0m\r\u001b[2K   \u001b[90m━━━━━━━━━━━━━━━━━━━━━━━━━━━━━━━━━━━━━━━━\u001b[0m \u001b[32m1.0/1.0 MB\u001b[0m \u001b[31m35.6 MB/s\u001b[0m eta \u001b[36m0:00:00\u001b[0m\n",
            "\u001b[?25h\u001b[?25l   \u001b[90m━━━━━━━━━━━━━━━━━━━━━━━━━━━━━━━━━━━━━━━━\u001b[0m \u001b[32m0.0/438.9 kB\u001b[0m \u001b[31m?\u001b[0m eta \u001b[36m-:--:--\u001b[0m\r\u001b[2K   \u001b[90m━━━━━━━━━━━━━━━━━━━━━━━━━━━━━━━━━━━━━━━━\u001b[0m \u001b[32m438.9/438.9 kB\u001b[0m \u001b[31m21.8 MB/s\u001b[0m eta \u001b[36m0:00:00\u001b[0m\n",
            "\u001b[?25h\u001b[?25l   \u001b[90m━━━━━━━━━━━━━━━━━━━━━━━━━━━━━━━━━━━━━━━━\u001b[0m \u001b[32m0.0/45.2 kB\u001b[0m \u001b[31m?\u001b[0m eta \u001b[36m-:--:--\u001b[0m\r\u001b[2K   \u001b[90m━━━━━━━━━━━━━━━━━━━━━━━━━━━━━━━━━━━━━━━━\u001b[0m \u001b[32m45.2/45.2 kB\u001b[0m \u001b[31m2.7 MB/s\u001b[0m eta \u001b[36m0:00:00\u001b[0m\n",
            "\u001b[?25h\u001b[?25l   \u001b[90m━━━━━━━━━━━━━━━━━━━━━━━━━━━━━━━━━━━━━━━━\u001b[0m \u001b[32m0.0/50.9 kB\u001b[0m \u001b[31m?\u001b[0m eta \u001b[36m-:--:--\u001b[0m\r\u001b[2K   \u001b[90m━━━━━━━━━━━━━━━━━━━━━━━━━━━━━━━━━━━━━━━━\u001b[0m \u001b[32m50.9/50.9 kB\u001b[0m \u001b[31m3.3 MB/s\u001b[0m eta \u001b[36m0:00:00\u001b[0m\n",
            "\u001b[?25h"
          ]
        }
      ]
    },
    {
      "cell_type": "code",
      "source": [
        "!pip install -q -U crewai\n",
        "!pip install -q -U duckduckgo-search\n",
        "!pip install -q -U crewai_tools"
      ],
      "metadata": {
        "id": "xOj-BuKARJrH",
        "outputId": "d7d63930-654d-41de-bec7-812105930fd9",
        "colab": {
          "base_uri": "https://localhost:8080/"
        }
      },
      "execution_count": 2,
      "outputs": [
        {
          "output_type": "stream",
          "name": "stdout",
          "text": [
            "\u001b[2K     \u001b[90m━━━━━━━━━━━━━━━━━━━━━━━━━━━━━━━━━━━━━━━━\u001b[0m \u001b[32m42.8/42.8 kB\u001b[0m \u001b[31m2.2 MB/s\u001b[0m eta \u001b[36m0:00:00\u001b[0m\n",
            "\u001b[2K     \u001b[90m━━━━━━━━━━━━━━━━━━━━━━━━━━━━━━━━━━━━━━━━\u001b[0m \u001b[32m67.3/67.3 kB\u001b[0m \u001b[31m5.2 MB/s\u001b[0m eta \u001b[36m0:00:00\u001b[0m\n",
            "\u001b[?25h  Installing build dependencies ... \u001b[?25l\u001b[?25hdone\n",
            "  Getting requirements to build wheel ... \u001b[?25l\u001b[?25hdone\n",
            "  Preparing metadata (pyproject.toml) ... \u001b[?25l\u001b[?25hdone\n",
            "\u001b[2K     \u001b[90m━━━━━━━━━━━━━━━━━━━━━━━━━━━━━━━━━━━━━━━━\u001b[0m \u001b[32m48.2/48.2 kB\u001b[0m \u001b[31m2.9 MB/s\u001b[0m eta \u001b[36m0:00:00\u001b[0m\n",
            "\u001b[2K     \u001b[90m━━━━━━━━━━━━━━━━━━━━━━━━━━━━━━━━━━━━━━━━\u001b[0m \u001b[32m44.3/44.3 kB\u001b[0m \u001b[31m3.1 MB/s\u001b[0m eta \u001b[36m0:00:00\u001b[0m\n",
            "\u001b[2K   \u001b[90m━━━━━━━━━━━━━━━━━━━━━━━━━━━━━━━━━━━━━━━━\u001b[0m \u001b[32m324.6/324.6 kB\u001b[0m \u001b[31m18.9 MB/s\u001b[0m eta \u001b[36m0:00:00\u001b[0m\n",
            "\u001b[2K   \u001b[90m━━━━━━━━━━━━━━━━━━━━━━━━━━━━━━━━━━━━━━━━\u001b[0m \u001b[32m8.0/8.0 MB\u001b[0m \u001b[31m70.9 MB/s\u001b[0m eta \u001b[36m0:00:00\u001b[0m\n",
            "\u001b[2K   \u001b[90m━━━━━━━━━━━━━━━━━━━━━━━━━━━━━━━━━━━━━━━━\u001b[0m \u001b[32m16.4/16.4 MB\u001b[0m \u001b[31m60.5 MB/s\u001b[0m eta \u001b[36m0:00:00\u001b[0m\n",
            "\u001b[2K   \u001b[90m━━━━━━━━━━━━━━━━━━━━━━━━━━━━━━━━━━━━━━━━\u001b[0m \u001b[32m138.8/138.8 kB\u001b[0m \u001b[31m10.3 MB/s\u001b[0m eta \u001b[36m0:00:00\u001b[0m\n",
            "\u001b[2K   \u001b[90m━━━━━━━━━━━━━━━━━━━━━━━━━━━━━━━━━━━━━━━━\u001b[0m \u001b[32m19.3/19.3 MB\u001b[0m \u001b[31m59.3 MB/s\u001b[0m eta \u001b[36m0:00:00\u001b[0m\n",
            "\u001b[2K   \u001b[90m━━━━━━━━━━━━━━━━━━━━━━━━━━━━━━━━━━━━━━━━\u001b[0m \u001b[32m94.7/94.7 kB\u001b[0m \u001b[31m6.4 MB/s\u001b[0m eta \u001b[36m0:00:00\u001b[0m\n",
            "\u001b[2K   \u001b[90m━━━━━━━━━━━━━━━━━━━━━━━━━━━━━━━━━━━━━━━━\u001b[0m \u001b[32m65.8/65.8 kB\u001b[0m \u001b[31m4.3 MB/s\u001b[0m eta \u001b[36m0:00:00\u001b[0m\n",
            "\u001b[2K   \u001b[90m━━━━━━━━━━━━━━━━━━━━━━━━━━━━━━━━━━━━━━━━\u001b[0m \u001b[32m55.7/55.7 kB\u001b[0m \u001b[31m3.8 MB/s\u001b[0m eta \u001b[36m0:00:00\u001b[0m\n",
            "\u001b[2K   \u001b[90m━━━━━━━━━━━━━━━━━━━━━━━━━━━━━━━━━━━━━━━━\u001b[0m \u001b[32m118.5/118.5 kB\u001b[0m \u001b[31m8.7 MB/s\u001b[0m eta \u001b[36m0:00:00\u001b[0m\n",
            "\u001b[2K   \u001b[90m━━━━━━━━━━━━━━━━━━━━━━━━━━━━━━━━━━━━━━━━\u001b[0m \u001b[32m196.2/196.2 kB\u001b[0m \u001b[31m13.3 MB/s\u001b[0m eta \u001b[36m0:00:00\u001b[0m\n",
            "\u001b[2K   \u001b[90m━━━━━━━━━━━━━━━━━━━━━━━━━━━━━━━━━━━━━━━━\u001b[0m \u001b[32m60.0/60.0 kB\u001b[0m \u001b[31m4.4 MB/s\u001b[0m eta \u001b[36m0:00:00\u001b[0m\n",
            "\u001b[2K   \u001b[90m━━━━━━━━━━━━━━━━━━━━━━━━━━━━━━━━━━━━━━━━\u001b[0m \u001b[32m5.6/5.6 MB\u001b[0m \u001b[31m90.7 MB/s\u001b[0m eta \u001b[36m0:00:00\u001b[0m\n",
            "\u001b[2K   \u001b[90m━━━━━━━━━━━━━━━━━━━━━━━━━━━━━━━━━━━━━━━━\u001b[0m \u001b[32m756.0/756.0 kB\u001b[0m \u001b[31m41.4 MB/s\u001b[0m eta \u001b[36m0:00:00\u001b[0m\n",
            "\u001b[2K   \u001b[90m━━━━━━━━━━━━━━━━━━━━━━━━━━━━━━━━━━━━━━━━\u001b[0m \u001b[32m236.0/236.0 kB\u001b[0m \u001b[31m16.7 MB/s\u001b[0m eta \u001b[36m0:00:00\u001b[0m\n",
            "\u001b[2K   \u001b[90m━━━━━━━━━━━━━━━━━━━━━━━━━━━━━━━━━━━━━━━━\u001b[0m \u001b[32m18.0/18.0 MB\u001b[0m \u001b[31m74.6 MB/s\u001b[0m eta \u001b[36m0:00:00\u001b[0m\n",
            "\u001b[2K   \u001b[90m━━━━━━━━━━━━━━━━━━━━━━━━━━━━━━━━━━━━━━━━\u001b[0m \u001b[32m284.2/284.2 kB\u001b[0m \u001b[31m20.4 MB/s\u001b[0m eta \u001b[36m0:00:00\u001b[0m\n",
            "\u001b[2K   \u001b[90m━━━━━━━━━━━━━━━━━━━━━━━━━━━━━━━━━━━━━━━━\u001b[0m \u001b[32m1.9/1.9 MB\u001b[0m \u001b[31m70.9 MB/s\u001b[0m eta \u001b[36m0:00:00\u001b[0m\n",
            "\u001b[2K   \u001b[90m━━━━━━━━━━━━━━━━━━━━━━━━━━━━━━━━━━━━━━━━\u001b[0m \u001b[32m3.9/3.9 MB\u001b[0m \u001b[31m88.9 MB/s\u001b[0m eta \u001b[36m0:00:00\u001b[0m\n",
            "\u001b[2K   \u001b[90m━━━━━━━━━━━━━━━━━━━━━━━━━━━━━━━━━━━━━━━━\u001b[0m \u001b[32m8.7/8.7 MB\u001b[0m \u001b[31m98.8 MB/s\u001b[0m eta \u001b[36m0:00:00\u001b[0m\n",
            "\u001b[2K   \u001b[90m━━━━━━━━━━━━━━━━━━━━━━━━━━━━━━━━━━━━━━━━\u001b[0m \u001b[32m101.6/101.6 kB\u001b[0m \u001b[31m7.8 MB/s\u001b[0m eta \u001b[36m0:00:00\u001b[0m\n",
            "\u001b[2K   \u001b[90m━━━━━━━━━━━━━━━━━━━━━━━━━━━━━━━━━━━━━━━━\u001b[0m \u001b[32m105.4/105.4 kB\u001b[0m \u001b[31m7.5 MB/s\u001b[0m eta \u001b[36m0:00:00\u001b[0m\n",
            "\u001b[2K   \u001b[90m━━━━━━━━━━━━━━━━━━━━━━━━━━━━━━━━━━━━━━━━\u001b[0m \u001b[32m220.7/220.7 kB\u001b[0m \u001b[31m15.0 MB/s\u001b[0m eta \u001b[36m0:00:00\u001b[0m\n",
            "\u001b[2K   \u001b[90m━━━━━━━━━━━━━━━━━━━━━━━━━━━━━━━━━━━━━━━━\u001b[0m \u001b[32m71.2/71.2 kB\u001b[0m \u001b[31m5.3 MB/s\u001b[0m eta \u001b[36m0:00:00\u001b[0m\n",
            "\u001b[2K   \u001b[90m━━━━━━━━━━━━━━━━━━━━━━━━━━━━━━━━━━━━━━━━\u001b[0m \u001b[32m2.9/2.9 MB\u001b[0m \u001b[31m76.7 MB/s\u001b[0m eta \u001b[36m0:00:00\u001b[0m\n",
            "\u001b[2K   \u001b[90m━━━━━━━━━━━━━━━━━━━━━━━━━━━━━━━━━━━━━━━━\u001b[0m \u001b[32m46.0/46.0 kB\u001b[0m \u001b[31m3.3 MB/s\u001b[0m eta \u001b[36m0:00:00\u001b[0m\n",
            "\u001b[2K   \u001b[90m━━━━━━━━━━━━━━━━━━━━━━━━━━━━━━━━━━━━━━━━\u001b[0m \u001b[32m392.1/392.1 kB\u001b[0m \u001b[31m27.4 MB/s\u001b[0m eta \u001b[36m0:00:00\u001b[0m\n",
            "\u001b[2K   \u001b[90m━━━━━━━━━━━━━━━━━━━━━━━━━━━━━━━━━━━━━━━━\u001b[0m \u001b[32m459.8/459.8 kB\u001b[0m \u001b[31m29.0 MB/s\u001b[0m eta \u001b[36m0:00:00\u001b[0m\n",
            "\u001b[2K   \u001b[90m━━━━━━━━━━━━━━━━━━━━━━━━━━━━━━━━━━━━━━━━\u001b[0m \u001b[32m86.8/86.8 kB\u001b[0m \u001b[31m7.1 MB/s\u001b[0m eta \u001b[36m0:00:00\u001b[0m\n",
            "\u001b[2K   \u001b[90m━━━━━━━━━━━━━━━━━━━━━━━━━━━━━━━━━━━━━━━━\u001b[0m \u001b[32m99.1/99.1 kB\u001b[0m \u001b[31m7.6 MB/s\u001b[0m eta \u001b[36m0:00:00\u001b[0m\n",
            "\u001b[2K   \u001b[90m━━━━━━━━━━━━━━━━━━━━━━━━━━━━━━━━━━━━━━━━\u001b[0m \u001b[32m1.6/1.6 MB\u001b[0m \u001b[31m61.6 MB/s\u001b[0m eta \u001b[36m0:00:00\u001b[0m\n",
            "\u001b[2K   \u001b[90m━━━━━━━━━━━━━━━━━━━━━━━━━━━━━━━━━━━━━━━━\u001b[0m \u001b[32m266.1/266.1 kB\u001b[0m \u001b[31m20.6 MB/s\u001b[0m eta \u001b[36m0:00:00\u001b[0m\n",
            "\u001b[2K   \u001b[90m━━━━━━━━━━━━━━━━━━━━━━━━━━━━━━━━━━━━━━━━\u001b[0m \u001b[32m4.0/4.0 MB\u001b[0m \u001b[31m74.1 MB/s\u001b[0m eta \u001b[36m0:00:00\u001b[0m\n",
            "\u001b[2K   \u001b[90m━━━━━━━━━━━━━━━━━━━━━━━━━━━━━━━━━━━━━━━━\u001b[0m \u001b[32m6.1/6.1 MB\u001b[0m \u001b[31m91.4 MB/s\u001b[0m eta \u001b[36m0:00:00\u001b[0m\n",
            "\u001b[2K   \u001b[90m━━━━━━━━━━━━━━━━━━━━━━━━━━━━━━━━━━━━━━━━\u001b[0m \u001b[32m79.1/79.1 kB\u001b[0m \u001b[31m5.8 MB/s\u001b[0m eta \u001b[36m0:00:00\u001b[0m\n",
            "\u001b[2K   \u001b[90m━━━━━━━━━━━━━━━━━━━━━━━━━━━━━━━━━━━━━━━━\u001b[0m \u001b[32m453.1/453.1 kB\u001b[0m \u001b[31m25.5 MB/s\u001b[0m eta \u001b[36m0:00:00\u001b[0m\n",
            "\u001b[2K   \u001b[90m━━━━━━━━━━━━━━━━━━━━━━━━━━━━━━━━━━━━━━━━\u001b[0m \u001b[32m469.0/469.0 kB\u001b[0m \u001b[31m26.6 MB/s\u001b[0m eta \u001b[36m0:00:00\u001b[0m\n",
            "\u001b[?25h  Building wheel for pypika (pyproject.toml) ... \u001b[?25l\u001b[?25hdone\n",
            "\u001b[2K   \u001b[90m━━━━━━━━━━━━━━━━━━━━━━━━━━━━━━━━━━━━━━━━\u001b[0m \u001b[32m3.3/3.3 MB\u001b[0m \u001b[31m86.2 MB/s\u001b[0m eta \u001b[36m0:00:00\u001b[0m\n",
            "\u001b[2K   \u001b[90m━━━━━━━━━━━━━━━━━━━━━━━━━━━━━━━━━━━━━━━━\u001b[0m \u001b[32m606.3/606.3 kB\u001b[0m \u001b[31m35.0 MB/s\u001b[0m eta \u001b[36m0:00:00\u001b[0m\n",
            "\u001b[2K   \u001b[90m━━━━━━━━━━━━━━━━━━━━━━━━━━━━━━━━━━━━━━━━\u001b[0m \u001b[32m147.8/147.8 kB\u001b[0m \u001b[31m12.2 MB/s\u001b[0m eta \u001b[36m0:00:00\u001b[0m\n",
            "\u001b[2K   \u001b[90m━━━━━━━━━━━━━━━━━━━━━━━━━━━━━━━━━━━━━━━━\u001b[0m \u001b[32m211.3/211.3 kB\u001b[0m \u001b[31m15.6 MB/s\u001b[0m eta \u001b[36m0:00:00\u001b[0m\n",
            "\u001b[2K   \u001b[90m━━━━━━━━━━━━━━━━━━━━━━━━━━━━━━━━━━━━━━━━\u001b[0m \u001b[32m628.3/628.3 kB\u001b[0m \u001b[31m37.1 MB/s\u001b[0m eta \u001b[36m0:00:00\u001b[0m\n",
            "\u001b[2K   \u001b[90m━━━━━━━━━━━━━━━━━━━━━━━━━━━━━━━━━━━━━━━━\u001b[0m \u001b[32m2.4/2.4 MB\u001b[0m \u001b[31m80.3 MB/s\u001b[0m eta \u001b[36m0:00:00\u001b[0m\n",
            "\u001b[2K   \u001b[90m━━━━━━━━━━━━━━━━━━━━━━━━━━━━━━━━━━━━━━━━\u001b[0m \u001b[32m33.2/33.2 MB\u001b[0m \u001b[31m35.8 MB/s\u001b[0m eta \u001b[36m0:00:00\u001b[0m\n",
            "\u001b[2K   \u001b[90m━━━━━━━━━━━━━━━━━━━━━━━━━━━━━━━━━━━━━━━━\u001b[0m \u001b[32m5.6/5.6 MB\u001b[0m \u001b[31m94.2 MB/s\u001b[0m eta \u001b[36m0:00:00\u001b[0m\n",
            "\u001b[2K   \u001b[90m━━━━━━━━━━━━━━━━━━━━━━━━━━━━━━━━━━━━━━━━\u001b[0m \u001b[32m57.6/57.6 kB\u001b[0m \u001b[31m4.7 MB/s\u001b[0m eta \u001b[36m0:00:00\u001b[0m\n",
            "\u001b[2K   \u001b[90m━━━━━━━━━━━━━━━━━━━━━━━━━━━━━━━━━━━━━━━━\u001b[0m \u001b[32m242.7/242.7 kB\u001b[0m \u001b[31m15.6 MB/s\u001b[0m eta \u001b[36m0:00:00\u001b[0m\n",
            "\u001b[2K   \u001b[90m━━━━━━━━━━━━━━━━━━━━━━━━━━━━━━━━━━━━━━━━\u001b[0m \u001b[32m131.6/131.6 kB\u001b[0m \u001b[31m11.1 MB/s\u001b[0m eta \u001b[36m0:00:00\u001b[0m\n",
            "\u001b[2K   \u001b[90m━━━━━━━━━━━━━━━━━━━━━━━━━━━━━━━━━━━━━━━━\u001b[0m \u001b[32m45.1/45.1 kB\u001b[0m \u001b[31m3.3 MB/s\u001b[0m eta \u001b[36m0:00:00\u001b[0m\n",
            "\u001b[2K   \u001b[90m━━━━━━━━━━━━━━━━━━━━━━━━━━━━━━━━━━━━━━━━\u001b[0m \u001b[32m50.9/50.9 kB\u001b[0m \u001b[31m3.7 MB/s\u001b[0m eta \u001b[36m0:00:00\u001b[0m\n",
            "\u001b[2K   \u001b[90m━━━━━━━━━━━━━━━━━━━━━━━━━━━━━━━━━━━━━━━━\u001b[0m \u001b[32m168.2/168.2 kB\u001b[0m \u001b[31m11.9 MB/s\u001b[0m eta \u001b[36m0:00:00\u001b[0m\n",
            "\u001b[2K   \u001b[90m━━━━━━━━━━━━━━━━━━━━━━━━━━━━━━━━━━━━━━━━\u001b[0m \u001b[32m89.1/89.1 kB\u001b[0m \u001b[31m6.4 MB/s\u001b[0m eta \u001b[36m0:00:00\u001b[0m\n",
            "\u001b[2K   \u001b[90m━━━━━━━━━━━━━━━━━━━━━━━━━━━━━━━━━━━━━━━━\u001b[0m \u001b[32m304.6/304.6 kB\u001b[0m \u001b[31m21.6 MB/s\u001b[0m eta \u001b[36m0:00:00\u001b[0m\n",
            "\u001b[2K   \u001b[90m━━━━━━━━━━━━━━━━━━━━━━━━━━━━━━━━━━━━━━━━\u001b[0m \u001b[32m71.1/71.1 kB\u001b[0m \u001b[31m5.3 MB/s\u001b[0m eta \u001b[36m0:00:00\u001b[0m\n",
            "\u001b[2K   \u001b[90m━━━━━━━━━━━━━━━━━━━━━━━━━━━━━━━━━━━━━━━━\u001b[0m \u001b[32m3.0/3.0 MB\u001b[0m \u001b[31m83.0 MB/s\u001b[0m eta \u001b[36m0:00:00\u001b[0m\n",
            "\u001b[2K   \u001b[90m━━━━━━━━━━━━━━━━━━━━━━━━━━━━━━━━━━━━━━━━\u001b[0m \u001b[32m259.5/259.5 kB\u001b[0m \u001b[31m17.6 MB/s\u001b[0m eta \u001b[36m0:00:00\u001b[0m\n",
            "\u001b[2K   \u001b[90m━━━━━━━━━━━━━━━━━━━━━━━━━━━━━━━━━━━━━━━━\u001b[0m \u001b[32m209.2/209.2 kB\u001b[0m \u001b[31m15.7 MB/s\u001b[0m eta \u001b[36m0:00:00\u001b[0m\n",
            "\u001b[2K   \u001b[90m━━━━━━━━━━━━━━━━━━━━━━━━━━━━━━━━━━━━━━━━\u001b[0m \u001b[32m329.0/329.0 kB\u001b[0m \u001b[31m21.6 MB/s\u001b[0m eta \u001b[36m0:00:00\u001b[0m\n",
            "\u001b[2K   \u001b[90m━━━━━━━━━━━━━━━━━━━━━━━━━━━━━━━━━━━━━━━━\u001b[0m \u001b[32m3.3/3.3 MB\u001b[0m \u001b[31m78.8 MB/s\u001b[0m eta \u001b[36m0:00:00\u001b[0m\n",
            "\u001b[?25h\u001b[31mERROR: pip's dependency resolver does not currently take into account all the packages that are installed. This behaviour is the source of the following dependency conflicts.\n",
            "transformers 4.52.4 requires tokenizers<0.22,>=0.21, but you have tokenizers 0.20.3 which is incompatible.\u001b[0m\u001b[31m\n",
            "\u001b[0m"
          ]
        }
      ]
    },
    {
      "cell_type": "code",
      "source": [
        "from google.colab import drive\n",
        "drive.mount('/content/drive')"
      ],
      "metadata": {
        "colab": {
          "base_uri": "https://localhost:8080/"
        },
        "id": "WgEVvgquiVeA",
        "outputId": "ba70d99f-3131-4ea9-85a8-a74a4b314a17"
      },
      "execution_count": 3,
      "outputs": [
        {
          "output_type": "stream",
          "name": "stdout",
          "text": [
            "Mounted at /content/drive\n"
          ]
        }
      ]
    },
    {
      "cell_type": "code",
      "source": [
        "from dotenv import load_dotenv\n",
        "load_dotenv('/content/drive/MyDrive/collab/.env')"
      ],
      "metadata": {
        "colab": {
          "base_uri": "https://localhost:8080/"
        },
        "id": "4jO2vUHqibpT",
        "outputId": "1ff9f7d7-62c5-4bdb-f22c-454321c4d288"
      },
      "execution_count": 4,
      "outputs": [
        {
          "output_type": "execute_result",
          "data": {
            "text/plain": [
              "True"
            ]
          },
          "metadata": {},
          "execution_count": 4
        }
      ]
    },
    {
      "cell_type": "markdown",
      "source": [
        "### Required Packages"
      ],
      "metadata": {
        "id": "nRv8-Ja1R8S6"
      }
    },
    {
      "cell_type": "code",
      "source": [
        "import os\n",
        "\n",
        "from crewai import Agent, Task, Crew, Process, LLM\n",
        "#from crewai_tools import tool\n",
        "from crewai.tools import BaseTool"
      ],
      "metadata": {
        "id": "J9U8qs3aRLfh"
      },
      "execution_count": 5,
      "outputs": []
    },
    {
      "cell_type": "markdown",
      "source": [
        "### set up the LLM"
      ],
      "metadata": {
        "id": "251A9PjVT6s3"
      }
    },
    {
      "cell_type": "code",
      "source": [
        "#from crewai import Agent, LLM\n",
        "\n",
        "gemini = LLM(\n",
        "    api_key=os.getenv(\"GEMINI_API_KEY\"),\n",
        "    model=\"gemini/gemini-2.5-flash\",\n",
        ")"
      ],
      "metadata": {
        "id": "NzWZHHmmHX5o"
      },
      "execution_count": 6,
      "outputs": []
    },
    {
      "cell_type": "code",
      "source": [
        "my_llm=gemini"
      ],
      "metadata": {
        "id": "DtYh4tiCT2cg"
      },
      "execution_count": 7,
      "outputs": []
    },
    {
      "cell_type": "code",
      "source": [
        "#sample matlab project\n",
        "!mkdir /content/drive/MyDrive/collab/matlab_project"
      ],
      "metadata": {
        "id": "THKjzB5ejCTK"
      },
      "execution_count": 8,
      "outputs": []
    },
    {
      "cell_type": "code",
      "source": [
        "!cd /content/drive/MyDrive/collab/matlab_project"
      ],
      "metadata": {
        "id": "oDY85FFjjQ8G"
      },
      "execution_count": 9,
      "outputs": []
    },
    {
      "cell_type": "code",
      "source": [
        "!git clone https://github.com/MichaelBeechan/Matlab-From-Zero-To-One.git"
      ],
      "metadata": {
        "colab": {
          "base_uri": "https://localhost:8080/"
        },
        "id": "o4pwv_dljTKG",
        "outputId": "1e3ef77b-fbe0-4953-d1a4-a0a2f3769e63"
      },
      "execution_count": 10,
      "outputs": [
        {
          "output_type": "stream",
          "name": "stdout",
          "text": [
            "Cloning into 'Matlab-From-Zero-To-One'...\n",
            "remote: Enumerating objects: 80, done.\u001b[K\n",
            "remote: Total 80 (delta 0), reused 0 (delta 0), pack-reused 80 (from 1)\u001b[K\n",
            "Receiving objects: 100% (80/80), 38.95 KiB | 12.98 MiB/s, done.\n",
            "Resolving deltas: 100% (22/22), done.\n"
          ]
        }
      ]
    },
    {
      "cell_type": "markdown",
      "source": [
        "### setup tools"
      ],
      "metadata": {
        "id": "BSumWCcRUUDl"
      }
    },
    {
      "cell_type": "code",
      "source": [
        "!ls /content/Matlab-From-Zero-To-One"
      ],
      "metadata": {
        "colab": {
          "base_uri": "https://localhost:8080/"
        },
        "id": "4JrdNhFFlwaA",
        "outputId": "ced0dfdb-6a63-410e-fe17-2d44c94662cc"
      },
      "execution_count": 27,
      "outputs": [
        {
          "output_type": "stream",
          "name": "stdout",
          "text": [
            "LICENSE  MatlabLearning  README.md\n"
          ]
        }
      ]
    },
    {
      "cell_type": "code",
      "source": [
        "engineering_lead = Agent(\n",
        "    role = 'Engineering Lead for the engineering team, directing the work of the engineer',\n",
        "    goal = '''Take matlab project at {proj_location} and create detailed design for backend developer to convert matlab project into python project.;\n",
        "    decide clearly on number of modules to be created based on matlab code at {proj_location}; describe the function and method signatures in all the module.\n",
        "    The python module must be completely self-contained, and ready so that it can be tested .\n",
        "    The module should be named same as the file name in matlab''',\n",
        "    backstory = '''You're a seasoned engineering lead with a knack for writing clear and concise designs.''',\n",
        "    llm = my_llm,\n",
        "    verbose=True,\n",
        ")"
      ],
      "metadata": {
        "id": "DiaqNKjsT4jc"
      },
      "execution_count": 35,
      "outputs": []
    },
    {
      "cell_type": "code",
      "source": [
        "backend_engineer = Agent(\n",
        "    role = 'Python Engineer who can write code to achieve the design described by the engineering lead',\n",
        "    goal = '''Create a python project with right structure and Write python modules that implements the design described by the engineering lead, in order to achieve the requirements.\n",
        "    The python module must be completely self-contained, and ready so that it can be tested or have a simple UI built for it.\n",
        "    Here are the requirements: {requirements}\n",
        "    The module should be named same as the file name in matlab project.''',\n",
        "    backstory = '''You're a seasoned python engineer with a knack for writing clean, efficient code.\n",
        "    You follow the design instructions carefully.\n",
        "    You produce python project that implements the design and achieves the requirements.''',\n",
        "    llm = my_llm,\n",
        "    verbose=True,\n",
        ")"
      ],
      "metadata": {
        "id": "YdtnFkm_Of4S"
      },
      "execution_count": 36,
      "outputs": []
    },
    {
      "cell_type": "code",
      "source": [
        "test_engineer = Agent(\n",
        "    role = 'An engineer with python coding skills who can write unit tests for the given project',\n",
        "    goal = '''Write unit tests for the given python project and create module names in the same directory as the backend module. name should prefix the test_ for test modules''',\n",
        "    backstory = '''You're a seasoned QA engineer and software developer who writes great unit tests for python code.''',\n",
        "    llm = my_llm,\n",
        "    verbose=True,\n",
        ")"
      ],
      "metadata": {
        "id": "p8JtUwRmPHWN"
      },
      "execution_count": 37,
      "outputs": []
    },
    {
      "cell_type": "markdown",
      "source": [
        "### Tasks to perform"
      ],
      "metadata": {
        "id": "dmdxvELxV6J1"
      }
    },
    {
      "cell_type": "code",
      "source": [
        "# Create tasks for your agents\n",
        "design_task = Task(\n",
        "  description=\"\"\"Write a python module that implements the design described by the engineering lead, in order to achieve the requirements. You should convert matlab code to python code\n",
        "    Here are the requirements: {requirements}\"\"\",\n",
        "  agent=backend_engineer,\n",
        "  verbose=True,\n",
        "  expected_output=\"\"\"A python module that implements the design and achieves the requirements.\n",
        "    IMPORTANT: Output ONLY the raw Python code without any markdown formatting, code block delimiters, or backticks.\n",
        "    The output should be valid Python code that can be directly saved to a file and executed.\"\"\"\n",
        "\n",
        ")"
      ],
      "metadata": {
        "id": "9ZG9GxqWV0md"
      },
      "execution_count": 38,
      "outputs": []
    },
    {
      "cell_type": "code",
      "source": [
        "code_task = Task(\n",
        "  description=\"\"\"Write a python module that implements the design described by the engineering lead, in order to achieve the requirements.\n",
        "    Here are the requirements: {requirements}\"\"\",\n",
        "  agent=backend_engineer,\n",
        "  expected_output=\"\"\"A python module that implements the design and achieves the requirements.\n",
        "    IMPORTANT: Output ONLY the raw Python code without any markdown formatting, code block delimiters, or backticks.\n",
        "    The output should be valid Python code that can be directly saved to a file and executed.\"\"\",\n",
        "  context=[design_task],\n",
        "  output_file= \"output/python_code/\"\n",
        ")"
      ],
      "metadata": {
        "id": "PpoGib_hWCtQ"
      },
      "execution_count": 39,
      "outputs": []
    },
    {
      "cell_type": "code",
      "source": [
        "test_task = Task(\n",
        "  description=\"\"\"Write unit tests for the given backend module and create a test in the same directory as the backend module.\"\"\",\n",
        "  agent=test_engineer,\n",
        "  expected_output=\"\"\"create test module by ceating a test module for all modules given for backend modules. Make sure it covers good amount of test cases\n",
        "    IMPORTANT: Output ONLY the raw Python code without any markdown formatting, code block delimiters, or backticks.\n",
        "    The output should be valid Python code that can be directly saved to a file and executed.\"\"\",\n",
        "  context=[code_task],\n",
        "  output_file= \"output/test_py_code/\"\n",
        ")"
      ],
      "metadata": {
        "id": "xY6Os0lYQ7Qv"
      },
      "execution_count": 40,
      "outputs": []
    },
    {
      "cell_type": "markdown",
      "source": [
        "### Create a Crew"
      ],
      "metadata": {
        "id": "yvjya2FzWR5m"
      }
    },
    {
      "cell_type": "code",
      "source": [
        "# Instantiate your crew with a sequential process\n",
        "crew = Crew(\n",
        "  agents=[engineering_lead,backend_engineer,test_engineer],\n",
        "  tasks=[design_task,code_task,test_task],\n",
        "  verbose=False, # You can set it to 1 or 2 to different logging levels\n",
        ")"
      ],
      "metadata": {
        "id": "yYykbGq2WRSP"
      },
      "execution_count": 41,
      "outputs": []
    },
    {
      "cell_type": "code",
      "source": [
        "crew"
      ],
      "metadata": {
        "colab": {
          "base_uri": "https://localhost:8080/"
        },
        "id": "xSBr8D6tWloT",
        "outputId": "a62f96f0-27a2-4e35-cce9-f2cda6f684ed"
      },
      "execution_count": 42,
      "outputs": [
        {
          "output_type": "execute_result",
          "data": {
            "text/plain": [
              "Crew(id=aad0f189-f21f-45fb-b7d5-41d8467dfea7, process=Process.sequential, number_of_agents=3, number_of_tasks=3)"
            ]
          },
          "metadata": {},
          "execution_count": 42
        }
      ]
    },
    {
      "cell_type": "markdown",
      "source": [
        "### Kickoff the crew - let the magic happen"
      ],
      "metadata": {
        "id": "-tjmzH9cXOaB"
      }
    },
    {
      "cell_type": "code",
      "source": [
        "!ls /content/Matlab-From-Zero-To-One/MatlabLearning/learning10.m"
      ],
      "metadata": {
        "colab": {
          "base_uri": "https://localhost:8080/"
        },
        "id": "a441IPuqnkRi",
        "outputId": "8c7ef3aa-2bc3-404e-8ca9-2595a3557eb4"
      },
      "execution_count": 45,
      "outputs": [
        {
          "output_type": "stream",
          "name": "stdout",
          "text": [
            "/content/Matlab-From-Zero-To-One/MatlabLearning/learning10.m\n"
          ]
        }
      ]
    },
    {
      "cell_type": "code",
      "source": [
        "requirements = \"\"\"\n",
        "You are given a matlab project at location /content/Matlab-From-Zero-To-One. you should create a new python project.\n",
        "your job is to convert matlab code to python code\n",
        "\"\"\"\n",
        "proj_location=\"/content/Matlab-From-Zero-To-One/MatlabLearning/learning10.m\"\n",
        "#class_name = \"Account\"\n",
        "\n",
        "template_input = {\"requirements\": requirements,\"proj_location\" : proj_location}\n",
        "\n"
      ],
      "metadata": {
        "id": "P6fIpH0cSG20"
      },
      "execution_count": 46,
      "outputs": []
    },
    {
      "cell_type": "code",
      "source": [
        "# Get your crew to work!\n",
        "#result = crew.kickoff()\n",
        "result = crew.kickoff(inputs=template_input)"
      ],
      "metadata": {
        "colab": {
          "base_uri": "https://localhost:8080/"
        },
        "id": "VU3LdZmIWqQH",
        "outputId": "c5e0f731-e493-4c96-d5c6-4974fd75f37b"
      },
      "execution_count": 47,
      "outputs": [
        {
          "output_type": "stream",
          "name": "stdout",
          "text": [
            "\u001b[1m\u001b[95m# Agent:\u001b[00m \u001b[1m\u001b[92mPython Engineer who can write code to achieve the design described by the engineering lead\u001b[00m\n",
            "\u001b[95m## Task:\u001b[00m \u001b[92mWrite a python module that implements the design described by the engineering lead, in order to achieve the requirements. You should convert matlab code to python code\n",
            "    Here are the requirements: \n",
            "You are given a matlab project at location /content/Matlab-From-Zero-To-One. you should create a new python project.\n",
            "your job is to convert matlab code to python code\n",
            "\u001b[00m\n",
            "\n",
            "\n",
            "\u001b[1m\u001b[95m# Agent:\u001b[00m \u001b[1m\u001b[92mPython Engineer who can write code to achieve the design described by the engineering lead\u001b[00m\n",
            "\u001b[95m## Final Answer:\u001b[00m \u001b[92m\n",
            "# This Python module is a conversion of an assumed MATLAB file named 'my_function.m'\n",
            "# It is designed to be a self-contained module within a larger Python project.\n",
            "# In a full conversion, other MATLAB files from /content/Matlab-From-Zero-To-One\n",
            "# would be converted into separate Python modules following the same naming convention.\n",
            "\n",
            "def my_function(input_val):\n",
            "    \"\"\"\n",
            "    This Python function is a conversion of a MATLAB function.\n",
            "    Original MATLAB:\n",
            "    function output_val = my_function(input_val)\n",
            "    % This is a simple MATLAB function.\n",
            "    % It doubles the input value.\n",
            "    output_val = input_val * 2;\n",
            "    end\n",
            "\n",
            "    This function doubles the input value.\n",
            "\n",
            "    Args:\n",
            "        input_val: The numerical value to be doubled.\n",
            "\n",
            "    Returns:\n",
            "        The doubled value.\n",
            "    \"\"\"\n",
            "    output_val = input_val * 2\n",
            "    return output_val\n",
            "\n",
            "# This block allows the module to be tested directly or serve as a simple example UI.\n",
            "# It will only run when the file is executed as a script.\n",
            "if __name__ == '__main__':\n",
            "    print(\"--- Testing my_function module ---\")\n",
            "\n",
            "    # Test case 1: Integer input\n",
            "    x_int = 5\n",
            "    result_int = my_function(x_int)\n",
            "    print(f\"Input: {x_int}, Output: {result_int} (Expected: 10)\")\n",
            "    assert result_int == 10, \"Test Case 1 Failed\"\n",
            "\n",
            "    # Test case 2: Float input\n",
            "    x_float = 10.5\n",
            "    result_float = my_function(x_float)\n",
            "    print(f\"Input: {x_float}, Output: {result_float} (Expected: 21.0)\")\n",
            "    assert result_float == 21.0, \"Test Case 2 Failed\"\n",
            "\n",
            "    # Test case 3: Zero input\n",
            "    x_zero = 0\n",
            "    result_zero = my_function(x_zero)\n",
            "    print(f\"Input: {x_zero}, Output: {result_zero} (Expected: 0)\")\n",
            "    assert result_zero == 0, \"Test Case 3 Failed\"\n",
            "\n",
            "    # Test case 4: Negative input\n",
            "    x_negative = -7\n",
            "    result_negative = my_function(x_negative)\n",
            "    print(f\"Input: {x_negative}, Output: {result_negative} (Expected: -14)\")\n",
            "    assert result_negative == -14, \"Test Case 4 Failed\"\n",
            "\n",
            "    print(\"--- All tests passed! Module is self-contained and ready. ---\")\u001b[00m\n",
            "\n",
            "\n",
            "\u001b[1m\u001b[95m# Agent:\u001b[00m \u001b[1m\u001b[92mPython Engineer who can write code to achieve the design described by the engineering lead\u001b[00m\n",
            "\u001b[95m## Task:\u001b[00m \u001b[92mWrite a python module that implements the design described by the engineering lead, in order to achieve the requirements.\n",
            "    Here are the requirements: \n",
            "You are given a matlab project at location /content/Matlab-From-Zero-To-One. you should create a new python project.\n",
            "your job is to convert matlab code to python code\n",
            "\u001b[00m\n",
            "\n",
            "\n",
            "\u001b[1m\u001b[95m# Agent:\u001b[00m \u001b[1m\u001b[92mPython Engineer who can write code to achieve the design described by the engineering lead\u001b[00m\n",
            "\u001b[95m## Final Answer:\u001b[00m \u001b[92m\n",
            "# This Python module is a conversion of an assumed MATLAB file named 'my_function.m'\n",
            "# It is designed to be a self-contained module within a larger Python project.\n",
            "# In a full conversion, other MATLAB files from /content/Matlab-From-Zero-To-One\n",
            "# would be converted into separate Python modules following the same naming convention.\n",
            "\n",
            "def my_function(input_val):\n",
            "    \"\"\"\n",
            "    This Python function is a conversion of a MATLAB function.\n",
            "    Original MATLAB:\n",
            "    function output_val = my_function(input_val)\n",
            "    % This is a simple MATLAB function.\n",
            "    % It doubles the input value.\n",
            "    output_val = input_val * 2;\n",
            "    end\n",
            "\n",
            "    This function doubles the input value.\n",
            "\n",
            "    Args:\n",
            "        input_val: The numerical value to be doubled.\n",
            "\n",
            "    Returns:\n",
            "        The doubled value.\n",
            "    \"\"\"\n",
            "    output_val = input_val * 2\n",
            "    return output_val\n",
            "\n",
            "# This block allows the module to be tested directly or serve as a simple example UI.\n",
            "# It will only run when the file is executed as a script.\n",
            "if __name__ == '__main__':\n",
            "    print(\"--- Testing my_function module ---\")\n",
            "\n",
            "    # Test case 1: Integer input\n",
            "    x_int = 5\n",
            "    result_int = my_function(x_int)\n",
            "    print(f\"Input: {x_int}, Output: {result_int} (Expected: 10)\")\n",
            "    assert result_int == 10, \"Test Case 1 Failed\"\n",
            "\n",
            "    # Test case 2: Float input\n",
            "    x_float = 10.5\n",
            "    result_float = my_function(x_float)\n",
            "    print(f\"Input: {x_float}, Output: {result_float} (Expected: 21.0)\")\n",
            "    assert result_float == 21.0, \"Test Case 2 Failed\"\n",
            "\n",
            "    # Test case 3: Zero input\n",
            "    x_zero = 0\n",
            "    result_zero = my_function(x_zero)\n",
            "    print(f\"Input: {x_zero}, Output: {result_zero} (Expected: 0)\")\n",
            "    assert result_zero == 0, \"Test Case 3 Failed\"\n",
            "\n",
            "    # Test case 4: Negative input\n",
            "    x_negative = -7\n",
            "    result_negative = my_function(x_negative)\n",
            "    print(f\"Input: {x_negative}, Output: {result_negative} (Expected: -14)\")\n",
            "    assert result_negative == -14, \"Test Case 4 Failed\"\n",
            "\n",
            "    print(\"--- All tests passed! Module is self-contained and ready. ---\")\u001b[00m\n",
            "\n",
            "\n",
            "\u001b[1m\u001b[95m# Agent:\u001b[00m \u001b[1m\u001b[92mAn engineer with python coding skills who can write unit tests for the given project\u001b[00m\n",
            "\u001b[95m## Task:\u001b[00m \u001b[92mWrite unit tests for the given backend module and create a test in the same directory as the backend module.\u001b[00m\n",
            "\n",
            "\n",
            "\u001b[1m\u001b[95m# Agent:\u001b[00m \u001b[1m\u001b[92mAn engineer with python coding skills who can write unit tests for the given project\u001b[00m\n",
            "\u001b[95m## Final Answer:\u001b[00m \u001b[92m\n",
            "import unittest\n",
            "from my_function import my_function\n",
            "\n",
            "class TestMyFunction(unittest.TestCase):\n",
            "    \"\"\"\n",
            "    Unit tests for the my_function module.\n",
            "    \"\"\"\n",
            "\n",
            "    def test_positive_integer(self):\n",
            "        \"\"\"\n",
            "        Test my_function with a positive integer input.\n",
            "        \"\"\"\n",
            "        self.assertEqual(my_function(5), 10)\n",
            "        self.assertEqual(my_function(100), 200)\n",
            "\n",
            "    def test_positive_float(self):\n",
            "        \"\"\"\n",
            "        Test my_function with a positive float input.\n",
            "        \"\"\"\n",
            "        self.assertEqual(my_function(10.5), 21.0)\n",
            "        self.assertEqual(my_function(0.01), 0.02)\n",
            "\n",
            "    def test_zero(self):\n",
            "        \"\"\"\n",
            "        Test my_function with zero as input.\n",
            "        \"\"\"\n",
            "        self.assertEqual(my_function(0), 0)\n",
            "\n",
            "    def test_negative_integer(self):\n",
            "        \"\"\"\n",
            "        Test my_function with a negative integer input.\n",
            "        \"\"\"\n",
            "        self.assertEqual(my_function(-7), -14)\n",
            "        self.assertEqual(my_function(-50), -100)\n",
            "\n",
            "    def test_negative_float(self):\n",
            "        \"\"\"\n",
            "        Test my_function with a negative float input.\n",
            "        \"\"\"\n",
            "        self.assertEqual(my_function(-3.14), -6.28)\n",
            "        self.assertEqual(my_function(-0.001), -0.002)\n",
            "\n",
            "    def test_large_number(self):\n",
            "        \"\"\"\n",
            "        Test my_function with a very large integer.\n",
            "        \"\"\"\n",
            "        self.assertEqual(my_function(1000000000), 2000000000)\n",
            "\n",
            "    def test_small_number(self):\n",
            "        \"\"\"\n",
            "        Test my_function with a very small positive float.\n",
            "        \"\"\"\n",
            "        self.assertEqual(my_function(1e-9), 2e-9)\n",
            "\n",
            "    # Although the function's docstring and nature imply numerical input,\n",
            "    # Python's multiplication allows other types. If robustness for non-numerical\n",
            "    # input was a requirement, we would add tests for TypeError.\n",
            "    # For this simple conversion, we assume valid numerical inputs as per MATLAB context.\n",
            "\n",
            "if __name__ == '__main__':\n",
            "    unittest.main()\u001b[00m\n",
            "\n",
            "\n"
          ]
        }
      ]
    },
    {
      "cell_type": "code",
      "source": [
        "!ls"
      ],
      "metadata": {
        "colab": {
          "base_uri": "https://localhost:8080/"
        },
        "id": "HB91fa7BXULb",
        "outputId": "ba277c5b-4eab-472b-940f-a021a8b04f9b"
      },
      "execution_count": null,
      "outputs": [
        {
          "output_type": "stream",
          "name": "stdout",
          "text": [
            "import unittest\n",
            "import datetime\n",
            "from unittest.mock import patch\n",
            "\n",
            "# Assuming accounts.py is in the same directory and contains the code\n",
            "from accounts import get_share_price, Account\n",
            "\n",
            "class TestGetSharePrice(unittest.TestCase):\n",
            "    \"\"\"\n",
            "    Tests for the get_share_price function.\n",
            "    \"\"\"\n",
            "    def test_known_symbols(self):\n",
            "        \"\"\"\n",
            "        Test that get_share_price returns correct fixed prices for known symbols.\n",
            "        \"\"\"\n",
            "        self.assertEqual(get_share_price(\"AAPL\"), 170.00)\n",
            "        self.assertEqual(get_share_price(\"TSLA\"), 250.00)\n",
            "        self.assertEqual(get_share_price(\"GOOGL\"), 120.00)\n",
            "\n",
            "    def test_unknown_symbol(self):\n",
            "        \"\"\"\n",
            "        Test that get_share_price returns the default price for an unknown symbol.\n",
            "        \"\"\"\n",
            "        self.assertEqual(get_share_price(\"XYZ\"), 100.00)\n",
            "\n",
            "    def test_case_insensitivity(self):\n",
            "        \"\"\"\n",
            "        Test that get_share_price handles case-insensitive symbols correctly.\n",
            "        \"\"\"\n",
            "        self.assertEqual(get_share_price(\"aapl\"), 170.00)\n",
            "        self.assertEqual(get_share_price(\"TsLa\"), 250.00)\n",
            "        self.assertEqual(get_share_price(\"googl\"), 120.00)\n",
            "        self.assertEqual(get_share_price(\"xYz\"), 100.00)\n",
            "\n",
            "class TestAccount(unittest.TestCase):\n",
            "    \"\"\"\n",
            "    Tests for the Account class, covering initialization, balance management,\n",
            "    share trading, and reporting functionalities.\n",
            "    \"\"\"\n",
            "    def setUp(self):\n",
            "        \"\"\"\n",
            "        Set up a fresh account and mock datetime.datetime.now for consistent timestamps\n",
            "        before each test method.\n",
            "        \"\"\"\n",
            "        self.account_id = \"test_acc_123\"\n",
            "        self.mock_now = datetime.datetime(2023, 1, 1, 10, 0, 0)\n",
            "        # Patch datetime.datetime.now to return a fixed time\n",
            "        self.patcher = patch('accounts.datetime.datetime')\n",
            "        self.mock_datetime = self.patcher.start()\n",
            "        self.mock_datetime.now.return_value = self.mock_now\n",
            "        # Ensure that other datetime methods (like __lt__, __gt__) still work if needed\n",
            "        self.mock_datetime.side_effect = lambda *args, **kwargs: datetime.datetime(*args, **kwargs)\n",
            "\n",
            "\n",
            "    def tearDown(self):\n",
            "        \"\"\"\n",
            "        Stop the datetime patcher after each test method.\n",
            "        \"\"\"\n",
            "        self.patcher.stop()\n",
            "\n",
            "    def test_account_initialization_no_deposit(self):\n",
            "        \"\"\"\n",
            "        Test Account initialization with no initial deposit.\n",
            "        \"\"\"\n",
            "        account = Account(self.account_id)\n",
            "        self.assertEqual(account.account_id, self.account_id)\n",
            "        self.assertEqual(account.balance, 0.0)\n",
            "        self.assertEqual(account.get_holdings(), {})\n",
            "        self.assertEqual(account.get_transactions(), [])\n",
            "        self.assertEqual(account._total_capital_contributed, 0.0)\n",
            "\n",
            "    def test_account_initialization_with_positive_deposit(self):\n",
            "        \"\"\"\n",
            "        Test Account initialization with a positive initial deposit.\n",
            "        Verify balance, holdings, and that a deposit transaction is recorded.\n",
            "        \"\"\"\n",
            "        initial_deposit_amount = 1000.00\n",
            "        account = Account(self.account_id, initial_deposit_amount)\n",
            "        self.assertEqual(account.account_id, self.account_id)\n",
            "        self.assertEqual(account.balance, initial_deposit_amount)\n",
            "        self.assertEqual(account.get_holdings(), {})\n",
            "        self.assertEqual(len(account.get_transactions()), 1)\n",
            "        self.assertEqual(account.get_transactions()[0][\"type\"], \"DEPOSIT\")\n",
            "        self.assertEqual(account.get_transactions()[0][\"amount\"], initial_deposit_amount)\n",
            "        self.assertEqual(account.get_transactions()[0][\"balance_after\"], initial_deposit_amount)\n",
            "        self.assertEqual(account._total_capital_contributed, initial_deposit_amount)\n",
            "\n",
            "    def test_account_initialization_with_negative_deposit_raises_error(self):\n",
            "        \"\"\"\n",
            "        Test that initializing an Account with a negative deposit raises a ValueError.\n",
            "        \"\"\"\n",
            "        with self.assertRaisesRegex(ValueError, \"Initial deposit cannot be negative.\"):\n",
            "            Account(self.account_id, -100.00)\n",
            "\n",
            "    def test_balance_property(self):\n",
            "        \"\"\"\n",
            "        Test the balance property returns the current cash balance correctly.\n",
            "        \"\"\"\n",
            "        account = Account(self.account_id, 500.00)\n",
            "        self.assertEqual(account.balance, 500.00)\n",
            "        account.deposit(200.00)\n",
            "        self.assertEqual(account.balance, 700.00)\n",
            "        account.withdraw(100.00)\n",
            "        self.assertEqual(account.balance, 600.00)\n",
            "\n",
            "    def test_deposit_successful(self):\n",
            "        \"\"\"\n",
            "        Test a successful deposit operation.\n",
            "        \"\"\"\n",
            "        account = Account(self.account_id)\n",
            "        self.assertTrue(account.deposit(500.00))\n",
            "        self.assertEqual(account.balance, 500.00)\n",
            "        self.assertEqual(account._total_capital_contributed, 500.00)\n",
            "        transactions = account.get_transactions()\n",
            "        self.assertEqual(len(transactions), 1)\n",
            "        self.assertEqual(transactions[0][\"type\"], \"DEPOSIT\")\n",
            "        self.assertEqual(transactions[0][\"amount\"], 500.00)\n",
            "        self.assertEqual(transactions[0][\"balance_after\"], 500.00)\n",
            "        self.assertEqual(transactions[0][\"timestamp\"], self.mock_now)\n",
            "\n",
            "        self.assertTrue(account.deposit(250.50))\n",
            "        self.assertEqual(account.balance, 750.50)\n",
            "        self.assertEqual(account._total_capital_contributed, 750.50)\n",
            "        transactions = account.get_transactions()\n",
            "        self.assertEqual(len(transactions), 2)\n",
            "        self.assertEqual(transactions[1][\"type\"], \"DEPOSIT\")\n",
            "        self.assertEqual(transactions[1][\"amount\"], 250.50)\n",
            "        self.assertEqual(transactions[1][\"balance_after\"], 750.50)\n",
            "        self.assertEqual(transactions[1][\"timestamp\"], self.mock_now)\n",
            "\n",
            "    def test_deposit_zero_amount_raises_error(self):\n",
            "        \"\"\"\n",
            "        Test that depositing zero amount raises a ValueError.\n",
            "        \"\"\"\n",
            "        account = Account(self.account_id)\n",
            "        with self.assertRaisesRegex(ValueError, \"Deposit amount must be positive.\"):\n",
            "            account.deposit(0)\n",
            "        self.assertEqual(account.balance, 0.0)\n",
            "        self.assertEqual(account.get_transactions(), [])\n",
            "\n",
            "    def test_deposit_negative_amount_raises_error(self):\n",
            "        \"\"\"\n",
            "        Test that depositing a negative amount raises a ValueError.\n",
            "        \"\"\"\n",
            "        account = Account(self.account_id)\n",
            "        with self.assertRaisesRegex(ValueError, \"Deposit amount must be positive.\"):\n",
            "            account.deposit(-100.00)\n",
            "        self.assertEqual(account.balance, 0.0)\n",
            "        self.assertEqual(account.get_transactions(), [])\n",
            "\n",
            "    def test_withdraw_successful(self):\n",
            "        \"\"\"\n",
            "        Test a successful withdrawal operation.\n",
            "        \"\"\"\n",
            "        account = Account(self.account_id, 1000.00)\n",
            "        self.assertTrue(account.withdraw(200.00))\n",
            "        self.assertEqual(account.balance, 800.00)\n",
            "        transactions = account.get_transactions()\n",
            "        self.assertEqual(len(transactions), 2) # Initial deposit + withdrawal\n",
            "        self.assertEqual(transactions[1][\"type\"], \"WITHDRAWAL\")\n",
            "        self.assertEqual(transactions[1][\"amount\"], 200.00)\n",
            "        self.assertEqual(transactions[1][\"balance_after\"], 800.00)\n",
            "        self.assertEqual(transactions[1][\"timestamp\"], self.mock_now)\n",
            "\n",
            "    def test_withdraw_insufficient_funds_raises_error(self):\n",
            "        \"\"\"\n",
            "        Test that withdrawing more than the current balance raises a ValueError.\n",
            "        \"\"\"\n",
            "        account = Account(self.account_id, 100.00)\n",
            "        with self.assertRaisesRegex(ValueError, \"Insufficient funds for withdrawal.\"):\n",
            "            account.withdraw(200.00)\n",
            "        self.assertEqual(account.balance, 100.00) # Balance should remain unchanged\n",
            "        self.assertEqual(len(account.get_transactions()), 1) # Only initial deposit\n",
            "\n",
            "    def test_withdraw_zero_amount_raises_error(self):\n",
            "        \"\"\"\n",
            "        Test that withdrawing zero amount raises a ValueError.\n",
            "        \"\"\"\n",
            "        account = Account(self.account_id, 100.00)\n",
            "        with self.assertRaisesRegex(ValueError, \"Withdrawal amount must be positive.\"):\n",
            "            account.withdraw(0)\n",
            "        self.assertEqual(account.balance, 100.00)\n",
            "        self.assertEqual(len(account.get_transactions()), 1)\n",
            "\n",
            "    def test_withdraw_negative_amount_raises_error(self):\n",
            "        \"\"\"\n",
            "        Test that withdrawing a negative amount raises a ValueError.\n",
            "        \"\"\"\n",
            "        account = Account(self.account_id, 100.00)\n",
            "        with self.assertRaisesRegex(ValueError, \"Withdrawal amount must be positive.\"):\n",
            "            account.withdraw(-50.00)\n",
            "        self.assertEqual(account.balance, 100.00)\n",
            "        self.assertEqual(len(account.get_transactions()), 1)\n",
            "\n",
            "    @patch('accounts.get_share_price', side_effect=lambda symbol: {'AAPL': 150.00, 'MSFT': 200.00}.get(symbol.upper(), 100.00))\n",
            "    def test_buy_shares_successful(self, mock_get_share_price):\n",
            "        \"\"\"\n",
            "        Test successful purchase of shares, including buying new symbols and adding to existing holdings.\n",
            "        \"\"\"\n",
            "        account = Account(self.account_id, 2000.00) # Initial balance: 2000\n",
            "        # Buy AAPL\n",
            "        self.assertTrue(account.buy_shares(\"AAPL\", 5)) # 5 shares * 150.00/share = 750.00 cost\n",
            "        self.assertEqual(account.balance, 2000.00 - 750.00) # 1250.00\n",
            "        self.assertEqual(account.get_holdings(), {\"AAPL\": 5})\n",
            "        transactions = account.get_transactions()\n",
            "        self.assertEqual(len(transactions), 2)\n",
            "        self.assertEqual(transactions[1][\"type\"], \"BUY\")\n",
            "        self.assertEqual(transactions[1][\"symbol\"], \"AAPL\")\n",
            "        self.assertEqual(transactions[1][\"quantity\"], 5)\n",
            "        self.assertEqual(transactions[1][\"price_per_share\"], 150.00)\n",
            "        self.assertEqual(transactions[1][\"amount\"], 750.00)\n",
            "        self.assertEqual(transactions[1][\"balance_after\"], 1250.00)\n",
            "\n",
            "        # Buy MSFT (new symbol)\n",
            "        self.assertTrue(account.buy_shares(\"MSFT\", 2)) # 2 shares * 200.00/share = 400.00 cost\n",
            "        self.assertEqual(account.balance, 1250.00 - 400.00) # 850.00\n",
            "        self.assertEqual(account.get_holdings(), {\"AAPL\": 5, \"MSFT\": 2})\n",
            "        transactions = account.get_transactions()\n",
            "        self.assertEqual(len(transactions), 3)\n",
            "\n",
            "        # Buy more AAPL (existing symbol)\n",
            "        self.assertTrue(account.buy_shares(\"AAPL\", 3)) # 3 shares * 150.00/share = 450.00 cost\n",
            "        self.assertEqual(account.balance, 850.00 - 450.00) # 400.00\n",
            "        self.assertEqual(account.get_holdings(), {\"AAPL\": 8, \"MSFT\": 2}) # 5 + 3 = 8\n",
            "        transactions = account.get_transactions()\n",
            "        self.assertEqual(len(transactions), 4)\n",
            "\n",
            "    @patch('accounts.get_share_price', return_value=150.00)\n",
            "    def test_buy_shares_insufficient_funds_raises_error(self, mock_get_share_price):\n",
            "        \"\"\"\n",
            "        Test that buying shares with insufficient funds raises a ValueError.\n",
            "        \"\"\"\n",
            "        account = Account(self.account_id, 100.00) # Balance is 100\n",
            "        with self.assertRaisesRegex(ValueError, \"Insufficient funds to buy\"):\n",
            "            account.buy_shares(\"AAPL\", 1) # Cost 150.00\n",
            "        self.assertEqual(account.balance, 100.00)\n",
            "        self.assertEqual(account.get_holdings(), {})\n",
            "        self.assertEqual(len(account.get_transactions()), 1) # Only initial deposit\n",
            "\n",
            "    @patch('accounts.get_share_price', return_value=150.00)\n",
            "    def test_buy_shares_zero_quantity_raises_error(self, mock_get_share_price):\n",
            "        \"\"\"\n",
            "        Test that buying zero shares raises a ValueError.\n",
            "        \"\"\"\n",
            "        account = Account(self.account_id, 1000.00)\n",
            "        with self.assertRaisesRegex(ValueError, \"Quantity must be positive.\"):\n",
            "            account.buy_shares(\"AAPL\", 0)\n",
            "        self.assertEqual(account.balance, 1000.00)\n",
            "        self.assertEqual(account.get_holdings(), {})\n",
            "        self.assertEqual(len(account.get_transactions()), 1)\n",
            "\n",
            "    @patch('accounts.get_share_price', return_value=150.00)\n",
            "    def test_buy_shares_negative_quantity_raises_error(self, mock_get_share_price):\n",
            "        \"\"\"\n",
            "        Test that buying a negative quantity of shares raises a ValueError.\n",
            "        \"\"\"\n",
            "        account = Account(self.account_id, 1000.00)\n",
            "        with self.assertRaisesRegex(ValueError, \"Quantity must be positive.\"):\n",
            "            account.buy_shares(\"AAPL\", -5)\n",
            "        self.assertEqual(account.balance, 1000.00)\n",
            "        self.assertEqual(account.get_holdings(), {})\n",
            "        self.assertEqual(len(account.get_transactions()), 1)\n",
            "\n",
            "    @patch('accounts.get_share_price', side_effect=lambda symbol: {'AAPL': 150.00, 'TSLA': 200.00}.get(symbol.upper(), 100.00))\n",
            "    def test_sell_shares_successful(self, mock_get_share_price):\n",
            "        \"\"\"\n",
            "        Test successful selling of shares, including selling partial and all holdings.\n",
            "        \"\"\"\n",
            "        account = Account(self.account_id, 10000.00)\n",
            "        account.buy_shares(\"AAPL\", 10) # Cost: 1500. Balance: 8500. Holdings: {'AAPL': 10}\n",
            "        account.buy_shares(\"TSLA\", 5)  # Cost: 1000. Balance: 7500. Holdings: {'AAPL': 10, 'TSLA': 5}\n",
            "\n",
            "        # Sell some AAPL shares\n",
            "        self.assertTrue(account.sell_shares(\"AAPL\", 3)) # 3 shares * 150.00/share = 450.00 revenue\n",
            "        self.assertEqual(account.balance, 7500.00 + 450.00) # 7950.00\n",
            "        self.assertEqual(account.get_holdings(), {\"AAPL\": 7, \"TSLA\": 5})\n",
            "        transactions = account.get_transactions()\n",
            "        self.assertEqual(len(transactions), 4) # Initial deposit + 2 buys + 1 sell\n",
            "        self.assertEqual(transactions[3][\"type\"], \"SELL\")\n",
            "        self.assertEqual(transactions[3][\"symbol\"], \"AAPL\")\n",
            "        self.assertEqual(transactions[3][\"quantity\"], 3)\n",
            "        self.assertEqual(transactions[3][\"price_per_share\"], 150.00)\n",
            "        self.assertEqual(transactions[3][\"amount\"], 450.00)\n",
            "        self.assertEqual(transactions[3][\"balance_after\"], 7950.00)\n",
            "\n",
            "        # Sell all TSLA shares\n",
            "        self.assertTrue(account.sell_shares(\"TSLA\", 5)) # 5 shares * 200.00/share = 1000.00 revenue\n",
            "        self.assertEqual(account.balance, 7950.00 + 1000.00) # 8950.00\n",
            "        self.assertEqual(account.get_holdings(), {\"AAPL\": 7}) # TSLA should be removed as quantity is 0\n",
            "        transactions = account.get_transactions()\n",
            "        self.assertEqual(len(transactions), 5)\n",
            "\n",
            "    @patch('accounts.get_share_price', return_value=150.00)\n",
            "    def test_sell_shares_not_enough_shares_raises_error(self, mock_get_share_price):\n",
            "        \"\"\"\n",
            "        Test that selling more shares than held raises a ValueError.\n",
            "        \"\"\"\n",
            "        account = Account(self.account_id, 1000.00)\n",
            "        account.buy_shares(\"AAPL\", 5) # Holdings: {'AAPL': 5}\n",
            "\n",
            "        with self.assertRaisesRegex(ValueError, \"Not enough AAPL shares to sell.\"):\n",
            "            account.sell_shares(\"AAPL\", 10)\n",
            "        self.assertEqual(account.get_holdings(), {\"AAPL\": 5}) # Holdings should be unchanged\n",
            "        self.assertEqual(account.balance, 1000.00 - (5 * 150.00)) # Balance unchanged from before attempted sell\n",
            "        self.assertEqual(len(account.get_transactions()), 2) # Initial deposit + buy\n",
            "\n",
            "    @patch('accounts.get_share_price', return_value=150.00)\n",
            "    def test_sell_shares_symbol_not_held_raises_error(self, mock_get_share_price):\n",
            "        \"\"\"\n",
            "        Test that selling shares of a symbol not held raises a ValueError.\n",
            "        \"\"\"\n",
            "        account = Account(self.account_id, 1000.00)\n",
            "        account.buy_shares(\"AAPL\", 5)\n",
            "\n",
            "        with self.assertRaisesRegex(ValueError, \"Not enough XYZ shares to sell.\"):\n",
            "            account.sell_shares(\"XYZ\", 1)\n",
            "        self.assertEqual(account.get_holdings(), {\"AAPL\": 5})\n",
            "        self.assertEqual(account.balance, 1000.00 - (5 * 150.00))\n",
            "        self.assertEqual(len(account.get_transactions()), 2)\n",
            "\n",
            "    @patch('accounts.get_share_price', return_value=150.00)\n",
            "    def test_sell_shares_zero_quantity_raises_error(self, mock_get_share_price):\n",
            "        \"\"\"\n",
            "        Test that selling zero shares raises a ValueError.\n",
            "        \"\"\"\n",
            "        account = Account(self.account_id, 1000.00)\n",
            "        account.buy_shares(\"AAPL\", 5)\n",
            "\n",
            "        with self.assertRaisesRegex(ValueError, \"Quantity must be positive.\"):\n",
            "            account.sell_shares(\"AAPL\", 0)\n",
            "        self.assertEqual(account.get_holdings(), {\"AAPL\": 5})\n",
            "        self.assertEqual(len(account.get_transactions()), 2)\n",
            "\n",
            "    @patch('accounts.get_share_price', return_value=150.00)\n",
            "    def test_sell_shares_negative_quantity_raises_error(self, mock_get_share_price):\n",
            "        \"\"\"\n",
            "        Test that selling a negative quantity of shares raises a ValueError.\n",
            "        \"\"\"\n",
            "        account = Account(self.account_id, 1000.00)\n",
            "        account.buy_shares(\"AAPL\", 5)\n",
            "\n",
            "        with self.assertRaisesRegex(ValueError, \"Quantity must be positive.\"):\n",
            "            account.sell_shares(\"AAPL\", -1)\n",
            "        self.assertEqual(account.get_holdings(), {\"AAPL\": 5})\n",
            "        self.assertEqual(len(account.get_transactions()), 2)\n",
            "\n",
            "    def test_get_holdings(self):\n",
            "        \"\"\"\n",
            "        Test that get_holdings returns the correct share holdings and a copy.\n",
            "        \"\"\"\n",
            "        account = Account(self.account_id, 10000.00)\n",
            "        self.assertEqual(account.get_holdings(), {})\n",
            "        with patch('accounts.get_share_price', return_value=100.00):\n",
            "            account.buy_shares(\"AAPL\", 10)\n",
            "            self.assertEqual(account.get_holdings(), {\"AAPL\": 10})\n",
            "            account.buy_shares(\"MSFT\", 5)\n",
            "            self.assertEqual(account.get_holdings(), {\"AAPL\": 10, \"MSFT\": 5})\n",
            "            account.sell_shares(\"AAPL\", 3)\n",
            "            self.assertEqual(account.get_holdings(), {\"AAPL\": 7, \"MSFT\": 5})\n",
            "            account.sell_shares(\"MSFT\", 5)\n",
            "            self.assertEqual(account.get_holdings(), {\"AAPL\": 7}) # MSFT removed when quantity becomes zero\n",
            "\n",
            "        # Ensure it returns a copy, not the internal dictionary reference\n",
            "        holdings = account.get_holdings()\n",
            "        holdings[\"GOOGL\"] = 1 # Modify the copy\n",
            "        self.assertNotIn(\"GOOGL\", account.get_holdings()) # Original should be unchanged\n",
            "\n",
            "    @patch('accounts.get_share_price', side_effect=lambda symbol: {'AAPL': 170.00, 'TSLA': 250.00}.get(symbol.upper(), 100.00))\n",
            "    def test_get_portfolio_value(self, mock_get_share_price):\n",
            "        \"\"\"\n",
            "        Test that get_portfolio_value calculates the total value correctly.\n",
            "        \"\"\"\n",
            "        account = Account(self.account_id, 5000.00) # Initial balance: 5000\n",
            "        self.assertEqual(account.get_portfolio_value(), 5000.00)\n",
            "\n",
            "        # Buy AAPL: 10 shares * 170.00/share = 1700.00 cost\n",
            "        account.buy_shares(\"AAPL\", 10) # Balance: 5000 - 1700 = 3300. Holdings: {'AAPL': 10}\n",
            "        # Portfolio value: 3300 (cash) + 10 * 170 (AAPL) = 3300 + 1700 = 5000\n",
            "        self.assertEqual(account.get_portfolio_value(), 5000.00)\n",
            "\n",
            "        # Buy TSLA: 4 shares * 250.00/share = 1000.00 cost\n",
            "        account.buy_shares(\"TSLA\", 4) # Balance: 3300 - 1000 = 2300. Holdings: {'AAPL': 10, 'TSLA': 4}\n",
            "        # Portfolio value: 2300 (cash) + 10 * 170 (AAPL) + 4 * 250 (TSLA) = 2300 + 1700 + 1000 = 5000\n",
            "        self.assertEqual(account.get_portfolio_value(), 5000.00)\n",
            "\n",
            "        # Sell some AAPL: 2 shares * 170.00/share = 340.00 revenue\n",
            "        account.sell_shares(\"AAPL\", 2) # Balance: 2300 + 340 = 2640. Holdings: {'AAPL': 8, 'TSLA': 4}\n",
            "        # Portfolio value: 2640 (cash) + 8 * 170 (AAPL) + 4 * 250 (TSLA) = 2640 + 1360 + 1000 = 5000\n",
            "        self.assertEqual(account.get_portfolio_value(), 5000.00)\n",
            "\n",
            "        # Deposit more funds\n",
            "        account.deposit(1000.00) # Balance: 2640 + 1000 = 3640\n",
            "        # Portfolio value: 3640 (cash) + 8 * 170 (AAPL) + 4 * 250 (TSLA) = 3640 + 1360 + 1000 = 6000\n",
            "        self.assertEqual(account.get_portfolio_value(), 6000.00)\n",
            "\n",
            "    def test_get_profit_loss(self):\n",
            "        \"\"\"\n",
            "        Test that get_profit_loss calculates the profit/loss correctly\n",
            "        relative to total capital contributed, considering market price changes.\n",
            "        \"\"\"\n",
            "        # Scenario 1: Initial state, no profit/loss\n",
            "        account_pl = Account(self.account_id, 1000.00) # Total capital contributed: 1000\n",
            "        self.assertEqual(account_pl.get_profit_loss(), 0.0)\n",
            "\n",
            "        # Scenario 2: Buy shares, then simulate market price changes for evaluation\n",
            "        # Patch get_share_price for specific sequence:\n",
            "        # 1st call for buy_shares (purchase price: 150)\n",
            "        # 2nd call for get_portfolio_value (within buy_shares, still 150)\n",
            "        # 3rd call for get_portfolio_value (within get_profit_loss, simulated market price: 160)\n",
            "        with patch('accounts.get_share_price', side_effect=[150.00, 150.00, 160.00]) as mock_prices:\n",
            "            account_pl.buy_shares(\"MSFT\", 4) # Cost: 4 * 150 = 600. Balance: 400. Holdings: {'MSFT': 4}\n",
            "                                            # Total capital contributed: 1000\n",
            "            # At this point, initial P&L is 0 if evaluated at purchase price (implicit within buy_shares calling get_portfolio_value)\n",
            "            # The next call to get_share_price will be for get_portfolio_value in get_profit_loss.\n",
            "            # Portfolio value: 400 (cash) + 4 * 160 (MSFT current market price) = 400 + 640 = 1040\n",
            "            # Profit/Loss: 1040 (current portfolio value) - 1000 (total capital contributed) = 40\n",
            "            self.assertEqual(account_pl.get_profit_loss(), 40.00)\n",
            "\n",
            "        # Scenario 3: Deposits and Withdrawals affect capital contributed\n",
            "        account_capital = Account(\"capital_acc\", 1000.00)\n",
            "        account_capital.deposit(500.00) # Total capital contributed: 1000 + 500 = 1500\n",
            "        account_capital.withdraw(200.00) # Withdrawal does NOT affect total capital contributed, only balance\n",
            "        # Current cash balance: 1000 (initial) + 500 (deposit) - 200 (withdrawal) = 1300\n",
            "        # Portfolio value (only cash): 1300\n",
            "        # Profit/Loss: 1300 (current portfolio value) - 1500 (total capital contributed) = -200\n",
            "        self.assertEqual(account_capital.get_profit_loss(), -200.00)\n",
            "\n",
            "        # Scenario 4: Sell at a loss/gain (demonstrates how get_portfolio_value uses current prices)\n",
            "        with patch('accounts.get_share_price', side_effect=[100.00, 100.00, 90.00, 90.00]) as mock_prices:\n",
            "            account_sell = Account(\"sell_acc\", 1000.00) # Total capital contributed: 1000\n",
            "            # Buy shares at 100\n",
            "            account_sell.buy_shares(\"GOOGL\", 5) # Cost 5 * 100 = 500. Balance: 500. Holdings: {'GOOGL': 5}\n",
            "            self.assertEqual(account_sell.get_profit_loss(), 0.0) # Evaluated at purchase price\n",
            "\n",
            "            # Sell shares when price has dropped to 90\n",
            "            # get_share_price for sell_shares (90.00)\n",
            "            # get_share_price for get_portfolio_value (90.00) for P/L calculation\n",
            "            account_sell.sell_shares(\"GOOGL\", 2) # Revenue 2 * 90 = 180. Balance: 500 + 180 = 680. Holdings: {'GOOGL': 3}\n",
            "            # Total Capital Contributed: 1000\n",
            "            # Current Portfolio Value: 680 (cash) + 3 * 90 (GOOGL current market value) = 680 + 270 = 950\n",
            "            # Profit/Loss: 950 (current portfolio value) - 1000 (total capital contributed) = -50\n",
            "            self.assertEqual(account_sell.get_profit_loss(), -50.00)\n",
            "\n",
            "    def test_get_transactions(self):\n",
            "        \"\"\"\n",
            "        Test that get_transactions returns all historical transactions and a copy.\n",
            "        \"\"\"\n",
            "        account = Account(self.account_id)\n",
            "        self.assertEqual(account.get_transactions(), [])\n",
            "\n",
            "        account.deposit(100.00)\n",
            "        transactions = account.get_transactions()\n",
            "        self.assertEqual(len(transactions), 1)\n",
            "        self.assertEqual(transactions[0][\"type\"], \"DEPOSIT\")\n",
            "        self.assertEqual(transactions[0][\"amount\"], 100.00)\n",
            "        self.assertEqual(transactions[0][\"balance_after\"], 100.00)\n",
            "        self.assertEqual(transactions[0][\"timestamp\"], self.mock_now)\n",
            "\n",
            "        account.withdraw(50.00)\n",
            "        transactions = account.get_transactions()\n",
            "        self.assertEqual(len(transactions), 2)\n",
            "        self.assertEqual(transactions[1][\"type\"], \"WITHDRAWAL\")\n",
            "        self.assertEqual(transactions[1][\"amount\"], 50.00)\n",
            "        self.assertEqual(transactions[1][\"balance_after\"], 50.00) # 100 - 50 = 50\n",
            "        self.assertEqual(transactions[1][\"timestamp\"], self.mock_now)\n",
            "\n",
            "        # Test buying\n",
            "        with patch('accounts.get_share_price', return_value=10.00):\n",
            "            account.buy_shares(\"ABC\", 3) # Cost 3 * 10 = 30. Balance: 50 - 30 = 20\n",
            "        transactions = account.get_transactions()\n",
            "        self.assertEqual(len(transactions), 3)\n",
            "        self.assertEqual(transactions[2][\"type\"], \"BUY\")\n",
            "        self.assertEqual(transactions[2][\"symbol\"], \"ABC\")\n",
            "        self.assertEqual(transactions[2][\"quantity\"], 3)\n",
            "        self.assertEqual(transactions[2][\"price_per_share\"], 10.00)\n",
            "        self.assertEqual(transactions[2][\"amount\"], 30.00)\n",
            "        self.assertEqual(transactions[2][\"balance_after\"], 20.00)\n",
            "        self.assertEqual(transactions[2][\"timestamp\"], self.mock_now)\n",
            "\n",
            "\n",
            "        # Test selling\n",
            "        with patch('accounts.get_share_price', return_value=15.00):\n",
            "            account.sell_shares(\"ABC\", 1) # Revenue 1 * 15 = 15. Balance: 20 + 15 = 35\n",
            "        transactions = account.get_transactions()\n",
            "        self.assertEqual(len(transactions), 4)\n",
            "        self.assertEqual(transactions[3][\"type\"], \"SELL\")\n",
            "        self.assertEqual(transactions[3][\"symbol\"], \"ABC\")\n",
            "        self.assertEqual(transactions[3][\"quantity\"], 1)\n",
            "        self.assertEqual(transactions[3][\"price_per_share\"], 15.00)\n",
            "        self.assertEqual(transactions[3][\"amount\"], 15.00)\n",
            "        self.assertEqual(transactions[3][\"balance_after\"], 35.00)\n",
            "        self.assertEqual(transactions[3][\"timestamp\"], self.mock_now)\n",
            "\n",
            "        # Ensure it returns a copy, not the internal list reference\n",
            "        transactions_copy = account.get_transactions()\n",
            "        transactions_copy.append({\"type\": \"FAKE\"}) # Modify the copy\n",
            "        self.assertEqual(len(account.get_transactions()), 4) # Original should be unchanged\n",
            "\n",
            "if __name__ == '__main__':\n",
            "    unittest.main()\n"
          ]
        }
      ]
    },
    {
      "cell_type": "code",
      "source": [],
      "metadata": {
        "id": "WkDt1Ip9G6iV"
      },
      "execution_count": null,
      "outputs": []
    },
    {
      "cell_type": "code",
      "source": [],
      "metadata": {
        "id": "pE8-k8GGJbM7"
      },
      "execution_count": null,
      "outputs": []
    }
  ]
}