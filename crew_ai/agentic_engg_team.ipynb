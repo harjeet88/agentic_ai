{
  "nbformat": 4,
  "nbformat_minor": 0,
  "metadata": {
    "colab": {
      "provenance": [],
      "include_colab_link": true
    },
    "kernelspec": {
      "name": "python3",
      "display_name": "Python 3"
    },
    "language_info": {
      "name": "python"
    }
  },
  "cells": [
    {
      "cell_type": "markdown",
      "metadata": {
        "id": "view-in-github",
        "colab_type": "text"
      },
      "source": [
        "<a href=\"https://colab.research.google.com/github/harjeet88/agentic_ai/blob/main/crew_ai/agentic_engg_team.ipynb\" target=\"_parent\"><img src=\"https://colab.research.google.com/assets/colab-badge.svg\" alt=\"Open In Colab\"/></a>"
      ]
    },
    {
      "cell_type": "markdown",
      "source": [
        "### Install required pacakges\n"
      ],
      "metadata": {
        "id": "HV1DyBd2RHrN"
      }
    },
    {
      "cell_type": "code",
      "source": [
        "!pip install -q -U crewai\n",
        "!pip install -q -U duckduckgo-search\n",
        "!pip install -q -U crewai_tools"
      ],
      "metadata": {
        "id": "xOj-BuKARJrH",
        "outputId": "e7ad0279-5765-4c0b-a6cb-c5a20f9fb692",
        "colab": {
          "base_uri": "https://localhost:8080/"
        }
      },
      "execution_count": 1,
      "outputs": [
        {
          "output_type": "stream",
          "name": "stdout",
          "text": [
            "\u001b[2K     \u001b[90m━━━━━━━━━━━━━━━━━━━━━━━━━━━━━━━━━━━━━━━━\u001b[0m \u001b[32m42.8/42.8 kB\u001b[0m \u001b[31m3.2 MB/s\u001b[0m eta \u001b[36m0:00:00\u001b[0m\n",
            "\u001b[2K     \u001b[90m━━━━━━━━━━━━━━━━━━━━━━━━━━━━━━━━━━━━━━━━\u001b[0m \u001b[32m67.3/67.3 kB\u001b[0m \u001b[31m5.2 MB/s\u001b[0m eta \u001b[36m0:00:00\u001b[0m\n",
            "\u001b[?25h  Installing build dependencies ... \u001b[?25l\u001b[?25hdone\n",
            "  Getting requirements to build wheel ... \u001b[?25l\u001b[?25hdone\n",
            "  Preparing metadata (pyproject.toml) ... \u001b[?25l\u001b[?25hdone\n",
            "\u001b[2K     \u001b[90m━━━━━━━━━━━━━━━━━━━━━━━━━━━━━━━━━━━━━━━━\u001b[0m \u001b[32m48.2/48.2 kB\u001b[0m \u001b[31m3.8 MB/s\u001b[0m eta \u001b[36m0:00:00\u001b[0m\n",
            "\u001b[2K     \u001b[90m━━━━━━━━━━━━━━━━━━━━━━━━━━━━━━━━━━━━━━━━\u001b[0m \u001b[32m44.3/44.3 kB\u001b[0m \u001b[31m3.3 MB/s\u001b[0m eta \u001b[36m0:00:00\u001b[0m\n",
            "\u001b[2K   \u001b[90m━━━━━━━━━━━━━━━━━━━━━━━━━━━━━━━━━━━━━━━━\u001b[0m \u001b[32m324.6/324.6 kB\u001b[0m \u001b[31m22.6 MB/s\u001b[0m eta \u001b[36m0:00:00\u001b[0m\n",
            "\u001b[2K   \u001b[90m━━━━━━━━━━━━━━━━━━━━━━━━━━━━━━━━━━━━━━━━\u001b[0m \u001b[32m8.0/8.0 MB\u001b[0m \u001b[31m78.3 MB/s\u001b[0m eta \u001b[36m0:00:00\u001b[0m\n",
            "\u001b[2K   \u001b[90m━━━━━━━━━━━━━━━━━━━━━━━━━━━━━━━━━━━━━━━━\u001b[0m \u001b[32m16.4/16.4 MB\u001b[0m \u001b[31m66.1 MB/s\u001b[0m eta \u001b[36m0:00:00\u001b[0m\n",
            "\u001b[2K   \u001b[90m━━━━━━━━━━━━━━━━━━━━━━━━━━━━━━━━━━━━━━━━\u001b[0m \u001b[32m138.8/138.8 kB\u001b[0m \u001b[31m10.7 MB/s\u001b[0m eta \u001b[36m0:00:00\u001b[0m\n",
            "\u001b[2K   \u001b[90m━━━━━━━━━━━━━━━━━━━━━━━━━━━━━━━━━━━━━━━━\u001b[0m \u001b[32m19.3/19.3 MB\u001b[0m \u001b[31m62.2 MB/s\u001b[0m eta \u001b[36m0:00:00\u001b[0m\n",
            "\u001b[2K   \u001b[90m━━━━━━━━━━━━━━━━━━━━━━━━━━━━━━━━━━━━━━━━\u001b[0m \u001b[32m94.7/94.7 kB\u001b[0m \u001b[31m8.1 MB/s\u001b[0m eta \u001b[36m0:00:00\u001b[0m\n",
            "\u001b[2K   \u001b[90m━━━━━━━━━━━━━━━━━━━━━━━━━━━━━━━━━━━━━━━━\u001b[0m \u001b[32m65.8/65.8 kB\u001b[0m \u001b[31m6.0 MB/s\u001b[0m eta \u001b[36m0:00:00\u001b[0m\n",
            "\u001b[2K   \u001b[90m━━━━━━━━━━━━━━━━━━━━━━━━━━━━━━━━━━━━━━━━\u001b[0m \u001b[32m55.7/55.7 kB\u001b[0m \u001b[31m4.8 MB/s\u001b[0m eta \u001b[36m0:00:00\u001b[0m\n",
            "\u001b[2K   \u001b[90m━━━━━━━━━━━━━━━━━━━━━━━━━━━━━━━━━━━━━━━━\u001b[0m \u001b[32m118.5/118.5 kB\u001b[0m \u001b[31m9.8 MB/s\u001b[0m eta \u001b[36m0:00:00\u001b[0m\n",
            "\u001b[2K   \u001b[90m━━━━━━━━━━━━━━━━━━━━━━━━━━━━━━━━━━━━━━━━\u001b[0m \u001b[32m196.2/196.2 kB\u001b[0m \u001b[31m12.9 MB/s\u001b[0m eta \u001b[36m0:00:00\u001b[0m\n",
            "\u001b[2K   \u001b[90m━━━━━━━━━━━━━━━━━━━━━━━━━━━━━━━━━━━━━━━━\u001b[0m \u001b[32m60.0/60.0 kB\u001b[0m \u001b[31m4.9 MB/s\u001b[0m eta \u001b[36m0:00:00\u001b[0m\n",
            "\u001b[2K   \u001b[90m━━━━━━━━━━━━━━━━━━━━━━━━━━━━━━━━━━━━━━━━\u001b[0m \u001b[32m5.6/5.6 MB\u001b[0m \u001b[31m66.9 MB/s\u001b[0m eta \u001b[36m0:00:00\u001b[0m\n",
            "\u001b[2K   \u001b[90m━━━━━━━━━━━━━━━━━━━━━━━━━━━━━━━━━━━━━━━━\u001b[0m \u001b[32m756.0/756.0 kB\u001b[0m \u001b[31m31.4 MB/s\u001b[0m eta \u001b[36m0:00:00\u001b[0m\n",
            "\u001b[2K   \u001b[90m━━━━━━━━━━━━━━━━━━━━━━━━━━━━━━━━━━━━━━━━\u001b[0m \u001b[32m236.0/236.0 kB\u001b[0m \u001b[31m17.1 MB/s\u001b[0m eta \u001b[36m0:00:00\u001b[0m\n",
            "\u001b[2K   \u001b[90m━━━━━━━━━━━━━━━━━━━━━━━━━━━━━━━━━━━━━━━━\u001b[0m \u001b[32m18.0/18.0 MB\u001b[0m \u001b[31m27.2 MB/s\u001b[0m eta \u001b[36m0:00:00\u001b[0m\n",
            "\u001b[2K   \u001b[90m━━━━━━━━━━━━━━━━━━━━━━━━━━━━━━━━━━━━━━━━\u001b[0m \u001b[32m284.2/284.2 kB\u001b[0m \u001b[31m17.3 MB/s\u001b[0m eta \u001b[36m0:00:00\u001b[0m\n",
            "\u001b[2K   \u001b[90m━━━━━━━━━━━━━━━━━━━━━━━━━━━━━━━━━━━━━━━━\u001b[0m \u001b[32m1.9/1.9 MB\u001b[0m \u001b[31m70.3 MB/s\u001b[0m eta \u001b[36m0:00:00\u001b[0m\n",
            "\u001b[2K   \u001b[90m━━━━━━━━━━━━━━━━━━━━━━━━━━━━━━━━━━━━━━━━\u001b[0m \u001b[32m3.9/3.9 MB\u001b[0m \u001b[31m91.9 MB/s\u001b[0m eta \u001b[36m0:00:00\u001b[0m\n",
            "\u001b[2K   \u001b[90m━━━━━━━━━━━━━━━━━━━━━━━━━━━━━━━━━━━━━━━━\u001b[0m \u001b[32m8.7/8.7 MB\u001b[0m \u001b[31m96.3 MB/s\u001b[0m eta \u001b[36m0:00:00\u001b[0m\n",
            "\u001b[2K   \u001b[90m━━━━━━━━━━━━━━━━━━━━━━━━━━━━━━━━━━━━━━━━\u001b[0m \u001b[32m101.6/101.6 kB\u001b[0m \u001b[31m9.6 MB/s\u001b[0m eta \u001b[36m0:00:00\u001b[0m\n",
            "\u001b[2K   \u001b[90m━━━━━━━━━━━━━━━━━━━━━━━━━━━━━━━━━━━━━━━━\u001b[0m \u001b[32m105.4/105.4 kB\u001b[0m \u001b[31m8.4 MB/s\u001b[0m eta \u001b[36m0:00:00\u001b[0m\n",
            "\u001b[2K   \u001b[90m━━━━━━━━━━━━━━━━━━━━━━━━━━━━━━━━━━━━━━━━\u001b[0m \u001b[32m220.7/220.7 kB\u001b[0m \u001b[31m14.5 MB/s\u001b[0m eta \u001b[36m0:00:00\u001b[0m\n",
            "\u001b[2K   \u001b[90m━━━━━━━━━━━━━━━━━━━━━━━━━━━━━━━━━━━━━━━━\u001b[0m \u001b[32m71.2/71.2 kB\u001b[0m \u001b[31m6.1 MB/s\u001b[0m eta \u001b[36m0:00:00\u001b[0m\n",
            "\u001b[2K   \u001b[90m━━━━━━━━━━━━━━━━━━━━━━━━━━━━━━━━━━━━━━━━\u001b[0m \u001b[32m2.9/2.9 MB\u001b[0m \u001b[31m79.9 MB/s\u001b[0m eta \u001b[36m0:00:00\u001b[0m\n",
            "\u001b[2K   \u001b[90m━━━━━━━━━━━━━━━━━━━━━━━━━━━━━━━━━━━━━━━━\u001b[0m \u001b[32m46.0/46.0 kB\u001b[0m \u001b[31m3.8 MB/s\u001b[0m eta \u001b[36m0:00:00\u001b[0m\n",
            "\u001b[2K   \u001b[90m━━━━━━━━━━━━━━━━━━━━━━━━━━━━━━━━━━━━━━━━\u001b[0m \u001b[32m392.1/392.1 kB\u001b[0m \u001b[31m29.3 MB/s\u001b[0m eta \u001b[36m0:00:00\u001b[0m\n",
            "\u001b[2K   \u001b[90m━━━━━━━━━━━━━━━━━━━━━━━━━━━━━━━━━━━━━━━━\u001b[0m \u001b[32m459.8/459.8 kB\u001b[0m \u001b[31m30.0 MB/s\u001b[0m eta \u001b[36m0:00:00\u001b[0m\n",
            "\u001b[2K   \u001b[90m━━━━━━━━━━━━━━━━━━━━━━━━━━━━━━━━━━━━━━━━\u001b[0m \u001b[32m86.8/86.8 kB\u001b[0m \u001b[31m7.3 MB/s\u001b[0m eta \u001b[36m0:00:00\u001b[0m\n",
            "\u001b[2K   \u001b[90m━━━━━━━━━━━━━━━━━━━━━━━━━━━━━━━━━━━━━━━━\u001b[0m \u001b[32m99.1/99.1 kB\u001b[0m \u001b[31m8.2 MB/s\u001b[0m eta \u001b[36m0:00:00\u001b[0m\n",
            "\u001b[2K   \u001b[90m━━━━━━━━━━━━━━━━━━━━━━━━━━━━━━━━━━━━━━━━\u001b[0m \u001b[32m1.6/1.6 MB\u001b[0m \u001b[31m61.7 MB/s\u001b[0m eta \u001b[36m0:00:00\u001b[0m\n",
            "\u001b[2K   \u001b[90m━━━━━━━━━━━━━━━━━━━━━━━━━━━━━━━━━━━━━━━━\u001b[0m \u001b[32m266.1/266.1 kB\u001b[0m \u001b[31m18.3 MB/s\u001b[0m eta \u001b[36m0:00:00\u001b[0m\n",
            "\u001b[2K   \u001b[90m━━━━━━━━━━━━━━━━━━━━━━━━━━━━━━━━━━━━━━━━\u001b[0m \u001b[32m4.0/4.0 MB\u001b[0m \u001b[31m86.1 MB/s\u001b[0m eta \u001b[36m0:00:00\u001b[0m\n",
            "\u001b[2K   \u001b[90m━━━━━━━━━━━━━━━━━━━━━━━━━━━━━━━━━━━━━━━━\u001b[0m \u001b[32m6.1/6.1 MB\u001b[0m \u001b[31m104.1 MB/s\u001b[0m eta \u001b[36m0:00:00\u001b[0m\n",
            "\u001b[2K   \u001b[90m━━━━━━━━━━━━━━━━━━━━━━━━━━━━━━━━━━━━━━━━\u001b[0m \u001b[32m79.1/79.1 kB\u001b[0m \u001b[31m6.6 MB/s\u001b[0m eta \u001b[36m0:00:00\u001b[0m\n",
            "\u001b[2K   \u001b[90m━━━━━━━━━━━━━━━━━━━━━━━━━━━━━━━━━━━━━━━━\u001b[0m \u001b[32m453.1/453.1 kB\u001b[0m \u001b[31m31.4 MB/s\u001b[0m eta \u001b[36m0:00:00\u001b[0m\n",
            "\u001b[2K   \u001b[90m━━━━━━━━━━━━━━━━━━━━━━━━━━━━━━━━━━━━━━━━\u001b[0m \u001b[32m469.0/469.0 kB\u001b[0m \u001b[31m30.2 MB/s\u001b[0m eta \u001b[36m0:00:00\u001b[0m\n",
            "\u001b[?25h  Building wheel for pypika (pyproject.toml) ... \u001b[?25l\u001b[?25hdone\n",
            "\u001b[2K   \u001b[90m━━━━━━━━━━━━━━━━━━━━━━━━━━━━━━━━━━━━━━━━\u001b[0m \u001b[32m3.3/3.3 MB\u001b[0m \u001b[31m79.7 MB/s\u001b[0m eta \u001b[36m0:00:00\u001b[0m\n",
            "\u001b[2K   \u001b[90m━━━━━━━━━━━━━━━━━━━━━━━━━━━━━━━━━━━━━━━━\u001b[0m \u001b[32m606.3/606.3 kB\u001b[0m \u001b[31m31.6 MB/s\u001b[0m eta \u001b[36m0:00:00\u001b[0m\n",
            "\u001b[2K   \u001b[90m━━━━━━━━━━━━━━━━━━━━━━━━━━━━━━━━━━━━━━━━\u001b[0m \u001b[32m147.8/147.8 kB\u001b[0m \u001b[31m12.6 MB/s\u001b[0m eta \u001b[36m0:00:00\u001b[0m\n",
            "\u001b[2K   \u001b[90m━━━━━━━━━━━━━━━━━━━━━━━━━━━━━━━━━━━━━━━━\u001b[0m \u001b[32m211.3/211.3 kB\u001b[0m \u001b[31m16.7 MB/s\u001b[0m eta \u001b[36m0:00:00\u001b[0m\n",
            "\u001b[2K   \u001b[90m━━━━━━━━━━━━━━━━━━━━━━━━━━━━━━━━━━━━━━━━\u001b[0m \u001b[32m628.3/628.3 kB\u001b[0m \u001b[31m37.0 MB/s\u001b[0m eta \u001b[36m0:00:00\u001b[0m\n",
            "\u001b[2K   \u001b[90m━━━━━━━━━━━━━━━━━━━━━━━━━━━━━━━━━━━━━━━━\u001b[0m \u001b[32m2.4/2.4 MB\u001b[0m \u001b[31m81.4 MB/s\u001b[0m eta \u001b[36m0:00:00\u001b[0m\n",
            "\u001b[2K   \u001b[90m━━━━━━━━━━━━━━━━━━━━━━━━━━━━━━━━━━━━━━━━\u001b[0m \u001b[32m33.2/33.2 MB\u001b[0m \u001b[31m43.6 MB/s\u001b[0m eta \u001b[36m0:00:00\u001b[0m\n",
            "\u001b[2K   \u001b[90m━━━━━━━━━━━━━━━━━━━━━━━━━━━━━━━━━━━━━━━━\u001b[0m \u001b[32m5.6/5.6 MB\u001b[0m \u001b[31m82.2 MB/s\u001b[0m eta \u001b[36m0:00:00\u001b[0m\n",
            "\u001b[2K   \u001b[90m━━━━━━━━━━━━━━━━━━━━━━━━━━━━━━━━━━━━━━━━\u001b[0m \u001b[32m57.6/57.6 kB\u001b[0m \u001b[31m4.7 MB/s\u001b[0m eta \u001b[36m0:00:00\u001b[0m\n",
            "\u001b[2K   \u001b[90m━━━━━━━━━━━━━━━━━━━━━━━━━━━━━━━━━━━━━━━━\u001b[0m \u001b[32m242.7/242.7 kB\u001b[0m \u001b[31m19.0 MB/s\u001b[0m eta \u001b[36m0:00:00\u001b[0m\n",
            "\u001b[2K   \u001b[90m━━━━━━━━━━━━━━━━━━━━━━━━━━━━━━━━━━━━━━━━\u001b[0m \u001b[32m131.6/131.6 kB\u001b[0m \u001b[31m11.4 MB/s\u001b[0m eta \u001b[36m0:00:00\u001b[0m\n",
            "\u001b[2K   \u001b[90m━━━━━━━━━━━━━━━━━━━━━━━━━━━━━━━━━━━━━━━━\u001b[0m \u001b[32m45.1/45.1 kB\u001b[0m \u001b[31m3.5 MB/s\u001b[0m eta \u001b[36m0:00:00\u001b[0m\n",
            "\u001b[2K   \u001b[90m━━━━━━━━━━━━━━━━━━━━━━━━━━━━━━━━━━━━━━━━\u001b[0m \u001b[32m2.5/2.5 MB\u001b[0m \u001b[31m82.2 MB/s\u001b[0m eta \u001b[36m0:00:00\u001b[0m\n",
            "\u001b[2K   \u001b[90m━━━━━━━━━━━━━━━━━━━━━━━━━━━━━━━━━━━━━━━━\u001b[0m \u001b[32m1.0/1.0 MB\u001b[0m \u001b[31m54.8 MB/s\u001b[0m eta \u001b[36m0:00:00\u001b[0m\n",
            "\u001b[2K   \u001b[90m━━━━━━━━━━━━━━━━━━━━━━━━━━━━━━━━━━━━━━━━\u001b[0m \u001b[32m50.9/50.9 kB\u001b[0m \u001b[31m4.0 MB/s\u001b[0m eta \u001b[36m0:00:00\u001b[0m\n",
            "\u001b[2K   \u001b[90m━━━━━━━━━━━━━━━━━━━━━━━━━━━━━━━━━━━━━━━━\u001b[0m \u001b[32m168.2/168.2 kB\u001b[0m \u001b[31m13.7 MB/s\u001b[0m eta \u001b[36m0:00:00\u001b[0m\n",
            "\u001b[2K   \u001b[90m━━━━━━━━━━━━━━━━━━━━━━━━━━━━━━━━━━━━━━━━\u001b[0m \u001b[32m89.1/89.1 kB\u001b[0m \u001b[31m7.7 MB/s\u001b[0m eta \u001b[36m0:00:00\u001b[0m\n",
            "\u001b[2K   \u001b[90m━━━━━━━━━━━━━━━━━━━━━━━━━━━━━━━━━━━━━━━━\u001b[0m \u001b[32m304.6/304.6 kB\u001b[0m \u001b[31m21.3 MB/s\u001b[0m eta \u001b[36m0:00:00\u001b[0m\n",
            "\u001b[2K   \u001b[90m━━━━━━━━━━━━━━━━━━━━━━━━━━━━━━━━━━━━━━━━\u001b[0m \u001b[32m71.1/71.1 kB\u001b[0m \u001b[31m5.5 MB/s\u001b[0m eta \u001b[36m0:00:00\u001b[0m\n",
            "\u001b[2K   \u001b[90m━━━━━━━━━━━━━━━━━━━━━━━━━━━━━━━━━━━━━━━━\u001b[0m \u001b[32m3.0/3.0 MB\u001b[0m \u001b[31m83.1 MB/s\u001b[0m eta \u001b[36m0:00:00\u001b[0m\n",
            "\u001b[2K   \u001b[90m━━━━━━━━━━━━━━━━━━━━━━━━━━━━━━━━━━━━━━━━\u001b[0m \u001b[32m259.5/259.5 kB\u001b[0m \u001b[31m19.0 MB/s\u001b[0m eta \u001b[36m0:00:00\u001b[0m\n",
            "\u001b[2K   \u001b[90m━━━━━━━━━━━━━━━━━━━━━━━━━━━━━━━━━━━━━━━━\u001b[0m \u001b[32m438.9/438.9 kB\u001b[0m \u001b[31m28.1 MB/s\u001b[0m eta \u001b[36m0:00:00\u001b[0m\n",
            "\u001b[2K   \u001b[90m━━━━━━━━━━━━━━━━━━━━━━━━━━━━━━━━━━━━━━━━\u001b[0m \u001b[32m209.2/209.2 kB\u001b[0m \u001b[31m17.2 MB/s\u001b[0m eta \u001b[36m0:00:00\u001b[0m\n",
            "\u001b[2K   \u001b[90m━━━━━━━━━━━━━━━━━━━━━━━━━━━━━━━━━━━━━━━━\u001b[0m \u001b[32m45.2/45.2 kB\u001b[0m \u001b[31m4.0 MB/s\u001b[0m eta \u001b[36m0:00:00\u001b[0m\n",
            "\u001b[2K   \u001b[90m━━━━━━━━━━━━━━━━━━━━━━━━━━━━━━━━━━━━━━━━\u001b[0m \u001b[32m329.0/329.0 kB\u001b[0m \u001b[31m26.7 MB/s\u001b[0m eta \u001b[36m0:00:00\u001b[0m\n",
            "\u001b[2K   \u001b[90m━━━━━━━━━━━━━━━━━━━━━━━━━━━━━━━━━━━━━━━━\u001b[0m \u001b[32m3.3/3.3 MB\u001b[0m \u001b[31m86.0 MB/s\u001b[0m eta \u001b[36m0:00:00\u001b[0m\n",
            "\u001b[2K   \u001b[90m━━━━━━━━━━━━━━━━━━━━━━━━━━━━━━━━━━━━━━━━\u001b[0m \u001b[32m50.9/50.9 kB\u001b[0m \u001b[31m3.5 MB/s\u001b[0m eta \u001b[36m0:00:00\u001b[0m\n",
            "\u001b[?25h\u001b[31mERROR: pip's dependency resolver does not currently take into account all the packages that are installed. This behaviour is the source of the following dependency conflicts.\n",
            "transformers 4.52.4 requires tokenizers<0.22,>=0.21, but you have tokenizers 0.20.3 which is incompatible.\u001b[0m\u001b[31m\n",
            "\u001b[0m"
          ]
        }
      ]
    },
    {
      "cell_type": "markdown",
      "source": [
        "### Required Packages"
      ],
      "metadata": {
        "id": "nRv8-Ja1R8S6"
      }
    },
    {
      "cell_type": "code",
      "source": [
        "import os\n",
        "\n",
        "from crewai import Agent, Task, Crew, Process, LLM\n",
        "#from crewai_tools import tool"
      ],
      "metadata": {
        "id": "J9U8qs3aRLfh"
      },
      "execution_count": 2,
      "outputs": []
    },
    {
      "cell_type": "code",
      "source": [
        "from crewai.tools import BaseTool"
      ],
      "metadata": {
        "id": "aubRyJsaMZu8"
      },
      "execution_count": 3,
      "outputs": []
    },
    {
      "cell_type": "code",
      "source": [
        "from google.colab import userdata\n",
        "GOOGLE_API_KEY=userdata.get('GEMINI_API_KEY')\n",
        "OPENAI_API_KEY=userdata.get('OPENAI_API_KEY')\n",
        "os.environ[\"OPENAI_API_KEY\"] = OPENAI_API_KEY\n",
        "os.environ[\"GEMINI_API_KEY\"] = GOOGLE_API_KEY\n",
        "os.environ[\"GOOGLE_API_KEY\"] = GOOGLE_API_KEY\n",
        "if GOOGLE_API_KEY :\n",
        "  print(\"GOOGLE_API_KEY is set\")"
      ],
      "metadata": {
        "colab": {
          "base_uri": "https://localhost:8080/"
        },
        "id": "mCBq458Q9Ymn",
        "outputId": "56d0e52b-59aa-43ea-885e-45cf587a768c"
      },
      "execution_count": 5,
      "outputs": [
        {
          "output_type": "stream",
          "name": "stdout",
          "text": [
            "GOOGLE_API_KEY is set\n"
          ]
        }
      ]
    },
    {
      "cell_type": "markdown",
      "source": [
        "### set up the LLM"
      ],
      "metadata": {
        "id": "251A9PjVT6s3"
      }
    },
    {
      "cell_type": "code",
      "source": [
        "from crewai import Agent, LLM\n",
        "\n",
        "gemini = LLM(\n",
        "    api_key=os.getenv(\"GEMINI_API_KEY\"),\n",
        "    model=\"gemini/gemini-1.5-flash\",\n",
        ")"
      ],
      "metadata": {
        "id": "NzWZHHmmHX5o"
      },
      "execution_count": 6,
      "outputs": []
    },
    {
      "cell_type": "code",
      "source": [
        "my_llm=gemini"
      ],
      "metadata": {
        "id": "DtYh4tiCT2cg"
      },
      "execution_count": 7,
      "outputs": []
    },
    {
      "cell_type": "markdown",
      "source": [
        "### setup tools"
      ],
      "metadata": {
        "id": "BSumWCcRUUDl"
      }
    },
    {
      "cell_type": "code",
      "metadata": {
        "id": "7805d468"
      },
      "source": [
        "!pip install --upgrade --quiet  langchain-community"
      ],
      "execution_count": 8,
      "outputs": []
    },
    {
      "cell_type": "code",
      "source": [
        "engineering_lead = Agent(\n",
        "    role = 'Engineering Lead for the engineering team, directing the work of the engineer',\n",
        "    goal = '''Take the high level requirements described here and prepare a detailed design for the backend developer;\n",
        "    everything should be in 1 python module; describe the function and method signatures in the module.\n",
        "    The python module must be completely self-contained, and ready so that it can be tested or have a simple UI built for it.\n",
        "    Here are the requirements: {requirements}\n",
        "    The module should be named {module_name} and the class should be named {class_name}''',\n",
        "    backstory = '''You're a seasoned engineering lead with a knack for writing clear and concise designs.''',\n",
        "    llm = my_llm,\n",
        "    verbose=True,\n",
        ")"
      ],
      "metadata": {
        "id": "DiaqNKjsT4jc"
      },
      "execution_count": 9,
      "outputs": []
    },
    {
      "cell_type": "code",
      "source": [
        "backend_engineer = Agent(\n",
        "    role = 'Python Engineer who can write code to achieve the design described by the engineering lead',\n",
        "    goal = '''Write a python module that implements the design described by the engineering lead, in order to achieve the requirements.\n",
        "    The python module must be completely self-contained, and ready so that it can be tested or have a simple UI built for it.\n",
        "    Here are the requirements: {requirements}\n",
        "    The module should be named {module_name} and the class should be named {class_name}''',\n",
        "    backstory = '''You're a seasoned python engineer with a knack for writing clean, efficient code.\n",
        "    You follow the design instructions carefully.\n",
        "    You produce 1 python module named {module_name} that implements the design and achieves the requirements.''',\n",
        "    llm = my_llm,\n",
        "    verbose=True,\n",
        ")"
      ],
      "metadata": {
        "id": "YdtnFkm_Of4S"
      },
      "execution_count": 10,
      "outputs": []
    },
    {
      "cell_type": "code",
      "source": [
        "frontend_engineer = Agent(\n",
        "    role = 'A Gradio expert to who can write a simple frontend to demonstrate a backend',\n",
        "    goal = '''Write a gradio UI that demonstrates the given backend, all in one file to be in the same directory as the backend module {module_name}.\n",
        "    Here are the requirements: {requirements}''',\n",
        "    backstory = '''You're a seasoned python engineer highly skilled at writing simple Gradio UIs for a backend class.\n",
        "    You produce a simple gradio UI that demonstrates the given backend class; you write the gradio UI in a module app.py that is in the same directory as the backend module {module_name}.''',\n",
        "    llm = my_llm,\n",
        "    verbose=True,\n",
        ")"
      ],
      "metadata": {
        "id": "74PX2z5nOn5D"
      },
      "execution_count": 11,
      "outputs": []
    },
    {
      "cell_type": "code",
      "source": [
        "test_engineer = Agent(\n",
        "    role = 'An engineer with python coding skills who can write unit tests for the given backend module {module_name}',\n",
        "    goal = '''Write unit tests for the given backend module {module_name} and create a test_{module_name} in the same directory as the backend module.''',\n",
        "    backstory = '''You're a seasoned QA engineer and software developer who writes great unit tests for python code.''',\n",
        "    llm = my_llm,\n",
        "    verbose=True,\n",
        ")"
      ],
      "metadata": {
        "id": "p8JtUwRmPHWN"
      },
      "execution_count": 12,
      "outputs": []
    },
    {
      "cell_type": "markdown",
      "source": [
        "### Tasks to perform"
      ],
      "metadata": {
        "id": "dmdxvELxV6J1"
      }
    },
    {
      "cell_type": "code",
      "source": [
        "# Create tasks for your agents\n",
        "design_task = Task(\n",
        "  description=\"\"\"Write a python module that implements the design described by the engineering lead, in order to achieve the requirements.\n",
        "    Here are the requirements: {requirements}. write design in markup format.\"\"\",\n",
        "  agent=engineering_lead,\n",
        "  verbose=True,\n",
        "  output_file = \"output/design.md\",\n",
        "  expected_output=\"\"\"A python module that implements the design and achieves the requirements.\n",
        "    IMPORTANT: Output ONLY the raw Python code without any markdown formatting, code block delimiters, or backticks.\n",
        "    The output should be valid Python code that can be directly saved to a file and executed.\"\"\"\n",
        "\n",
        ")"
      ],
      "metadata": {
        "id": "9ZG9GxqWV0md"
      },
      "execution_count": 32,
      "outputs": []
    },
    {
      "cell_type": "code",
      "source": [
        "code_task = Task(\n",
        "  description=\"\"\"write code based on design shared by design task. code should be modular and well written\"\"\",\n",
        "  agent=backend_engineer,\n",
        "  expected_output=\"\",\n",
        "  context=[design_task],\n",
        "  output_file= \"output/{module_name}\"\n",
        ")"
      ],
      "metadata": {
        "id": "PpoGib_hWCtQ"
      },
      "execution_count": 33,
      "outputs": []
    },
    {
      "cell_type": "code",
      "source": [
        "frontend_task = Task(\n",
        "  description=\"\"\"Write a gradio UI in a module app.py that demonstrates the given backend class in {module_name}.\n",
        "    Assume there is only 1 user, and keep the UI very simple indeed - just a prototype or demo.\n",
        "    Here are the requirements: {requirements}\"\"\",\n",
        "  agent=frontend_engineer,\n",
        "  expected_output=\"\"\"A gradio UI in module app.py that demonstrates the given backend class.\n",
        "    The file should be ready so that it can be run as-is, in the same directory as the backend module, and it should import the backend class from {module_name}.\n",
        "    IMPORTANT: Output ONLY the raw Python code without any markdown formatting, code block delimiters, or backticks.\n",
        "    The output should be valid Python code that can be directly saved to a file and executed.\"\"\",\n",
        "  context=[code_task],\n",
        "  output_file= \"output/app.py\"\n",
        ")"
      ],
      "metadata": {
        "id": "TOuv3DEjQbWL"
      },
      "execution_count": 34,
      "outputs": []
    },
    {
      "cell_type": "code",
      "source": [
        "test_task = Task(\n",
        "  description=\"\"\"Write unit tests for the given backend module {module_name} and create a test_{module_name} in the same directory as the backend module.\"\"\",\n",
        "  agent=test_engineer,\n",
        "  expected_output=\"\"\"A test_{module_name} module that tests the given backend module.\n",
        "    IMPORTANT: Output ONLY the raw Python code without any markdown formatting, code block delimiters, or backticks.\n",
        "    The output should be valid Python code that can be directly saved to a file and executed.\"\"\",\n",
        "  context=[code_task],\n",
        "  output_file= \"output/test_{module_name}\"\n",
        ")"
      ],
      "metadata": {
        "id": "xY6Os0lYQ7Qv"
      },
      "execution_count": 35,
      "outputs": []
    },
    {
      "cell_type": "markdown",
      "source": [
        "### Create a Crew"
      ],
      "metadata": {
        "id": "yvjya2FzWR5m"
      }
    },
    {
      "cell_type": "code",
      "source": [
        "# Instantiate your crew with a sequential process\n",
        "crew = Crew(\n",
        "  agents=[engineering_lead,backend_engineer,frontend_engineer,test_engineer],\n",
        "  tasks=[design_task,code_task,frontend_task,test_task],\n",
        "  verbose=False, # You can set it to 1 or 2 to different logging levels\n",
        ")"
      ],
      "metadata": {
        "id": "yYykbGq2WRSP"
      },
      "execution_count": 36,
      "outputs": []
    },
    {
      "cell_type": "code",
      "source": [
        "crew"
      ],
      "metadata": {
        "colab": {
          "base_uri": "https://localhost:8080/"
        },
        "id": "xSBr8D6tWloT",
        "outputId": "d3c7b926-3258-43bc-bdd3-e190b3e79976"
      },
      "execution_count": 37,
      "outputs": [
        {
          "output_type": "execute_result",
          "data": {
            "text/plain": [
              "Crew(id=c60eec66-d1c3-4405-9c79-04d875d7023c, process=Process.sequential, number_of_agents=4, number_of_tasks=4)"
            ]
          },
          "metadata": {},
          "execution_count": 37
        }
      ]
    },
    {
      "cell_type": "markdown",
      "source": [
        "### Kickoff the crew - let the magic happen"
      ],
      "metadata": {
        "id": "-tjmzH9cXOaB"
      }
    },
    {
      "cell_type": "code",
      "source": [
        "requirements = \"\"\"\n",
        "A simple account management system for a trading simulation platform.\n",
        "The system should allow users to create an account, deposit funds, and withdraw funds.\n",
        "The system should allow users to record that they have bought or sold shares, providing a quantity.\n",
        "The system should calculate the total value of the user's portfolio, and the profit or loss from the initial deposit.\n",
        "The system should be able to report the holdings of the user at any point in time.\n",
        "The system should be able to report the profit or loss of the user at any point in time.\n",
        "The system should be able to list the transactions that the user has made over time.\n",
        "The system should prevent the user from withdrawing funds that would leave them with a negative balance, or\n",
        " from buying more shares than they can afford, or selling shares that they don't have.\n",
        " The system has access to a function get_share_price(symbol) which returns the current price of a share, and includes a test implementation that returns fixed prices for AAPL, TSLA, GOOGL.\n",
        "\"\"\"\n",
        "module_name=\"accounts.py\"\n",
        "class_name = \"Account\"\n",
        "\n",
        "template_input = {\"requirements\": requirements,\"module_name\" : module_name, \"class_name\" :class_name}\n",
        "\n"
      ],
      "metadata": {
        "id": "P6fIpH0cSG20"
      },
      "execution_count": 38,
      "outputs": []
    },
    {
      "cell_type": "code",
      "source": [
        "# Get your crew to work!\n",
        "#result = crew.kickoff()\n",
        "result = crew.kickoff(inputs=template_input)"
      ],
      "metadata": {
        "colab": {
          "base_uri": "https://localhost:8080/"
        },
        "id": "VU3LdZmIWqQH",
        "outputId": "2d315479-2de3-46ab-d6ab-f71321414463"
      },
      "execution_count": 39,
      "outputs": [
        {
          "output_type": "stream",
          "name": "stdout",
          "text": [
            "\u001b[1m\u001b[95m# Agent:\u001b[00m \u001b[1m\u001b[92mEngineering Lead for the engineering team, directing the work of the engineer\u001b[00m\n",
            "\u001b[95m## Task:\u001b[00m \u001b[92mWrite a python module that implements the design described by the engineering lead, in order to achieve the requirements.\n",
            "    Here are the requirements: \n",
            "A simple account management system for a trading simulation platform.\n",
            "The system should allow users to create an account, deposit funds, and withdraw funds.\n",
            "The system should allow users to record that they have bought or sold shares, providing a quantity.\n",
            "The system should calculate the total value of the user's portfolio, and the profit or loss from the initial deposit.\n",
            "The system should be able to report the holdings of the user at any point in time.\n",
            "The system should be able to report the profit or loss of the user at any point in time.\n",
            "The system should be able to list the transactions that the user has made over time.\n",
            "The system should prevent the user from withdrawing funds that would leave them with a negative balance, or\n",
            " from buying more shares than they can afford, or selling shares that they don't have.\n",
            " The system has access to a function get_share_price(symbol) which returns the current price of a share, and includes a test implementation that returns fixed prices for AAPL, TSLA, GOOGL.\n",
            ". write design in markup format.\u001b[00m\n",
            "\n",
            "\n",
            "\u001b[1m\u001b[95m# Agent:\u001b[00m \u001b[1m\u001b[92mEngineering Lead for the engineering team, directing the work of the engineer\u001b[00m\n",
            "\u001b[95m## Final Answer:\u001b[00m \u001b[92m\n",
            "```python\n",
            "from typing import List, Dict, Tuple\n",
            "\n",
            "def get_share_price(symbol: str) -> float:\n",
            "    \"\"\"\n",
            "    Returns the current price of a share.  This is a placeholder for a real-world\n",
            "    implementation that would fetch data from a market data provider.\n",
            "    \"\"\"\n",
            "    prices = {\"AAPL\": 150.0, \"TSLA\": 1000.0, \"GOOGL\": 2500.0}\n",
            "    return prices.get(symbol, 0.0)  # Return 0 if symbol not found\n",
            "\n",
            "\n",
            "class Account:\n",
            "    def __init__(self, user_id: str, initial_deposit: float):\n",
            "        \"\"\"\n",
            "        Creates a new account.\n",
            "\n",
            "        Args:\n",
            "            user_id: The unique identifier for the user.\n",
            "            initial_deposit: The initial amount of money deposited into the account.\n",
            "        \"\"\"\n",
            "        self.user_id = user_id\n",
            "        self.balance = initial_deposit\n",
            "        self.holdings: Dict[str, int] = {}  # symbol -> quantity\n",
            "        self.transactions: List[Tuple[str, str, int, float]] = []  # (type, symbol, quantity, price)\n",
            "\n",
            "\n",
            "    def deposit(self, amount: float):\n",
            "        \"\"\"\n",
            "        Deposits funds into the account.\n",
            "\n",
            "        Args:\n",
            "            amount: The amount of money to deposit.\n",
            "        \"\"\"\n",
            "        if amount > 0:\n",
            "            self.balance += amount\n",
            "            self.transactions.append((\"deposit\", \"\", amount, 0.0))\n",
            "\n",
            "    def withdraw(self, amount: float):\n",
            "        \"\"\"\n",
            "        Withdraws funds from the account.\n",
            "\n",
            "        Args:\n",
            "            amount: The amount of money to withdraw.\n",
            "        Raises:\n",
            "            ValueError: If the withdrawal would result in a negative balance.\n",
            "        \"\"\"\n",
            "        if amount > 0 and self.balance - amount >= 0:\n",
            "            self.balance -= amount\n",
            "            self.transactions.append((\"withdraw\", \"\", amount, 0.0))\n",
            "        else:\n",
            "            raise ValueError(\"Insufficient funds\")\n",
            "\n",
            "    def buy(self, symbol: str, quantity: int):\n",
            "        \"\"\"\n",
            "        Buys shares of a stock.\n",
            "\n",
            "        Args:\n",
            "            symbol: The stock symbol.\n",
            "            quantity: The number of shares to buy.\n",
            "        Raises:\n",
            "            ValueError: If the purchase would exceed the account balance.\n",
            "\n",
            "        \"\"\"\n",
            "        price = get_share_price(symbol)\n",
            "        cost = price * quantity\n",
            "        if cost <= self.balance:\n",
            "            self.balance -= cost\n",
            "            self.holdings[symbol] = self.holdings.get(symbol, 0) + quantity\n",
            "            self.transactions.append((\"buy\", symbol, quantity, price))\n",
            "        else:\n",
            "            raise ValueError(\"Insufficient funds to buy shares\")\n",
            "\n",
            "    def sell(self, symbol: str, quantity: int):\n",
            "        \"\"\"\n",
            "        Sells shares of a stock.\n",
            "\n",
            "        Args:\n",
            "            symbol: The stock symbol.\n",
            "            quantity: The number of shares to sell.\n",
            "        Raises:\n",
            "            ValueError: If the account does not own enough shares to sell.\n",
            "        \"\"\"\n",
            "        if symbol in self.holdings and self.holdings[symbol] >= quantity:\n",
            "            price = get_share_price(symbol)\n",
            "            proceeds = price * quantity\n",
            "            self.balance += proceeds\n",
            "            self.holdings[symbol] -= quantity\n",
            "            self.transactions.append((\"sell\", symbol, quantity, price))\n",
            "            if self.holdings[symbol] == 0:\n",
            "                del self.holdings[symbol]\n",
            "        else:\n",
            "            raise ValueError(\"Insufficient shares to sell\")\n",
            "\n",
            "    def portfolio_value(self) -> float:\n",
            "        \"\"\"\n",
            "        Calculates the total value of the user's portfolio.\n",
            "        \"\"\"\n",
            "        portfolio_value = self.balance\n",
            "        for symbol, quantity in self.holdings.items():\n",
            "            portfolio_value += quantity * get_share_price(symbol)\n",
            "        return portfolio_value\n",
            "\n",
            "    def profit_loss(self) -> float:\n",
            "        \"\"\"\n",
            "        Calculates the profit or loss from the initial deposit.\n",
            "        \"\"\"\n",
            "        return self.portfolio_value() - self.transactions[0][2] #initial deposit is first transaction\n",
            "\n",
            "    def get_holdings(self) -> Dict[str, int]:\n",
            "        \"\"\"\n",
            "        Returns a dictionary of the user's holdings.\n",
            "        \"\"\"\n",
            "        return self.holdings\n",
            "\n",
            "    def get_transactions(self) -> List[Tuple[str, str, int, float]]:\n",
            "        \"\"\"\n",
            "        Returns a list of the user's transactions.\n",
            "        \"\"\"\n",
            "        return self.transactions\n",
            "```\u001b[00m\n",
            "\n",
            "\n",
            "\u001b[1m\u001b[95m# Agent:\u001b[00m \u001b[1m\u001b[92mPython Engineer who can write code to achieve the design described by the engineering lead\u001b[00m\n",
            "\u001b[95m## Task:\u001b[00m \u001b[92mwrite code based on design shared by design task. code should be modular and well written\u001b[00m\n",
            "\n",
            "\n",
            "\u001b[1m\u001b[95m# Agent:\u001b[00m \u001b[1m\u001b[92mPython Engineer who can write code to achieve the design described by the engineering lead\u001b[00m\n",
            "\u001b[95m## Final Answer:\u001b[00m \u001b[92m\n",
            "```python\n",
            "from typing import List, Dict, Tuple\n",
            "\n",
            "def get_share_price(symbol: str) -> float:\n",
            "    \"\"\"\n",
            "    Returns the current price of a share.  This is a placeholder for a real-world\n",
            "    implementation that would fetch data from a market data provider.\n",
            "    \"\"\"\n",
            "    prices = {\"AAPL\": 150.0, \"TSLA\": 1000.0, \"GOOGL\": 2500.0}\n",
            "    return prices.get(symbol, 0.0)  # Return 0 if symbol not found\n",
            "\n",
            "\n",
            "class Account:\n",
            "    def __init__(self, user_id: str, initial_deposit: float):\n",
            "        \"\"\"\n",
            "        Creates a new account.\n",
            "\n",
            "        Args:\n",
            "            user_id: The unique identifier for the user.\n",
            "            initial_deposit: The initial amount of money deposited into the account.\n",
            "        \"\"\"\n",
            "        self.user_id = user_id\n",
            "        self.balance = initial_deposit\n",
            "        self.holdings: Dict[str, int] = {}  # symbol -> quantity\n",
            "        self.transactions: List[Tuple[str, str, int, float]] = []  # (type, symbol, quantity, price)\n",
            "        self.transactions.append((\"deposit\", \"\", initial_deposit, 0.0))\n",
            "\n",
            "\n",
            "    def deposit(self, amount: float):\n",
            "        \"\"\"\n",
            "        Deposits funds into the account.\n",
            "\n",
            "        Args:\n",
            "            amount: The amount of money to deposit.\n",
            "        \"\"\"\n",
            "        if amount > 0:\n",
            "            self.balance += amount\n",
            "            self.transactions.append((\"deposit\", \"\", amount, 0.0))\n",
            "\n",
            "    def withdraw(self, amount: float):\n",
            "        \"\"\"\n",
            "        Withdraws funds from the account.\n",
            "\n",
            "        Args:\n",
            "            amount: The amount of money to withdraw.\n",
            "        Raises:\n",
            "            ValueError: If the withdrawal would result in a negative balance.\n",
            "        \"\"\"\n",
            "        if amount > 0 and self.balance - amount >= 0:\n",
            "            self.balance -= amount\n",
            "            self.transactions.append((\"withdraw\", \"\", amount, 0.0))\n",
            "        else:\n",
            "            raise ValueError(\"Insufficient funds\")\n",
            "\n",
            "    def buy(self, symbol: str, quantity: int):\n",
            "        \"\"\"\n",
            "        Buys shares of a stock.\n",
            "\n",
            "        Args:\n",
            "            symbol: The stock symbol.\n",
            "            quantity: The number of shares to buy.\n",
            "        Raises:\n",
            "            ValueError: If the purchase would exceed the account balance.\n",
            "\n",
            "        \"\"\"\n",
            "        price = get_share_price(symbol)\n",
            "        cost = price * quantity\n",
            "        if cost <= self.balance:\n",
            "            self.balance -= cost\n",
            "            self.holdings[symbol] = self.holdings.get(symbol, 0) + quantity\n",
            "            self.transactions.append((\"buy\", symbol, quantity, price))\n",
            "        else:\n",
            "            raise ValueError(\"Insufficient funds to buy shares\")\n",
            "\n",
            "    def sell(self, symbol: str, quantity: int):\n",
            "        \"\"\"\n",
            "        Sells shares of a stock.\n",
            "\n",
            "        Args:\n",
            "            symbol: The stock symbol.\n",
            "            quantity: The number of shares to sell.\n",
            "        Raises:\n",
            "            ValueError: If the account does not own enough shares to sell.\n",
            "        \"\"\"\n",
            "        if symbol in self.holdings and self.holdings[symbol] >= quantity:\n",
            "            price = get_share_price(symbol)\n",
            "            proceeds = price * quantity\n",
            "            self.balance += proceeds\n",
            "            self.holdings[symbol] -= quantity\n",
            "            self.transactions.append((\"sell\", symbol, quantity, price))\n",
            "            if self.holdings[symbol] == 0:\n",
            "                del self.holdings[symbol]\n",
            "        else:\n",
            "            raise ValueError(\"Insufficient shares to sell\")\n",
            "\n",
            "    def portfolio_value(self) -> float:\n",
            "        \"\"\"\n",
            "        Calculates the total value of the user's portfolio.\n",
            "        \"\"\"\n",
            "        portfolio_value = self.balance\n",
            "        for symbol, quantity in self.holdings.items():\n",
            "            portfolio_value += quantity * get_share_price(symbol)\n",
            "        return portfolio_value\n",
            "\n",
            "    def profit_loss(self) -> float:\n",
            "        \"\"\"\n",
            "        Calculates the profit or loss from the initial deposit.\n",
            "        \"\"\"\n",
            "        return self.portfolio_value() - self.transactions[0][2] #initial deposit is first transaction\n",
            "\n",
            "    def get_holdings(self) -> Dict[str, int]:\n",
            "        \"\"\"\n",
            "        Returns a dictionary of the user's holdings.\n",
            "        \"\"\"\n",
            "        return self.holdings\n",
            "\n",
            "    def get_transactions(self) -> List[Tuple[str, str, int, float]]:\n",
            "        \"\"\"\n",
            "        Returns a list of the user's transactions.\n",
            "        \"\"\"\n",
            "        return self.transactions\n",
            "```\u001b[00m\n",
            "\n",
            "\n",
            "\u001b[1m\u001b[95m# Agent:\u001b[00m \u001b[1m\u001b[92mA Gradio expert to who can write a simple frontend to demonstrate a backend\u001b[00m\n",
            "\u001b[95m## Task:\u001b[00m \u001b[92mWrite a gradio UI in a module app.py that demonstrates the given backend class in accounts.py.\n",
            "    Assume there is only 1 user, and keep the UI very simple indeed - just a prototype or demo.\n",
            "    Here are the requirements: \n",
            "A simple account management system for a trading simulation platform.\n",
            "The system should allow users to create an account, deposit funds, and withdraw funds.\n",
            "The system should allow users to record that they have bought or sold shares, providing a quantity.\n",
            "The system should calculate the total value of the user's portfolio, and the profit or loss from the initial deposit.\n",
            "The system should be able to report the holdings of the user at any point in time.\n",
            "The system should be able to report the profit or loss of the user at any point in time.\n",
            "The system should be able to list the transactions that the user has made over time.\n",
            "The system should prevent the user from withdrawing funds that would leave them with a negative balance, or\n",
            " from buying more shares than they can afford, or selling shares that they don't have.\n",
            " The system has access to a function get_share_price(symbol) which returns the current price of a share, and includes a test implementation that returns fixed prices for AAPL, TSLA, GOOGL.\n",
            "\u001b[00m\n",
            "\n",
            "\n",
            "\u001b[1m\u001b[95m# Agent:\u001b[00m \u001b[1m\u001b[92mA Gradio expert to who can write a simple frontend to demonstrate a backend\u001b[00m\n",
            "\u001b[95m## Final Answer:\u001b[00m \u001b[92m\n",
            "import gradio as gr\n",
            "from accounts import Account\n",
            "\n",
            "def create_account(initial_deposit):\n",
            "    account = Account(\"user1\", float(initial_deposit))\n",
            "    return account\n",
            "\n",
            "def deposit(account, amount):\n",
            "    try:\n",
            "        account.deposit(float(amount))\n",
            "        return account, \"Deposit successful\"\n",
            "    except ValueError as e:\n",
            "        return account, str(e)\n",
            "\n",
            "def withdraw(account, amount):\n",
            "    try:\n",
            "        account.withdraw(float(amount))\n",
            "        return account, \"Withdrawal successful\"\n",
            "    except ValueError as e:\n",
            "        return account, str(e)\n",
            "\n",
            "def buy(account, symbol, quantity):\n",
            "    try:\n",
            "        account.buy(symbol, int(quantity))\n",
            "        return account, \"Buy successful\"\n",
            "    except ValueError as e:\n",
            "        return account, str(e)\n",
            "\n",
            "def sell(account, symbol, quantity):\n",
            "    try:\n",
            "        account.sell(symbol, int(quantity))\n",
            "        return account, \"Sell successful\"\n",
            "    except ValueError as e:\n",
            "        return account, str(e)\n",
            "\n",
            "def get_portfolio_value(account):\n",
            "    return account, f\"Portfolio Value: {account.portfolio_value():.2f}\"\n",
            "\n",
            "def get_profit_loss(account):\n",
            "    return account, f\"Profit/Loss: {account.profit_loss():.2f}\"\n",
            "\n",
            "def get_holdings(account):\n",
            "    return account, f\"Holdings: {account.get_holdings()}\"\n",
            "\n",
            "def get_transactions(account):\n",
            "    return account, f\"Transactions: {account.get_transactions()}\"\n",
            "\n",
            "with gr.Blocks() as demo:\n",
            "    account = gr.State(None)\n",
            "    with gr.Row():\n",
            "        initial_deposit = gr.Number(label=\"Initial Deposit\", value=10000)\n",
            "        create_button = gr.Button(\"Create Account\")\n",
            "    with gr.Row():\n",
            "        deposit_amount = gr.Number(label=\"Deposit Amount\")\n",
            "        deposit_button = gr.Button(\"Deposit\")\n",
            "    with gr.Row():\n",
            "        withdraw_amount = gr.Number(label=\"Withdraw Amount\")\n",
            "        withdraw_button = gr.Button(\"Withdraw\")\n",
            "    with gr.Row():\n",
            "        symbol = gr.Textbox(label=\"Symbol\")\n",
            "        quantity = gr.Number(label=\"Quantity\")\n",
            "        buy_button = gr.Button(\"Buy\")\n",
            "        sell_button = gr.Button(\"Sell\")\n",
            "    with gr.Row():\n",
            "        portfolio_value_button = gr.Button(\"Portfolio Value\")\n",
            "        profit_loss_button = gr.Button(\"Profit/Loss\")\n",
            "    with gr.Row():\n",
            "        holdings_button = gr.Button(\"Holdings\")\n",
            "        transactions_button = gr.Button(\"Transactions\")\n",
            "    output = gr.Textbox(label=\"Output\")\n",
            "\n",
            "    create_button.click(fn=create_account, inputs=[initial_deposit], outputs=[account], queue=False)\n",
            "    deposit_button.click(fn=deposit, inputs=[account, deposit_amount], outputs=[account, output], queue=False)\n",
            "    withdraw_button.click(fn=withdraw, inputs=[account, withdraw_amount], outputs=[account, output], queue=False)\n",
            "    buy_button.click(fn=buy, inputs=[account, symbol, quantity], outputs=[account, output], queue=False)\n",
            "    sell_button.click(fn=sell, inputs=[account, symbol, quantity], outputs=[account, output], queue=False)\n",
            "    portfolio_value_button.click(fn=get_portfolio_value, inputs=[account], outputs=[account, output], queue=False)\n",
            "    profit_loss_button.click(fn=get_profit_loss, inputs=[account], outputs=[account, output], queue=False)\n",
            "    holdings_button.click(fn=get_holdings, inputs=[account], outputs=[account, output], queue=False)\n",
            "    transactions_button.click(fn=get_transactions, inputs=[account], outputs=[account, output], queue=False)\n",
            "\n",
            "demo.launch()\u001b[00m\n",
            "\n",
            "\n",
            "\u001b[1m\u001b[95m# Agent:\u001b[00m \u001b[1m\u001b[92mAn engineer with python coding skills who can write unit tests for the given backend module accounts.py\u001b[00m\n",
            "\u001b[95m## Task:\u001b[00m \u001b[92mWrite unit tests for the given backend module accounts.py and create a test_accounts.py in the same directory as the backend module.\u001b[00m\n",
            "\n",
            "\n",
            "\u001b[1m\u001b[95m# Agent:\u001b[00m \u001b[1m\u001b[92mAn engineer with python coding skills who can write unit tests for the given backend module accounts.py\u001b[00m\n",
            "\u001b[95m## Final Answer:\u001b[00m \u001b[92m\n",
            "import unittest\n",
            "from accounts import Account, get_share_price\n",
            "\n",
            "class TestAccount(unittest.TestCase):\n",
            "\n",
            "    def test_deposit(self):\n",
            "        account = Account(\"user1\", 100.0)\n",
            "        account.deposit(50.0)\n",
            "        self.assertEqual(account.balance, 150.0)\n",
            "        self.assertEqual(len(account.transactions),2)\n",
            "        self.assertEqual(account.transactions[1], (\"deposit\", \"\", 50.0, 0.0))\n",
            "\n",
            "    def test_withdraw(self):\n",
            "        account = Account(\"user1\", 100.0)\n",
            "        account.withdraw(20.0)\n",
            "        self.assertEqual(account.balance, 80.0)\n",
            "        self.assertEqual(len(account.transactions),2)\n",
            "        self.assertEqual(account.transactions[1], (\"withdraw\", \"\", 20.0, 0.0))\n",
            "        with self.assertRaises(ValueError):\n",
            "            account.withdraw(100.0)\n",
            "\n",
            "    def test_buy(self):\n",
            "        account = Account(\"user1\", 1000.0)\n",
            "        account.buy(\"AAPL\", 2)\n",
            "        self.assertEqual(account.balance, 700.0)\n",
            "        self.assertEqual(account.holdings[\"AAPL\"], 2)\n",
            "        self.assertEqual(len(account.transactions),2)\n",
            "        self.assertEqual(account.transactions[1], (\"buy\", \"AAPL\", 2, 150.0))\n",
            "        with self.assertRaises(ValueError):\n",
            "            account.buy(\"TSLA\", 10)\n",
            "\n",
            "    def test_sell(self):\n",
            "        account = Account(\"user1\", 100.0)\n",
            "        account.buy(\"AAPL\", 2)\n",
            "        account.sell(\"AAPL\", 1)\n",
            "        self.assertEqual(account.balance, 150.0)\n",
            "        self.assertEqual(account.holdings[\"AAPL\"], 1)\n",
            "        self.assertEqual(len(account.transactions),3)\n",
            "        self.assertEqual(account.transactions[2], (\"sell\", \"AAPL\", 1, 150.0))\n",
            "        with self.assertRaises(ValueError):\n",
            "            account.sell(\"TSLA\", 1)\n",
            "\n",
            "    def test_portfolio_value(self):\n",
            "        account = Account(\"user1\", 1000.0)\n",
            "        account.buy(\"AAPL\", 2)\n",
            "        account.buy(\"TSLA\",1)\n",
            "        self.assertEqual(account.portfolio_value(), 2700.0)\n",
            "\n",
            "    def test_profit_loss(self):\n",
            "        account = Account(\"user1\",1000)\n",
            "        account.buy(\"AAPL\", 2)\n",
            "        account.buy(\"TSLA\",1)\n",
            "        self.assertEqual(account.profit_loss(), 1700.0)\n",
            "\n",
            "    def test_get_holdings(self):\n",
            "        account = Account(\"user1\", 1000.0)\n",
            "        account.buy(\"AAPL\", 2)\n",
            "        self.assertEqual(account.get_holdings(), {\"AAPL\": 2})\n",
            "\n",
            "    def test_get_transactions(self):\n",
            "        account = Account(\"user1\", 100.0)\n",
            "        account.deposit(50.0)\n",
            "        self.assertEqual(len(account.get_transactions()),2)\n",
            "\n",
            "\n",
            "    def test_get_share_price(self):\n",
            "        self.assertEqual(get_share_price(\"AAPL\"), 150.0)\n",
            "        self.assertEqual(get_share_price(\"GOOG\"), 0.0)\n",
            "\n",
            "\n",
            "if __name__ == '__main__':\n",
            "    unittest.main()\u001b[00m\n",
            "\n",
            "\n"
          ]
        }
      ]
    },
    {
      "cell_type": "code",
      "source": [
        "print(result)"
      ],
      "metadata": {
        "colab": {
          "base_uri": "https://localhost:8080/"
        },
        "id": "HB91fa7BXULb",
        "outputId": "c6b0abfd-ad65-4e8d-8108-899e74e77576"
      },
      "execution_count": null,
      "outputs": [
        {
          "output_type": "stream",
          "name": "stdout",
          "text": [
            "import unittest\n",
            "import accounts\n",
            "\n",
            "class TestAccounts(unittest.TestCase):\n",
            "\n",
            "    def test_create_account(self):\n",
            "        account = accounts.create_account(\"John Doe\", \"john.doe@example.com\", \"password123\")\n",
            "        self.assertIsNotNone(account)\n",
            "        self.assertEqual(account[\"name\"], \"John Doe\")\n",
            "        self.assertEqual(account[\"email\"], \"john.doe@example.com\")\n",
            "        # Password verification is intentionally omitted for security reasons in this example.  In a real-world scenario, you would hash and securely compare passwords.\n",
            "\n",
            "\n",
            "    def test_get_account(self):\n",
            "        account = accounts.create_account(\"Jane Doe\", \"jane.doe@example.com\", \"securepass\")\n",
            "        retrieved_account = accounts.get_account(account[\"id\"])\n",
            "        self.assertEqual(retrieved_account, account)\n",
            "\n",
            "    def test_get_account_not_found(self):\n",
            "        retrieved_account = accounts.get_account(9999) #invalid ID\n",
            "        self.assertIsNone(retrieved_account)\n",
            "\n",
            "    def test_update_account(self):\n",
            "      account = accounts.create_account(\"Peter Jones\", \"peter.jones@example.com\", \"mypassword\")\n",
            "      updated_account = accounts.update_account(account[\"id\"], name=\"Peter J. Jones\", email=\"pjones@example.org\")\n",
            "      self.assertEqual(updated_account[\"name\"], \"Peter J. Jones\")\n",
            "      self.assertEqual(updated_account[\"email\"], \"pjones@example.org\")\n",
            "\n",
            "\n",
            "    def test_delete_account(self):\n",
            "        account = accounts.create_account(\"Test User\", \"testuser@example.com\", \"testpass\")\n",
            "        accounts.delete_account(account[\"id\"])\n",
            "        retrieved_account = accounts.get_account(account[\"id\"])\n",
            "        self.assertIsNone(retrieved_account)\n",
            "\n",
            "    def test_account_exists(self):\n",
            "        account = accounts.create_account(\"Account Existence Check\", \"check@example.com\", \"checkpass\")\n",
            "        self.assertTrue(accounts.account_exists(account[\"id\"]))\n",
            "        accounts.delete_account(account[\"id\"])\n",
            "        self.assertFalse(accounts.account_exists(account[\"id\"]))\n",
            "\n",
            "\n",
            "if __name__ == '__main__':\n",
            "    unittest.main()\n"
          ]
        }
      ]
    },
    {
      "cell_type": "code",
      "source": [],
      "metadata": {
        "id": "WkDt1Ip9G6iV"
      },
      "execution_count": null,
      "outputs": []
    },
    {
      "cell_type": "code",
      "source": [],
      "metadata": {
        "id": "pE8-k8GGJbM7"
      },
      "execution_count": null,
      "outputs": []
    }
  ]
}