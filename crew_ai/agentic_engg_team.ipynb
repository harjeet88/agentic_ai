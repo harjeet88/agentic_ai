{
  "nbformat": 4,
  "nbformat_minor": 0,
  "metadata": {
    "colab": {
      "provenance": [],
      "include_colab_link": true
    },
    "kernelspec": {
      "name": "python3",
      "display_name": "Python 3"
    },
    "language_info": {
      "name": "python"
    }
  },
  "cells": [
    {
      "cell_type": "markdown",
      "metadata": {
        "id": "view-in-github",
        "colab_type": "text"
      },
      "source": [
        "<a href=\"https://colab.research.google.com/github/harjeet88/agentic_ai/blob/main/crew_ai/agentic_engg_team.ipynb\" target=\"_parent\"><img src=\"https://colab.research.google.com/assets/colab-badge.svg\" alt=\"Open In Colab\"/></a>"
      ]
    },
    {
      "cell_type": "markdown",
      "source": [
        "### Install required pacakges\n"
      ],
      "metadata": {
        "id": "HV1DyBd2RHrN"
      }
    },
    {
      "cell_type": "code",
      "source": [
        "!pip install -q -U crewai\n",
        "!pip install -q -U duckduckgo-search\n",
        "!pip install -q -U crewai_tools"
      ],
      "metadata": {
        "id": "xOj-BuKARJrH"
      },
      "execution_count": 1,
      "outputs": []
    },
    {
      "cell_type": "markdown",
      "source": [
        "### Required Packages"
      ],
      "metadata": {
        "id": "nRv8-Ja1R8S6"
      }
    },
    {
      "cell_type": "code",
      "source": [
        "import os\n",
        "\n",
        "from crewai import Agent, Task, Crew, Process, LLM\n",
        "#from crewai_tools import tool"
      ],
      "metadata": {
        "id": "J9U8qs3aRLfh"
      },
      "execution_count": 3,
      "outputs": []
    },
    {
      "cell_type": "code",
      "source": [
        "from crewai.tools import BaseTool"
      ],
      "metadata": {
        "id": "aubRyJsaMZu8"
      },
      "execution_count": 9,
      "outputs": []
    },
    {
      "cell_type": "code",
      "source": [
        "from google.colab import userdata\n",
        "GOOGLE_API_KEY=userdata.get('GOOGLE_API_KEY')\n",
        "OPENAI_API_KEY=userdata.get('OPENAI_API_KEY')\n",
        "os.environ[\"GEMINI_API_KEY\"] = GOOGLE_API_KEY\n",
        "os.environ[\"GOOGLE_API_KEY\"] = GOOGLE_API_KEY\n",
        "if GOOGLE_API_KEY :\n",
        "  print(\"GOOGLE_API_KEY is set\")"
      ],
      "metadata": {
        "colab": {
          "base_uri": "https://localhost:8080/"
        },
        "id": "mCBq458Q9Ymn",
        "outputId": "a9d09df5-ddd9-4bb3-e5b4-ba695f275886"
      },
      "execution_count": 4,
      "outputs": [
        {
          "output_type": "stream",
          "name": "stdout",
          "text": [
            "GOOGLE_API_KEY is set\n"
          ]
        }
      ]
    },
    {
      "cell_type": "markdown",
      "source": [
        "### set up the LLM"
      ],
      "metadata": {
        "id": "251A9PjVT6s3"
      }
    },
    {
      "cell_type": "code",
      "source": [
        "from crewai import Agent, LLM\n",
        "\n",
        "gemini = LLM(\n",
        "    api_key=os.getenv(\"GEMINI_API_KEY\"),\n",
        "    model=\"gemini/gemini-1.5-flash\",\n",
        ")"
      ],
      "metadata": {
        "id": "NzWZHHmmHX5o"
      },
      "execution_count": 5,
      "outputs": []
    },
    {
      "cell_type": "code",
      "source": [
        "my_llm=gemini"
      ],
      "metadata": {
        "id": "DtYh4tiCT2cg"
      },
      "execution_count": 6,
      "outputs": []
    },
    {
      "cell_type": "markdown",
      "source": [
        "### setup tools"
      ],
      "metadata": {
        "id": "BSumWCcRUUDl"
      }
    },
    {
      "cell_type": "code",
      "metadata": {
        "id": "7805d468"
      },
      "source": [
        "!pip install --upgrade --quiet  langchain-community"
      ],
      "execution_count": 13,
      "outputs": []
    },
    {
      "cell_type": "code",
      "source": [
        "engineering_lead = Agent(\n",
        "    role = 'Engineering Lead for the engineering team, directing the work of the engineer',\n",
        "    goal = '''Take the high level requirements described here and prepare a detailed design for the backend developer;\n",
        "    everything should be in 1 python module; describe the function and method signatures in the module.\n",
        "    The python module must be completely self-contained, and ready so that it can be tested or have a simple UI built for it.\n",
        "    Here are the requirements: {requirements}\n",
        "    The module should be named {module_name} and the class should be named {class_name}''',\n",
        "    backstory = '''You're a seasoned engineering lead with a knack for writing clear and concise designs.''',\n",
        "    llm = my_llm,\n",
        "    verbose=True,\n",
        ")"
      ],
      "metadata": {
        "id": "DiaqNKjsT4jc"
      },
      "execution_count": 18,
      "outputs": []
    },
    {
      "cell_type": "code",
      "source": [
        "backend_engineer = Agent(\n",
        "    role = 'Python Engineer who can write code to achieve the design described by the engineering lead',\n",
        "    goal = '''Write a python module that implements the design described by the engineering lead, in order to achieve the requirements.\n",
        "    The python module must be completely self-contained, and ready so that it can be tested or have a simple UI built for it.\n",
        "    Here are the requirements: {requirements}\n",
        "    The module should be named {module_name} and the class should be named {class_name}''',\n",
        "    backstory = '''You're a seasoned python engineer with a knack for writing clean, efficient code.\n",
        "    You follow the design instructions carefully.\n",
        "    You produce 1 python module named {module_name} that implements the design and achieves the requirements.''',\n",
        "    llm = my_llm,\n",
        "    verbose=True,\n",
        ")"
      ],
      "metadata": {
        "id": "YdtnFkm_Of4S"
      },
      "execution_count": 19,
      "outputs": []
    },
    {
      "cell_type": "code",
      "source": [
        "frontend_engineer = Agent(\n",
        "    role = 'A Gradio expert to who can write a simple frontend to demonstrate a backend',\n",
        "    goal = '''Write a gradio UI that demonstrates the given backend, all in one file to be in the same directory as the backend module {module_name}.\n",
        "    Here are the requirements: {requirements}''',\n",
        "    backstory = '''You're a seasoned python engineer highly skilled at writing simple Gradio UIs for a backend class.\n",
        "    You produce a simple gradio UI that demonstrates the given backend class; you write the gradio UI in a module app.py that is in the same directory as the backend module {module_name}.''',\n",
        "    llm = my_llm,\n",
        "    verbose=True,\n",
        ")"
      ],
      "metadata": {
        "id": "74PX2z5nOn5D"
      },
      "execution_count": 20,
      "outputs": []
    },
    {
      "cell_type": "code",
      "source": [
        "test_engineer = Agent(\n",
        "    role = 'An engineer with python coding skills who can write unit tests for the given backend module {module_name}',\n",
        "    goal = '''Write unit tests for the given backend module {module_name} and create a test_{module_name} in the same directory as the backend module.''',\n",
        "    backstory = '''You're a seasoned QA engineer and software developer who writes great unit tests for python code.''',\n",
        "    llm = my_llm,\n",
        "    verbose=True,\n",
        ")"
      ],
      "metadata": {
        "id": "p8JtUwRmPHWN"
      },
      "execution_count": 21,
      "outputs": []
    },
    {
      "cell_type": "markdown",
      "source": [
        "### Tasks to perform"
      ],
      "metadata": {
        "id": "dmdxvELxV6J1"
      }
    },
    {
      "cell_type": "code",
      "source": [
        "# Create tasks for your agents\n",
        "design_task = Task(\n",
        "  description=\"\"\"Write a python module that implements the design described by the engineering lead, in order to achieve the requirements.\n",
        "    Here are the requirements: {requirements}\"\"\",\n",
        "  agent=backend_engineer,\n",
        "  verbose=True,\n",
        "  expected_output=\"\"\"A python module that implements the design and achieves the requirements.\n",
        "    IMPORTANT: Output ONLY the raw Python code without any markdown formatting, code block delimiters, or backticks.\n",
        "    The output should be valid Python code that can be directly saved to a file and executed.\"\"\"\n",
        "\n",
        ")"
      ],
      "metadata": {
        "id": "9ZG9GxqWV0md"
      },
      "execution_count": 25,
      "outputs": []
    },
    {
      "cell_type": "code",
      "source": [
        "code_task = Task(\n",
        "  description=\"\"\"Using the insights provided, develop an engaging blog\n",
        "  post that highlights the most significant AI advancements.\n",
        "  Your post should be informative yet accessible, catering to a tech-savvy audience.\n",
        "  Make it sound cool, avoid complex words so it doesn't sound like AI.\n",
        "  Your final answer MUST be the full blog post of at least 4 paragraphs.\"\"\",\n",
        "  agent=backend_engineer,\n",
        "  expected_output=\"An engaging blog post of at least 4 paragraphs highlighting significant AI advancements, written in an accessible and cool tone without complex AI jargon.\",\n",
        "  context=[design_task],\n",
        "  output_file= \"output/{module_name}\"\n",
        ")"
      ],
      "metadata": {
        "id": "PpoGib_hWCtQ"
      },
      "execution_count": 28,
      "outputs": []
    },
    {
      "cell_type": "code",
      "source": [
        "frontend_task = Task(\n",
        "  description=\"\"\"Write a gradio UI in a module app.py that demonstrates the given backend class in {module_name}.\n",
        "    Assume there is only 1 user, and keep the UI very simple indeed - just a prototype or demo.\n",
        "    Here are the requirements: {requirements}\"\"\",\n",
        "  agent=frontend_engineer,\n",
        "  expected_output=\"\"\"A gradio UI in module app.py that demonstrates the given backend class.\n",
        "    The file should be ready so that it can be run as-is, in the same directory as the backend module, and it should import the backend class from {module_name}.\n",
        "    IMPORTANT: Output ONLY the raw Python code without any markdown formatting, code block delimiters, or backticks.\n",
        "    The output should be valid Python code that can be directly saved to a file and executed.\"\"\",\n",
        "  context=[code_task],\n",
        "  output_file= \"output/app.py\"\n",
        ")"
      ],
      "metadata": {
        "id": "TOuv3DEjQbWL"
      },
      "execution_count": 29,
      "outputs": []
    },
    {
      "cell_type": "code",
      "source": [
        "test_task = Task(\n",
        "  description=\"\"\"Write unit tests for the given backend module {module_name} and create a test_{module_name} in the same directory as the backend module.\"\"\",\n",
        "  agent=test_engineer,\n",
        "  expected_output=\"\"\"A test_{module_name} module that tests the given backend module.\n",
        "    IMPORTANT: Output ONLY the raw Python code without any markdown formatting, code block delimiters, or backticks.\n",
        "    The output should be valid Python code that can be directly saved to a file and executed.\"\"\",\n",
        "  context=[code_task],\n",
        "  output_file= \"output/test_{module_name}\"\n",
        ")"
      ],
      "metadata": {
        "id": "xY6Os0lYQ7Qv"
      },
      "execution_count": 30,
      "outputs": []
    },
    {
      "cell_type": "markdown",
      "source": [
        "### Create a Crew"
      ],
      "metadata": {
        "id": "yvjya2FzWR5m"
      }
    },
    {
      "cell_type": "code",
      "source": [
        "# Instantiate your crew with a sequential process\n",
        "crew = Crew(\n",
        "  agents=[engineering_lead,backend_engineer,frontend_engineer,test_engineer],\n",
        "  tasks=[design_task,code_task,frontend_task,test_task],\n",
        "  verbose=False, # You can set it to 1 or 2 to different logging levels\n",
        ")"
      ],
      "metadata": {
        "id": "yYykbGq2WRSP"
      },
      "execution_count": 31,
      "outputs": []
    },
    {
      "cell_type": "code",
      "source": [
        "crew"
      ],
      "metadata": {
        "colab": {
          "base_uri": "https://localhost:8080/"
        },
        "id": "xSBr8D6tWloT",
        "outputId": "d81b802b-d6a0-4811-b7f6-efc574730c85"
      },
      "execution_count": 32,
      "outputs": [
        {
          "output_type": "execute_result",
          "data": {
            "text/plain": [
              "Crew(id=6a07d07c-d546-4ccb-9aad-4ec552f09c3b, process=Process.sequential, number_of_agents=4, number_of_tasks=4)"
            ]
          },
          "metadata": {},
          "execution_count": 32
        }
      ]
    },
    {
      "cell_type": "markdown",
      "source": [
        "### Kickoff the crew - let the magic happen"
      ],
      "metadata": {
        "id": "-tjmzH9cXOaB"
      }
    },
    {
      "cell_type": "code",
      "source": [
        "requirements = \"\"\"\n",
        "A simple account management system for a trading simulation platform.\n",
        "The system should allow users to create an account, deposit funds, and withdraw funds.\n",
        "The system should allow users to record that they have bought or sold shares, providing a quantity.\n",
        "The system should calculate the total value of the user's portfolio, and the profit or loss from the initial deposit.\n",
        "The system should be able to report the holdings of the user at any point in time.\n",
        "The system should be able to report the profit or loss of the user at any point in time.\n",
        "The system should be able to list the transactions that the user has made over time.\n",
        "The system should prevent the user from withdrawing funds that would leave them with a negative balance, or\n",
        " from buying more shares than they can afford, or selling shares that they don't have.\n",
        " The system has access to a function get_share_price(symbol) which returns the current price of a share, and includes a test implementation that returns fixed prices for AAPL, TSLA, GOOGL.\n",
        "\"\"\"\n",
        "module_name=\"accounts.py\"\n",
        "class_name = \"Account\"\n",
        "\n",
        "template_input = {\"requirements\": requirements,\"module_name\" : module_name, \"class_name\" :class_name}\n",
        "\n"
      ],
      "metadata": {
        "id": "P6fIpH0cSG20"
      },
      "execution_count": 36,
      "outputs": []
    },
    {
      "cell_type": "code",
      "source": [
        "# Get your crew to work!\n",
        "#result = crew.kickoff()\n",
        "result = crew.kickoff(inputs=template_input)"
      ],
      "metadata": {
        "colab": {
          "base_uri": "https://localhost:8080/"
        },
        "id": "VU3LdZmIWqQH",
        "outputId": "f949dbe2-d0d2-4a68-b0ab-f9c4e72a33a3"
      },
      "execution_count": 38,
      "outputs": [
        {
          "output_type": "stream",
          "name": "stdout",
          "text": [
            "\u001b[1m\u001b[95m# Agent:\u001b[00m \u001b[1m\u001b[92mPython Engineer who can write code to achieve the design described by the engineering lead\u001b[00m\n",
            "\u001b[95m## Task:\u001b[00m \u001b[92mWrite a python module that implements the design described by the engineering lead, in order to achieve the requirements.\n",
            "    Here are the requirements: \n",
            "A simple account management system for a trading simulation platform.\n",
            "The system should allow users to create an account, deposit funds, and withdraw funds.\n",
            "The system should allow users to record that they have bought or sold shares, providing a quantity.\n",
            "The system should calculate the total value of the user's portfolio, and the profit or loss from the initial deposit.\n",
            "The system should be able to report the holdings of the user at any point in time.\n",
            "The system should be able to report the profit or loss of the user at any point in time.\n",
            "The system should be able to list the transactions that the user has made over time.\n",
            "The system should prevent the user from withdrawing funds that would leave them with a negative balance, or\n",
            " from buying more shares than they can afford, or selling shares that they don't have.\n",
            " The system has access to a function get_share_price(symbol) which returns the current price of a share, and includes a test implementation that returns fixed prices for AAPL, TSLA, GOOGL.\n",
            "\u001b[00m\n",
            "\n",
            "\n",
            "\u001b[1m\u001b[95m# Agent:\u001b[00m \u001b[1m\u001b[92mPython Engineer who can write code to achieve the design described by the engineering lead\u001b[00m\n",
            "\u001b[95m## Final Answer:\u001b[00m \u001b[92m\n",
            "import datetime\n",
            "\n",
            "def get_share_price(symbol):\n",
            "    prices = {\"AAPL\": 150, \"TSLA\": 1000, \"GOOGL\": 2500}\n",
            "    return prices.get(symbol, 0)  # Return 0 if symbol not found\n",
            "\n",
            "class Account:\n",
            "    def __init__(self, name, initial_deposit):\n",
            "        self.name = name\n",
            "        self.balance = initial_deposit\n",
            "        self.holdings = {}\n",
            "        self.transactions = []\n",
            "        self.initial_deposit = initial_deposit\n",
            "\n",
            "    def deposit(self, amount):\n",
            "        if amount > 0:\n",
            "            self.balance += amount\n",
            "            self.transactions.append(\n",
            "                {\"timestamp\": datetime.datetime.now(), \"type\": \"deposit\", \"amount\": amount}\n",
            "            )\n",
            "            return True\n",
            "        return False\n",
            "\n",
            "    def withdraw(self, amount):\n",
            "        if amount > 0 and self.balance - amount >= 0:\n",
            "            self.balance -= amount\n",
            "            self.transactions.append(\n",
            "                {\"timestamp\": datetime.datetime.now(), \"type\": \"withdrawal\", \"amount\": amount}\n",
            "            )\n",
            "            return True\n",
            "        return False\n",
            "\n",
            "    def buy(self, symbol, quantity):\n",
            "        price = get_share_price(symbol)\n",
            "        cost = price * quantity\n",
            "        if self.balance >= cost and quantity > 0 and price > 0:\n",
            "            self.balance -= cost\n",
            "            self.holdings[symbol] = self.holdings.get(symbol, 0) + quantity\n",
            "            self.transactions.append(\n",
            "                {\n",
            "                    \"timestamp\": datetime.datetime.now(),\n",
            "                    \"type\": \"buy\",\n",
            "                    \"symbol\": symbol,\n",
            "                    \"quantity\": quantity,\n",
            "                    \"price\": price,\n",
            "                }\n",
            "            )\n",
            "            return True\n",
            "        return False\n",
            "\n",
            "    def sell(self, symbol, quantity):\n",
            "        if symbol in self.holdings and self.holdings[symbol] >= quantity and quantity > 0:\n",
            "            price = get_share_price(symbol)\n",
            "            proceeds = price * quantity\n",
            "            self.balance += proceeds\n",
            "            self.holdings[symbol] -= quantity\n",
            "            if self.holdings[symbol] == 0:\n",
            "                del self.holdings[symbol]\n",
            "            self.transactions.append(\n",
            "                {\n",
            "                    \"timestamp\": datetime.datetime.now(),\n",
            "                    \"type\": \"sell\",\n",
            "                    \"symbol\": symbol,\n",
            "                    \"quantity\": quantity,\n",
            "                    \"price\": price,\n",
            "                }\n",
            "            )\n",
            "            return True\n",
            "        return False\n",
            "\n",
            "    def portfolio_value(self):\n",
            "        value = self.balance\n",
            "        for symbol, quantity in self.holdings.items():\n",
            "            value += get_share_price(symbol) * quantity\n",
            "        return value\n",
            "\n",
            "    def profit_loss(self):\n",
            "        return self.portfolio_value() - self.initial_deposit\n",
            "\n",
            "    def holdings_report(self):\n",
            "        return self.holdings\n",
            "\n",
            "    def transactions_report(self):\n",
            "        return self.transactions\n",
            "\n",
            "    def profit_loss_report(self):\n",
            "        return self.profit_loss()\u001b[00m\n",
            "\n",
            "\n",
            "\u001b[1m\u001b[95m# Agent:\u001b[00m \u001b[1m\u001b[92mPython Engineer who can write code to achieve the design described by the engineering lead\u001b[00m\n",
            "\u001b[95m## Task:\u001b[00m \u001b[92mUsing the insights provided, develop an engaging blog\n",
            "  post that highlights the most significant AI advancements.\n",
            "  Your post should be informative yet accessible, catering to a tech-savvy audience.\n",
            "  Make it sound cool, avoid complex words so it doesn't sound like AI.\n",
            "  Your final answer MUST be the full blog post of at least 4 paragraphs.\u001b[00m\n",
            "\n",
            "\n",
            "\u001b[1m\u001b[95m# Agent:\u001b[00m \u001b[1m\u001b[92mPython Engineer who can write code to achieve the design described by the engineering lead\u001b[00m\n",
            "\u001b[95m## Final Answer:\u001b[00m \u001b[92m\n",
            "## AI: It's Not Just Sci-Fi Anymore – The Coolest Advancements\n",
            "\n",
            "Forget the robots taking over the world – AI is already quietly revolutionizing everything around us.  From the way we search the internet to how doctors diagnose diseases, artificial intelligence is making a bigger impact than you might think.  And the coolest part? It's only getting started. We're seeing breakthroughs happening at an incredible pace.\n",
            "\n",
            "One of the biggest leaps is in **Natural Language Processing (NLP)**.  Think about those super-smart chatbots that actually understand what you're saying (most of the time!). Or the tools that can automatically summarize lengthy articles, saving you precious time.  NLP is getting so good that it's powering everything from better customer service to advanced language translation, making the world a much more connected place.  The ability for computers to understand and generate human language opens up a world of possibilities.\n",
            "\n",
            "Then there's **computer vision**,  where AI can \"see\" and interpret images and videos just like we do.  Self-driving cars are the poster child here, using AI to navigate roads and avoid obstacles.  But the applications go far beyond autonomous vehicles.  Imagine AI helping doctors detect diseases earlier and more accurately by analyzing medical images, or improving security systems by identifying potential threats.  The ability for computers to \"see\" is rapidly changing many industries.\n",
            "\n",
            "And it's not just about perception and language; AI is also mastering complex problem-solving.  From predicting the weather more accurately to optimizing logistics and supply chains, AI algorithms are crunching data and finding solutions faster and more efficiently than ever before.  This ability to analyze massive datasets and extract meaningful insights is transforming businesses and industries, making everything from manufacturing to finance more efficient and effective. We're seeing a future where AI proactively identifies and solves issues before they even become problems.  The implications are huge.\n",
            "\n",
            "The world of AI is exploding with innovation, and these are just a few of the many exciting advancements happening. It's a thrilling time to be witnessing this technological revolution – buckle up, because the future is going to be fascinating.\u001b[00m\n",
            "\n",
            "\n",
            "\u001b[1m\u001b[95m# Agent:\u001b[00m \u001b[1m\u001b[92mA Gradio expert to who can write a simple frontend to demonstrate a backend\u001b[00m\n",
            "\u001b[95m## Task:\u001b[00m \u001b[92mWrite a gradio UI in a module app.py that demonstrates the given backend class in accounts.py.\n",
            "    Assume there is only 1 user, and keep the UI very simple indeed - just a prototype or demo.\n",
            "    Here are the requirements: \n",
            "A simple account management system for a trading simulation platform.\n",
            "The system should allow users to create an account, deposit funds, and withdraw funds.\n",
            "The system should allow users to record that they have bought or sold shares, providing a quantity.\n",
            "The system should calculate the total value of the user's portfolio, and the profit or loss from the initial deposit.\n",
            "The system should be able to report the holdings of the user at any point in time.\n",
            "The system should be able to report the profit or loss of the user at any point in time.\n",
            "The system should be able to list the transactions that the user has made over time.\n",
            "The system should prevent the user from withdrawing funds that would leave them with a negative balance, or\n",
            " from buying more shares than they can afford, or selling shares that they don't have.\n",
            " The system has access to a function get_share_price(symbol) which returns the current price of a share, and includes a test implementation that returns fixed prices for AAPL, TSLA, GOOGL.\n",
            "\u001b[00m\n",
            "\n",
            "\n",
            "\u001b[1m\u001b[95m# Agent:\u001b[00m \u001b[1m\u001b[92mA Gradio expert to who can write a simple frontend to demonstrate a backend\u001b[00m\n",
            "\u001b[95m## Final Answer:\u001b[00m \u001b[92m\n",
            "import gradio as gr\n",
            "import accounts\n",
            "\n",
            "def create_account(username, initial_deposit):\n",
            "    return accounts.create_account(username, initial_deposit)\n",
            "\n",
            "def deposit(username, amount):\n",
            "    return accounts.deposit(username, amount)\n",
            "\n",
            "def withdraw(username, amount):\n",
            "    return accounts.withdraw(username, amount)\n",
            "\n",
            "def buy(username, symbol, quantity):\n",
            "    return accounts.buy(username, symbol, quantity)\n",
            "\n",
            "def sell(username, symbol, quantity):\n",
            "    return accounts.sell(username, symbol, quantity)\n",
            "\n",
            "def get_portfolio(username):\n",
            "    return accounts.get_portfolio(username)\n",
            "\n",
            "def get_profit_loss(username):\n",
            "    return accounts.get_profit_loss(username)\n",
            "\n",
            "def get_transactions(username):\n",
            "    return accounts.get_transactions(username)\n",
            "\n",
            "\n",
            "with gr.Blocks() as demo:\n",
            "    gr.Markdown(\"# Simple Trading Simulation\")\n",
            "    with gr.Tab(\"Account Management\"):\n",
            "        username = gr.Textbox(label=\"Username\")\n",
            "        initial_deposit = gr.Number(label=\"Initial Deposit\")\n",
            "        create_button = gr.Button(\"Create Account\")\n",
            "        create_output = gr.Textbox(label=\"Output\")\n",
            "        create_button.click(fn=create_account, inputs=[username, initial_deposit], outputs=create_output)\n",
            "\n",
            "        deposit_amount = gr.Number(label=\"Deposit Amount\")\n",
            "        deposit_button = gr.Button(\"Deposit\")\n",
            "        deposit_output = gr.Textbox(label=\"Output\")\n",
            "        deposit_button.click(fn=deposit, inputs=[username, deposit_amount], outputs=deposit_output)\n",
            "\n",
            "        withdraw_amount = gr.Number(label=\"Withdraw Amount\")\n",
            "        withdraw_button = gr.Button(\"Withdraw\")\n",
            "        withdraw_output = gr.Textbox(label=\"Output\")\n",
            "        withdraw_button.click(fn=withdraw, inputs=[username, withdraw_amount], outputs=withdraw_output)\n",
            "\n",
            "    with gr.Tab(\"Trading\"):\n",
            "        symbol = gr.Textbox(label=\"Symbol (AAPL, TSLA, GOOGL)\")\n",
            "        quantity = gr.Number(label=\"Quantity\")\n",
            "        buy_button = gr.Button(\"Buy\")\n",
            "        buy_output = gr.Textbox(label=\"Output\")\n",
            "        buy_button.click(fn=buy, inputs=[username, symbol, quantity], outputs=buy_output)\n",
            "\n",
            "        sell_button = gr.Button(\"Sell\")\n",
            "        sell_output = gr.Textbox(label=\"Output\")\n",
            "        sell_button.click(fn=sell, inputs=[username, symbol, quantity], outputs=sell_output)\n",
            "\n",
            "    with gr.Tab(\"Reports\"):\n",
            "        portfolio_button = gr.Button(\"Get Portfolio\")\n",
            "        portfolio_output = gr.Textbox(label=\"Portfolio\")\n",
            "        portfolio_button.click(fn=get_portfolio, inputs=[username], outputs=portfolio_output)\n",
            "\n",
            "        profit_loss_button = gr.Button(\"Get Profit/Loss\")\n",
            "        profit_loss_output = gr.Textbox(label=\"Profit/Loss\")\n",
            "        profit_loss_button.click(fn=get_profit_loss, inputs=[username], outputs=profit_loss_output)\n",
            "\n",
            "        transactions_button = gr.Button(\"Get Transactions\")\n",
            "        transactions_output = gr.Textbox(label=\"Transactions\")\n",
            "        transactions_button.click(fn=get_transactions, inputs=[username], outputs=transactions_output)\n",
            "\n",
            "demo.launch()\u001b[00m\n",
            "\n",
            "\n",
            "\u001b[1m\u001b[95m# Agent:\u001b[00m \u001b[1m\u001b[92mAn engineer with python coding skills who can write unit tests for the given backend module accounts.py\u001b[00m\n",
            "\u001b[95m## Task:\u001b[00m \u001b[92mWrite unit tests for the given backend module accounts.py and create a test_accounts.py in the same directory as the backend module.\u001b[00m\n",
            "\n",
            "\n",
            "\u001b[1m\u001b[95m# Agent:\u001b[00m \u001b[1m\u001b[92mAn engineer with python coding skills who can write unit tests for the given backend module accounts.py\u001b[00m\n",
            "\u001b[95m## Final Answer:\u001b[00m \u001b[92m\n",
            "import unittest\n",
            "import accounts\n",
            "\n",
            "class TestAccounts(unittest.TestCase):\n",
            "\n",
            "    def test_create_account(self):\n",
            "        account = accounts.create_account(\"John Doe\", \"john.doe@example.com\", \"password123\")\n",
            "        self.assertIsNotNone(account)\n",
            "        self.assertEqual(account[\"name\"], \"John Doe\")\n",
            "        self.assertEqual(account[\"email\"], \"john.doe@example.com\")\n",
            "        # Password verification is intentionally omitted for security reasons in this example.  In a real-world scenario, you would hash and securely compare passwords.\n",
            "\n",
            "\n",
            "    def test_get_account(self):\n",
            "        account = accounts.create_account(\"Jane Doe\", \"jane.doe@example.com\", \"securepass\")\n",
            "        retrieved_account = accounts.get_account(account[\"id\"])\n",
            "        self.assertEqual(retrieved_account, account)\n",
            "\n",
            "    def test_get_account_not_found(self):\n",
            "        retrieved_account = accounts.get_account(9999) #invalid ID\n",
            "        self.assertIsNone(retrieved_account)\n",
            "\n",
            "    def test_update_account(self):\n",
            "      account = accounts.create_account(\"Peter Jones\", \"peter.jones@example.com\", \"mypassword\")\n",
            "      updated_account = accounts.update_account(account[\"id\"], name=\"Peter J. Jones\", email=\"pjones@example.org\")\n",
            "      self.assertEqual(updated_account[\"name\"], \"Peter J. Jones\")\n",
            "      self.assertEqual(updated_account[\"email\"], \"pjones@example.org\")\n",
            "\n",
            "\n",
            "    def test_delete_account(self):\n",
            "        account = accounts.create_account(\"Test User\", \"testuser@example.com\", \"testpass\")\n",
            "        accounts.delete_account(account[\"id\"])\n",
            "        retrieved_account = accounts.get_account(account[\"id\"])\n",
            "        self.assertIsNone(retrieved_account)\n",
            "\n",
            "    def test_account_exists(self):\n",
            "        account = accounts.create_account(\"Account Existence Check\", \"check@example.com\", \"checkpass\")\n",
            "        self.assertTrue(accounts.account_exists(account[\"id\"]))\n",
            "        accounts.delete_account(account[\"id\"])\n",
            "        self.assertFalse(accounts.account_exists(account[\"id\"]))\n",
            "\n",
            "\n",
            "if __name__ == '__main__':\n",
            "    unittest.main()\u001b[00m\n",
            "\n",
            "\n"
          ]
        }
      ]
    },
    {
      "cell_type": "code",
      "source": [
        "print(result)"
      ],
      "metadata": {
        "colab": {
          "base_uri": "https://localhost:8080/"
        },
        "id": "HB91fa7BXULb",
        "outputId": "c6b0abfd-ad65-4e8d-8108-899e74e77576"
      },
      "execution_count": 39,
      "outputs": [
        {
          "output_type": "stream",
          "name": "stdout",
          "text": [
            "import unittest\n",
            "import accounts\n",
            "\n",
            "class TestAccounts(unittest.TestCase):\n",
            "\n",
            "    def test_create_account(self):\n",
            "        account = accounts.create_account(\"John Doe\", \"john.doe@example.com\", \"password123\")\n",
            "        self.assertIsNotNone(account)\n",
            "        self.assertEqual(account[\"name\"], \"John Doe\")\n",
            "        self.assertEqual(account[\"email\"], \"john.doe@example.com\")\n",
            "        # Password verification is intentionally omitted for security reasons in this example.  In a real-world scenario, you would hash and securely compare passwords.\n",
            "\n",
            "\n",
            "    def test_get_account(self):\n",
            "        account = accounts.create_account(\"Jane Doe\", \"jane.doe@example.com\", \"securepass\")\n",
            "        retrieved_account = accounts.get_account(account[\"id\"])\n",
            "        self.assertEqual(retrieved_account, account)\n",
            "\n",
            "    def test_get_account_not_found(self):\n",
            "        retrieved_account = accounts.get_account(9999) #invalid ID\n",
            "        self.assertIsNone(retrieved_account)\n",
            "\n",
            "    def test_update_account(self):\n",
            "      account = accounts.create_account(\"Peter Jones\", \"peter.jones@example.com\", \"mypassword\")\n",
            "      updated_account = accounts.update_account(account[\"id\"], name=\"Peter J. Jones\", email=\"pjones@example.org\")\n",
            "      self.assertEqual(updated_account[\"name\"], \"Peter J. Jones\")\n",
            "      self.assertEqual(updated_account[\"email\"], \"pjones@example.org\")\n",
            "\n",
            "\n",
            "    def test_delete_account(self):\n",
            "        account = accounts.create_account(\"Test User\", \"testuser@example.com\", \"testpass\")\n",
            "        accounts.delete_account(account[\"id\"])\n",
            "        retrieved_account = accounts.get_account(account[\"id\"])\n",
            "        self.assertIsNone(retrieved_account)\n",
            "\n",
            "    def test_account_exists(self):\n",
            "        account = accounts.create_account(\"Account Existence Check\", \"check@example.com\", \"checkpass\")\n",
            "        self.assertTrue(accounts.account_exists(account[\"id\"]))\n",
            "        accounts.delete_account(account[\"id\"])\n",
            "        self.assertFalse(accounts.account_exists(account[\"id\"]))\n",
            "\n",
            "\n",
            "if __name__ == '__main__':\n",
            "    unittest.main()\n"
          ]
        }
      ]
    },
    {
      "cell_type": "code",
      "source": [],
      "metadata": {
        "id": "WkDt1Ip9G6iV"
      },
      "execution_count": null,
      "outputs": []
    },
    {
      "cell_type": "code",
      "source": [],
      "metadata": {
        "id": "pE8-k8GGJbM7"
      },
      "execution_count": null,
      "outputs": []
    }
  ]
}