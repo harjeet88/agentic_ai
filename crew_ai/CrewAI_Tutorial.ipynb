{
  "nbformat": 4,
  "nbformat_minor": 0,
  "metadata": {
    "colab": {
      "provenance": [],
      "include_colab_link": true
    },
    "kernelspec": {
      "name": "python3",
      "display_name": "Python 3"
    },
    "language_info": {
      "name": "python"
    }
  },
  "cells": [
    {
      "cell_type": "markdown",
      "metadata": {
        "id": "view-in-github",
        "colab_type": "text"
      },
      "source": [
        "<a href=\"https://colab.research.google.com/github/harjeet88/agentic_ai/blob/main/crew_ai/CrewAI_Tutorial.ipynb\" target=\"_parent\"><img src=\"https://colab.research.google.com/assets/colab-badge.svg\" alt=\"Open In Colab\"/></a>"
      ]
    },
    {
      "cell_type": "markdown",
      "source": [
        "### Install required pacakges\n"
      ],
      "metadata": {
        "id": "HV1DyBd2RHrN"
      }
    },
    {
      "cell_type": "code",
      "source": [
        "!pip install --q crewai\n",
        "!pip install --q -U duckduckgo-search\n",
        "!pip install --q langchain_google_genai"
      ],
      "metadata": {
        "id": "xOj-BuKARJrH"
      },
      "execution_count": 1,
      "outputs": []
    },
    {
      "cell_type": "markdown",
      "source": [
        "### Required Packages"
      ],
      "metadata": {
        "id": "nRv8-Ja1R8S6"
      }
    },
    {
      "cell_type": "code",
      "source": [
        "import os\n",
        "from langchain_google_genai import ChatGoogleGenerativeAI\n",
        "from crewai import Agent, Task, Crew, Process"
      ],
      "metadata": {
        "id": "J9U8qs3aRLfh"
      },
      "execution_count": 2,
      "outputs": []
    },
    {
      "cell_type": "code",
      "source": [
        "from google.colab import userdata\n",
        "GOOGLE_API_KEY=userdata.get('GOOGLE_API_KEY')\n",
        "OPENAI_API_KEY=userdata.get('OPENAI_API_KEY')\n",
        "os.environ[\"GEMINI_API_KEY\"] = GOOGLE_API_KEY\n",
        "os.environ[\"GOOGLE_API_KEY\"] = GOOGLE_API_KEY\n",
        "if GOOGLE_API_KEY :\n",
        "  print(\"GOOGLE_API_KEY is set\")"
      ],
      "metadata": {
        "colab": {
          "base_uri": "https://localhost:8080/"
        },
        "id": "mCBq458Q9Ymn",
        "outputId": "a92c6375-7f78-4520-d6cc-f68718b3db64"
      },
      "execution_count": 17,
      "outputs": [
        {
          "output_type": "stream",
          "name": "stdout",
          "text": [
            "GOOGLE_API_KEY is set\n"
          ]
        }
      ]
    },
    {
      "cell_type": "markdown",
      "source": [
        "### set up the LLM"
      ],
      "metadata": {
        "id": "251A9PjVT6s3"
      }
    },
    {
      "cell_type": "code",
      "source": [
        "# Set gemini pro as llm\n",
        "llm = ChatGoogleGenerativeAI(model=\"gemini-2.0-flash\",\n",
        "                             verbose = True,\n",
        "                             temperature = 0.6,\n",
        "                             google_api_key=GOOGLE_API_KEY)"
      ],
      "metadata": {
        "id": "-jAOVSSISABN"
      },
      "execution_count": 31,
      "outputs": []
    },
    {
      "cell_type": "code",
      "source": [
        "from crewai import Agent, LLM\n",
        "\n",
        "gemini = LLM(\n",
        "    api_key=os.getenv(\"GEMINI_API_KEY\"),\n",
        "    model=\"gemini/gemini-1.5-flash\",\n",
        ")"
      ],
      "metadata": {
        "id": "NzWZHHmmHX5o"
      },
      "execution_count": 44,
      "outputs": []
    },
    {
      "cell_type": "code",
      "source": [
        "llm=gemini"
      ],
      "metadata": {
        "id": "DtYh4tiCT2cg"
      },
      "execution_count": 45,
      "outputs": []
    },
    {
      "cell_type": "markdown",
      "source": [
        "### setup tools"
      ],
      "metadata": {
        "id": "BSumWCcRUUDl"
      }
    },
    {
      "cell_type": "code",
      "source": [
        "# Make sure to Install duckduckgo-search for this example:\n",
        "!pip install -U duckduckgo-search"
      ],
      "metadata": {
        "colab": {
          "base_uri": "https://localhost:8080/"
        },
        "id": "w0n12p2I913n",
        "outputId": "f6a15787-d8a6-44c5-8ea0-9000b3449299"
      },
      "execution_count": 33,
      "outputs": [
        {
          "output_type": "stream",
          "name": "stdout",
          "text": [
            "Requirement already satisfied: duckduckgo-search in /usr/local/lib/python3.11/dist-packages (8.0.4)\n",
            "Requirement already satisfied: click>=8.1.8 in /usr/local/lib/python3.11/dist-packages (from duckduckgo-search) (8.2.1)\n",
            "Requirement already satisfied: primp>=0.15.0 in /usr/local/lib/python3.11/dist-packages (from duckduckgo-search) (0.15.0)\n",
            "Requirement already satisfied: lxml>=5.3.0 in /usr/local/lib/python3.11/dist-packages (from duckduckgo-search) (5.4.0)\n"
          ]
        }
      ]
    },
    {
      "cell_type": "code",
      "metadata": {
        "id": "7805d468"
      },
      "source": [
        "!pip install --upgrade --quiet  langchain-community"
      ],
      "execution_count": 34,
      "outputs": []
    },
    {
      "cell_type": "code",
      "source": [
        "# Make sure to Install duckduckgo-search for this example:\n",
        "# !pip install -U duckduckgo-search\n",
        "\n",
        "from langchain.tools import DuckDuckGoSearchRun\n",
        "search_tool = DuckDuckGoSearchRun()"
      ],
      "metadata": {
        "id": "DiaqNKjsT4jc"
      },
      "execution_count": 35,
      "outputs": []
    },
    {
      "cell_type": "code",
      "source": [
        "from langchain_community.tools import DuckDuckGoSearchResults\n",
        "\n"
      ],
      "metadata": {
        "id": "JkZUr0M-H8-V"
      },
      "execution_count": 54,
      "outputs": []
    },
    {
      "cell_type": "markdown",
      "source": [
        "### setup agents"
      ],
      "metadata": {
        "id": "-a9pqtdqUgtJ"
      }
    },
    {
      "cell_type": "code",
      "source": [
        "from crewai.tools import BaseTool\n",
        "from typing import Type\n",
        "from pydantic import BaseModel, Field\n",
        "import os\n",
        "import requests\n",
        "\n",
        "\n",
        "class SearchTerm(BaseModel):\n",
        "    \"\"\"A search query\"\"\"\n",
        "    message: str = Field(..., description=\"The message to be sent to the user.\")\n",
        "\n",
        "class SearchTool(BaseTool):\n",
        "\n",
        "\n",
        "    name: str = \"search something\"\n",
        "    description: str = (\n",
        "        \"This tool is used to do web search on duck duck go.\"\n",
        "    )\n",
        "    args_schema: Type[BaseModel] = SearchTerm\n",
        "\n",
        "    def _run(self, message: str) -> str:\n",
        "        tool = DuckDuckGoSearchResults()\n",
        "        results = tool.invoke(message)\n",
        "        print(results)\n",
        "        return str(results.results)\n"
      ],
      "metadata": {
        "id": "h0vQ1yh0-vpJ"
      },
      "execution_count": 56,
      "outputs": []
    },
    {
      "cell_type": "code",
      "source": [
        "# Define your agents with roles and goals\n",
        "researcher = Agent(\n",
        "  role='Senior Research Analyst',\n",
        "  goal='Uncover cutting-edge developments in AI and data science',\n",
        "  backstory=\"\"\"You work at a leading tech think tank.\n",
        "  Your expertise lies in identifying emerging trends.\n",
        "  You have a knack for dissecting complex data and presenting\n",
        "  actionable insights.\"\"\",\n",
        "  verbose=True,\n",
        "  allow_delegation=False,\n",
        "  llm = llm,  #using google gemini pro API\n",
        "  tools=[\n",
        "        SearchTool()\n",
        "      ]\n",
        "  # You can pass an optional llm attribute specifying what mode you wanna use.\n",
        "  # It can be a local model through Ollama / LM Studio or a remote\n",
        "  # model like OpenAI, Mistral, Antrophic of others (https://python.langchain.com/docs/integrations/llms/)\n",
        "  #\n",
        "  # Examples:\n",
        "  # llm=ollama_llm # was defined above in the file\n",
        "  # llm=ChatOpenAI(model_name=\"gpt-3.5\", temperature=0.7)\n",
        ")"
      ],
      "metadata": {
        "id": "SLDSHOuCUXna"
      },
      "execution_count": 57,
      "outputs": []
    },
    {
      "cell_type": "code",
      "source": [
        "writer = Agent(\n",
        "  role='Tech Content Strategist',\n",
        "  goal='Craft compelling content on tech advancements',\n",
        "  backstory=\"\"\"You are a renowned Content Strategist, known for\n",
        "  your insightful and engaging articles.\n",
        "  You transform complex concepts into compelling narratives.\"\"\",\n",
        "  verbose=True,\n",
        "  allow_delegation=False,\n",
        "  llm = llm,  #using google gemini pro API\n",
        "  tools=[]\n",
        ")\n"
      ],
      "metadata": {
        "id": "Bg92o2wyVpKs"
      },
      "execution_count": 58,
      "outputs": []
    },
    {
      "cell_type": "markdown",
      "source": [
        "### Tasks to perform"
      ],
      "metadata": {
        "id": "dmdxvELxV6J1"
      }
    },
    {
      "cell_type": "code",
      "source": [
        "# Create tasks for your agents\n",
        "task1 = Task(\n",
        "  description=\"\"\"Conduct a comprehensive analysis of the latest advancements in AI in 2024.\n",
        "  Identify key trends, breakthrough technologies, and potential industry impacts.\n",
        "  Your final answer MUST be a full analysis report\"\"\",\n",
        "  agent=researcher,\n",
        "  verbose=True,\n",
        "  expected_output=\"A comprehensive analysis report of the latest advancements in AI in 2024, including key trends, breakthrough technologies, and potential industry impacts.\"\n",
        ")"
      ],
      "metadata": {
        "id": "9ZG9GxqWV0md"
      },
      "execution_count": 59,
      "outputs": []
    },
    {
      "cell_type": "code",
      "source": [
        "task2 = Task(\n",
        "  description=\"\"\"Using the insights provided, develop an engaging blog\n",
        "  post that highlights the most significant AI advancements.\n",
        "  Your post should be informative yet accessible, catering to a tech-savvy audience.\n",
        "  Make it sound cool, avoid complex words so it doesn't sound like AI.\n",
        "  Your final answer MUST be the full blog post of at least 4 paragraphs.\"\"\",\n",
        "  agent=writer,\n",
        "  expected_output=\"An engaging blog post of at least 4 paragraphs highlighting significant AI advancements, written in an accessible and cool tone without complex AI jargon.\"\n",
        ")"
      ],
      "metadata": {
        "id": "PpoGib_hWCtQ"
      },
      "execution_count": 60,
      "outputs": []
    },
    {
      "cell_type": "markdown",
      "source": [
        "### Create a Crew"
      ],
      "metadata": {
        "id": "yvjya2FzWR5m"
      }
    },
    {
      "cell_type": "code",
      "source": [
        "# Instantiate your crew with a sequential process\n",
        "crew = Crew(\n",
        "  agents=[researcher, writer],\n",
        "  tasks=[task1, task2],\n",
        "  verbose=False, # You can set it to 1 or 2 to different logging levels\n",
        ")"
      ],
      "metadata": {
        "id": "yYykbGq2WRSP"
      },
      "execution_count": 61,
      "outputs": []
    },
    {
      "cell_type": "code",
      "source": [
        "crew"
      ],
      "metadata": {
        "colab": {
          "base_uri": "https://localhost:8080/"
        },
        "id": "xSBr8D6tWloT",
        "outputId": "c1c9c37e-8860-4b18-aa3b-c05d7dfdbcb7"
      },
      "execution_count": 62,
      "outputs": [
        {
          "output_type": "execute_result",
          "data": {
            "text/plain": [
              "Crew(id=69c945ff-46bb-4050-aa89-02187906ff21, process=Process.sequential, number_of_agents=2, number_of_tasks=2)"
            ]
          },
          "metadata": {},
          "execution_count": 62
        }
      ]
    },
    {
      "cell_type": "markdown",
      "source": [
        "### Kickoff the crew - let the magic happen"
      ],
      "metadata": {
        "id": "-tjmzH9cXOaB"
      }
    },
    {
      "cell_type": "code",
      "source": [
        "# Get your crew to work!\n",
        "result = crew.kickoff()"
      ],
      "metadata": {
        "colab": {
          "base_uri": "https://localhost:8080/"
        },
        "id": "VU3LdZmIWqQH",
        "outputId": "26891696-c9a9-4895-8eae-ce5891190232"
      },
      "execution_count": 63,
      "outputs": [
        {
          "output_type": "stream",
          "name": "stdout",
          "text": [
            "\u001b[1m\u001b[95m# Agent:\u001b[00m \u001b[1m\u001b[92mSenior Research Analyst\u001b[00m\n",
            "\u001b[95m## Task:\u001b[00m \u001b[92mConduct a comprehensive analysis of the latest advancements in AI in 2024.\n",
            "  Identify key trends, breakthrough technologies, and potential industry impacts.\n",
            "  Your final answer MUST be a full analysis report\u001b[00m\n",
            "snippet: In 2024, he demonstrated this when he was made joint winner of the Nobel Prize for chemistry, thanks to the AI model AlphaFold 2 being integral to the task of creating new proteins. By predicting ..., title: 6 Game-Changing AI Breakthroughs That Defined 2024 - Forbes, link: https://www.forbes.com/sites/bernardmarr/2024/12/16/6-game-changing-ai-breakthroughs-that-defined-2024/, snippet: The biggest AI trends of 2024 included accessibility, ethics, sustainability and regulation, with companies like Google, NVIDIA and Amazon in leading roles ... (VR/AR) technologies have been around for a few years now, but they reached new heights in 2024, driven by AI's growing ability to create immersive experiences. ... Industry in focus ..., title: Top 10: AI Trends in 2024 | AI Magazine, link: https://aimagazine.com/top10/top-10-ai-trends-in-2024, snippet: We have also discussed the latest trends in artificial intelligence (AI). If you want to skip our detailed analysis, head straight to the Top 5 Artificial Intelligence (AI) Breakthroughs of 2024 ..., title: Top 13 Artificial Intelligence (AI) Breakthroughs of 2024 - Yahoo Finance, link: https://finance.yahoo.com/news/top-13-artificial-intelligence-ai-222907215.html, snippet: 8. \"We're Still the Boss of AI\": Lessons from Anat Baron's Talk on AI and Innovation. Strategic advisor Anat Baron highlights the transformative shifts reshaping our world, driven by technology and mostly AI. She believes the future of AI is not predestined but shaped by the collective actions and decisions of individuals, organizations ..., title: AI in 2024: Top Innovations, Insights, and Industry Transformations, link: https://emag.directindustry.com/2024/12/23/ai-in-2024-top-innovations-insights-and-industry-transformations/\n",
            "snippet: In 2024, he demonstrated this when he was made joint winner of the Nobel Prize for chemistry, thanks to the AI model AlphaFold 2 being integral to the task of creating new proteins. By predicting ..., title: 6 Game-Changing AI Breakthroughs That Defined 2024 - Forbes, link: https://www.forbes.com/sites/bernardmarr/2024/12/16/6-game-changing-ai-breakthroughs-that-defined-2024/, snippet: The biggest AI trends of 2024 included accessibility, ethics, sustainability and regulation, with companies like Google, NVIDIA and Amazon in leading roles ... (VR/AR) technologies have been around for a few years now, but they reached new heights in 2024, driven by AI's growing ability to create immersive experiences. ... Industry in focus ..., title: Top 10: AI Trends in 2024 | AI Magazine, link: https://aimagazine.com/top10/top-10-ai-trends-in-2024, snippet: We have also discussed the latest trends in artificial intelligence (AI). If you want to skip our detailed analysis, head straight to the Top 5 Artificial Intelligence (AI) Breakthroughs of 2024 ..., title: Top 13 Artificial Intelligence (AI) Breakthroughs of 2024 - Yahoo Finance, link: https://finance.yahoo.com/news/top-13-artificial-intelligence-ai-222907215.html, snippet: Significant AI Advancements of 2024. In 2024, significant advancements in artificial intelligence have been characterized by transformative leaps in generative AI, making substantial impacts across multiple domains including content creation, coding, and business operations. Generative AI technologies have dramatically enhanced the capabilities of machines to produce text, images, and videos ..., title: AI in 2024: The Breakthroughs, Buzz, and What's Next!, link: https://opentools.ai/news/ai-in-2024-the-breakthroughs-buzz-and-whats-next\n",
            "\u001b[91m \n",
            "\n",
            "I encountered an error while trying to use the tool. This was the error: https://html.duckduckgo.com/html 202 Ratelimit.\n",
            " Tool search something accepts these inputs: Tool Name: search something\n",
            "Tool Arguments: {'message': {'description': 'The message to be sent to the user.', 'type': 'str'}}\n",
            "Tool Description: This tool is used to do web search on duck duck go.\n",
            "\u001b[00m\n",
            "\n",
            "\n",
            "\u001b[1m\u001b[95m# Agent:\u001b[00m \u001b[1m\u001b[92mSenior Research Analyst\u001b[00m\n",
            "\u001b[95m## Thought:\u001b[00m \u001b[92mtool_code\n",
            "Thought: I need to gather information on the latest advancements in AI in 2024 from a reliable source like a search engine.  I will focus my search on key trends, breakthrough technologies, and industry impacts.\u001b[00m\n",
            "\u001b[95m## Using tool:\u001b[00m \u001b[92msearch something\u001b[00m\n",
            "\u001b[95m## Tool Input:\u001b[00m \u001b[92m\n",
            "\"{\\\"message\\\": \\\"Latest advancements in AI in 2024, key trends, breakthrough technologies, and industry impacts\\\"}\"\u001b[00m\n",
            "\u001b[95m## Tool Output:\u001b[00m \u001b[92m\n",
            "\n",
            "I encountered an error while trying to use the tool. This was the error: https://html.duckduckgo.com/html 202 Ratelimit.\n",
            " Tool search something accepts these inputs: Tool Name: search something\n",
            "Tool Arguments: {'message': {'description': 'The message to be sent to the user.', 'type': 'str'}}\n",
            "Tool Description: This tool is used to do web search on duck duck go..\n",
            "Moving on then. I MUST either use a tool (use one at time) OR give my best final answer not both at the same time. When responding, I must use the following format:\n",
            "\n",
            "```\n",
            "Thought: you should always think about what to do\n",
            "Action: the action to take, should be one of [search something]\n",
            "Action Input: the input to the action, dictionary enclosed in curly braces\n",
            "Observation: the result of the action\n",
            "```\n",
            "This Thought/Action/Action Input/Result can repeat N times. Once I know the final answer, I must return the following format:\n",
            "\n",
            "```\n",
            "Thought: I now can give a great answer\n",
            "Final Answer: Your final answer must be the great and the most complete as possible, it must be outcome described\n",
            "\n",
            "```\u001b[00m\n",
            "\u001b[91m \n",
            "\n",
            "I encountered an error while trying to use the tool. This was the error: https://html.duckduckgo.com/html 202 Ratelimit.\n",
            " Tool search something accepts these inputs: Tool Name: search something\n",
            "Tool Arguments: {'message': {'description': 'The message to be sent to the user.', 'type': 'str'}}\n",
            "Tool Description: This tool is used to do web search on duck duck go.\n",
            "\u001b[00m\n",
            "\n",
            "\n",
            "\u001b[1m\u001b[95m# Agent:\u001b[00m \u001b[1m\u001b[92mSenior Research Analyst\u001b[00m\n",
            "\u001b[95m## Thought:\u001b[00m \u001b[92mtool_code\n",
            "Thought: I need to break down my search into more specific queries to avoid rate limiting and get more focused results.  I'll start with key trends.\u001b[00m\n",
            "\u001b[95m## Using tool:\u001b[00m \u001b[92msearch something\u001b[00m\n",
            "\u001b[95m## Tool Input:\u001b[00m \u001b[92m\n",
            "\"{\\\"message\\\": \\\"Key trends in AI development in 2024\\\"}\"\u001b[00m\n",
            "\u001b[95m## Tool Output:\u001b[00m \u001b[92m\n",
            "\n",
            "I encountered an error while trying to use the tool. This was the error: https://html.duckduckgo.com/html 202 Ratelimit.\n",
            " Tool search something accepts these inputs: Tool Name: search something\n",
            "Tool Arguments: {'message': {'description': 'The message to be sent to the user.', 'type': 'str'}}\n",
            "Tool Description: This tool is used to do web search on duck duck go..\n",
            "Moving on then. I MUST either use a tool (use one at time) OR give my best final answer not both at the same time. When responding, I must use the following format:\n",
            "\n",
            "```\n",
            "Thought: you should always think about what to do\n",
            "Action: the action to take, should be one of [search something]\n",
            "Action Input: the input to the action, dictionary enclosed in curly braces\n",
            "Observation: the result of the action\n",
            "```\n",
            "This Thought/Action/Action Input/Result can repeat N times. Once I know the final answer, I must return the following format:\n",
            "\n",
            "```\n",
            "Thought: I now can give a great answer\n",
            "Final Answer: Your final answer must be the great and the most complete as possible, it must be outcome described\n",
            "\n",
            "```\u001b[00m\n",
            "\n",
            "\n",
            "\u001b[1m\u001b[95m# Agent:\u001b[00m \u001b[1m\u001b[92mSenior Research Analyst\u001b[00m\n",
            "\u001b[95m## Final Answer:\u001b[00m \u001b[92m\n",
            "**Comprehensive Analysis Report: Latest Advancements in AI in 2024**\n",
            "\n",
            "**Introduction:**\n",
            "\n",
            "2024 marks a significant year in the evolution of Artificial Intelligence, with advancements spanning various domains. This report analyzes key trends, breakthrough technologies, and potential industry impacts observed thus far in the year.  Due to limitations in accessing real-time data, this report draws on generally available information and established trends.\n",
            "\n",
            "**Key Trends:**\n",
            "\n",
            "* **Generative AI Expansion:** Generative AI, particularly large language models (LLMs) and diffusion models, continues its rapid expansion. We see improvements in efficiency, reduced computational costs, and increased accessibility through API offerings.  Focus is shifting towards specialized models tailored for specific tasks and industries, moving away from generalized, enormous models.\n",
            "\n",
            "* **Multimodal AI:**  The integration of different data modalities (text, image, audio, video) is becoming increasingly prevalent. Models capable of understanding and generating content across multiple modalities are showing significant advancements, leading to more realistic and nuanced AI interactions.\n",
            "\n",
            "* **Explainable AI (XAI):** The demand for transparency and interpretability in AI systems is driving research in XAI.  Efforts are focused on making AI decision-making processes more understandable and trustworthy, particularly crucial in high-stakes applications like healthcare and finance.\n",
            "\n",
            "* **AI for Sustainability:**  The application of AI to address climate change and environmental challenges is gaining momentum. This includes AI-powered solutions for optimizing energy consumption, improving resource management, and monitoring environmental changes.\n",
            "\n",
            "* **Edge AI and Decentralization:** Processing data closer to the source (edge computing) is becoming more important, particularly for real-time applications and to address data privacy concerns.  Decentralized AI architectures are also gaining traction, aiming to distribute AI processing power and prevent dominance by centralized entities.\n",
            "\n",
            "**Breakthrough Technologies:**\n",
            "\n",
            "* **Advanced LLMs:**  Continued refinements in LLM architecture are leading to models with enhanced reasoning capabilities, improved context understanding, and reduced biases.\n",
            "\n",
            "* **Efficient Training Methods:** Research is focusing on developing more efficient training methods for LLMs, reducing the computational resources and time required for model development.\n",
            "\n",
            "* **Improved Data Augmentation Techniques:**  New techniques for augmenting data are improving the robustness and generalization ability of AI models, particularly in scenarios with limited training data.\n",
            "\n",
            "* **Neural Architecture Search (NAS):**  NAS automates the design of neural networks, leading to the discovery of novel architectures optimized for specific tasks.\n",
            "\n",
            "* **Quantum-Inspired AI Algorithms:** Exploration into using principles from quantum computing to enhance the performance of classical AI algorithms is showing promise.\n",
            "\n",
            "\n",
            "**Potential Industry Impacts:**\n",
            "\n",
            "* **Healthcare:** AI-powered diagnostics, personalized medicine, and drug discovery are seeing significant advancements.\n",
            "\n",
            "* **Finance:**  AI is transforming risk management, fraud detection, and algorithmic trading.\n",
            "\n",
            "* **Manufacturing:**  AI-driven automation, predictive maintenance, and supply chain optimization are enhancing efficiency and productivity.\n",
            "\n",
            "* **Transportation:**  Self-driving vehicles are progressing, along with AI-powered traffic management systems.\n",
            "\n",
            "* **Retail:**  AI-powered personalization, recommendation systems, and inventory management are revolutionizing the customer experience.\n",
            "\n",
            "\n",
            "**Conclusion:**\n",
            "\n",
            "2024 is witnessing a period of rapid advancement in AI, with new technologies and applications emerging constantly. Addressing ethical considerations and ensuring responsible development will be crucial as AI continues its integration into various aspects of society.  Further research and development in areas like XAI and AI safety are paramount to harnessing the full potential of AI while mitigating potential risks.  This report provides a snapshot of current trends; continuous monitoring is necessary to stay abreast of the rapidly evolving AI landscape.\u001b[00m\n",
            "\n",
            "\n",
            "\u001b[1m\u001b[95m# Agent:\u001b[00m \u001b[1m\u001b[92mTech Content Strategist\u001b[00m\n",
            "\u001b[95m## Task:\u001b[00m \u001b[92mUsing the insights provided, develop an engaging blog\n",
            "  post that highlights the most significant AI advancements.\n",
            "  Your post should be informative yet accessible, catering to a tech-savvy audience.\n",
            "  Make it sound cool, avoid complex words so it doesn't sound like AI.\n",
            "  Your final answer MUST be the full blog post of at least 4 paragraphs.\u001b[00m\n",
            "\n",
            "\n",
            "\u001b[1m\u001b[95m# Agent:\u001b[00m \u001b[1m\u001b[92mTech Content Strategist\u001b[00m\n",
            "\u001b[95m## Final Answer:\u001b[00m \u001b[92m\n",
            "## AI: It's Not Sci-Fi Anymore – The Coolest Advancements of 2024\n",
            "\n",
            "Forget the robots taking over – AI in 2024 is way more exciting than that!  This year's breakthroughs aren't about killer machines; they're about making our lives easier, smarter, and more sustainable.  We're seeing a massive shift from clunky, general-purpose AI to specialized systems that are super efficient and surprisingly human-like.\n",
            "\n",
            "One of the biggest game-changers is Generative AI.  Think of it as AI that can *create* things – from writing stories and poems to designing stunning images and even composing music.  These AI systems are getting better every day, needing less computing power and becoming more accessible to everyone. We're moving away from giant, all-purpose models towards smaller, specialized ones that are perfect for specific jobs, making them even more powerful and efficient.  Imagine an AI that's a master chef, creating the perfect recipe based on your fridge contents – that's the future we're building!\n",
            "\n",
            "But it's not just about text and images.  Multimodal AI is taking center stage, meaning AI that can understand and work with different types of information all at once – text, pictures, sounds, videos. This is leading to AI interactions that feel incredibly natural and realistic, like having a conversation with a truly intelligent friend who understands your tone, your pictures, and even your emotions.  It's a massive leap towards truly intelligent machines.  And the coolest part?  We're even figuring out how to make AI more transparent and understandable.  Explainable AI (XAI) is all about making sure we know *why* an AI system makes a certain decision, building trust and accountability into these powerful tools.\n",
            "\n",
            "Beyond the cool tech, AI is tackling some of the world's biggest problems.  From predicting and mitigating climate change to optimizing energy use and improving resource management, AI is proving to be a powerful ally in our fight for a sustainable future. We are also seeing advancements in edge AI, which means processing data closer to where it's collected. This is crucial for real-time applications like self-driving cars and also addresses important privacy concerns.  Decentralized AI is also gaining traction, aiming to distribute AI power and avoid the dominance of a few big companies, fostering a more open and inclusive AI ecosystem.  The future of AI is bright, diverse, and incredibly promising, and we’re just getting started!\u001b[00m\n",
            "\n",
            "\n"
          ]
        }
      ]
    },
    {
      "cell_type": "code",
      "source": [
        "print(result)"
      ],
      "metadata": {
        "colab": {
          "base_uri": "https://localhost:8080/"
        },
        "id": "HB91fa7BXULb",
        "outputId": "b322a3f8-87db-4fe2-f49a-5a2dcf0aac7f"
      },
      "execution_count": 64,
      "outputs": [
        {
          "output_type": "stream",
          "name": "stdout",
          "text": [
            "## AI: It's Not Sci-Fi Anymore – The Coolest Advancements of 2024\n",
            "\n",
            "Forget the robots taking over – AI in 2024 is way more exciting than that!  This year's breakthroughs aren't about killer machines; they're about making our lives easier, smarter, and more sustainable.  We're seeing a massive shift from clunky, general-purpose AI to specialized systems that are super efficient and surprisingly human-like.\n",
            "\n",
            "One of the biggest game-changers is Generative AI.  Think of it as AI that can *create* things – from writing stories and poems to designing stunning images and even composing music.  These AI systems are getting better every day, needing less computing power and becoming more accessible to everyone. We're moving away from giant, all-purpose models towards smaller, specialized ones that are perfect for specific jobs, making them even more powerful and efficient.  Imagine an AI that's a master chef, creating the perfect recipe based on your fridge contents – that's the future we're building!\n",
            "\n",
            "But it's not just about text and images.  Multimodal AI is taking center stage, meaning AI that can understand and work with different types of information all at once – text, pictures, sounds, videos. This is leading to AI interactions that feel incredibly natural and realistic, like having a conversation with a truly intelligent friend who understands your tone, your pictures, and even your emotions.  It's a massive leap towards truly intelligent machines.  And the coolest part?  We're even figuring out how to make AI more transparent and understandable.  Explainable AI (XAI) is all about making sure we know *why* an AI system makes a certain decision, building trust and accountability into these powerful tools.\n",
            "\n",
            "Beyond the cool tech, AI is tackling some of the world's biggest problems.  From predicting and mitigating climate change to optimizing energy use and improving resource management, AI is proving to be a powerful ally in our fight for a sustainable future. We are also seeing advancements in edge AI, which means processing data closer to where it's collected. This is crucial for real-time applications like self-driving cars and also addresses important privacy concerns.  Decentralized AI is also gaining traction, aiming to distribute AI power and avoid the dominance of a few big companies, fostering a more open and inclusive AI ecosystem.  The future of AI is bright, diverse, and incredibly promising, and we’re just getting started!\n"
          ]
        }
      ]
    },
    {
      "cell_type": "code",
      "source": [],
      "metadata": {
        "id": "5khHCBf-Iept"
      },
      "execution_count": null,
      "outputs": []
    },
    {
      "cell_type": "code",
      "source": [],
      "metadata": {
        "id": "TImGVvgXIekG"
      },
      "execution_count": null,
      "outputs": []
    },
    {
      "cell_type": "code",
      "source": [],
      "metadata": {
        "id": "Wcm4t9W2IeaN"
      },
      "execution_count": null,
      "outputs": []
    },
    {
      "cell_type": "code",
      "source": [],
      "metadata": {
        "id": "5N9AamRxIeME"
      },
      "execution_count": null,
      "outputs": []
    },
    {
      "cell_type": "code",
      "source": [
        "#test\n",
        "from litellm import completion\n",
        "\n",
        "resp = completion(\n",
        "    model=\"gemini/gemini-2.5-flash\",\n",
        "    messages=[{\"role\": \"user\", \"content\": \"What is the capital of France?\"}],\n",
        "    reasoning_effort=\"low\",\n",
        ")\n"
      ],
      "metadata": {
        "id": "4v_zrFftXqdk"
      },
      "execution_count": 44,
      "outputs": []
    },
    {
      "cell_type": "code",
      "source": [
        "resp"
      ],
      "metadata": {
        "id": "PwNn60S6EGRc",
        "outputId": "fe28b5a0-9d06-4bbb-931f-a4616ca42c52",
        "colab": {
          "base_uri": "https://localhost:8080/",
          "height": 144
        }
      },
      "execution_count": 20,
      "outputs": [
        {
          "output_type": "error",
          "ename": "NameError",
          "evalue": "name 'resp' is not defined",
          "traceback": [
            "\u001b[0;31m---------------------------------------------------------------------------\u001b[0m",
            "\u001b[0;31mNameError\u001b[0m                                 Traceback (most recent call last)",
            "\u001b[0;32m/tmp/ipython-input-20-2346945487.py\u001b[0m in \u001b[0;36m<cell line: 0>\u001b[0;34m()\u001b[0m\n\u001b[0;32m----> 1\u001b[0;31m \u001b[0mresp\u001b[0m\u001b[0;34m\u001b[0m\u001b[0;34m\u001b[0m\u001b[0m\n\u001b[0m",
            "\u001b[0;31mNameError\u001b[0m: name 'resp' is not defined"
          ]
        }
      ]
    },
    {
      "cell_type": "code",
      "source": [],
      "metadata": {
        "id": "WkDt1Ip9G6iV"
      },
      "execution_count": null,
      "outputs": []
    }
  ]
}