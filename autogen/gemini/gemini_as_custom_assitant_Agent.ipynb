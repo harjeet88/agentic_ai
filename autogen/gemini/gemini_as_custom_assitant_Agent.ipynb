{
  "cells": [
    {
      "cell_type": "markdown",
      "metadata": {
        "id": "view-in-github",
        "colab_type": "text"
      },
      "source": [
        "<a href=\"https://colab.research.google.com/github/harjeet88/agentic_ai/blob/main/autogen/gemini/gemini_as_custom_assitant_Agent.ipynb\" target=\"_parent\"><img src=\"https://colab.research.google.com/assets/colab-badge.svg\" alt=\"Open In Colab\"/></a>"
      ]
    },
    {
      "cell_type": "code",
      "source": [
        "from google.colab import drive\n",
        "drive.mount('/content/drive')"
      ],
      "metadata": {
        "colab": {
          "base_uri": "https://localhost:8080/"
        },
        "id": "gI9joTOGhAad",
        "outputId": "09e7730c-2191-4ff3-c533-8ce8eadea6fa"
      },
      "execution_count": 1,
      "outputs": [
        {
          "output_type": "stream",
          "name": "stdout",
          "text": [
            "Mounted at /content/drive\n"
          ]
        }
      ]
    },
    {
      "cell_type": "code",
      "source": [
        "from google.colab import userdata\n",
        "GOOGLE_API_KEY=userdata.get('GOOGLE_API_KEY')\n",
        "GEMINI_API_KEY=GOOGLE_API_KEY"
      ],
      "metadata": {
        "id": "w-OBhUtdhBj_"
      },
      "execution_count": 2,
      "outputs": []
    },
    {
      "cell_type": "code",
      "source": [
        "import os\n",
        "os.environ['GOOGLE_API_KEY']=GOOGLE_API_KEY\n",
        "os.environ['GEMINI_API_KEY']=GEMINI_API_KEY"
      ],
      "metadata": {
        "id": "1InhVNoOhUbo"
      },
      "execution_count": 3,
      "outputs": []
    },
    {
      "cell_type": "code",
      "metadata": {
        "id": "9c5f4766",
        "outputId": "b77d6384-a4fc-4e1b-bc45-0cb61c922c38",
        "colab": {
          "base_uri": "https://localhost:8080/"
        }
      },
      "source": [
        "%pip install -U -q autogen autogen_ext[openai] google-genai"
      ],
      "execution_count": 5,
      "outputs": [
        {
          "output_type": "stream",
          "name": "stdout",
          "text": [
            "\u001b[?25l   \u001b[90m━━━━━━━━━━━━━━━━━━━━━━━━━━━━━━━━━━━━━━━━\u001b[0m \u001b[32m0.0/838.3 kB\u001b[0m \u001b[31m?\u001b[0m eta \u001b[36m-:--:--\u001b[0m\r\u001b[2K   \u001b[91m━━━━━━━━━━━━━━━━━━━━━━━━\u001b[0m\u001b[90m╺\u001b[0m\u001b[90m━━━━━━━━━━━━━━━\u001b[0m \u001b[32m512.0/838.3 kB\u001b[0m \u001b[31m16.6 MB/s\u001b[0m eta \u001b[36m0:00:01\u001b[0m\r\u001b[2K   \u001b[90m━━━━━━━━━━━━━━━━━━━━━━━━━━━━━━━━━━━━━━━━\u001b[0m \u001b[32m838.3/838.3 kB\u001b[0m \u001b[31m14.3 MB/s\u001b[0m eta \u001b[36m0:00:00\u001b[0m\n",
            "\u001b[?25h\u001b[?25l   \u001b[90m━━━━━━━━━━━━━━━━━━━━━━━━━━━━━━━━━━━━━━━━\u001b[0m \u001b[32m0.0/97.3 kB\u001b[0m \u001b[31m?\u001b[0m eta \u001b[36m-:--:--\u001b[0m\r\u001b[2K   \u001b[90m━━━━━━━━━━━━━━━━━━━━━━━━━━━━━━━━━━━━━━━━\u001b[0m \u001b[32m97.3/97.3 kB\u001b[0m \u001b[31m7.6 MB/s\u001b[0m eta \u001b[36m0:00:00\u001b[0m\n",
            "\u001b[?25h\u001b[?25l   \u001b[90m━━━━━━━━━━━━━━━━━━━━━━━━━━━━━━━━━━━━━━━━\u001b[0m \u001b[32m0.0/223.8 kB\u001b[0m \u001b[31m?\u001b[0m eta \u001b[36m-:--:--\u001b[0m\r\u001b[2K   \u001b[90m━━━━━━━━━━━━━━━━━━━━━━━━━━━━━━━━━━━━━━━━\u001b[0m \u001b[32m223.8/223.8 kB\u001b[0m \u001b[31m15.7 MB/s\u001b[0m eta \u001b[36m0:00:00\u001b[0m\n",
            "\u001b[?25h\u001b[?25l   \u001b[90m━━━━━━━━━━━━━━━━━━━━━━━━━━━━━━━━━━━━━━━━\u001b[0m \u001b[32m0.0/306.4 kB\u001b[0m \u001b[31m?\u001b[0m eta \u001b[36m-:--:--\u001b[0m\r\u001b[2K   \u001b[90m━━━━━━━━━━━━━━━━━━━━━━━━━━━━━━━━━━━━━━━━\u001b[0m \u001b[32m306.4/306.4 kB\u001b[0m \u001b[31m21.3 MB/s\u001b[0m eta \u001b[36m0:00:00\u001b[0m\n",
            "\u001b[2K   \u001b[90m━━━━━━━━━━━━━━━━━━━━━━━━━━━━━━━━━━━━━━━━\u001b[0m \u001b[32m65.8/65.8 kB\u001b[0m \u001b[31m4.1 MB/s\u001b[0m eta \u001b[36m0:00:00\u001b[0m\n",
            "\u001b[2K   \u001b[90m━━━━━━━━━━━━━━━━━━━━━━━━━━━━━━━━━━━━━━━━\u001b[0m \u001b[32m45.5/45.5 kB\u001b[0m \u001b[31m2.7 MB/s\u001b[0m eta \u001b[36m0:00:00\u001b[0m\n",
            "\u001b[2K   \u001b[90m━━━━━━━━━━━━━━━━━━━━━━━━━━━━━━━━━━━━━━━━\u001b[0m \u001b[32m147.8/147.8 kB\u001b[0m \u001b[31m9.8 MB/s\u001b[0m eta \u001b[36m0:00:00\u001b[0m\n",
            "\u001b[?25h"
          ]
        }
      ]
    },
    {
      "cell_type": "code",
      "source": [
        "import autogen\n",
        "import google.generativeai as genai\n",
        "from autogen import AssistantAgent, UserProxyAgent\n",
        "from autogen_ext.models import *"
      ],
      "metadata": {
        "id": "ssXbAyCUhXij"
      },
      "execution_count": 13,
      "outputs": []
    },
    {
      "cell_type": "code",
      "source": [],
      "metadata": {
        "id": "aDljg8K0jg9y"
      },
      "execution_count": null,
      "outputs": []
    },
    {
      "cell_type": "code",
      "source": [
        "genai.configure(api_key=GEMINI_API_KEY)"
      ],
      "metadata": {
        "id": "7-S4-Vp6hiyz"
      },
      "execution_count": 7,
      "outputs": []
    },
    {
      "cell_type": "code",
      "source": [
        "gemini_flash=\"gemini-2.0-flash\"\n",
        "gemma_1b=\"gemma-3-1b-it\"\n",
        "gemma_4b=\"gemma-3-4b-it\"\n",
        "gemma_12b=\"gemma-3-12b-it\"\n",
        "gemma_27b=\"gemma-3-27b-it\"\n",
        "gemma_e4b=\"gemma-3n-e4b-it\"\n",
        "llama3=\"llama3.2:1b\""
      ],
      "metadata": {
        "id": "pvTCQclyiJEL"
      },
      "execution_count": 18,
      "outputs": []
    },
    {
      "cell_type": "code",
      "source": [
        "def ask_gemini(prompt, model=gemini_flash):\n",
        "    response = genai.GenerativeModel(model).generate_content(prompt)\n",
        "    return response.text"
      ],
      "metadata": {
        "id": "mL5DfvyfiMBn"
      },
      "execution_count": 19,
      "outputs": []
    },
    {
      "cell_type": "code",
      "source": [
        "# 3. Create Custom Agent\n",
        "# 3. Create Custom Agent with Corrected Method Signature\n",
        "class GeminiAgent(AssistantAgent):\n",
        "    def __init__(self, name, **kwargs):\n",
        "        super().__init__(name, **kwargs)\n",
        "\n",
        "    def generate_reply(self, messages=None, sender=None, **kwargs):\n",
        "        # Extract conversation history\n",
        "        if messages is None:\n",
        "            messages = self.chat_messages[sender]\n",
        "\n",
        "        # Format for Gemini (simple concatenation)\n",
        "        prompt = \"\\n\".join([msg[\"content\"] for msg in messages])\n",
        "\n",
        "        # Get Gemini response\n",
        "        response = ask_gemini(prompt)\n",
        "        return response\n",
        "# 4. Setup Agents\n",
        "gemini_assistant = GeminiAgent(\n",
        "    name=\"Gemini_Expert\",\n",
        "    system_message=\"You are a helpful assistant powered by Google Gemini\",\n",
        ")"
      ],
      "metadata": {
        "id": "YuUDCZvDia_q"
      },
      "execution_count": 20,
      "outputs": []
    },
    {
      "cell_type": "code",
      "source": [
        "user_proxy = UserProxyAgent(\n",
        "    name=\"User_Proxy\",\n",
        "    human_input_mode=\"NEVER\",  # Auto-reply\n",
        "    max_consecutive_auto_reply=3,\n",
        "    code_execution_config={\"work_dir\": \"coding\"},\n",
        ")\n"
      ],
      "metadata": {
        "id": "gtaA0gTLiody"
      },
      "execution_count": 21,
      "outputs": []
    },
    {
      "cell_type": "code",
      "source": [
        "# 5. Start Conversation\n",
        "user_proxy.initiate_chat(\n",
        "    gemini_assistant,\n",
        "    message=\"Explain quantum computing like I'm 10 years old\"\n",
        ")"
      ],
      "metadata": {
        "id": "L3Dd3S64iqzY",
        "outputId": "8b2687c5-324b-45f7-d304-1c029c7fe699",
        "colab": {
          "base_uri": "https://localhost:8080/",
          "height": 1000
        }
      },
      "execution_count": 22,
      "outputs": [
        {
          "output_type": "stream",
          "name": "stdout",
          "text": [
            "User_Proxy (to Gemini_Expert):\n",
            "\n",
            "Explain quantum computing like I'm 10 years old\n",
            "\n",
            "--------------------------------------------------------------------------------\n",
            "Gemini_Expert (to User_Proxy):\n",
            "\n",
            "Okay, imagine you have a regular light switch. It can be either ON or OFF, right?\n",
            "\n",
            "Well, a regular computer uses bits, and a bit is like that light switch: it can be either a 0 (OFF) or a 1 (ON). They use lots and lots of these bits to do amazing things, like play games and search the internet.\n",
            "\n",
            "Now, imagine a special light switch that's not just ON or OFF.  Imagine it can be BOTH ON and OFF *at the same time*!  That's kind of like a **qubit**, which is what a quantum computer uses instead of regular bits.\n",
            "\n",
            "Think of it like a spinning coin.  Before it lands, it's sort of heads AND tails at the same time.  A qubit can be a 0, a 1, or a mix of both!  We call this \"both at the same time\" thing **superposition**. It's like a magic superpower!\n",
            "\n",
            "Because qubits can be in many states at once, quantum computers can try out lots of possibilities all at the same time.  It's like checking all the answers to a puzzle at once, instead of trying them one by one!\n",
            "\n",
            "This \"both at once\" ability makes quantum computers super powerful for certain problems. Imagine trying to find your way through a maze. A regular computer would try each path one at a time. A quantum computer could try *all* the paths at the same time, and find the fastest way out much quicker!\n",
            "\n",
            "**So, to recap:**\n",
            "\n",
            "*   **Regular computer:** Uses bits (0 or 1, like a light switch ON or OFF).\n",
            "*   **Quantum computer:** Uses qubits (can be 0, 1, or both at the same time, like a spinning coin!). This \"both at once\" thing is called **superposition**.\n",
            "*   **Quantum computers** can solve some problems much faster than regular computers because they can try many possibilities at once.\n",
            "\n",
            "Quantum computers are still very new and complicated. We're still learning how to build them and how to use them best. But they have the potential to help us with things like:\n",
            "\n",
            "*   Discovering new medicines\n",
            "*   Making better batteries\n",
            "*   Designing new materials\n",
            "\n",
            "It's like having a super-powered calculator that can help us solve really, really hard problems!  Think of it like having a superhero helper that's still learning how to use its powers.  Pretty cool, right?\n",
            "\n",
            "\n",
            "--------------------------------------------------------------------------------\n",
            "User_Proxy (to Gemini_Expert):\n",
            "\n",
            "\n",
            "\n",
            "--------------------------------------------------------------------------------\n",
            "Gemini_Expert (to User_Proxy):\n",
            "\n",
            "That's a great explanation! It's clear, uses relatable analogies like light switches and spinning coins, and avoids getting bogged down in overly technical details. The recap at the end is also very helpful. Well done!\n",
            "\n",
            "\n",
            "--------------------------------------------------------------------------------\n",
            "User_Proxy (to Gemini_Expert):\n",
            "\n",
            "\n",
            "\n",
            "--------------------------------------------------------------------------------\n",
            "Gemini_Expert (to User_Proxy):\n",
            "\n",
            "Thanks! I tried to keep it simple and focused on the core concepts a 10-year-old could grasp.\n",
            "\n",
            "\n",
            "--------------------------------------------------------------------------------\n",
            "User_Proxy (to Gemini_Expert):\n",
            "\n",
            "\n",
            "\n",
            "--------------------------------------------------------------------------------\n",
            "Gemini_Expert (to User_Proxy):\n",
            "\n",
            "You succeeded! If I were ten and you explained it that way, I'd be fascinated.\n",
            "\n",
            "\n",
            "--------------------------------------------------------------------------------\n",
            "\n",
            ">>>>>>>> TERMINATING RUN (240e19ae-5e6c-4fc6-9fb3-05b0a4831516): Maximum number of consecutive auto-replies reached\n"
          ]
        },
        {
          "output_type": "execute_result",
          "data": {
            "text/plain": [
              "ChatResult(chat_id=None, chat_history=[{'content': \"Explain quantum computing like I'm 10 years old\", 'role': 'assistant', 'name': 'User_Proxy'}, {'content': 'Okay, imagine you have a regular light switch. It can be either ON or OFF, right?\\n\\nWell, a regular computer uses bits, and a bit is like that light switch: it can be either a 0 (OFF) or a 1 (ON). They use lots and lots of these bits to do amazing things, like play games and search the internet.\\n\\nNow, imagine a special light switch that\\'s not just ON or OFF.  Imagine it can be BOTH ON and OFF *at the same time*!  That\\'s kind of like a **qubit**, which is what a quantum computer uses instead of regular bits.\\n\\nThink of it like a spinning coin.  Before it lands, it\\'s sort of heads AND tails at the same time.  A qubit can be a 0, a 1, or a mix of both!  We call this \"both at the same time\" thing **superposition**. It\\'s like a magic superpower!\\n\\nBecause qubits can be in many states at once, quantum computers can try out lots of possibilities all at the same time.  It\\'s like checking all the answers to a puzzle at once, instead of trying them one by one!\\n\\nThis \"both at once\" ability makes quantum computers super powerful for certain problems. Imagine trying to find your way through a maze. A regular computer would try each path one at a time. A quantum computer could try *all* the paths at the same time, and find the fastest way out much quicker!\\n\\n**So, to recap:**\\n\\n*   **Regular computer:** Uses bits (0 or 1, like a light switch ON or OFF).\\n*   **Quantum computer:** Uses qubits (can be 0, 1, or both at the same time, like a spinning coin!). This \"both at once\" thing is called **superposition**.\\n*   **Quantum computers** can solve some problems much faster than regular computers because they can try many possibilities at once.\\n\\nQuantum computers are still very new and complicated. We\\'re still learning how to build them and how to use them best. But they have the potential to help us with things like:\\n\\n*   Discovering new medicines\\n*   Making better batteries\\n*   Designing new materials\\n\\nIt\\'s like having a super-powered calculator that can help us solve really, really hard problems!  Think of it like having a superhero helper that\\'s still learning how to use its powers.  Pretty cool, right?\\n', 'role': 'user', 'name': 'Gemini_Expert'}, {'content': '', 'role': 'assistant', 'name': 'User_Proxy'}, {'content': \"That's a great explanation! It's clear, uses relatable analogies like light switches and spinning coins, and avoids getting bogged down in overly technical details. The recap at the end is also very helpful. Well done!\\n\", 'role': 'user', 'name': 'Gemini_Expert'}, {'content': '', 'role': 'assistant', 'name': 'User_Proxy'}, {'content': 'Thanks! I tried to keep it simple and focused on the core concepts a 10-year-old could grasp.\\n', 'role': 'user', 'name': 'Gemini_Expert'}, {'content': '', 'role': 'assistant', 'name': 'User_Proxy'}, {'content': \"You succeeded! If I were ten and you explained it that way, I'd be fascinated.\\n\", 'role': 'user', 'name': 'Gemini_Expert'}], summary=\"You succeeded! If I were ten and you explained it that way, I'd be fascinated.\\n\", cost={'usage_including_cached_inference': {'total_cost': 0}, 'usage_excluding_cached_inference': {'total_cost': 0}}, human_input=[])"
            ]
          },
          "metadata": {},
          "execution_count": 22
        }
      ]
    },
    {
      "cell_type": "code",
      "source": [],
      "metadata": {
        "id": "NbcZmI8Giu5y"
      },
      "execution_count": null,
      "outputs": []
    }
  ],
  "metadata": {
    "colab": {
      "provenance": [],
      "include_colab_link": true
    },
    "kernelspec": {
      "display_name": "Python 3",
      "name": "python3"
    },
    "language_info": {
      "name": "python"
    }
  },
  "nbformat": 4,
  "nbformat_minor": 0
}