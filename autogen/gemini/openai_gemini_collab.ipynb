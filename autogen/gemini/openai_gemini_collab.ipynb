{
  "nbformat": 4,
  "nbformat_minor": 0,
  "metadata": {
    "colab": {
      "provenance": [],
      "authorship_tag": "ABX9TyOq+56Wao7BJkxDK2UI7QuQ",
      "include_colab_link": true
    },
    "kernelspec": {
      "name": "python3",
      "display_name": "Python 3"
    },
    "language_info": {
      "name": "python"
    }
  },
  "cells": [
    {
      "cell_type": "markdown",
      "metadata": {
        "id": "view-in-github",
        "colab_type": "text"
      },
      "source": [
        "<a href=\"https://colab.research.google.com/github/harjeet88/agentic_ai/blob/main/autogen/gemini/openai_gemini_collab.ipynb\" target=\"_parent\"><img src=\"https://colab.research.google.com/assets/colab-badge.svg\" alt=\"Open In Colab\"/></a>"
      ]
    },
    {
      "cell_type": "code",
      "execution_count": 19,
      "metadata": {
        "id": "RU8HXrJfgjm9"
      },
      "outputs": [],
      "source": [
        "#!pip install -q autogen-agentchat[gemini]~=0.2\n",
        "!pip install -U -q autogen-agentchat autogen-ext[gemini]\n",
        "!pip install -U -q autogen-ext[openai]"
      ]
    },
    {
      "cell_type": "code",
      "source": [
        "import os\n",
        "from typing import AsyncGenerator, Sequence\n",
        "\n",
        "from autogen_agentchat.agents import BaseChatAgent\n",
        "from autogen_agentchat.base import Response\n",
        "from autogen_agentchat.messages import BaseAgentEvent, BaseChatMessage\n",
        "from autogen_core import CancellationToken\n",
        "from autogen_core.model_context import UnboundedChatCompletionContext\n",
        "from autogen_core.models import AssistantMessage, RequestUsage, UserMessage\n",
        "from google import genai\n",
        "from google.genai import types"
      ],
      "metadata": {
        "id": "6KC0jAKpe14p"
      },
      "execution_count": 3,
      "outputs": []
    },
    {
      "cell_type": "code",
      "source": [
        "from google.colab import userdata\n",
        "GOOGLE_API_KEY=userdata.get('GOOGLE_API_KEY')\n",
        "OPENAI_API_KEY=userdata.get('OPENAI_API_KEY')\n",
        "GEMINI_API_KEY=GOOGLE_API_KEY"
      ],
      "metadata": {
        "id": "gxomu7W_YYw5"
      },
      "execution_count": 18,
      "outputs": []
    },
    {
      "cell_type": "code",
      "source": [
        "os.environ[\"OPENAI_API_KEY\"] = OPENAI_API_KEY\n",
        "os.environ[\"GEMINI_API_KEY\"] = GEMINI_API_KEY\n",
        "os.environ[\"GOOGLE_API_KEY\"] = GOOGLE_API_KEY"
      ],
      "metadata": {
        "id": "QIaAieghbZNt"
      },
      "execution_count": 31,
      "outputs": []
    },
    {
      "cell_type": "code",
      "source": [
        "from autogen_agentchat.agents import AssistantAgent\n",
        "from autogen_agentchat.conditions import TextMentionTermination,MaxMessageTermination\n",
        "from autogen_agentchat.teams import RoundRobinGroupChat\n",
        "from autogen_agentchat.ui import Console"
      ],
      "metadata": {
        "id": "QfDN2n0kZ63A"
      },
      "execution_count": 36,
      "outputs": []
    },
    {
      "cell_type": "code",
      "source": [
        "class GeminiAssistantAgent(BaseChatAgent):\n",
        "    def __init__(\n",
        "        self,\n",
        "        name: str,\n",
        "        description: str = \"An agent that provides assistance with ability to use tools.\",\n",
        "        model: str = \"gemini-1.5-flash-002\",\n",
        "        api_key: str = GEMINI_API_KEY,\n",
        "        system_message: str\n",
        "        | None = \"You are a helpful assistant that can respond to messages. Reply with TERMINATE when the task has been completed.\",\n",
        "    ):\n",
        "        super().__init__(name=name, description=description)\n",
        "        self._model_context = UnboundedChatCompletionContext()\n",
        "        self._model_client = genai.Client(api_key=api_key)\n",
        "        self._system_message = system_message\n",
        "        self._model = model\n",
        "\n",
        "    @property\n",
        "    def produced_message_types(self) -> Sequence[type[BaseChatMessage]]:\n",
        "        return (TextMessage,)\n",
        "\n",
        "    async def on_messages(self, messages: Sequence[BaseChatMessage], cancellation_token: CancellationToken) -> Response:\n",
        "        final_response = None\n",
        "        async for message in self.on_messages_stream(messages, cancellation_token):\n",
        "            if isinstance(message, Response):\n",
        "                final_response = message\n",
        "\n",
        "        if final_response is None:\n",
        "            raise AssertionError(\"The stream should have returned the final result.\")\n",
        "\n",
        "        return final_response\n",
        "\n",
        "    async def on_messages_stream(\n",
        "        self, messages: Sequence[BaseChatMessage], cancellation_token: CancellationToken\n",
        "    ) -> AsyncGenerator[BaseAgentEvent | BaseChatMessage | Response, None]:\n",
        "        # Add messages to the model context\n",
        "        for msg in messages:\n",
        "            await self._model_context.add_message(msg.to_model_message())\n",
        "\n",
        "        # Get conversation history\n",
        "        history = [\n",
        "            (msg.source if hasattr(msg, \"source\") else \"system\")\n",
        "            + \": \"\n",
        "            + (msg.content if isinstance(msg.content, str) else \"\")\n",
        "            + \"\\n\"\n",
        "            for msg in await self._model_context.get_messages()\n",
        "        ]\n",
        "        # Generate response using Gemini\n",
        "        response = self._model_client.models.generate_content(\n",
        "            model=self._model,\n",
        "            contents=f\"History: {history}\\nGiven the history, please provide a response\",\n",
        "            config=types.GenerateContentConfig(\n",
        "                system_instruction=self._system_message,\n",
        "                temperature=0.3,\n",
        "            ),\n",
        "        )\n",
        "\n",
        "        # Create usage metadata\n",
        "        usage = RequestUsage(\n",
        "            prompt_tokens=response.usage_metadata.prompt_token_count,\n",
        "            completion_tokens=response.usage_metadata.candidates_token_count,\n",
        "        )\n",
        "\n",
        "        # Add response to model context\n",
        "        await self._model_context.add_message(AssistantMessage(content=response.text, source=self.name))\n",
        "\n",
        "        # Yield the final response\n",
        "        yield Response(\n",
        "            chat_message=TextMessage(content=response.text, source=self.name, models_usage=usage),\n",
        "            inner_messages=[],\n",
        "        )\n",
        "\n",
        "    async def on_reset(self, cancellation_token: CancellationToken) -> None:\n",
        "        \"\"\"Handle the reset event.\"\"\"\n",
        "        await self._model_context.reset()"
      ],
      "metadata": {
        "id": "O-s4mBXrYhD6"
      },
      "execution_count": 8,
      "outputs": []
    },
    {
      "cell_type": "code",
      "source": [
        "gemini_assistant = GeminiAssistantAgent(\"gemini_assistant\")\n",
        "await Console(gemini_assistant.run_stream(task=\"What is the capital of New York?\"))"
      ],
      "metadata": {
        "colab": {
          "base_uri": "https://localhost:8080/"
        },
        "id": "cJWRwCK2YnrR",
        "outputId": "6d7d3922-5645-400d-83a7-cb7ae48b9d9a"
      },
      "execution_count": 17,
      "outputs": [
        {
          "output_type": "stream",
          "name": "stdout",
          "text": [
            "---------- TextMessage (user) ----------\n",
            "What is the capital of New York?\n",
            "---------- TextMessage (gemini_assistant) ----------\n",
            "Albany\n",
            "TERMINATE\n",
            "\n"
          ]
        },
        {
          "output_type": "execute_result",
          "data": {
            "text/plain": [
              "TaskResult(messages=[TextMessage(source='user', models_usage=None, metadata={}, created_at=datetime.datetime(2025, 6, 30, 5, 55, 34, 723882, tzinfo=datetime.timezone.utc), content='What is the capital of New York?', type='TextMessage'), TextMessage(source='gemini_assistant', models_usage=RequestUsage(prompt_tokens=46, completion_tokens=5), metadata={}, created_at=datetime.datetime(2025, 6, 30, 5, 55, 35, 251833, tzinfo=datetime.timezone.utc), content='Albany\\nTERMINATE\\n', type='TextMessage')], stop_reason=None)"
            ]
          },
          "metadata": {},
          "execution_count": 17
        }
      ]
    },
    {
      "cell_type": "code",
      "source": [],
      "metadata": {
        "id": "l85qQPdQarrP"
      },
      "execution_count": null,
      "outputs": []
    },
    {
      "cell_type": "code",
      "source": [
        "from autogen_ext.models.openai import OpenAIChatCompletionClient\n"
      ],
      "metadata": {
        "id": "7tdTxxaza2wd"
      },
      "execution_count": 29,
      "outputs": []
    },
    {
      "cell_type": "code",
      "source": [
        "model_client = OpenAIChatCompletionClient(model=\"gpt-4o-mini\")"
      ],
      "metadata": {
        "id": "QaUX0ZUuZhIx"
      },
      "execution_count": 32,
      "outputs": []
    },
    {
      "cell_type": "code",
      "source": [
        "# Create the primary agent.\n",
        "primary_agent = AssistantAgent(\n",
        "    \"primary\",\n",
        "    model_client=model_client,\n",
        "    system_message=\"You are a helpful AI assistant.\",\n",
        ")"
      ],
      "metadata": {
        "id": "nC9pPFZraqCH"
      },
      "execution_count": 33,
      "outputs": []
    },
    {
      "cell_type": "code",
      "source": [
        "# Create a critic agent based on our new GeminiAssistantAgent.\n",
        "gemini_critic_agent = GeminiAssistantAgent(\n",
        "    \"gemini_critic\",\n",
        "    system_message=\"Provide constructive feedback. Respond with 'APPROVE' to when your feedbacks are addressed.\",\n",
        ")"
      ],
      "metadata": {
        "colab": {
          "base_uri": "https://localhost:8080/"
        },
        "id": "z7O3Xj_0ayLy",
        "outputId": "d8baa25e-14a7-430e-b201-8ec576582a04"
      },
      "execution_count": 34,
      "outputs": [
        {
          "output_type": "stream",
          "name": "stderr",
          "text": [
            "WARNING:google_genai._api_client:Both GOOGLE_API_KEY and GEMINI_API_KEY are set. Using GOOGLE_API_KEY.\n"
          ]
        }
      ]
    },
    {
      "cell_type": "code",
      "source": [
        "# Define a termination condition that stops the task if the critic approves or after 10 messages.\n",
        "termination = TextMentionTermination(\"APPROVE\") | MaxMessageTermination(10)"
      ],
      "metadata": {
        "id": "sotU5Qg4bl0M"
      },
      "execution_count": 37,
      "outputs": []
    },
    {
      "cell_type": "code",
      "source": [
        "# Create a team with the primary and critic agents.\n",
        "team = RoundRobinGroupChat([primary_agent, gemini_critic_agent], termination_condition=termination)"
      ],
      "metadata": {
        "id": "EHaNucG7brJc"
      },
      "execution_count": 39,
      "outputs": []
    },
    {
      "cell_type": "code",
      "source": [
        "await Console(team.run_stream(task=\"Write a Haiku poem with 4 lines about the fall season.\"))\n",
        "await model_client.close()"
      ],
      "metadata": {
        "id": "yaoLGtU6b7AY",
        "outputId": "92aeab2d-e075-455d-9baf-589990a5073d",
        "colab": {
          "base_uri": "https://localhost:8080/",
          "height": 1000
        }
      },
      "execution_count": 42,
      "outputs": [
        {
          "output_type": "stream",
          "name": "stdout",
          "text": [
            "---------- TextMessage (user) ----------\n",
            "Write a Haiku poem with 4 lines about the fall season.\n"
          ]
        },
        {
          "output_type": "stream",
          "name": "stderr",
          "text": [
            "ERROR:autogen_core:Error processing publish message for primary_6955e1d4-905b-449a-9d55-8012d536745a/6955e1d4-905b-449a-9d55-8012d536745a\n",
            "Traceback (most recent call last):\n",
            "  File \"/usr/local/lib/python3.11/dist-packages/openai/_base_client.py\", line 1519, in request\n",
            "    response = await self._client.send(\n",
            "               ^^^^^^^^^^^^^^^^^^^^^^^^\n",
            "  File \"/usr/local/lib/python3.11/dist-packages/httpx/_client.py\", line 1616, in send\n",
            "    raise RuntimeError(\"Cannot send a request, as the client has been closed.\")\n",
            "RuntimeError: Cannot send a request, as the client has been closed.\n",
            "\n",
            "The above exception was the direct cause of the following exception:\n",
            "\n",
            "Traceback (most recent call last):\n",
            "  File \"/usr/local/lib/python3.11/dist-packages/autogen_core/_single_threaded_agent_runtime.py\", line 605, in _on_message\n",
            "    return await agent.on_message(\n",
            "           ^^^^^^^^^^^^^^^^^^^^^^^\n",
            "  File \"/usr/local/lib/python3.11/dist-packages/autogen_core/_base_agent.py\", line 119, in on_message\n",
            "    return await self.on_message_impl(message, ctx)\n",
            "           ^^^^^^^^^^^^^^^^^^^^^^^^^^^^^^^^^^^^^^^^\n",
            "  File \"/usr/local/lib/python3.11/dist-packages/autogen_agentchat/teams/_group_chat/_sequential_routed_agent.py\", line 67, in on_message_impl\n",
            "    return await super().on_message_impl(message, ctx)\n",
            "           ^^^^^^^^^^^^^^^^^^^^^^^^^^^^^^^^^^^^^^^^^^^\n",
            "  File \"/usr/local/lib/python3.11/dist-packages/autogen_core/_routed_agent.py\", line 485, in on_message_impl\n",
            "    return await h(self, message, ctx)\n",
            "           ^^^^^^^^^^^^^^^^^^^^^^^^^^^\n",
            "  File \"/usr/local/lib/python3.11/dist-packages/autogen_core/_routed_agent.py\", line 268, in wrapper\n",
            "    return_value = await func(self, message, ctx)  # type: ignore\n",
            "                   ^^^^^^^^^^^^^^^^^^^^^^^^^^^^^^\n",
            "  File \"/usr/local/lib/python3.11/dist-packages/autogen_agentchat/teams/_group_chat/_chat_agent_container.py\", line 79, in handle_request\n",
            "    async for msg in self._agent.on_messages_stream(self._message_buffer, ctx.cancellation_token):\n",
            "  File \"/usr/local/lib/python3.11/dist-packages/autogen_agentchat/agents/_assistant_agent.py\", line 852, in on_messages_stream\n",
            "    async for inference_output in self._call_llm(\n",
            "  File \"/usr/local/lib/python3.11/dist-packages/autogen_agentchat/agents/_assistant_agent.py\", line 981, in _call_llm\n",
            "    model_result = await model_client.create(\n",
            "                   ^^^^^^^^^^^^^^^^^^^^^^^^^^\n",
            "  File \"/usr/local/lib/python3.11/dist-packages/autogen_ext/models/openai/_openai_client.py\", line 624, in create\n",
            "    result: Union[ParsedChatCompletion[BaseModel], ChatCompletion] = await future\n",
            "                                                                     ^^^^^^^^^^^^\n",
            "  File \"/usr/local/lib/python3.11/dist-packages/openai/resources/chat/completions/completions.py\", line 2028, in create\n",
            "    return await self._post(\n",
            "           ^^^^^^^^^^^^^^^^^\n",
            "  File \"/usr/local/lib/python3.11/dist-packages/openai/_base_client.py\", line 1784, in post\n",
            "    return await self.request(cast_to, opts, stream=stream, stream_cls=stream_cls)\n",
            "           ^^^^^^^^^^^^^^^^^^^^^^^^^^^^^^^^^^^^^^^^^^^^^^^^^^^^^^^^^^^^^^^^^^^^^^^\n",
            "  File \"/usr/local/lib/python3.11/dist-packages/openai/_base_client.py\", line 1551, in request\n",
            "    raise APIConnectionError(request=request) from err\n",
            "openai.APIConnectionError: Connection error.\n",
            "ERROR:autogen_core:Error processing publish message for gemini_critic_6955e1d4-905b-449a-9d55-8012d536745a/6955e1d4-905b-449a-9d55-8012d536745a\n",
            "Traceback (most recent call last):\n",
            "  File \"/usr/local/lib/python3.11/dist-packages/autogen_core/_single_threaded_agent_runtime.py\", line 605, in _on_message\n",
            "    return await agent.on_message(\n",
            "           ^^^^^^^^^^^^^^^^^^^^^^^\n",
            "  File \"/usr/local/lib/python3.11/dist-packages/autogen_core/_base_agent.py\", line 119, in on_message\n",
            "    return await self.on_message_impl(message, ctx)\n",
            "           ^^^^^^^^^^^^^^^^^^^^^^^^^^^^^^^^^^^^^^^^\n",
            "  File \"/usr/local/lib/python3.11/dist-packages/autogen_agentchat/teams/_group_chat/_sequential_routed_agent.py\", line 72, in on_message_impl\n",
            "    return await super().on_message_impl(message, ctx)\n",
            "           ^^^^^^^^^^^^^^^^^^^^^^^^^^^^^^^^^^^^^^^^^^^\n",
            "  File \"/usr/local/lib/python3.11/dist-packages/autogen_core/_routed_agent.py\", line 486, in on_message_impl\n",
            "    return await self.on_unhandled_message(message, ctx)  # type: ignore\n",
            "           ^^^^^^^^^^^^^^^^^^^^^^^^^^^^^^^^^^^^^^^^^^^^^\n",
            "  File \"/usr/local/lib/python3.11/dist-packages/autogen_agentchat/teams/_group_chat/_chat_agent_container.py\", line 133, in on_unhandled_message\n",
            "    raise ValueError(f\"Unhandled message in agent container: {type(message)}\")\n",
            "ValueError: Unhandled message in agent container: <class 'autogen_agentchat.teams._group_chat._events.GroupChatError'>\n"
          ]
        },
        {
          "output_type": "error",
          "ename": "RuntimeError",
          "evalue": "APIConnectionError: Connection error.\nTraceback:\nTraceback (most recent call last):\n\n  File \"/usr/local/lib/python3.11/dist-packages/openai/_base_client.py\", line 1519, in request\n    response = await self._client.send(\n               ^^^^^^^^^^^^^^^^^^^^^^^^\n\n  File \"/usr/local/lib/python3.11/dist-packages/httpx/_client.py\", line 1616, in send\n    raise RuntimeError(\"Cannot send a request, as the client has been closed.\")\n\nRuntimeError: Cannot send a request, as the client has been closed.\n\n\nThe above exception was the direct cause of the following exception:\n\n\nTraceback (most recent call last):\n\n  File \"/usr/local/lib/python3.11/dist-packages/autogen_agentchat/teams/_group_chat/_chat_agent_container.py\", line 79, in handle_request\n    async for msg in self._agent.on_messages_stream(self._message_buffer, ctx.cancellation_token):\n\n  File \"/usr/local/lib/python3.11/dist-packages/autogen_agentchat/agents/_assistant_agent.py\", line 852, in on_messages_stream\n    async for inference_output in self._call_llm(\n\n  File \"/usr/local/lib/python3.11/dist-packages/autogen_agentchat/agents/_assistant_agent.py\", line 981, in _call_llm\n    model_result = await model_client.create(\n                   ^^^^^^^^^^^^^^^^^^^^^^^^^^\n\n  File \"/usr/local/lib/python3.11/dist-packages/autogen_ext/models/openai/_openai_client.py\", line 624, in create\n    result: Union[ParsedChatCompletion[BaseModel], ChatCompletion] = await future\n                                                                     ^^^^^^^^^^^^\n\n  File \"/usr/local/lib/python3.11/dist-packages/openai/resources/chat/completions/completions.py\", line 2028, in create\n    return await self._post(\n           ^^^^^^^^^^^^^^^^^\n\n  File \"/usr/local/lib/python3.11/dist-packages/openai/_base_client.py\", line 1784, in post\n    return await self.request(cast_to, opts, stream=stream, stream_cls=stream_cls)\n           ^^^^^^^^^^^^^^^^^^^^^^^^^^^^^^^^^^^^^^^^^^^^^^^^^^^^^^^^^^^^^^^^^^^^^^^\n\n  File \"/usr/local/lib/python3.11/dist-packages/openai/_base_client.py\", line 1551, in request\n    raise APIConnectionError(request=request) from err\n\nopenai.APIConnectionError: Connection error.\n",
          "traceback": [
            "\u001b[0;31m---------------------------------------------------------------------------\u001b[0m",
            "\u001b[0;31mRuntimeError\u001b[0m                              Traceback (most recent call last)",
            "\u001b[0;32m/tmp/ipython-input-42-1691036653.py\u001b[0m in \u001b[0;36m<cell line: 1>\u001b[0;34m()\u001b[0m\n\u001b[0;32m----> 1\u001b[0;31m \u001b[0;32mawait\u001b[0m \u001b[0mConsole\u001b[0m\u001b[0;34m(\u001b[0m\u001b[0mteam\u001b[0m\u001b[0;34m.\u001b[0m\u001b[0mrun_stream\u001b[0m\u001b[0;34m(\u001b[0m\u001b[0mtask\u001b[0m\u001b[0;34m=\u001b[0m\u001b[0;34m\"Write a Haiku poem with 4 lines about the fall season.\"\u001b[0m\u001b[0;34m)\u001b[0m\u001b[0;34m)\u001b[0m\u001b[0;34m\u001b[0m\u001b[0;34m\u001b[0m\u001b[0m\n\u001b[0m\u001b[1;32m      2\u001b[0m \u001b[0;32mawait\u001b[0m \u001b[0mmodel_client\u001b[0m\u001b[0;34m.\u001b[0m\u001b[0mclose\u001b[0m\u001b[0;34m(\u001b[0m\u001b[0;34m)\u001b[0m\u001b[0;34m\u001b[0m\u001b[0;34m\u001b[0m\u001b[0m\n",
            "\u001b[0;32m/usr/local/lib/python3.11/dist-packages/autogen_agentchat/ui/_console.py\u001b[0m in \u001b[0;36mConsole\u001b[0;34m(stream, no_inline_images, output_stats, user_input_manager)\u001b[0m\n\u001b[1;32m    115\u001b[0m     \u001b[0mstreaming_chunks\u001b[0m\u001b[0;34m:\u001b[0m \u001b[0mList\u001b[0m\u001b[0;34m[\u001b[0m\u001b[0mstr\u001b[0m\u001b[0;34m]\u001b[0m \u001b[0;34m=\u001b[0m \u001b[0;34m[\u001b[0m\u001b[0;34m]\u001b[0m\u001b[0;34m\u001b[0m\u001b[0;34m\u001b[0m\u001b[0m\n\u001b[1;32m    116\u001b[0m \u001b[0;34m\u001b[0m\u001b[0m\n\u001b[0;32m--> 117\u001b[0;31m     \u001b[0;32masync\u001b[0m \u001b[0;32mfor\u001b[0m \u001b[0mmessage\u001b[0m \u001b[0;32min\u001b[0m \u001b[0mstream\u001b[0m\u001b[0;34m:\u001b[0m\u001b[0;34m\u001b[0m\u001b[0;34m\u001b[0m\u001b[0m\n\u001b[0m\u001b[1;32m    118\u001b[0m         \u001b[0;32mif\u001b[0m \u001b[0misinstance\u001b[0m\u001b[0;34m(\u001b[0m\u001b[0mmessage\u001b[0m\u001b[0;34m,\u001b[0m \u001b[0mTaskResult\u001b[0m\u001b[0;34m)\u001b[0m\u001b[0;34m:\u001b[0m\u001b[0;34m\u001b[0m\u001b[0;34m\u001b[0m\u001b[0m\n\u001b[1;32m    119\u001b[0m             \u001b[0mduration\u001b[0m \u001b[0;34m=\u001b[0m \u001b[0mtime\u001b[0m\u001b[0;34m.\u001b[0m\u001b[0mtime\u001b[0m\u001b[0;34m(\u001b[0m\u001b[0;34m)\u001b[0m \u001b[0;34m-\u001b[0m \u001b[0mstart_time\u001b[0m\u001b[0;34m\u001b[0m\u001b[0;34m\u001b[0m\u001b[0m\n",
            "\u001b[0;32m/usr/local/lib/python3.11/dist-packages/autogen_agentchat/teams/_group_chat/_base_group_chat.py\u001b[0m in \u001b[0;36mrun_stream\u001b[0;34m(self, task, cancellation_token)\u001b[0m\n\u001b[1;32m    516\u001b[0m                     \u001b[0;31m# This will stop the team and propagate the error.\u001b[0m\u001b[0;34m\u001b[0m\u001b[0;34m\u001b[0m\u001b[0m\n\u001b[1;32m    517\u001b[0m                     \u001b[0;32mif\u001b[0m \u001b[0mmessage\u001b[0m\u001b[0;34m.\u001b[0m\u001b[0merror\u001b[0m \u001b[0;32mis\u001b[0m \u001b[0;32mnot\u001b[0m \u001b[0;32mNone\u001b[0m\u001b[0;34m:\u001b[0m\u001b[0;34m\u001b[0m\u001b[0;34m\u001b[0m\u001b[0m\n\u001b[0;32m--> 518\u001b[0;31m                         \u001b[0;32mraise\u001b[0m \u001b[0mRuntimeError\u001b[0m\u001b[0;34m(\u001b[0m\u001b[0mstr\u001b[0m\u001b[0;34m(\u001b[0m\u001b[0mmessage\u001b[0m\u001b[0;34m.\u001b[0m\u001b[0merror\u001b[0m\u001b[0;34m)\u001b[0m\u001b[0;34m)\u001b[0m\u001b[0;34m\u001b[0m\u001b[0;34m\u001b[0m\u001b[0m\n\u001b[0m\u001b[1;32m    519\u001b[0m                     \u001b[0mstop_reason\u001b[0m \u001b[0;34m=\u001b[0m \u001b[0mmessage\u001b[0m\u001b[0;34m.\u001b[0m\u001b[0mmessage\u001b[0m\u001b[0;34m.\u001b[0m\u001b[0mcontent\u001b[0m\u001b[0;34m\u001b[0m\u001b[0;34m\u001b[0m\u001b[0m\n\u001b[1;32m    520\u001b[0m                     \u001b[0;32mbreak\u001b[0m\u001b[0;34m\u001b[0m\u001b[0;34m\u001b[0m\u001b[0m\n",
            "\u001b[0;31mRuntimeError\u001b[0m: APIConnectionError: Connection error.\nTraceback:\nTraceback (most recent call last):\n\n  File \"/usr/local/lib/python3.11/dist-packages/openai/_base_client.py\", line 1519, in request\n    response = await self._client.send(\n               ^^^^^^^^^^^^^^^^^^^^^^^^\n\n  File \"/usr/local/lib/python3.11/dist-packages/httpx/_client.py\", line 1616, in send\n    raise RuntimeError(\"Cannot send a request, as the client has been closed.\")\n\nRuntimeError: Cannot send a request, as the client has been closed.\n\n\nThe above exception was the direct cause of the following exception:\n\n\nTraceback (most recent call last):\n\n  File \"/usr/local/lib/python3.11/dist-packages/autogen_agentchat/teams/_group_chat/_chat_agent_container.py\", line 79, in handle_request\n    async for msg in self._agent.on_messages_stream(self._message_buffer, ctx.cancellation_token):\n\n  File \"/usr/local/lib/python3.11/dist-packages/autogen_agentchat/agents/_assistant_agent.py\", line 852, in on_messages_stream\n    async for inference_output in self._call_llm(\n\n  File \"/usr/local/lib/python3.11/dist-packages/autogen_agentchat/agents/_assistant_agent.py\", line 981, in _call_llm\n    model_result = await model_client.create(\n                   ^^^^^^^^^^^^^^^^^^^^^^^^^^\n\n  File \"/usr/local/lib/python3.11/dist-packages/autogen_ext/models/openai/_openai_client.py\", line 624, in create\n    result: Union[ParsedChatCompletion[BaseModel], ChatCompletion] = await future\n                                                                     ^^^^^^^^^^^^\n\n  File \"/usr/local/lib/python3.11/dist-packages/openai/resources/chat/completions/completions.py\", line 2028, in create\n    return await self._post(\n           ^^^^^^^^^^^^^^^^^\n\n  File \"/usr/local/lib/python3.11/dist-packages/openai/_base_client.py\", line 1784, in post\n    return await self.request(cast_to, opts, stream=stream, stream_cls=stream_cls)\n           ^^^^^^^^^^^^^^^^^^^^^^^^^^^^^^^^^^^^^^^^^^^^^^^^^^^^^^^^^^^^^^^^^^^^^^^\n\n  File \"/usr/local/lib/python3.11/dist-packages/openai/_base_client.py\", line 1551, in request\n    raise APIConnectionError(request=request) from err\n\nopenai.APIConnectionError: Connection error.\n"
          ]
        }
      ]
    },
    {
      "cell_type": "code",
      "source": [],
      "metadata": {
        "id": "juoo_b7UcA1D"
      },
      "execution_count": null,
      "outputs": []
    }
  ]
}