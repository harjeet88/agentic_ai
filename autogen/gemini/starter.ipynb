{
  "nbformat": 4,
  "nbformat_minor": 0,
  "metadata": {
    "colab": {
      "provenance": [],
      "authorship_tag": "ABX9TyPmpCQTHDYzfPY+99HHyLZn",
      "include_colab_link": true
    },
    "kernelspec": {
      "name": "python3",
      "display_name": "Python 3"
    },
    "language_info": {
      "name": "python"
    }
  },
  "cells": [
    {
      "cell_type": "markdown",
      "metadata": {
        "id": "view-in-github",
        "colab_type": "text"
      },
      "source": [
        "<a href=\"https://colab.research.google.com/github/harjeet88/agentic_ai/blob/main/autogen/gemini/starter.ipynb\" target=\"_parent\"><img src=\"https://colab.research.google.com/assets/colab-badge.svg\" alt=\"Open In Colab\"/></a>"
      ]
    },
    {
      "cell_type": "code",
      "execution_count": 2,
      "metadata": {
        "id": "RU8HXrJfgjm9",
        "colab": {
          "base_uri": "https://localhost:8080/"
        },
        "outputId": "2808579c-1dc5-4f2e-8721-2475183f423d"
      },
      "outputs": [
        {
          "output_type": "stream",
          "name": "stdout",
          "text": [
            "Collecting autogen-agentchat\n",
            "  Downloading autogen_agentchat-0.6.1-py3-none-any.whl.metadata (2.5 kB)\n",
            "Collecting autogen-ext[gemini]\n",
            "  Downloading autogen_ext-0.6.1-py3-none-any.whl.metadata (7.0 kB)\n",
            "Collecting autogen-core==0.6.1 (from autogen-agentchat)\n",
            "  Downloading autogen_core-0.6.1-py3-none-any.whl.metadata (2.3 kB)\n",
            "Collecting jsonref~=1.1.0 (from autogen-core==0.6.1->autogen-agentchat)\n",
            "  Downloading jsonref-1.1.0-py3-none-any.whl.metadata (2.7 kB)\n",
            "Collecting opentelemetry-api>=1.27.0 (from autogen-core==0.6.1->autogen-agentchat)\n",
            "  Downloading opentelemetry_api-1.34.1-py3-none-any.whl.metadata (1.5 kB)\n",
            "Requirement already satisfied: pillow>=11.0.0 in /usr/local/lib/python3.11/dist-packages (from autogen-core==0.6.1->autogen-agentchat) (11.2.1)\n",
            "Requirement already satisfied: protobuf~=5.29.3 in /usr/local/lib/python3.11/dist-packages (from autogen-core==0.6.1->autogen-agentchat) (5.29.5)\n",
            "Requirement already satisfied: pydantic<3.0.0,>=2.10.0 in /usr/local/lib/python3.11/dist-packages (from autogen-core==0.6.1->autogen-agentchat) (2.11.7)\n",
            "Requirement already satisfied: typing-extensions>=4.0.0 in /usr/local/lib/python3.11/dist-packages (from autogen-core==0.6.1->autogen-agentchat) (4.14.0)\n",
            "Requirement already satisfied: google-genai>=1.0.0 in /usr/local/lib/python3.11/dist-packages (from autogen-ext[gemini]) (1.21.1)\n",
            "Requirement already satisfied: anyio<5.0.0,>=4.8.0 in /usr/local/lib/python3.11/dist-packages (from google-genai>=1.0.0->autogen-ext[gemini]) (4.9.0)\n",
            "Requirement already satisfied: google-auth<3.0.0,>=2.14.1 in /usr/local/lib/python3.11/dist-packages (from google-genai>=1.0.0->autogen-ext[gemini]) (2.38.0)\n",
            "Requirement already satisfied: httpx<1.0.0,>=0.28.1 in /usr/local/lib/python3.11/dist-packages (from google-genai>=1.0.0->autogen-ext[gemini]) (0.28.1)\n",
            "Requirement already satisfied: requests<3.0.0,>=2.28.1 in /usr/local/lib/python3.11/dist-packages (from google-genai>=1.0.0->autogen-ext[gemini]) (2.32.3)\n",
            "Requirement already satisfied: tenacity<9.0.0,>=8.2.3 in /usr/local/lib/python3.11/dist-packages (from google-genai>=1.0.0->autogen-ext[gemini]) (8.5.0)\n",
            "Requirement already satisfied: websockets<15.1.0,>=13.0.0 in /usr/local/lib/python3.11/dist-packages (from google-genai>=1.0.0->autogen-ext[gemini]) (15.0.1)\n",
            "Requirement already satisfied: idna>=2.8 in /usr/local/lib/python3.11/dist-packages (from anyio<5.0.0,>=4.8.0->google-genai>=1.0.0->autogen-ext[gemini]) (3.10)\n",
            "Requirement already satisfied: sniffio>=1.1 in /usr/local/lib/python3.11/dist-packages (from anyio<5.0.0,>=4.8.0->google-genai>=1.0.0->autogen-ext[gemini]) (1.3.1)\n",
            "Requirement already satisfied: cachetools<6.0,>=2.0.0 in /usr/local/lib/python3.11/dist-packages (from google-auth<3.0.0,>=2.14.1->google-genai>=1.0.0->autogen-ext[gemini]) (5.5.2)\n",
            "Requirement already satisfied: pyasn1-modules>=0.2.1 in /usr/local/lib/python3.11/dist-packages (from google-auth<3.0.0,>=2.14.1->google-genai>=1.0.0->autogen-ext[gemini]) (0.4.2)\n",
            "Requirement already satisfied: rsa<5,>=3.1.4 in /usr/local/lib/python3.11/dist-packages (from google-auth<3.0.0,>=2.14.1->google-genai>=1.0.0->autogen-ext[gemini]) (4.9.1)\n",
            "Requirement already satisfied: certifi in /usr/local/lib/python3.11/dist-packages (from httpx<1.0.0,>=0.28.1->google-genai>=1.0.0->autogen-ext[gemini]) (2025.6.15)\n",
            "Requirement already satisfied: httpcore==1.* in /usr/local/lib/python3.11/dist-packages (from httpx<1.0.0,>=0.28.1->google-genai>=1.0.0->autogen-ext[gemini]) (1.0.9)\n",
            "Requirement already satisfied: h11>=0.16 in /usr/local/lib/python3.11/dist-packages (from httpcore==1.*->httpx<1.0.0,>=0.28.1->google-genai>=1.0.0->autogen-ext[gemini]) (0.16.0)\n",
            "Requirement already satisfied: importlib-metadata<8.8.0,>=6.0 in /usr/local/lib/python3.11/dist-packages (from opentelemetry-api>=1.27.0->autogen-core==0.6.1->autogen-agentchat) (8.7.0)\n",
            "Requirement already satisfied: annotated-types>=0.6.0 in /usr/local/lib/python3.11/dist-packages (from pydantic<3.0.0,>=2.10.0->autogen-core==0.6.1->autogen-agentchat) (0.7.0)\n",
            "Requirement already satisfied: pydantic-core==2.33.2 in /usr/local/lib/python3.11/dist-packages (from pydantic<3.0.0,>=2.10.0->autogen-core==0.6.1->autogen-agentchat) (2.33.2)\n",
            "Requirement already satisfied: typing-inspection>=0.4.0 in /usr/local/lib/python3.11/dist-packages (from pydantic<3.0.0,>=2.10.0->autogen-core==0.6.1->autogen-agentchat) (0.4.1)\n",
            "Requirement already satisfied: charset-normalizer<4,>=2 in /usr/local/lib/python3.11/dist-packages (from requests<3.0.0,>=2.28.1->google-genai>=1.0.0->autogen-ext[gemini]) (3.4.2)\n",
            "Requirement already satisfied: urllib3<3,>=1.21.1 in /usr/local/lib/python3.11/dist-packages (from requests<3.0.0,>=2.28.1->google-genai>=1.0.0->autogen-ext[gemini]) (2.4.0)\n",
            "Requirement already satisfied: zipp>=3.20 in /usr/local/lib/python3.11/dist-packages (from importlib-metadata<8.8.0,>=6.0->opentelemetry-api>=1.27.0->autogen-core==0.6.1->autogen-agentchat) (3.23.0)\n",
            "Requirement already satisfied: pyasn1<0.7.0,>=0.6.1 in /usr/local/lib/python3.11/dist-packages (from pyasn1-modules>=0.2.1->google-auth<3.0.0,>=2.14.1->google-genai>=1.0.0->autogen-ext[gemini]) (0.6.1)\n",
            "Downloading autogen_agentchat-0.6.1-py3-none-any.whl (108 kB)\n",
            "\u001b[2K   \u001b[90m━━━━━━━━━━━━━━━━━━━━━━━━━━━━━━━━━━━━━━━━\u001b[0m \u001b[32m108.2/108.2 kB\u001b[0m \u001b[31m4.4 MB/s\u001b[0m eta \u001b[36m0:00:00\u001b[0m\n",
            "\u001b[?25hDownloading autogen_core-0.6.1-py3-none-any.whl (97 kB)\n",
            "\u001b[2K   \u001b[90m━━━━━━━━━━━━━━━━━━━━━━━━━━━━━━━━━━━━━━━━\u001b[0m \u001b[32m97.3/97.3 kB\u001b[0m \u001b[31m6.8 MB/s\u001b[0m eta \u001b[36m0:00:00\u001b[0m\n",
            "\u001b[?25hDownloading autogen_ext-0.6.1-py3-none-any.whl (306 kB)\n",
            "\u001b[2K   \u001b[90m━━━━━━━━━━━━━━━━━━━━━━━━━━━━━━━━━━━━━━━━\u001b[0m \u001b[32m306.4/306.4 kB\u001b[0m \u001b[31m16.2 MB/s\u001b[0m eta \u001b[36m0:00:00\u001b[0m\n",
            "\u001b[?25hDownloading jsonref-1.1.0-py3-none-any.whl (9.4 kB)\n",
            "Downloading opentelemetry_api-1.34.1-py3-none-any.whl (65 kB)\n",
            "\u001b[2K   \u001b[90m━━━━━━━━━━━━━━━━━━━━━━━━━━━━━━━━━━━━━━━━\u001b[0m \u001b[32m65.8/65.8 kB\u001b[0m \u001b[31m5.1 MB/s\u001b[0m eta \u001b[36m0:00:00\u001b[0m\n",
            "\u001b[?25hInstalling collected packages: jsonref, opentelemetry-api, autogen-core, autogen-ext, autogen-agentchat\n",
            "Successfully installed autogen-agentchat-0.6.1 autogen-core-0.6.1 autogen-ext-0.6.1 jsonref-1.1.0 opentelemetry-api-1.34.1\n"
          ]
        }
      ],
      "source": [
        "#!pip install -q autogen-agentchat[gemini]~=0.2\n",
        "!pip install -U autogen-agentchat autogen-ext[gemini]"
      ]
    },
    {
      "cell_type": "code",
      "source": [
        "import os\n",
        "from typing import AsyncGenerator, Sequence\n",
        "\n",
        "from autogen_agentchat.agents import BaseChatAgent\n",
        "from autogen_agentchat.base import Response\n",
        "from autogen_agentchat.messages import BaseAgentEvent, BaseChatMessage\n",
        "from autogen_core import CancellationToken\n",
        "from autogen_core.model_context import UnboundedChatCompletionContext\n",
        "from autogen_core.models import AssistantMessage, RequestUsage, UserMessage\n",
        "from google import genai\n",
        "from google.genai import types"
      ],
      "metadata": {
        "id": "6KC0jAKpe14p"
      },
      "execution_count": 3,
      "outputs": []
    },
    {
      "cell_type": "code",
      "source": [
        "from google.colab import userdata\n",
        "GOOGLE_API_KEY=userdata.get('GOOGLE_API_KEY')\n",
        "GEMINI_API_KEY=GOOGLE_API_KEY"
      ],
      "metadata": {
        "id": "gxomu7W_YYw5"
      },
      "execution_count": 4,
      "outputs": []
    },
    {
      "cell_type": "code",
      "source": [
        "import os\n",
        "from typing import AsyncGenerator, Sequence\n",
        "\n",
        "from autogen_agentchat.agents import BaseChatAgent\n",
        "from autogen_agentchat.base import Response\n",
        "from autogen_agentchat.messages import BaseAgentEvent, BaseChatMessage, TextMessage # Import TextMessage\n",
        "from autogen_core import CancellationToken\n",
        "from autogen_core.model_context import UnboundedChatCompletionContext\n",
        "from autogen_core.models import AssistantMessage, RequestUsage, UserMessage\n",
        "from google import genai\n",
        "from google.genai import types\n",
        "\n",
        "class GeminiAssistantAgent(BaseChatAgent):\n",
        "    def __init__(\n",
        "        self,\n",
        "        name: str,\n",
        "        description: str = \"An agent that provides assistance with ability to use tools.\",\n",
        "        model: str = \"gemini-1.5-flash-002\",\n",
        "        api_key: str = GEMINI_API_KEY,\n",
        "        system_message: str\n",
        "        | None = \"You are a helpful assistant that can respond to messages. Reply with TERMINATE when the task has been completed.\",\n",
        "    ):\n",
        "        super().__init__(name=name, description=description)\n",
        "        self._model_context = UnboundedChatCompletionContext()\n",
        "        self._model_client = genai.Client(api_key=api_key)\n",
        "        self._system_message = system_message\n",
        "        self._model = model\n",
        "\n",
        "    @property\n",
        "    def produced_message_types(self) -> Sequence[type[BaseChatMessage]]:\n",
        "        return (TextMessage,)\n",
        "\n",
        "    async def on_messages(self, messages: Sequence[BaseChatMessage], cancellation_token: CancellationToken) -> Response:\n",
        "        final_response = None\n",
        "        async for message in self.on_messages_stream(messages, cancellation_token):\n",
        "            if isinstance(message, Response):\n",
        "                final_response = message\n",
        "\n",
        "        if final_response is None:\n",
        "            raise AssertionError(\"The stream should have returned the final result.\")\n",
        "\n",
        "        return final_response\n",
        "\n",
        "    async def on_messages_stream(\n",
        "        self, messages: Sequence[BaseChatMessage], cancellation_token: CancellationToken\n",
        "    ) -> AsyncGenerator[BaseAgentEvent | BaseChatMessage | Response, None]:\n",
        "        # Add messages to the model context\n",
        "        for msg in messages:\n",
        "            await self._model_context.add_message(msg.to_model_message())\n",
        "\n",
        "        # Get conversation history\n",
        "        history = [\n",
        "            (msg.source if hasattr(msg, \"source\") else \"system\")\n",
        "            + \": \"\n",
        "            + (msg.content if isinstance(msg.content, str) else \"\")\n",
        "            + \"\\n\"\n",
        "            for msg in await self._model_context.get_messages()\n",
        "        ]\n",
        "        # Generate response using Gemini\n",
        "        response = self._model_client.models.generate_content(\n",
        "            model=self._model,\n",
        "            contents=f\"History: {history}\\nGiven the history, please provide a response\",\n",
        "            config=types.GenerateContentConfig(\n",
        "                system_instruction=self._system_message,\n",
        "                temperature=0.3,\n",
        "            ),\n",
        "        )\n",
        "\n",
        "        # Create usage metadata\n",
        "        usage = RequestUsage(\n",
        "            prompt_tokens=response.usage_metadata.prompt_token_count,\n",
        "            completion_tokens=response.usage_metadata.candidates_token_count,\n",
        "        )\n",
        "\n",
        "        # Add response to model context\n",
        "        await self._model_context.add_message(AssistantMessage(content=response.text, source=self.name))\n",
        "\n",
        "        # Yield the final response\n",
        "        yield Response(\n",
        "            chat_message=TextMessage(content=response.text, source=self.name, models_usage=usage),\n",
        "            inner_messages=[],\n",
        "        )\n",
        "\n",
        "    async def on_reset(self, cancellation_token: CancellationToken) -> None:\n",
        "        \"\"\"Handle the reset event.\"\"\"\n",
        "        await self._model_context.reset()"
      ],
      "metadata": {
        "id": "O-s4mBXrYhD6"
      },
      "execution_count": 8,
      "outputs": []
    },
    {
      "cell_type": "code",
      "source": [
        "from autogen_agentchat.agents import AssistantAgent\n",
        "from autogen_agentchat.conditions import TextMentionTermination\n",
        "from autogen_agentchat.teams import RoundRobinGroupChat\n",
        "from autogen_agentchat.ui import Console"
      ],
      "metadata": {
        "id": "QfDN2n0kZ63A"
      },
      "execution_count": 16,
      "outputs": []
    },
    {
      "cell_type": "code",
      "source": [
        "gemini_assistant = GeminiAssistantAgent(\"gemini_assistant\")\n",
        "await Console(gemini_assistant.run_stream(task=\"What is the capital of New York?\"))"
      ],
      "metadata": {
        "colab": {
          "base_uri": "https://localhost:8080/"
        },
        "id": "cJWRwCK2YnrR",
        "outputId": "6d7d3922-5645-400d-83a7-cb7ae48b9d9a"
      },
      "execution_count": 17,
      "outputs": [
        {
          "output_type": "stream",
          "name": "stdout",
          "text": [
            "---------- TextMessage (user) ----------\n",
            "What is the capital of New York?\n",
            "---------- TextMessage (gemini_assistant) ----------\n",
            "Albany\n",
            "TERMINATE\n",
            "\n"
          ]
        },
        {
          "output_type": "execute_result",
          "data": {
            "text/plain": [
              "TaskResult(messages=[TextMessage(source='user', models_usage=None, metadata={}, created_at=datetime.datetime(2025, 6, 30, 5, 55, 34, 723882, tzinfo=datetime.timezone.utc), content='What is the capital of New York?', type='TextMessage'), TextMessage(source='gemini_assistant', models_usage=RequestUsage(prompt_tokens=46, completion_tokens=5), metadata={}, created_at=datetime.datetime(2025, 6, 30, 5, 55, 35, 251833, tzinfo=datetime.timezone.utc), content='Albany\\nTERMINATE\\n', type='TextMessage')], stop_reason=None)"
            ]
          },
          "metadata": {},
          "execution_count": 17
        }
      ]
    },
    {
      "cell_type": "code",
      "source": [],
      "metadata": {
        "id": "QaUX0ZUuZhIx"
      },
      "execution_count": null,
      "outputs": []
    }
  ]
}