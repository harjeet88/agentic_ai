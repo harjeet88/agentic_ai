{
  "cells": [
    {
      "cell_type": "markdown",
      "metadata": {
        "id": "view-in-github",
        "colab_type": "text"
      },
      "source": [
        "<a href=\"https://colab.research.google.com/github/harjeet88/agentic_ai/blob/main/autogen/gemini/gemini_simple_setup.ipynb\" target=\"_parent\"><img src=\"https://colab.research.google.com/assets/colab-badge.svg\" alt=\"Open In Colab\"/></a>"
      ]
    },
    {
      "cell_type": "code",
      "source": [
        "!pip install -U -q autogen-agentchat autogen-ext[openai]"
      ],
      "metadata": {
        "colab": {
          "base_uri": "https://localhost:8080/"
        },
        "id": "oXNrr3wIp429",
        "outputId": "8aeb9017-0cf2-4166-bfec-db16dd40d15d"
      },
      "execution_count": 94,
      "outputs": [
        {
          "output_type": "stream",
          "name": "stderr",
          "text": [
            "/usr/lib/python3.11/pathlib.py:540: RuntimeWarning: coroutine 'main' was never awaited\n",
            "  return self._str\n",
            "RuntimeWarning: Enable tracemalloc to get the object allocation traceback\n"
          ]
        }
      ]
    },
    {
      "cell_type": "code",
      "metadata": {
        "id": "9c5f4766"
      },
      "source": [
        "%pip install -U -q autogen autogen_ext[openai] google-genai"
      ],
      "execution_count": 95,
      "outputs": []
    },
    {
      "cell_type": "code",
      "source": [
        "from google.colab import drive\n",
        "drive.mount('/content/drive')"
      ],
      "metadata": {
        "colab": {
          "base_uri": "https://localhost:8080/"
        },
        "id": "gI9joTOGhAad",
        "outputId": "dd7e1f58-fdfd-4409-f5fb-d61dc8398350"
      },
      "execution_count": 96,
      "outputs": [
        {
          "output_type": "stream",
          "name": "stdout",
          "text": [
            "Drive already mounted at /content/drive; to attempt to forcibly remount, call drive.mount(\"/content/drive\", force_remount=True).\n"
          ]
        }
      ]
    },
    {
      "cell_type": "code",
      "source": [
        "from google.colab import userdata\n",
        "GOOGLE_API_KEY=userdata.get('GOOGLE_API_KEY')\n",
        "GEMINI_API_KEY=GOOGLE_API_KEY"
      ],
      "metadata": {
        "id": "w-OBhUtdhBj_"
      },
      "execution_count": 97,
      "outputs": []
    },
    {
      "cell_type": "code",
      "source": [
        "import os\n",
        "os.environ['GOOGLE_API_KEY']=GOOGLE_API_KEY\n",
        "os.environ['GEMINI_API_KEY']=GEMINI_API_KEY"
      ],
      "metadata": {
        "id": "1InhVNoOhUbo"
      },
      "execution_count": 98,
      "outputs": []
    },
    {
      "cell_type": "code",
      "source": [
        "genai.configure(api_key=GEMINI_API_KEY)"
      ],
      "metadata": {
        "id": "7-S4-Vp6hiyz"
      },
      "execution_count": 99,
      "outputs": []
    },
    {
      "cell_type": "code",
      "source": [
        "gemini_flash=\"gemini-2.0-flash\"\n",
        "gemma_1b=\"gemma-3-1b-it\"\n",
        "gemma_4b=\"gemma-3-4b-it\"\n",
        "gemma_12b=\"gemma-3-12b-it\"\n",
        "gemma_27b=\"gemma-3-27b-it\"\n",
        "gemma_e4b=\"gemma-3n-e4b-it\"\n",
        "llama3=\"llama3.2:1b\""
      ],
      "metadata": {
        "id": "pvTCQclyiJEL"
      },
      "execution_count": 100,
      "outputs": []
    },
    {
      "cell_type": "code",
      "source": [
        "from autogen_ext.models.openai import OpenAIChatCompletionClient\n",
        "from autogen_core.models import ModelInfo,ModelFamily\n",
        "from autogen_core.models import UserMessage"
      ],
      "metadata": {
        "id": "NbcZmI8Giu5y"
      },
      "execution_count": 101,
      "outputs": []
    },
    {
      "cell_type": "code",
      "source": [
        "import asyncio\n",
        "from autogen_agentchat.agents import AssistantAgent"
      ],
      "metadata": {
        "id": "T1EPN2bIKJ-F"
      },
      "execution_count": 102,
      "outputs": []
    },
    {
      "cell_type": "code",
      "source": [
        "print(ModelFamily.GEMINI_2_5_FLASH)"
      ],
      "metadata": {
        "colab": {
          "base_uri": "https://localhost:8080/"
        },
        "id": "09a0vf0qKyLb",
        "outputId": "310c70f5-05b6-4d2c-c9dc-74b50036bb85"
      },
      "execution_count": 103,
      "outputs": [
        {
          "output_type": "stream",
          "name": "stdout",
          "text": [
            "gemini-2.5-flash\n"
          ]
        }
      ]
    },
    {
      "cell_type": "code",
      "source": [
        "model_info = {\n",
        "        \"family\": ModelFamily.GEMINI_2_5_FLASH,\n",
        "        \"function_calling\": True,\n",
        "        \"json_output\": True,\n",
        "        \"vision\": False\n",
        "    }"
      ],
      "metadata": {
        "id": "935Tme5hF7GB"
      },
      "execution_count": 104,
      "outputs": []
    },
    {
      "cell_type": "code",
      "source": [
        "model_client = OpenAIChatCompletionClient(\n",
        "    model=gemini_flash,\n",
        "    base_url=\"https://generativelanguage.googleapis.com/v1beta/openai/\",\n",
        "    model_info=model_info,#ModelInfo(vision=True, function_calling=True, json_output=True, family=\"unknown\", structured_output=True),\n",
        "    api_key=GEMINI_API_KEY\n",
        "    # api_key=\"sk-...\", # Optional if you have an OPENAI_API_KEY set in the environment.\n",
        ")"
      ],
      "metadata": {
        "colab": {
          "base_uri": "https://localhost:8080/"
        },
        "id": "Jh_O2YHi9UNf",
        "outputId": "e0d185cb-d43e-4c04-fe4c-f42c190f9ee9"
      },
      "execution_count": 113,
      "outputs": [
        {
          "output_type": "stream",
          "name": "stderr",
          "text": [
            "/usr/local/lib/python3.11/dist-packages/autogen_ext/models/openai/_openai_client.py:413: UserWarning: Missing required field 'structured_output' in ModelInfo. This field will be required in a future version of AutoGen.\n",
            "  validate_model_info(self._model_info)\n"
          ]
        }
      ]
    },
    {
      "cell_type": "code",
      "source": [
        "#just use to test\n",
        "\n",
        "#response = await model_client.create([UserMessage(content=\"What is the capital of France?\", source=\"user\")])\n",
        "#print(response)\n",
        "#await model_client.close()"
      ],
      "metadata": {
        "id": "c34HShjfKaDx"
      },
      "execution_count": 117,
      "outputs": []
    },
    {
      "cell_type": "code",
      "source": [
        "agent = AssistantAgent(\"assistant\", model_client)\n",
        "print(await agent.run(task=\"Say 'Hello World!'\"))"
      ],
      "metadata": {
        "colab": {
          "base_uri": "https://localhost:8080/"
        },
        "id": "cdlbDdpZARP0",
        "outputId": "06afe534-0f7c-46c3-8045-6a80ddd1a034"
      },
      "execution_count": 118,
      "outputs": [
        {
          "output_type": "stream",
          "name": "stdout",
          "text": [
            "messages=[TextMessage(source='user', models_usage=None, metadata={}, created_at=datetime.datetime(2025, 6, 30, 9, 51, 36, 636697, tzinfo=datetime.timezone.utc), content=\"Say 'Hello World!'\", type='TextMessage'), TextMessage(source='assistant', models_usage=RequestUsage(prompt_tokens=29, completion_tokens=7), metadata={}, created_at=datetime.datetime(2025, 6, 30, 9, 51, 37, 385829, tzinfo=datetime.timezone.utc), content='Hello World!\\nTERMINATE\\n', type='TextMessage')] stop_reason=None\n"
          ]
        }
      ]
    },
    {
      "cell_type": "code",
      "source": [
        "from autogen_agentchat.ui import Console"
      ],
      "metadata": {
        "id": "vsCFsNm4O5Ge"
      },
      "execution_count": 119,
      "outputs": []
    },
    {
      "cell_type": "code",
      "source": [
        "agent = AssistantAgent(\"assistant\", model_client)\n",
        "await Console(agent.run_stream(task=\"What is the capital of New York?\"))"
      ],
      "metadata": {
        "colab": {
          "base_uri": "https://localhost:8080/"
        },
        "id": "QB_YapgGKO-O",
        "outputId": "6f0914af-d3fd-4488-c983-58c78f4c6cc4"
      },
      "execution_count": 120,
      "outputs": [
        {
          "output_type": "stream",
          "name": "stdout",
          "text": [
            "---------- TextMessage (user) ----------\n",
            "What is the capital of New York?\n",
            "---------- TextMessage (assistant) ----------\n",
            "The capital of New York is Albany.\n",
            "TERMINATE\n",
            "\n"
          ]
        },
        {
          "output_type": "execute_result",
          "data": {
            "text/plain": [
              "TaskResult(messages=[TextMessage(source='user', models_usage=None, metadata={}, created_at=datetime.datetime(2025, 6, 30, 9, 51, 39, 515940, tzinfo=datetime.timezone.utc), content='What is the capital of New York?', type='TextMessage'), TextMessage(source='assistant', models_usage=RequestUsage(prompt_tokens=32, completion_tokens=12), metadata={}, created_at=datetime.datetime(2025, 6, 30, 9, 51, 39, 928258, tzinfo=datetime.timezone.utc), content='The capital of New York is Albany.\\nTERMINATE\\n', type='TextMessage')], stop_reason=None)"
            ]
          },
          "metadata": {},
          "execution_count": 120
        }
      ]
    },
    {
      "cell_type": "code",
      "source": [],
      "metadata": {
        "id": "KwCLgn1sOz-i"
      },
      "execution_count": null,
      "outputs": []
    }
  ],
  "metadata": {
    "colab": {
      "provenance": [],
      "include_colab_link": true
    },
    "kernelspec": {
      "display_name": "Python 3",
      "name": "python3"
    },
    "language_info": {
      "name": "python"
    }
  },
  "nbformat": 4,
  "nbformat_minor": 0
}