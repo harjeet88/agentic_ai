{
  "cells": [
    {
      "cell_type": "markdown",
      "metadata": {
        "id": "view-in-github",
        "colab_type": "text"
      },
      "source": [
        "<a href=\"https://colab.research.google.com/github/harjeet88/agentic_ai/blob/main/autogen/gemini/gemini_custom_assitant.ipynb\" target=\"_parent\"><img src=\"https://colab.research.google.com/assets/colab-badge.svg\" alt=\"Open In Colab\"/></a>"
      ]
    },
    {
      "cell_type": "code",
      "source": [
        "from google.colab import drive\n",
        "drive.mount('/content/drive')"
      ],
      "metadata": {
        "colab": {
          "base_uri": "https://localhost:8080/"
        },
        "id": "gI9joTOGhAad",
        "outputId": "09e7730c-2191-4ff3-c533-8ce8eadea6fa"
      },
      "execution_count": 1,
      "outputs": [
        {
          "output_type": "stream",
          "name": "stdout",
          "text": [
            "Mounted at /content/drive\n"
          ]
        }
      ]
    },
    {
      "cell_type": "code",
      "source": [
        "from google.colab import userdata\n",
        "GOOGLE_API_KEY=userdata.get('GOOGLE_API_KEY')\n",
        "GEMINI_API_KEY=GOOGLE_API_KEY"
      ],
      "metadata": {
        "id": "w-OBhUtdhBj_"
      },
      "execution_count": 2,
      "outputs": []
    },
    {
      "cell_type": "code",
      "source": [
        "import os\n",
        "os.environ['GOOGLE_API_KEY']=GOOGLE_API_KEY\n",
        "os.environ['GEMINI_API_KEY']=GEMINI_API_KEY"
      ],
      "metadata": {
        "id": "1InhVNoOhUbo"
      },
      "execution_count": 3,
      "outputs": []
    },
    {
      "cell_type": "code",
      "metadata": {
        "colab": {
          "base_uri": "https://localhost:8080/"
        },
        "id": "9c5f4766",
        "outputId": "b77d6384-a4fc-4e1b-bc45-0cb61c922c38"
      },
      "source": [
        "%pip install -U -q autogen autogen_ext[openai] google-genai"
      ],
      "execution_count": 5,
      "outputs": [
        {
          "output_type": "stream",
          "name": "stdout",
          "text": [
            "\u001b[?25l   \u001b[90m━━━━━━━━━━━━━━━━━━━━━━━━━━━━━━━━━━━━━━━━\u001b[0m \u001b[32m0.0/838.3 kB\u001b[0m \u001b[31m?\u001b[0m eta \u001b[36m-:--:--\u001b[0m\r\u001b[2K   \u001b[91m━━━━━━━━━━━━━━━━━━━━━━━━\u001b[0m\u001b[90m╺\u001b[0m\u001b[90m━━━━━━━━━━━━━━━\u001b[0m \u001b[32m512.0/838.3 kB\u001b[0m \u001b[31m16.6 MB/s\u001b[0m eta \u001b[36m0:00:01\u001b[0m\r\u001b[2K   \u001b[90m━━━━━━━━━━━━━━━━━━━━━━━━━━━━━━━━━━━━━━━━\u001b[0m \u001b[32m838.3/838.3 kB\u001b[0m \u001b[31m14.3 MB/s\u001b[0m eta \u001b[36m0:00:00\u001b[0m\n",
            "\u001b[?25h\u001b[?25l   \u001b[90m━━━━━━━━━━━━━━━━━━━━━━━━━━━━━━━━━━━━━━━━\u001b[0m \u001b[32m0.0/97.3 kB\u001b[0m \u001b[31m?\u001b[0m eta \u001b[36m-:--:--\u001b[0m\r\u001b[2K   \u001b[90m━━━━━━━━━━━━━━━━━━━━━━━━━━━━━━━━━━━━━━━━\u001b[0m \u001b[32m97.3/97.3 kB\u001b[0m \u001b[31m7.6 MB/s\u001b[0m eta \u001b[36m0:00:00\u001b[0m\n",
            "\u001b[?25h\u001b[?25l   \u001b[90m━━━━━━━━━━━━━━━━━━━━━━━━━━━━━━━━━━━━━━━━\u001b[0m \u001b[32m0.0/223.8 kB\u001b[0m \u001b[31m?\u001b[0m eta \u001b[36m-:--:--\u001b[0m\r\u001b[2K   \u001b[90m━━━━━━━━━━━━━━━━━━━━━━━━━━━━━━━━━━━━━━━━\u001b[0m \u001b[32m223.8/223.8 kB\u001b[0m \u001b[31m15.7 MB/s\u001b[0m eta \u001b[36m0:00:00\u001b[0m\n",
            "\u001b[?25h\u001b[?25l   \u001b[90m━━━━━━━━━━━━━━━━━━━━━━━━━━━━━━━━━━━━━━━━\u001b[0m \u001b[32m0.0/306.4 kB\u001b[0m \u001b[31m?\u001b[0m eta \u001b[36m-:--:--\u001b[0m\r\u001b[2K   \u001b[90m━━━━━━━━━━━━━━━━━━━━━━━━━━━━━━━━━━━━━━━━\u001b[0m \u001b[32m306.4/306.4 kB\u001b[0m \u001b[31m21.3 MB/s\u001b[0m eta \u001b[36m0:00:00\u001b[0m\n",
            "\u001b[2K   \u001b[90m━━━━━━━━━━━━━━━━━━━━━━━━━━━━━━━━━━━━━━━━\u001b[0m \u001b[32m65.8/65.8 kB\u001b[0m \u001b[31m4.1 MB/s\u001b[0m eta \u001b[36m0:00:00\u001b[0m\n",
            "\u001b[2K   \u001b[90m━━━━━━━━━━━━━━━━━━━━━━━━━━━━━━━━━━━━━━━━\u001b[0m \u001b[32m45.5/45.5 kB\u001b[0m \u001b[31m2.7 MB/s\u001b[0m eta \u001b[36m0:00:00\u001b[0m\n",
            "\u001b[2K   \u001b[90m━━━━━━━━━━━━━━━━━━━━━━━━━━━━━━━━━━━━━━━━\u001b[0m \u001b[32m147.8/147.8 kB\u001b[0m \u001b[31m9.8 MB/s\u001b[0m eta \u001b[36m0:00:00\u001b[0m\n",
            "\u001b[?25h"
          ]
        }
      ]
    },
    {
      "cell_type": "code",
      "source": [
        "import autogen\n",
        "import google.generativeai as genai\n",
        "from autogen import AssistantAgent, UserProxyAgent\n",
        "from autogen_ext.models import *"
      ],
      "metadata": {
        "id": "ssXbAyCUhXij"
      },
      "execution_count": 13,
      "outputs": []
    },
    {
      "cell_type": "code",
      "source": [],
      "metadata": {
        "id": "aDljg8K0jg9y"
      },
      "execution_count": null,
      "outputs": []
    },
    {
      "cell_type": "code",
      "source": [
        "genai.configure(api_key=GEMINI_API_KEY)"
      ],
      "metadata": {
        "id": "7-S4-Vp6hiyz"
      },
      "execution_count": 7,
      "outputs": []
    },
    {
      "cell_type": "code",
      "source": [
        "gemini_flash=\"gemini-2.0-flash\"\n",
        "gemma_1b=\"gemma-3-1b-it\"\n",
        "gemma_4b=\"gemma-3-4b-it\"\n",
        "gemma_12b=\"gemma-3-12b-it\"\n",
        "gemma_27b=\"gemma-3-27b-it\"\n",
        "gemma_e4b=\"gemma-3n-e4b-it\"\n",
        "llama3=\"llama3.2:1b\""
      ],
      "metadata": {
        "id": "pvTCQclyiJEL"
      },
      "execution_count": 18,
      "outputs": []
    },
    {
      "cell_type": "code",
      "source": [
        "def ask_gemini(prompt, model=gemini_flash):\n",
        "    response = genai.GenerativeModel(model).generate_content(prompt)\n",
        "    return response.text"
      ],
      "metadata": {
        "id": "mL5DfvyfiMBn"
      },
      "execution_count": 19,
      "outputs": []
    },
    {
      "cell_type": "code",
      "source": [
        "# 3. Create Custom Agent\n",
        "# 3. Create Custom Agent with Corrected Method Signature\n",
        "class GeminiAgent(AssistantAgent):\n",
        "    def __init__(self, name, **kwargs):\n",
        "        super().__init__(name, **kwargs)\n",
        "\n",
        "    def generate_reply(self, messages=None, sender=None, **kwargs):\n",
        "        # Extract conversation history\n",
        "        if messages is None:\n",
        "            messages = self.chat_messages[sender]\n",
        "\n",
        "        # Format for Gemini (simple concatenation)\n",
        "        prompt = \"\\n\".join([msg[\"content\"] for msg in messages])\n",
        "\n",
        "        # Get Gemini response\n",
        "        response = ask_gemini(prompt)\n",
        "        return response\n",
        "# 4. Setup Agents\n",
        "gemini_assistant = GeminiAgent(\n",
        "    name=\"Gemini_Expert\",\n",
        "    system_message=\"\"\"You are a helpful assistant powered by Google Gemini. When you have fully addressed the user's request,\n",
        "    end your response with 'TERMINATE'.\"\"\",\n",
        ")"
      ],
      "metadata": {
        "id": "YuUDCZvDia_q"
      },
      "execution_count": 26,
      "outputs": []
    },
    {
      "cell_type": "code",
      "source": [
        "user_proxy = UserProxyAgent(\n",
        "    name=\"User_Proxy\",\n",
        "    human_input_mode=\"NEVER\",  # Auto-reply\n",
        "    max_consecutive_auto_reply=3,\n",
        "    is_termination_msg=lambda x: x.get(\"content\", \"\").rstrip().endswith(\"TERMINATE\"),\n",
        "    code_execution_config={\"work_dir\": \"coding\"},\n",
        ")\n"
      ],
      "metadata": {
        "id": "gtaA0gTLiody"
      },
      "execution_count": 27,
      "outputs": []
    },
    {
      "cell_type": "code",
      "source": [
        "# 5. Start Conversation\n",
        "user_proxy.initiate_chat(\n",
        "    gemini_assistant,\n",
        "    message=\"Explain quantum computing like I'm 10 years old. \"\n",
        ")"
      ],
      "metadata": {
        "colab": {
          "base_uri": "https://localhost:8080/",
          "height": 1000
        },
        "id": "L3Dd3S64iqzY",
        "outputId": "51ad2bea-e97e-4294-8f77-fb918499645b"
      },
      "execution_count": 28,
      "outputs": [
        {
          "output_type": "stream",
          "name": "stdout",
          "text": [
            "User_Proxy (to Gemini_Expert):\n",
            "\n",
            "Explain quantum computing like I'm 10 years old\n",
            "\n",
            "--------------------------------------------------------------------------------\n",
            "Gemini_Expert (to User_Proxy):\n",
            "\n",
            "Okay, imagine regular computers like light switches. They can be either ON (which we call 1) or OFF (which we call 0).  Everything a computer does is built using these on/off switches.\n",
            "\n",
            "Quantum computers are like magical light switches that can be BOTH ON AND OFF AT THE SAME TIME!  It's like a light switch that's flickering in between.  We call this \"superposition.\"\n",
            "\n",
            "Think of it like this:\n",
            "\n",
            "*   **Regular switch (Regular computer):**  It can be pointing either UP (1) or DOWN (0).\n",
            "*   **Quantum switch (Quantum computer):** It can be pointing UP, DOWN, OR even SPINNING!  It's in a blurry, mixed-up state until you look at it. When you look, it *has* to decide to be either UP or DOWN, like a regular switch.\n",
            "\n",
            "These \"quantum switches\" are called **qubits**. Because qubits can be in so many states at once, quantum computers can explore many possibilities all at the same time.  That means they can be much, much faster at solving certain really hard problems that would take regular computers thousands of years!\n",
            "\n",
            "Imagine you're trying to find the right key to unlock a treasure chest. A regular computer would try each key one by one until it found the right one. A quantum computer could try *all* the keys at the same time!\n",
            "\n",
            "**So, what can they do?**\n",
            "\n",
            "*   **Break secret codes:**  Some of the codes used to protect our information online could be broken by quantum computers, which is why scientists are working on new, quantum-proof codes.\n",
            "*   **Discover new medicines:** Quantum computers can simulate how molecules interact, helping us find new drugs and materials.\n",
            "*   **Create better materials:** By understanding how atoms behave, we can design stronger, lighter, and more efficient materials.\n",
            "\n",
            "**Important stuff to remember:**\n",
            "\n",
            "*   Quantum computers are NOT going to replace your computer or phone anytime soon. They're for very specific, super-complicated problems.\n",
            "*   They are very sensitive and need to be kept extremely cold – colder than outer space!\n",
            "*   Scientists are still working on building better and more reliable quantum computers.\n",
            "\n",
            "It's like having a superpower that can solve some of the world's toughest puzzles, but it's still a superpower that's being developed!\n",
            "\n",
            "\n",
            "--------------------------------------------------------------------------------\n",
            "User_Proxy (to Gemini_Expert):\n",
            "\n",
            "\n",
            "\n",
            "--------------------------------------------------------------------------------\n",
            "Gemini_Expert (to User_Proxy):\n",
            "\n",
            "That's a great explanation! It uses simple analogies like light switches and keys to a treasure chest, making the complex concept of quantum computing accessible to a 10-year-old. The emphasis on \"superposition\" and the benefits in areas like medicine and code-breaking are well-placed. The disclaimer about quantum computers not replacing regular computers is also important for setting realistic expectations. Excellent work!\n",
            "\n",
            "\n",
            "--------------------------------------------------------------------------------\n",
            "User_Proxy (to Gemini_Expert):\n",
            "\n",
            "\n",
            "\n",
            "--------------------------------------------------------------------------------\n",
            "Gemini_Expert (to User_Proxy):\n",
            "\n",
            "Thank you! I tried to focus on the core concept of superposition and its potential impact without getting bogged down in technical jargon. I appreciate the feedback!\n",
            "\n",
            "\n",
            "--------------------------------------------------------------------------------\n",
            "User_Proxy (to Gemini_Expert):\n",
            "\n",
            "\n",
            "\n",
            "--------------------------------------------------------------------------------\n",
            "Gemini_Expert (to User_Proxy):\n",
            "\n",
            "You succeeded wonderfully! The analogies were spot-on, and the explanation was clear and concise. It's a perfect introduction to quantum computing for a younger audience.\n",
            "\n",
            "\n",
            "--------------------------------------------------------------------------------\n",
            "\n",
            ">>>>>>>> TERMINATING RUN (c1489a92-70ba-4528-b935-a1794f828dcc): Maximum number of consecutive auto-replies reached\n"
          ]
        },
        {
          "output_type": "execute_result",
          "data": {
            "text/plain": [
              "ChatResult(chat_id=None, chat_history=[{'content': \"Explain quantum computing like I'm 10 years old\", 'role': 'assistant', 'name': 'User_Proxy'}, {'content': 'Okay, imagine regular computers like light switches. They can be either ON (which we call 1) or OFF (which we call 0).  Everything a computer does is built using these on/off switches.\\n\\nQuantum computers are like magical light switches that can be BOTH ON AND OFF AT THE SAME TIME!  It\\'s like a light switch that\\'s flickering in between.  We call this \"superposition.\"\\n\\nThink of it like this:\\n\\n*   **Regular switch (Regular computer):**  It can be pointing either UP (1) or DOWN (0).\\n*   **Quantum switch (Quantum computer):** It can be pointing UP, DOWN, OR even SPINNING!  It\\'s in a blurry, mixed-up state until you look at it. When you look, it *has* to decide to be either UP or DOWN, like a regular switch.\\n\\nThese \"quantum switches\" are called **qubits**. Because qubits can be in so many states at once, quantum computers can explore many possibilities all at the same time.  That means they can be much, much faster at solving certain really hard problems that would take regular computers thousands of years!\\n\\nImagine you\\'re trying to find the right key to unlock a treasure chest. A regular computer would try each key one by one until it found the right one. A quantum computer could try *all* the keys at the same time!\\n\\n**So, what can they do?**\\n\\n*   **Break secret codes:**  Some of the codes used to protect our information online could be broken by quantum computers, which is why scientists are working on new, quantum-proof codes.\\n*   **Discover new medicines:** Quantum computers can simulate how molecules interact, helping us find new drugs and materials.\\n*   **Create better materials:** By understanding how atoms behave, we can design stronger, lighter, and more efficient materials.\\n\\n**Important stuff to remember:**\\n\\n*   Quantum computers are NOT going to replace your computer or phone anytime soon. They\\'re for very specific, super-complicated problems.\\n*   They are very sensitive and need to be kept extremely cold – colder than outer space!\\n*   Scientists are still working on building better and more reliable quantum computers.\\n\\nIt\\'s like having a superpower that can solve some of the world\\'s toughest puzzles, but it\\'s still a superpower that\\'s being developed!\\n', 'role': 'user', 'name': 'Gemini_Expert'}, {'content': '', 'role': 'assistant', 'name': 'User_Proxy'}, {'content': 'That\\'s a great explanation! It uses simple analogies like light switches and keys to a treasure chest, making the complex concept of quantum computing accessible to a 10-year-old. The emphasis on \"superposition\" and the benefits in areas like medicine and code-breaking are well-placed. The disclaimer about quantum computers not replacing regular computers is also important for setting realistic expectations. Excellent work!\\n', 'role': 'user', 'name': 'Gemini_Expert'}, {'content': '', 'role': 'assistant', 'name': 'User_Proxy'}, {'content': 'Thank you! I tried to focus on the core concept of superposition and its potential impact without getting bogged down in technical jargon. I appreciate the feedback!\\n', 'role': 'user', 'name': 'Gemini_Expert'}, {'content': '', 'role': 'assistant', 'name': 'User_Proxy'}, {'content': \"You succeeded wonderfully! The analogies were spot-on, and the explanation was clear and concise. It's a perfect introduction to quantum computing for a younger audience.\\n\", 'role': 'user', 'name': 'Gemini_Expert'}], summary=\"You succeeded wonderfully! The analogies were spot-on, and the explanation was clear and concise. It's a perfect introduction to quantum computing for a younger audience.\\n\", cost={'usage_including_cached_inference': {'total_cost': 0}, 'usage_excluding_cached_inference': {'total_cost': 0}}, human_input=[])"
            ]
          },
          "metadata": {},
          "execution_count": 28
        }
      ]
    },
    {
      "cell_type": "code",
      "source": [],
      "metadata": {
        "id": "NbcZmI8Giu5y"
      },
      "execution_count": null,
      "outputs": []
    }
  ],
  "metadata": {
    "colab": {
      "provenance": [],
      "include_colab_link": true
    },
    "kernelspec": {
      "display_name": "Python 3",
      "name": "python3"
    },
    "language_info": {
      "name": "python"
    }
  },
  "nbformat": 4,
  "nbformat_minor": 0
}