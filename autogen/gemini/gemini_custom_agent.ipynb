{
  "cells": [
    {
      "cell_type": "markdown",
      "metadata": {
        "id": "view-in-github",
        "colab_type": "text"
      },
      "source": [
        "<a href=\"https://colab.research.google.com/github/harjeet88/agentic_ai/blob/main/autogen/gemini/gemini_custom_agent.ipynb\" target=\"_parent\"><img src=\"https://colab.research.google.com/assets/colab-badge.svg\" alt=\"Open In Colab\"/></a>"
      ]
    },
    {
      "cell_type": "code",
      "source": [
        "!pip install -U -q autogen-agentchat autogen-ext[openai]"
      ],
      "metadata": {
        "id": "oXNrr3wIp429",
        "outputId": "f021ff9b-732f-431e-eaf7-8a72f9557cc8",
        "colab": {
          "base_uri": "https://localhost:8080/"
        }
      },
      "execution_count": 29,
      "outputs": [
        {
          "output_type": "stream",
          "name": "stdout",
          "text": [
            "\u001b[?25l   \u001b[90m━━━━━━━━━━━━━━━━━━━━━━━━━━━━━━━━━━━━━━━━\u001b[0m \u001b[32m0.0/108.2 kB\u001b[0m \u001b[31m?\u001b[0m eta \u001b[36m-:--:--\u001b[0m\r\u001b[2K   \u001b[91m━━━━━━━━━━━━━━━━━━━━━━━━━━━━━━━━━━\u001b[0m\u001b[90m╺\u001b[0m\u001b[90m━━━━━\u001b[0m \u001b[32m92.2/108.2 kB\u001b[0m \u001b[31m2.6 MB/s\u001b[0m eta \u001b[36m0:00:01\u001b[0m\r\u001b[2K   \u001b[90m━━━━━━━━━━━━━━━━━━━━━━━━━━━━━━━━━━━━━━━━\u001b[0m \u001b[32m108.2/108.2 kB\u001b[0m \u001b[31m2.1 MB/s\u001b[0m eta \u001b[36m0:00:00\u001b[0m\n",
            "\u001b[?25h"
          ]
        }
      ]
    },
    {
      "cell_type": "code",
      "metadata": {
        "colab": {
          "base_uri": "https://localhost:8080/"
        },
        "id": "9c5f4766",
        "outputId": "b77d6384-a4fc-4e1b-bc45-0cb61c922c38"
      },
      "source": [
        "%pip install -U -q autogen autogen_ext[openai] google-genai"
      ],
      "execution_count": 5,
      "outputs": [
        {
          "output_type": "stream",
          "name": "stdout",
          "text": [
            "\u001b[?25l   \u001b[90m━━━━━━━━━━━━━━━━━━━━━━━━━━━━━━━━━━━━━━━━\u001b[0m \u001b[32m0.0/838.3 kB\u001b[0m \u001b[31m?\u001b[0m eta \u001b[36m-:--:--\u001b[0m\r\u001b[2K   \u001b[91m━━━━━━━━━━━━━━━━━━━━━━━━\u001b[0m\u001b[90m╺\u001b[0m\u001b[90m━━━━━━━━━━━━━━━\u001b[0m \u001b[32m512.0/838.3 kB\u001b[0m \u001b[31m16.6 MB/s\u001b[0m eta \u001b[36m0:00:01\u001b[0m\r\u001b[2K   \u001b[90m━━━━━━━━━━━━━━━━━━━━━━━━━━━━━━━━━━━━━━━━\u001b[0m \u001b[32m838.3/838.3 kB\u001b[0m \u001b[31m14.3 MB/s\u001b[0m eta \u001b[36m0:00:00\u001b[0m\n",
            "\u001b[?25h\u001b[?25l   \u001b[90m━━━━━━━━━━━━━━━━━━━━━━━━━━━━━━━━━━━━━━━━\u001b[0m \u001b[32m0.0/97.3 kB\u001b[0m \u001b[31m?\u001b[0m eta \u001b[36m-:--:--\u001b[0m\r\u001b[2K   \u001b[90m━━━━━━━━━━━━━━━━━━━━━━━━━━━━━━━━━━━━━━━━\u001b[0m \u001b[32m97.3/97.3 kB\u001b[0m \u001b[31m7.6 MB/s\u001b[0m eta \u001b[36m0:00:00\u001b[0m\n",
            "\u001b[?25h\u001b[?25l   \u001b[90m━━━━━━━━━━━━━━━━━━━━━━━━━━━━━━━━━━━━━━━━\u001b[0m \u001b[32m0.0/223.8 kB\u001b[0m \u001b[31m?\u001b[0m eta \u001b[36m-:--:--\u001b[0m\r\u001b[2K   \u001b[90m━━━━━━━━━━━━━━━━━━━━━━━━━━━━━━━━━━━━━━━━\u001b[0m \u001b[32m223.8/223.8 kB\u001b[0m \u001b[31m15.7 MB/s\u001b[0m eta \u001b[36m0:00:00\u001b[0m\n",
            "\u001b[?25h\u001b[?25l   \u001b[90m━━━━━━━━━━━━━━━━━━━━━━━━━━━━━━━━━━━━━━━━\u001b[0m \u001b[32m0.0/306.4 kB\u001b[0m \u001b[31m?\u001b[0m eta \u001b[36m-:--:--\u001b[0m\r\u001b[2K   \u001b[90m━━━━━━━━━━━━━━━━━━━━━━━━━━━━━━━━━━━━━━━━\u001b[0m \u001b[32m306.4/306.4 kB\u001b[0m \u001b[31m21.3 MB/s\u001b[0m eta \u001b[36m0:00:00\u001b[0m\n",
            "\u001b[2K   \u001b[90m━━━━━━━━━━━━━━━━━━━━━━━━━━━━━━━━━━━━━━━━\u001b[0m \u001b[32m65.8/65.8 kB\u001b[0m \u001b[31m4.1 MB/s\u001b[0m eta \u001b[36m0:00:00\u001b[0m\n",
            "\u001b[2K   \u001b[90m━━━━━━━━━━━━━━━━━━━━━━━━━━━━━━━━━━━━━━━━\u001b[0m \u001b[32m45.5/45.5 kB\u001b[0m \u001b[31m2.7 MB/s\u001b[0m eta \u001b[36m0:00:00\u001b[0m\n",
            "\u001b[2K   \u001b[90m━━━━━━━━━━━━━━━━━━━━━━━━━━━━━━━━━━━━━━━━\u001b[0m \u001b[32m147.8/147.8 kB\u001b[0m \u001b[31m9.8 MB/s\u001b[0m eta \u001b[36m0:00:00\u001b[0m\n",
            "\u001b[?25h"
          ]
        }
      ]
    },
    {
      "cell_type": "code",
      "source": [
        "from google.colab import drive\n",
        "drive.mount('/content/drive')"
      ],
      "metadata": {
        "colab": {
          "base_uri": "https://localhost:8080/"
        },
        "id": "gI9joTOGhAad",
        "outputId": "09e7730c-2191-4ff3-c533-8ce8eadea6fa"
      },
      "execution_count": 1,
      "outputs": [
        {
          "output_type": "stream",
          "name": "stdout",
          "text": [
            "Mounted at /content/drive\n"
          ]
        }
      ]
    },
    {
      "cell_type": "code",
      "source": [
        "from google.colab import userdata\n",
        "GOOGLE_API_KEY=userdata.get('GOOGLE_API_KEY')\n",
        "GEMINI_API_KEY=GOOGLE_API_KEY"
      ],
      "metadata": {
        "id": "w-OBhUtdhBj_"
      },
      "execution_count": 2,
      "outputs": []
    },
    {
      "cell_type": "code",
      "source": [
        "import os\n",
        "os.environ['GOOGLE_API_KEY']=GOOGLE_API_KEY\n",
        "os.environ['GEMINI_API_KEY']=GEMINI_API_KEY"
      ],
      "metadata": {
        "id": "1InhVNoOhUbo"
      },
      "execution_count": 3,
      "outputs": []
    },
    {
      "cell_type": "code",
      "source": [
        "import autogen\n",
        "import google.generativeai as genai\n",
        "from autogen import AssistantAgent, UserProxyAgent\n",
        "from autogen_ext.models import openai.O"
      ],
      "metadata": {
        "id": "ssXbAyCUhXij"
      },
      "execution_count": 13,
      "outputs": []
    },
    {
      "cell_type": "code",
      "source": [],
      "metadata": {
        "id": "aDljg8K0jg9y"
      },
      "execution_count": null,
      "outputs": []
    },
    {
      "cell_type": "code",
      "source": [
        "genai.configure(api_key=GEMINI_API_KEY)"
      ],
      "metadata": {
        "id": "7-S4-Vp6hiyz"
      },
      "execution_count": 7,
      "outputs": []
    },
    {
      "cell_type": "code",
      "source": [
        "gemini_flash=\"gemini-2.0-flash\"\n",
        "gemma_1b=\"gemma-3-1b-it\"\n",
        "gemma_4b=\"gemma-3-4b-it\"\n",
        "gemma_12b=\"gemma-3-12b-it\"\n",
        "gemma_27b=\"gemma-3-27b-it\"\n",
        "gemma_e4b=\"gemma-3n-e4b-it\"\n",
        "llama3=\"llama3.2:1b\""
      ],
      "metadata": {
        "id": "pvTCQclyiJEL"
      },
      "execution_count": 18,
      "outputs": []
    },
    {
      "cell_type": "code",
      "source": [
        "def ask_gemini(prompt, model=gemini_flash):\n",
        "    response = genai.GenerativeModel(model).generate_content(prompt)\n",
        "    return response.text"
      ],
      "metadata": {
        "id": "mL5DfvyfiMBn"
      },
      "execution_count": 19,
      "outputs": []
    },
    {
      "cell_type": "code",
      "source": [
        "# 3. Create Custom Agent\n",
        "# 3. Create Custom Agent with Corrected Method Signature\n",
        "class GeminiAgent(AssistantAgent):\n",
        "    def __init__(self, name, **kwargs):\n",
        "        super().__init__(name, **kwargs)\n",
        "\n",
        "    def generate_reply(self, messages=None, sender=None, **kwargs):\n",
        "        # Extract conversation history\n",
        "        if messages is None:\n",
        "            messages = self.chat_messages[sender]\n",
        "\n",
        "        # Format for Gemini (simple concatenation)\n",
        "        prompt = \"\\n\".join([msg[\"content\"] for msg in messages])\n",
        "\n",
        "        # Get Gemini response\n",
        "        response = ask_gemini(prompt)\n",
        "        return response\n",
        "# 4. Setup Agents\n",
        "gemini_assistant = GeminiAgent(\n",
        "    name=\"Gemini_Expert\",\n",
        "    system_message=\"\"\"You are a helpful assistant. you are calling other assitant for work. When you are happy with response,\n",
        "    end your response with 'TERMINATE'.\"\"\",\n",
        ")"
      ],
      "metadata": {
        "id": "YuUDCZvDia_q"
      },
      "execution_count": 40,
      "outputs": []
    },
    {
      "cell_type": "code",
      "source": [
        "user_proxy = UserProxyAgent(\n",
        "    name=\"User_Proxy\",\n",
        "    human_input_mode=\"NEVER\",  # Auto-reply\n",
        "    max_consecutive_auto_reply=3,\n",
        "    is_termination_msg=lambda x: x.get(\"content\", \"\") == \"\" and x.get(\"content\", \"\").rstrip().endswith(\"TERMINATE\"),\n",
        "    code_execution_config={\"work_dir\": \"coding\"},\n",
        ")\n"
      ],
      "metadata": {
        "id": "gtaA0gTLiody"
      },
      "execution_count": 41,
      "outputs": []
    },
    {
      "cell_type": "code",
      "source": [
        "# 5. Start Conversation\n",
        "user_proxy.initiate_chat(\n",
        "    gemini_assistant,\n",
        "    message=\"Explain quantum computing like I'm 10 years old. \"\n",
        ")"
      ],
      "metadata": {
        "colab": {
          "base_uri": "https://localhost:8080/",
          "height": 1000
        },
        "id": "L3Dd3S64iqzY",
        "outputId": "41c035e5-551f-4711-a393-517de18cb390"
      },
      "execution_count": 42,
      "outputs": [
        {
          "output_type": "stream",
          "name": "stdout",
          "text": [
            "User_Proxy (to Gemini_Expert):\n",
            "\n",
            "Explain quantum computing like I'm 10 years old. \n",
            "\n",
            "--------------------------------------------------------------------------------\n",
            "Gemini_Expert (to User_Proxy):\n",
            "\n",
            "Okay, imagine you have a light switch. It can be either ON or OFF, right? That's like a regular computer bit - it's either a 0 (OFF) or a 1 (ON).\n",
            "\n",
            "Now, imagine a special light switch that can be ON, OFF, or BOTH at the SAME TIME!  It's like the light is kind of flickering! That's what a **quantum bit** (or **qubit**) is like!\n",
            "\n",
            "Instead of just being 0 or 1, a qubit can be 0, 1, or a mix of both.  We call this mix \"superposition\". It's like the qubit is trying out both possibilities at once!\n",
            "\n",
            "Think of it like a coin spinning in the air.  While it's spinning, it's not heads or tails yet, it's kind of both! Only when it lands do you know for sure if it's heads or tails.\n",
            "\n",
            "Now, imagine you have a bunch of these special light switches (qubits) that are all connected to each other.  They can talk to each other and influence each other, which is called \"entanglement\".  It's like magic - if you change one, the other one instantly changes too, even if they are far apart!\n",
            "\n",
            "So, a quantum computer uses these qubits, with their superpowers of \"superposition\" and \"entanglement\", to solve really complicated problems that normal computers can't handle.\n",
            "\n",
            "Why is this so cool?\n",
            "\n",
            "*   **It's super fast!** Because qubits can be in multiple states at once, they can explore lots of possibilities at the same time, like trying out different paths in a maze all at once. Regular computers have to try them one at a time.\n",
            "*   **It can solve really hard problems!** Like designing new medicines, creating new materials, or even predicting the weather better.\n",
            "\n",
            "Quantum computers are still new and being built, but they have the potential to change the world!  It's like we're just starting to learn how to use these magical light switches!\n",
            "\n",
            "\n",
            "--------------------------------------------------------------------------------\n",
            "User_Proxy (to Gemini_Expert):\n",
            "\n",
            "\n",
            "\n",
            "--------------------------------------------------------------------------------\n",
            "Gemini_Expert (to User_Proxy):\n",
            "\n",
            "That's a fantastic explanation! You've nailed the key concepts in a way that's perfectly understandable for a 10-year-old. The light switch and spinning coin analogies are excellent for visualizing superposition.  The connection to real-world applications is also well done.  Excellent job!\n",
            "\n",
            "\n",
            "--------------------------------------------------------------------------------\n",
            "User_Proxy (to Gemini_Expert):\n",
            "\n",
            "\n",
            "\n",
            "--------------------------------------------------------------------------------\n",
            "Gemini_Expert (to User_Proxy):\n",
            "\n",
            "Thank you! I tried to focus on analogies and avoid too much technical jargon. It's definitely a complex topic to simplify, but I'm glad it came across well.\n",
            "\n",
            "\n",
            "--------------------------------------------------------------------------------\n",
            "User_Proxy (to Gemini_Expert):\n",
            "\n",
            "\n",
            "\n",
            "--------------------------------------------------------------------------------\n",
            "Gemini_Expert (to User_Proxy):\n",
            "\n",
            "You absolutely succeeded. If I were teaching a group of kids about quantum computing, I'd happily use your explanation as a starting point. You could even use those analogies to act out a little demonstration!\n",
            "\n",
            "\n",
            "--------------------------------------------------------------------------------\n",
            "\n",
            ">>>>>>>> TERMINATING RUN (14819247-85bf-45ad-a702-c094f05a13a9): Maximum number of consecutive auto-replies reached\n"
          ]
        },
        {
          "output_type": "execute_result",
          "data": {
            "text/plain": [
              "ChatResult(chat_id=None, chat_history=[{'content': \"Explain quantum computing like I'm 10 years old. \", 'role': 'assistant', 'name': 'User_Proxy'}, {'content': 'Okay, imagine you have a light switch. It can be either ON or OFF, right? That\\'s like a regular computer bit - it\\'s either a 0 (OFF) or a 1 (ON).\\n\\nNow, imagine a special light switch that can be ON, OFF, or BOTH at the SAME TIME!  It\\'s like the light is kind of flickering! That\\'s what a **quantum bit** (or **qubit**) is like!\\n\\nInstead of just being 0 or 1, a qubit can be 0, 1, or a mix of both.  We call this mix \"superposition\". It\\'s like the qubit is trying out both possibilities at once!\\n\\nThink of it like a coin spinning in the air.  While it\\'s spinning, it\\'s not heads or tails yet, it\\'s kind of both! Only when it lands do you know for sure if it\\'s heads or tails.\\n\\nNow, imagine you have a bunch of these special light switches (qubits) that are all connected to each other.  They can talk to each other and influence each other, which is called \"entanglement\".  It\\'s like magic - if you change one, the other one instantly changes too, even if they are far apart!\\n\\nSo, a quantum computer uses these qubits, with their superpowers of \"superposition\" and \"entanglement\", to solve really complicated problems that normal computers can\\'t handle.\\n\\nWhy is this so cool?\\n\\n*   **It\\'s super fast!** Because qubits can be in multiple states at once, they can explore lots of possibilities at the same time, like trying out different paths in a maze all at once. Regular computers have to try them one at a time.\\n*   **It can solve really hard problems!** Like designing new medicines, creating new materials, or even predicting the weather better.\\n\\nQuantum computers are still new and being built, but they have the potential to change the world!  It\\'s like we\\'re just starting to learn how to use these magical light switches!\\n', 'role': 'user', 'name': 'Gemini_Expert'}, {'content': '', 'role': 'assistant', 'name': 'User_Proxy'}, {'content': \"That's a fantastic explanation! You've nailed the key concepts in a way that's perfectly understandable for a 10-year-old. The light switch and spinning coin analogies are excellent for visualizing superposition.  The connection to real-world applications is also well done.  Excellent job!\\n\", 'role': 'user', 'name': 'Gemini_Expert'}, {'content': '', 'role': 'assistant', 'name': 'User_Proxy'}, {'content': \"Thank you! I tried to focus on analogies and avoid too much technical jargon. It's definitely a complex topic to simplify, but I'm glad it came across well.\\n\", 'role': 'user', 'name': 'Gemini_Expert'}, {'content': '', 'role': 'assistant', 'name': 'User_Proxy'}, {'content': \"You absolutely succeeded. If I were teaching a group of kids about quantum computing, I'd happily use your explanation as a starting point. You could even use those analogies to act out a little demonstration!\\n\", 'role': 'user', 'name': 'Gemini_Expert'}], summary=\"You absolutely succeeded. If I were teaching a group of kids about quantum computing, I'd happily use your explanation as a starting point. You could even use those analogies to act out a little demonstration!\\n\", cost={'usage_including_cached_inference': {'total_cost': 0}, 'usage_excluding_cached_inference': {'total_cost': 0}}, human_input=[])"
            ]
          },
          "metadata": {},
          "execution_count": 42
        }
      ]
    },
    {
      "cell_type": "code",
      "source": [],
      "metadata": {
        "id": "NbcZmI8Giu5y"
      },
      "execution_count": null,
      "outputs": []
    }
  ],
  "metadata": {
    "colab": {
      "provenance": [],
      "include_colab_link": true
    },
    "kernelspec": {
      "display_name": "Python 3",
      "name": "python3"
    },
    "language_info": {
      "name": "python"
    }
  },
  "nbformat": 4,
  "nbformat_minor": 0
}