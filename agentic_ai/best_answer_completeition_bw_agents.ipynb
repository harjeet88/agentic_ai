{
  "nbformat": 4,
  "nbformat_minor": 0,
  "metadata": {
    "colab": {
      "provenance": [],
      "include_colab_link": true
    },
    "kernelspec": {
      "name": "python3",
      "display_name": "Python 3"
    },
    "language_info": {
      "name": "python"
    }
  },
  "cells": [
    {
      "cell_type": "markdown",
      "metadata": {
        "id": "view-in-github",
        "colab_type": "text"
      },
      "source": [
        "<a href=\"https://colab.research.google.com/github/harjeet88/agentic_ai/blob/main/agentic_ai/best_answer_completeition_bw_agents.ipynb\" target=\"_parent\"><img src=\"https://colab.research.google.com/assets/colab-badge.svg\" alt=\"Open In Colab\"/></a>"
      ]
    },
    {
      "cell_type": "code",
      "metadata": {
        "colab": {
          "base_uri": "https://localhost:8080/"
        },
        "id": "40220025",
        "outputId": "662b2e5a-85d1-4b57-fdf8-69b1f019efab"
      },
      "source": [
        "%pip install python-dotenv pypdf"
      ],
      "execution_count": 1,
      "outputs": [
        {
          "output_type": "stream",
          "name": "stdout",
          "text": [
            "Collecting python-dotenv\n",
            "  Downloading python_dotenv-1.1.0-py3-none-any.whl.metadata (24 kB)\n",
            "Collecting pypdf\n",
            "  Downloading pypdf-5.6.0-py3-none-any.whl.metadata (7.2 kB)\n",
            "Downloading python_dotenv-1.1.0-py3-none-any.whl (20 kB)\n",
            "Downloading pypdf-5.6.0-py3-none-any.whl (304 kB)\n",
            "\u001b[2K   \u001b[90m━━━━━━━━━━━━━━━━━━━━━━━━━━━━━━━━━━━━━━━━\u001b[0m \u001b[32m304.2/304.2 kB\u001b[0m \u001b[31m6.6 MB/s\u001b[0m eta \u001b[36m0:00:00\u001b[0m\n",
            "\u001b[?25hInstalling collected packages: python-dotenv, pypdf\n",
            "Successfully installed pypdf-5.6.0 python-dotenv-1.1.0\n"
          ]
        }
      ]
    },
    {
      "cell_type": "code",
      "source": [
        "!curl -fsSL https://ollama.com/install.sh | sh"
      ],
      "metadata": {
        "colab": {
          "base_uri": "https://localhost:8080/"
        },
        "id": "olA22cIJWm8E",
        "outputId": "b2db16ad-9fff-4de6-9ced-2fcbede28ab5"
      },
      "execution_count": 2,
      "outputs": [
        {
          "output_type": "stream",
          "name": "stdout",
          "text": [
            ">>> Installing ollama to /usr/local\n",
            ">>> Downloading Linux amd64 bundle\n",
            "######################################################################## 100.0%\n",
            ">>> Creating ollama user...\n",
            ">>> Adding ollama user to video group...\n",
            ">>> Adding current user to ollama group...\n",
            ">>> Creating ollama systemd service...\n",
            "\u001b[1m\u001b[31mWARNING:\u001b[m systemd is not running\n",
            "\u001b[1m\u001b[31mWARNING:\u001b[m Unable to detect NVIDIA/AMD GPU. Install lspci or lshw to automatically detect and install GPU dependencies.\n",
            ">>> The Ollama API is now available at 127.0.0.1:11434.\n",
            ">>> Install complete. Run \"ollama\" from the command line.\n"
          ]
        }
      ]
    },
    {
      "cell_type": "code",
      "source": [
        "# Start Ollama server\n",
        "\n",
        "import subprocess\n",
        "\n",
        "# Start the command in a background process\n",
        "process = subprocess.Popen([\"ollama\", \"serve\"])\n",
        "\n",
        "# The kernel can continue execution while the process runs in the background\n",
        "print(\"The 'ollama serve' process is running in the background.\")"
      ],
      "metadata": {
        "colab": {
          "base_uri": "https://localhost:8080/"
        },
        "id": "Ub_fHCWqWt4K",
        "outputId": "aabe6b65-4f3c-42fa-b824-df98e9305431"
      },
      "execution_count": 3,
      "outputs": [
        {
          "output_type": "stream",
          "name": "stdout",
          "text": [
            "The 'ollama serve' process is running in the background.\n"
          ]
        }
      ]
    },
    {
      "cell_type": "code",
      "source": [
        "!ollama pull llama3.2:1b"
      ],
      "metadata": {
        "colab": {
          "base_uri": "https://localhost:8080/"
        },
        "id": "4vXtfpoiWxnf",
        "outputId": "cdaa4a39-ae89-47b0-ce93-d88f3a250fe5"
      },
      "execution_count": 4,
      "outputs": [
        {
          "output_type": "stream",
          "name": "stdout",
          "text": [
            "\u001b[?2026h\u001b[?25l\u001b[1G\u001b[?25h\u001b[?2026l\u001b[?2026h\u001b[?25l\u001b[1G\u001b[?25h\u001b[?2026l\u001b[?2026h\u001b[?25l\u001b[1G\u001b[?25h\u001b[?2026l\u001b[?2026h\u001b[?25l\u001b[1G\u001b[?25h\u001b[?2026l\u001b[?2026h\u001b[?25l\u001b[1G\u001b[?25h\u001b[?2026l\u001b[?2026h\u001b[?25l\u001b[1G\u001b[?25h\u001b[?2026l\u001b[?2026h\u001b[?25l\u001b[1G\u001b[?25h\u001b[?2026l\u001b[?2026h\u001b[?25l\u001b[A\u001b[1G\u001b[?25h\u001b[?2026l\u001b[?2026h\u001b[?25l\u001b[A\u001b[1G\u001b[?25h\u001b[?2026l\u001b[?2026h\u001b[?25l\u001b[A\u001b[1G\u001b[?25h\u001b[?2026l\u001b[?2026h\u001b[?25l\u001b[A\u001b[1G\u001b[?25h\u001b[?2026l\u001b[?2026h\u001b[?25l\u001b[A\u001b[1G\u001b[?25h\u001b[?2026l\u001b[?2026h\u001b[?25l\u001b[A\u001b[1G\u001b[?25h\u001b[?2026l\u001b[?2026h\u001b[?25l\u001b[A\u001b[1G\u001b[?25h\u001b[?2026l\u001b[?2026h\u001b[?25l\u001b[A\u001b[1G\u001b[?25h\u001b[?2026l\u001b[?2026h\u001b[?25l\u001b[A\u001b[1G\u001b[?25h\u001b[?2026l\u001b[?2026h\u001b[?25l\u001b[A\u001b[1G\u001b[?25h\u001b[?2026l\u001b[?2026h\u001b[?25l\u001b[A\u001b[1G\u001b[?25h\u001b[?2026l\u001b[?2026h\u001b[?25l\u001b[A\u001b[1G\u001b[?25h\u001b[?2026l\u001b[?2026h\u001b[?25l\u001b[A\u001b[1G\u001b[?25h\u001b[?2026l\u001b[?2026h\u001b[?25l\u001b[A\u001b[1G\u001b[?25h\u001b[?2026l\u001b[?2026h\u001b[?25l\u001b[A\u001b[1G\u001b[?25h\u001b[?2026l\u001b[?2026h\u001b[?25l\u001b[A\u001b[1G\u001b[?25h\u001b[?2026l\u001b[?2026h\u001b[?25l\u001b[A\u001b[1G\u001b[?25h\u001b[?2026l\u001b[?2026h\u001b[?25l\u001b[A\u001b[1G\u001b[?25h\u001b[?2026l\u001b[?2026h\u001b[?25l\u001b[A\u001b[1G\u001b[?25h\u001b[?2026l\u001b[?2026h\u001b[?25l\u001b[A\u001b[1G\u001b[?25h\u001b[?2026l\u001b[?2026h\u001b[?25l\u001b[A\u001b[1G\u001b[?25h\u001b[?2026l\u001b[?2026h\u001b[?25l\u001b[A\u001b[1G\u001b[?25h\u001b[?2026l\u001b[?2026h\u001b[?25l\u001b[A\u001b[1G\u001b[?25h\u001b[?2026l\u001b[?2026h\u001b[?25l\u001b[A\u001b[1G\u001b[?25h\u001b[?2026l\u001b[?2026h\u001b[?25l\u001b[A\u001b[1G\u001b[?25h\u001b[?2026l\u001b[?2026h\u001b[?25l\u001b[A\u001b[1G\u001b[?25h\u001b[?2026l\u001b[?2026h\u001b[?25l\u001b[A\u001b[1G\u001b[?25h\u001b[?2026l\u001b[?2026h\u001b[?25l\u001b[A\u001b[1G\u001b[?25h\u001b[?2026l\u001b[?2026h\u001b[?25l\u001b[A\u001b[1G\u001b[?25h\u001b[?2026l\u001b[?2026h\u001b[?25l\u001b[A\u001b[1G\u001b[?25h\u001b[?2026l\u001b[?2026h\u001b[?25l\u001b[A\u001b[1G\u001b[?25h\u001b[?2026l\u001b[?2026h\u001b[?25l\u001b[A\u001b[1G\u001b[?25h\u001b[?2026l\u001b[?2026h\u001b[?25l\u001b[A\u001b[1G\u001b[?25h\u001b[?2026l\u001b[?2026h\u001b[?25l\u001b[A\u001b[1G\u001b[?25h\u001b[?2026l\u001b[?2026h\u001b[?25l\u001b[A\u001b[1G\u001b[?25h\u001b[?2026l\u001b[?2026h\u001b[?25l\u001b[A\u001b[1G\u001b[?25h\u001b[?2026l\u001b[?2026h\u001b[?25l\u001b[A\u001b[1G\u001b[?25h\u001b[?2026l\u001b[?2026h\u001b[?25l\u001b[A\u001b[1G\u001b[?25h\u001b[?2026l\u001b[?2026h\u001b[?25l\u001b[A\u001b[1G\u001b[?25h\u001b[?2026l\u001b[?2026h\u001b[?25l\u001b[A\u001b[1G\u001b[?25h\u001b[?2026l\u001b[?2026h\u001b[?25l\u001b[A\u001b[1G\u001b[?25h\u001b[?2026l\u001b[?2026h\u001b[?25l\u001b[A\u001b[1G\u001b[?25h\u001b[?2026l\u001b[?2026h\u001b[?25l\u001b[A\u001b[1G\u001b[?25h\u001b[?2026l\u001b[?2026h\u001b[?25l\u001b[A\u001b[1G\u001b[?25h\u001b[?2026l\u001b[?2026h\u001b[?25l\u001b[A\u001b[1G\u001b[?25h\u001b[?2026l\u001b[?2026h\u001b[?25l\u001b[A\u001b[1G\u001b[?25h\u001b[?2026l\u001b[?2026h\u001b[?25l\u001b[A\u001b[1G\u001b[?25h\u001b[?2026l\u001b[?2026h\u001b[?25l\u001b[A\u001b[1G\u001b[?25h\u001b[?2026l\u001b[?2026h\u001b[?25l\u001b[A\u001b[1G\u001b[?25h\u001b[?2026l\u001b[?2026h\u001b[?25l\u001b[A\u001b[1G\u001b[?25h\u001b[?2026l\u001b[?2026h\u001b[?25l\u001b[A\u001b[1G\u001b[?25h\u001b[?2026l\u001b[?2026h\u001b[?25l\u001b[A\u001b[1G\u001b[?25h\u001b[?2026l\u001b[?2026h\u001b[?25l\u001b[A\u001b[1G\u001b[?25h\u001b[?2026l\u001b[?2026h\u001b[?25l\u001b[A\u001b[1G\u001b[?25h\u001b[?2026l\u001b[?2026h\u001b[?25l\u001b[A\u001b[1G\u001b[?25h\u001b[?2026l\u001b[?2026h\u001b[?25l\u001b[A\u001b[1G\u001b[?25h\u001b[?2026l\u001b[?2026h\u001b[?25l\u001b[A\u001b[1G\u001b[?25h\u001b[?2026l\u001b[?2026h\u001b[?25l\u001b[A\u001b[1G\u001b[?25h\u001b[?2026l\u001b[?2026h\u001b[?25l\u001b[A\u001b[1G\u001b[?25h\u001b[?2026l\u001b[?2026h\u001b[?25l\u001b[A\u001b[1G\u001b[?25h\u001b[?2026l\u001b[?2026h\u001b[?25l\u001b[A\u001b[1G\u001b[?25h\u001b[?2026l\u001b[?2026h\u001b[?25l\u001b[A\u001b[1G\u001b[?25h\u001b[?2026l\u001b[?2026h\u001b[?25l\u001b[A\u001b[1G\u001b[?25h\u001b[?2026l\u001b[?2026h\u001b[?25l\u001b[A\u001b[1G\u001b[?25h\u001b[?2026l\u001b[?2026h\u001b[?25l\u001b[A\u001b[1G\u001b[?25h\u001b[?2026l\u001b[?2026h\u001b[?25l\u001b[A\u001b[1G\u001b[?25h\u001b[?2026l\u001b[?2026h\u001b[?25l\u001b[A\u001b[1G\u001b[?25h\u001b[?2026l\u001b[?2026h\u001b[?25l\u001b[A\u001b[1G\u001b[?25h\u001b[?2026l\u001b[?2026h\u001b[?25l\u001b[A\u001b[1G\u001b[?25h\u001b[?2026l\u001b[?2026h\u001b[?25l\u001b[A\u001b[1G\u001b[?25h\u001b[?2026l\u001b[?2026h\u001b[?25l\u001b[A\u001b[1G\u001b[?25h\u001b[?2026l\u001b[?2026h\u001b[?25l\u001b[A\u001b[1G\u001b[?25h\u001b[?2026l\u001b[?2026h\u001b[?25l\u001b[A\u001b[1G\u001b[?25h\u001b[?2026l\u001b[?2026h\u001b[?25l\u001b[A\u001b[1G\u001b[?25h\u001b[?2026l\u001b[?2026h\u001b[?25l\u001b[A\u001b[1G\u001b[?25h\u001b[?2026l\u001b[?2026h\u001b[?25l\u001b[A\u001b[1G\u001b[?25h\u001b[?2026l\u001b[?2026h\u001b[?25l\u001b[A\u001b[1G\u001b[?25h\u001b[?2026l\u001b[?2026h\u001b[?25l\u001b[A\u001b[1G\u001b[?25h\u001b[?2026l\u001b[?2026h\u001b[?25l\u001b[A\u001b[1G\u001b[?25h\u001b[?2026l\u001b[?2026h\u001b[?25l\u001b[A\u001b[1G\u001b[?25h\u001b[?2026l\u001b[?2026h\u001b[?25l\u001b[A\u001b[1G\u001b[?25h\u001b[?2026l\u001b[?2026h\u001b[?25l\u001b[A\u001b[1G\u001b[?25h\u001b[?2026l\u001b[?2026h\u001b[?25l\u001b[A\u001b[1G\u001b[?25h\u001b[?2026l\u001b[?2026h\u001b[?25l\u001b[A\u001b[1G\u001b[?25h\u001b[?2026l\u001b[?2026h\u001b[?25l\u001b[A\u001b[1G\u001b[?25h\u001b[?2026l\u001b[?2026h\u001b[?25l\u001b[A\u001b[1G\u001b[?25h\u001b[?2026l\u001b[?2026h\u001b[?25l\u001b[A\u001b[1G\u001b[?25h\u001b[?2026l\u001b[?2026h\u001b[?25l\u001b[A\u001b[1G\u001b[?25h\u001b[?2026l\u001b[?2026h\u001b[?25l\u001b[A\u001b[1G\u001b[?25h\u001b[?2026l\u001b[?2026h\u001b[?25l\u001b[A\u001b[1G\u001b[?25h\u001b[?2026l\u001b[?2026h\u001b[?25l\u001b[A\u001b[1G\u001b[?25h\u001b[?2026l\u001b[?2026h\u001b[?25l\u001b[A\u001b[1G\u001b[?25h\u001b[?2026l\u001b[?2026h\u001b[?25l\u001b[A\u001b[1G\u001b[?25h\u001b[?2026l\u001b[?2026h\u001b[?25l\u001b[A\u001b[1G\u001b[?25h\u001b[?2026l\u001b[?2026h\u001b[?25l\u001b[A\u001b[1G\u001b[?25h\u001b[?2026l\u001b[?2026h\u001b[?25l\u001b[A\u001b[1G\u001b[?25h\u001b[?2026l\u001b[?2026h\u001b[?25l\u001b[A\u001b[1G\u001b[?25h\u001b[?2026l\u001b[?2026h\u001b[?25l\u001b[A\u001b[1G\u001b[?25h\u001b[?2026l\u001b[?2026h\u001b[?25l\u001b[A\u001b[1G\u001b[?25h\u001b[?2026l\u001b[?2026h\u001b[?25l\u001b[A\u001b[1G\u001b[?25h\u001b[?2026l\u001b[?2026h\u001b[?25l\u001b[A\u001b[1G\u001b[?25h\u001b[?2026l\u001b[?2026h\u001b[?25l\u001b[A\u001b[A\u001b[1G\u001b[?25h\u001b[?2026l\u001b[?2026h\u001b[?25l\u001b[A\u001b[A\u001b[1G\u001b[?25h\u001b[?2026l\u001b[?2026h\u001b[?25l\u001b[A\u001b[A\u001b[1G\u001b[?25h\u001b[?2026l\u001b[?2026h\u001b[?25l\u001b[A\u001b[A\u001b[1G\u001b[?25h\u001b[?2026l\u001b[?2026h\u001b[?25l\u001b[A\u001b[A\u001b[1G\u001b[?25h\u001b[?2026l\u001b[?2026h\u001b[?25l\u001b[A\u001b[A\u001b[1G\u001b[?25h\u001b[?2026l\u001b[?2026h\u001b[?25l\u001b[A\u001b[A\u001b[1G\u001b[?25h\u001b[?2026l\u001b[?2026h\u001b[?25l\u001b[A\u001b[A\u001b[1G\u001b[?25h\u001b[?2026l\u001b[?2026h\u001b[?25l\u001b[A\u001b[A\u001b[1G\u001b[?25h\u001b[?2026l\u001b[?2026h\u001b[?25l\u001b[A\u001b[A\u001b[1G\u001b[?25h\u001b[?2026l\u001b[?2026h\u001b[?25l\u001b[A\u001b[A\u001b[1G\u001b[?25h\u001b[?2026l\u001b[?2026h\u001b[?25l\u001b[A\u001b[A\u001b[A\u001b[1G\u001b[?25h\u001b[?2026l\u001b[?2026h\u001b[?25l\u001b[A\u001b[A\u001b[A\u001b[1G\u001b[?25h\u001b[?2026l\u001b[?2026h\u001b[?25l\u001b[A\u001b[A\u001b[A\u001b[1G\u001b[?25h\u001b[?2026l\u001b[?2026h\u001b[?25l\u001b[A\u001b[A\u001b[A\u001b[1G\u001b[?25h\u001b[?2026l\u001b[?2026h\u001b[?25l\u001b[A\u001b[A\u001b[A\u001b[1G\u001b[?25h\u001b[?2026l\u001b[?2026h\u001b[?25l\u001b[A\u001b[A\u001b[A\u001b[1G\u001b[?25h\u001b[?2026l\u001b[?2026h\u001b[?25l\u001b[A\u001b[A\u001b[A\u001b[1G\u001b[?25h\u001b[?2026l\u001b[?2026h\u001b[?25l\u001b[A\u001b[A\u001b[A\u001b[1G\u001b[?25h\u001b[?2026l\u001b[?2026h\u001b[?25l\u001b[A\u001b[A\u001b[A\u001b[1G\u001b[?25h\u001b[?2026l\u001b[?2026h\u001b[?25l\u001b[A\u001b[A\u001b[A\u001b[1G\u001b[?25h\u001b[?2026l\u001b[?2026h\u001b[?25l\u001b[A\u001b[A\u001b[A\u001b[1G\u001b[?25h\u001b[?2026l\u001b[?2026h\u001b[?25l\u001b[A\u001b[A\u001b[A\u001b[1G\u001b[?25h\u001b[?2026l\u001b[?2026h\u001b[?25l\u001b[A\u001b[A\u001b[A\u001b[A\u001b[1G\u001b[?25h\u001b[?2026l\u001b[?2026h\u001b[?25l\u001b[A\u001b[A\u001b[A\u001b[A\u001b[1G\u001b[?25h\u001b[?2026l\u001b[?2026h\u001b[?25l\u001b[A\u001b[A\u001b[A\u001b[A\u001b[1G\u001b[?25h\u001b[?2026l\u001b[?2026h\u001b[?25l\u001b[A\u001b[A\u001b[A\u001b[A\u001b[1G\u001b[?25h\u001b[?2026l\u001b[?2026h\u001b[?25l\u001b[A\u001b[A\u001b[A\u001b[A\u001b[1G\u001b[?25h\u001b[?2026l\u001b[?2026h\u001b[?25l\u001b[A\u001b[A\u001b[A\u001b[A\u001b[1G\u001b[?25h\u001b[?2026l\u001b[?2026h\u001b[?25l\u001b[A\u001b[A\u001b[A\u001b[A\u001b[1G\u001b[?25h\u001b[?2026l\u001b[?2026h\u001b[?25l\u001b[A\u001b[A\u001b[A\u001b[A\u001b[1G\u001b[?25h\u001b[?2026l\u001b[?2026h\u001b[?25l\u001b[A\u001b[A\u001b[A\u001b[A\u001b[1G\u001b[?25h\u001b[?2026l\u001b[?2026h\u001b[?25l\u001b[A\u001b[A\u001b[A\u001b[A\u001b[1G\u001b[?25h\u001b[?2026l\u001b[?2026h\u001b[?25l\u001b[A\u001b[A\u001b[A\u001b[A\u001b[1G\u001b[?25h\u001b[?2026l\u001b[?2026h\u001b[?25l\u001b[A\u001b[A\u001b[A\u001b[A\u001b[A\u001b[1G\u001b[?25h\u001b[?2026l\u001b[?2026h\u001b[?25l\u001b[A\u001b[A\u001b[A\u001b[A\u001b[A\u001b[1G\u001b[?25h\u001b[?2026l\u001b[?2026h\u001b[?25l\u001b[A\u001b[A\u001b[A\u001b[A\u001b[A\u001b[1G\u001b[?25h\u001b[?2026l\u001b[?2026h\u001b[?25l\u001b[A\u001b[A\u001b[A\u001b[A\u001b[A\u001b[1G\u001b[?25h\u001b[?2026l\u001b[?2026h\u001b[?25l\u001b[A\u001b[A\u001b[A\u001b[A\u001b[A\u001b[1G\u001b[?25h\u001b[?2026l\u001b[?2026h\u001b[?25l\u001b[A\u001b[A\u001b[A\u001b[A\u001b[A\u001b[1G\u001b[?25h\u001b[?2026l\u001b[?2026h\u001b[?25l\u001b[A\u001b[A\u001b[A\u001b[A\u001b[A\u001b[1G\u001b[?25h\u001b[?2026l\u001b[?2026h\u001b[?25l\u001b[A\u001b[A\u001b[A\u001b[A\u001b[A\u001b[1G\u001b[?25h\u001b[?2026l\u001b[?2026h\u001b[?25l\u001b[A\u001b[A\u001b[A\u001b[A\u001b[A\u001b[1G\u001b[?25h\u001b[?2026l\u001b[?2026h\u001b[?25l\u001b[A\u001b[A\u001b[A\u001b[A\u001b[A\u001b[A\u001b[1G\u001b[?25h\u001b[?2026l\u001b[?2026h\u001b[?25l\u001b[A\u001b[A\u001b[A\u001b[A\u001b[A\u001b[A\u001b[1G\u001b[?25h\u001b[?2026l\u001b[?2026h\u001b[?25l\u001b[A\u001b[A\u001b[A\u001b[A\u001b[A\u001b[A\u001b[1G\u001b[?25h\u001b[?2026l\u001b[?2026h\u001b[?25l\u001b[A\u001b[A\u001b[A\u001b[A\u001b[A\u001b[A\u001b[1G\u001b[?25h\u001b[?2026l\u001b[?2026h\u001b[?25l\u001b[A\u001b[A\u001b[A\u001b[A\u001b[A\u001b[A\u001b[1G\u001b[?25h\u001b[?2026l\u001b[?2026h\u001b[?25l\u001b[A\u001b[A\u001b[A\u001b[A\u001b[A\u001b[A\u001b[1G\u001b[?25h\u001b[?2026l\u001b[?2026h\u001b[?25l\u001b[A\u001b[A\u001b[A\u001b[A\u001b[A\u001b[A\u001b[1G\u001b[?25h\u001b[?2026l\u001b[?2026h\u001b[?25l\u001b[A\u001b[A\u001b[A\u001b[A\u001b[A\u001b[A\u001b[1G\u001b[?25h\u001b[?2026l\u001b[?2026h\u001b[?25l\u001b[A\u001b[A\u001b[A\u001b[A\u001b[A\u001b[A\u001b[1G\u001b[?25h\u001b[?2026l\u001b[?2026h\u001b[?25l\u001b[A\u001b[A\u001b[A\u001b[A\u001b[A\u001b[A\u001b[1G\u001b[?25h\u001b[?2026l\u001b[?2026h\u001b[?25l\u001b[A\u001b[A\u001b[A\u001b[A\u001b[A\u001b[A\u001b[1G\u001b[?25h\u001b[?2026l\u001b[?2026h\u001b[?25l\u001b[A\u001b[A\u001b[A\u001b[A\u001b[A\u001b[A\u001b[1G\u001b[?25h\u001b[?2026l\u001b[?2026h\u001b[?25l\u001b[A\u001b[A\u001b[A\u001b[A\u001b[A\u001b[A\u001b[1G\u001b[?25h\u001b[?2026l\u001b[?2026h\u001b[?25l\u001b[A\u001b[A\u001b[A\u001b[A\u001b[A\u001b[A\u001b[1G\u001b[?25h\u001b[?2026l\u001b[?2026h\u001b[?25l\u001b[A\u001b[A\u001b[A\u001b[A\u001b[A\u001b[A\u001b[1G\u001b[?25h\u001b[?2026l\u001b[?2026h\u001b[?25l\u001b[A\u001b[A\u001b[A\u001b[A\u001b[A\u001b[A\u001b[1G\u001b[?25h\u001b[?2026l\u001b[?2026h\u001b[?25l\u001b[A\u001b[A\u001b[A\u001b[A\u001b[A\u001b[A\u001b[1G\u001b[?25h\u001b[?2026l\u001b[?2026h\u001b[?25l\u001b[A\u001b[A\u001b[A\u001b[A\u001b[A\u001b[A\u001b[1G\u001b[?25h\u001b[?2026l\u001b[?2026h\u001b[?25l\u001b[A\u001b[A\u001b[A\u001b[A\u001b[A\u001b[A\u001b[1G\u001b[?25h\u001b[?2026l\u001b[?2026h\u001b[?25l\u001b[A\u001b[A\u001b[A\u001b[A\u001b[A\u001b[A\u001b[1G\u001b[?25h\u001b[?2026l\u001b[?2026h\u001b[?25l\u001b[A\u001b[A\u001b[A\u001b[A\u001b[A\u001b[A\u001b[1G\u001b[?25h\u001b[?2026l\u001b[?2026h\u001b[?25l\u001b[A\u001b[A\u001b[A\u001b[A\u001b[A\u001b[A\u001b[1G\u001b[?25h\u001b[?2026l\u001b[?2026h\u001b[?25l\u001b[A\u001b[A\u001b[A\u001b[A\u001b[A\u001b[A\u001b[1G\u001b[?25h\u001b[?2026l\u001b[?2026h\u001b[?25l\u001b[A\u001b[A\u001b[A\u001b[A\u001b[A\u001b[A\u001b[1G\u001b[?25h\u001b[?2026l\u001b[?2026h\u001b[?25l\u001b[A\u001b[A\u001b[A\u001b[A\u001b[A\u001b[A\u001b[1G\u001b[?25h\u001b[?2026l\u001b[?2026h\u001b[?25l\u001b[A\u001b[A\u001b[A\u001b[A\u001b[A\u001b[A\u001b[1G\u001b[?25h\u001b[?2026l\u001b[?2026h\u001b[?25l\u001b[A\u001b[A\u001b[A\u001b[A\u001b[A\u001b[A\u001b[1G\u001b[?25h\u001b[?2026l\u001b[?2026h\u001b[?25l\u001b[A\u001b[A\u001b[A\u001b[A\u001b[A\u001b[A\u001b[1G\u001b[?25h\u001b[?2026l\u001b[?2026h\u001b[?25l\u001b[A\u001b[A\u001b[A\u001b[A\u001b[A\u001b[A\u001b[1G\u001b[?25h\u001b[?2026l\u001b[?2026h\u001b[?25l\u001b[A\u001b[A\u001b[A\u001b[A\u001b[A\u001b[A\u001b[1G\u001b[?25h\u001b[?2026l\u001b[?2026h\u001b[?25l\u001b[A\u001b[A\u001b[A\u001b[A\u001b[A\u001b[A\u001b[1G\u001b[?25h\u001b[?2026l\u001b[?2026h\u001b[?25l\u001b[A\u001b[A\u001b[A\u001b[A\u001b[A\u001b[A\u001b[1G\u001b[?25h\u001b[?2026l\u001b[?2026h\u001b[?25l\u001b[A\u001b[A\u001b[A\u001b[A\u001b[A\u001b[A\u001b[1G\u001b[?25h\u001b[?2026l\u001b[?2026h\u001b[?25l\u001b[A\u001b[A\u001b[A\u001b[A\u001b[A\u001b[A\u001b[1G\u001b[?25h\u001b[?2026l\u001b[?2026h\u001b[?25l\u001b[A\u001b[A\u001b[A\u001b[A\u001b[A\u001b[A\u001b[1G\u001b[?25h\u001b[?2026l\u001b[?2026h\u001b[?25l\u001b[A\u001b[A\u001b[A\u001b[A\u001b[A\u001b[A\u001b[1G\u001b[?25h\u001b[?2026l\u001b[?2026h\u001b[?25l\u001b[A\u001b[A\u001b[A\u001b[A\u001b[A\u001b[A\u001b[1G\u001b[?25h\u001b[?2026l\u001b[?2026h\u001b[?25l\u001b[A\u001b[A\u001b[A\u001b[A\u001b[A\u001b[A\u001b[1G\u001b[?25h\u001b[?2026l\u001b[?2026h\u001b[?25l\u001b[A\u001b[A\u001b[A\u001b[A\u001b[A\u001b[A\u001b[1G\u001b[?25h\u001b[?2026l\u001b[?2026h\u001b[?25l\u001b[A\u001b[A\u001b[A\u001b[A\u001b[A\u001b[A\u001b[1G\u001b[?25h\u001b[?2026l\u001b[?2026h\u001b[?25l\u001b[A\u001b[A\u001b[A\u001b[A\u001b[A\u001b[A\u001b[1G\u001b[?25h\u001b[?2026l\u001b[?2026h\u001b[?25l\u001b[A\u001b[A\u001b[A\u001b[A\u001b[A\u001b[A\u001b[1G\u001b[?25h\u001b[?2026l\u001b[?2026h\u001b[?25l\u001b[A\u001b[A\u001b[A\u001b[A\u001b[A\u001b[A\u001b[1G\u001b[?25h\u001b[?2026l\u001b[?2026h\u001b[?25l\u001b[A\u001b[A\u001b[A\u001b[A\u001b[A\u001b[A\u001b[1G\u001b[?25h\u001b[?2026l\u001b[?2026h\u001b[?25l\u001b[A\u001b[A\u001b[A\u001b[A\u001b[A\u001b[A\u001b[1G\u001b[?25h\u001b[?2026l\u001b[?2026h\u001b[?25l\u001b[A\u001b[A\u001b[A\u001b[A\u001b[A\u001b[A\u001b[1G\u001b[?25h\u001b[?2026l\u001b[?2026h\u001b[?25l\u001b[A\u001b[A\u001b[A\u001b[A\u001b[A\u001b[A\u001b[1G\u001b[?25h\u001b[?2026l\u001b[?2026h\u001b[?25l\u001b[A\u001b[A\u001b[A\u001b[A\u001b[A\u001b[A\u001b[1G\u001b[?25h\u001b[?2026l\u001b[?2026h\u001b[?25l\u001b[A\u001b[A\u001b[A\u001b[A\u001b[A\u001b[A\u001b[1G\u001b[?25h\u001b[?2026l\u001b[?2026h\u001b[?25l\u001b[A\u001b[A\u001b[A\u001b[A\u001b[A\u001b[A\u001b[1G\u001b[?25h\u001b[?2026l\u001b[?2026h\u001b[?25l\u001b[A\u001b[A\u001b[A\u001b[A\u001b[A\u001b[A\u001b[1G\u001b[?25h\u001b[?2026l\u001b[?2026h\u001b[?25l\u001b[A\u001b[A\u001b[A\u001b[A\u001b[A\u001b[A\u001b[1G\u001b[?25h\u001b[?2026l\u001b[?2026h\u001b[?25l\u001b[A\u001b[A\u001b[A\u001b[A\u001b[A\u001b[A\u001b[1G\u001b[?25h\u001b[?2026l\n"
          ]
        }
      ]
    },
    {
      "cell_type": "code",
      "source": [
        "# install the Ollama python API package\n",
        "\n",
        "!pip install ollama"
      ],
      "metadata": {
        "colab": {
          "base_uri": "https://localhost:8080/"
        },
        "id": "IKNk9d1dW1eE",
        "outputId": "f59e68a5-a1d2-44e4-a8eb-5e689a776c65"
      },
      "execution_count": 5,
      "outputs": [
        {
          "output_type": "stream",
          "name": "stdout",
          "text": [
            "Collecting ollama\n",
            "  Downloading ollama-0.5.1-py3-none-any.whl.metadata (4.3 kB)\n",
            "Requirement already satisfied: httpx>=0.27 in /usr/local/lib/python3.11/dist-packages (from ollama) (0.28.1)\n",
            "Requirement already satisfied: pydantic>=2.9 in /usr/local/lib/python3.11/dist-packages (from ollama) (2.11.7)\n",
            "Requirement already satisfied: anyio in /usr/local/lib/python3.11/dist-packages (from httpx>=0.27->ollama) (4.9.0)\n",
            "Requirement already satisfied: certifi in /usr/local/lib/python3.11/dist-packages (from httpx>=0.27->ollama) (2025.6.15)\n",
            "Requirement already satisfied: httpcore==1.* in /usr/local/lib/python3.11/dist-packages (from httpx>=0.27->ollama) (1.0.9)\n",
            "Requirement already satisfied: idna in /usr/local/lib/python3.11/dist-packages (from httpx>=0.27->ollama) (3.10)\n",
            "Requirement already satisfied: h11>=0.16 in /usr/local/lib/python3.11/dist-packages (from httpcore==1.*->httpx>=0.27->ollama) (0.16.0)\n",
            "Requirement already satisfied: annotated-types>=0.6.0 in /usr/local/lib/python3.11/dist-packages (from pydantic>=2.9->ollama) (0.7.0)\n",
            "Requirement already satisfied: pydantic-core==2.33.2 in /usr/local/lib/python3.11/dist-packages (from pydantic>=2.9->ollama) (2.33.2)\n",
            "Requirement already satisfied: typing-extensions>=4.12.2 in /usr/local/lib/python3.11/dist-packages (from pydantic>=2.9->ollama) (4.14.0)\n",
            "Requirement already satisfied: typing-inspection>=0.4.0 in /usr/local/lib/python3.11/dist-packages (from pydantic>=2.9->ollama) (0.4.1)\n",
            "Requirement already satisfied: sniffio>=1.1 in /usr/local/lib/python3.11/dist-packages (from anyio->httpx>=0.27->ollama) (1.3.1)\n",
            "Downloading ollama-0.5.1-py3-none-any.whl (13 kB)\n",
            "Installing collected packages: ollama\n",
            "Successfully installed ollama-0.5.1\n"
          ]
        }
      ]
    },
    {
      "cell_type": "code",
      "source": [
        "# imports\n",
        "\n",
        "from dotenv import load_dotenv\n",
        "from openai import OpenAI\n",
        "import json\n",
        "import os\n",
        "import requests\n",
        "from pypdf import PdfReader\n",
        "import gradio as gr\n",
        "from IPython.display import Markdown"
      ],
      "metadata": {
        "id": "lgqoHvgRPRRo"
      },
      "execution_count": 6,
      "outputs": []
    },
    {
      "cell_type": "code",
      "source": [
        "from google.colab import userdata\n",
        "GOOGLE_API_KEY=userdata.get('GOOGLE_API_KEY')\n",
        "if GOOGLE_API_KEY is None:\n",
        "  raise ValueError(\"GOOGLE_API_KEY not set\")\n",
        "else :\n",
        "  print(\"GOOGLE_API_KEY key is set\")"
      ],
      "metadata": {
        "colab": {
          "base_uri": "https://localhost:8080/"
        },
        "id": "A3xyodAHS7rH",
        "outputId": "208a3ce1-aa97-407c-c64e-d6108b724f65"
      },
      "execution_count": 7,
      "outputs": [
        {
          "output_type": "stream",
          "name": "stdout",
          "text": [
            "GOOGLE_API_KEY key is set\n"
          ]
        }
      ]
    },
    {
      "cell_type": "code",
      "source": [
        "from google.colab import drive\n",
        "drive.mount('/content/drive')"
      ],
      "metadata": {
        "colab": {
          "base_uri": "https://localhost:8080/"
        },
        "id": "jRcKB1Z0RSuK",
        "outputId": "98c9a5a4-a85a-4138-ab8a-fb5f69d76491"
      },
      "execution_count": 8,
      "outputs": [
        {
          "output_type": "stream",
          "name": "stdout",
          "text": [
            "Mounted at /content/drive\n"
          ]
        }
      ]
    },
    {
      "cell_type": "code",
      "source": [
        "gemini_flash=\"gemini-2.0-flash\"\n",
        "gemma_1b=\"gemma-3-1b-it\"\n",
        "gemma_4b=\"gemma-3-4b-it\"\n",
        "gemma_12b=\"gemma-3-12b-it\"\n",
        "gemma_27b=\"gemma-3-27b-it\"\n",
        "gemma_e4b=\"gemma-3n-e4b-it\"\n",
        "llama3=\"llama3.2:1b\"\n",
        "\n"
      ],
      "metadata": {
        "id": "-cR6S92cvHzF"
      },
      "execution_count": null,
      "outputs": []
    },
    {
      "cell_type": "code",
      "source": [
        "# Load environment variables in a file called .env\n",
        "\n",
        "#load_dotenv(override=True)"
      ],
      "metadata": {
        "id": "m01zmKYsPXwD"
      },
      "execution_count": 9,
      "outputs": []
    },
    {
      "cell_type": "code",
      "source": [
        "request = \"Please come up with a challenging, nuanced question that I can ask a number of LLMs to evaluate their intelligence. \"\n",
        "request += \"Answer only with the question, no explanation.\"\n",
        "messages = [{\"role\": \"user\", \"content\": request}]"
      ],
      "metadata": {
        "id": "YGHL-GX1RGMk"
      },
      "execution_count": 10,
      "outputs": []
    },
    {
      "cell_type": "code",
      "source": [
        "messages"
      ],
      "metadata": {
        "colab": {
          "base_uri": "https://localhost:8080/"
        },
        "id": "UjNUQIGGUBXf",
        "outputId": "b8c3bc96-17c2-415f-c372-cb020656afda"
      },
      "execution_count": 11,
      "outputs": [
        {
          "output_type": "execute_result",
          "data": {
            "text/plain": [
              "[{'role': 'user',\n",
              "  'content': 'Please come up with a challenging, nuanced question that I can ask a number of LLMs to evaluate their intelligence. Answer only with the question, no explanation.'}]"
            ]
          },
          "metadata": {},
          "execution_count": 11
        }
      ]
    },
    {
      "cell_type": "code",
      "source": [
        "gemini = OpenAI(api_key=GOOGLE_API_KEY, base_url=\"https://generativelanguage.googleapis.com/v1beta/openai/\")\n",
        "model_name = \"gemini-2.0-flash\"\n",
        "\n",
        "response = gemini.chat.completions.create(model=model_name, messages=messages)\n",
        "question = response.choices[0].message.content\n",
        "print(question)"
      ],
      "metadata": {
        "colab": {
          "base_uri": "https://localhost:8080/"
        },
        "id": "h7x9fWwWUYzY",
        "outputId": "4cc677d2-c310-42a1-d0b9-471b9cb70503"
      },
      "execution_count": 12,
      "outputs": [
        {
          "output_type": "stream",
          "name": "stdout",
          "text": [
            "Consider a fictional society where a universally adopted technology allows individuals to perfectly simulate the subjective experiences of others, including their thoughts, emotions, and physical sensations. If a crime occurs, and the perpetrator can perfectly simulate the victim's experience of the crime for the authorities as penance, would this constitute a just punishment, and why or why not? Justify your reasoning by exploring the ethical implications regarding justice, empathy, free will, and the concept of self within this simulated framework.\n",
            "\n"
          ]
        }
      ]
    },
    {
      "cell_type": "code",
      "source": [
        "competitors = []\n",
        "answers = []\n",
        "messages = [{\"role\": \"user\", \"content\": question}]"
      ],
      "metadata": {
        "id": "ok_iGMcXZJF0"
      },
      "execution_count": 13,
      "outputs": []
    },
    {
      "cell_type": "code",
      "source": [
        "ollama = OpenAI(base_url='http://localhost:11434/v1', api_key='ollama')\n",
        "model_name = \"llama3.2:1b\"\n",
        "\n",
        "response = ollama.chat.completions.create(model=model_name, messages=messages)\n",
        "answer = response.choices[0].message.content\n",
        "\n",
        "#display(Markdown(answer))\n",
        "competitors.append(model_name)\n",
        "answers.append(answer)"
      ],
      "metadata": {
        "id": "HId5jGZeWU7R"
      },
      "execution_count": 14,
      "outputs": []
    },
    {
      "cell_type": "code",
      "source": [
        "model_name = \"gemma-3-1b-it\"\n",
        "\n",
        "response = gemini.chat.completions.create(model=model_name, messages=messages)\n",
        "answer = response.choices[0].message.content\n",
        "\n",
        "#display(Markdown(answer))\n",
        "competitors.append(model_name)\n",
        "answers.append(answer)\n"
      ],
      "metadata": {
        "id": "GMCQbo9_aiSN"
      },
      "execution_count": 15,
      "outputs": []
    },
    {
      "cell_type": "code",
      "source": [
        "model_name = \"gemma-3-27b-it\"\n",
        "\n",
        "response = gemini.chat.completions.create(model=model_name, messages=messages)\n",
        "answer = response.choices[0].message.content\n",
        "\n",
        "#display(Markdown(answer))\n",
        "competitors.append(model_name)\n",
        "answers.append(answer)"
      ],
      "metadata": {
        "id": "ivNHa23smFHq"
      },
      "execution_count": 16,
      "outputs": []
    },
    {
      "cell_type": "code",
      "source": [
        "model_name = \"gemma-3-4b-it\"\n",
        "\n",
        "response = gemini.chat.completions.create(model=model_name, messages=messages)\n",
        "answer = response.choices[0].message.content\n",
        "\n",
        "#display(Markdown(answer))\n",
        "competitors.append(model_name)\n",
        "answers.append(answer)"
      ],
      "metadata": {
        "id": "6CIXDFyTmE3A"
      },
      "execution_count": 17,
      "outputs": []
    },
    {
      "cell_type": "code",
      "source": [
        "# So where are we?\n",
        "\n",
        "print(competitors)\n",
        "print(answers)"
      ],
      "metadata": {
        "colab": {
          "base_uri": "https://localhost:8080/"
        },
        "id": "vwn9WdbLXd35",
        "outputId": "340c5bee-2c2c-4e01-e2c3-6ef519c59843"
      },
      "execution_count": 18,
      "outputs": [
        {
          "output_type": "stream",
          "name": "stdout",
          "text": [
            "['llama3.2:1b', 'gemma-3-1b-it', 'gemma-3-27b-it', 'gemma-3-4b-it']\n",
            "[\"In a society where universal technology can perfectly simulate others' subjective experiences, introducing a system that simulates victims' experiences for perceived wrongdoers raises complex ethical questions about justice, empathy, free will, and individual autonomy. I'll delve into these considerations and justify my response.\\n\\n**Justification of the punishment:**\\n\\nOn one hand, from an official perspective, the simulated experience can serve as a form of emotional pain relief and closure for the victim. This could be seen as fitting punishment, especially if the perpetrator's actions had severe and long-lasting consequences. In such cases, allowing the perpetrator to relive the emotions and hardships they caused might provide temporary relief, helping to ease the guilt.\\n\\nMoreover, in a society where harm has already been inflicted upon individuals, simulating their experiences could be seen as a mitigating factor for punishment. This approach acknowledges that true remorse and rehabilitation are contingent upon acknowledging past wrongdoing. By allowing the perpetrator to temporarily understand and sympathize with the victim's pain, it may facilitate their acceptance of responsibility and willingness to make amends.\\n\\n**However, raise concerns about justice:**\\n\\n1. **Unreliable witnesses:** Even if a simulator creates an accurate representation of the victim's experience, there are always variables that can influence the accuracy of this simulation – factors like emotions, social interactions, or even psychological trauma. This raises questions about whether it's fair to inflict punishment based on incomplete empathy.\\n2. **Manipulation vs. genuine remorse:** If a perpetrator undergoes significant emotional and cognitive processing in response to their simulated experience (e.g., through increased awareness of vulnerability), would they truly be remorseful? Or is this merely an attempt to manipulate the system for personal benefits?\\n\\n**Empathy and free will:**\\n\\n1. **Consequentialism vs. deontology:** Consequentialist theories, like utilitarianism and Hedonism, focus on outcomes rather than moral principles. In this context, simulating victims' experiences could be seen as an efficient tool in reducing future harm, promoting rehabilitation and healing. On the other hand, deontological theories prioritize inherent values (moral rules) over external consequences. According to these perspectives, simulating victims' experiences is unjustifiable because it would override individual moral autonomy and responsibility.\\n2. **Consequences of simulation:** If a perpetrator undergoes significant emotional processing as a result of their simulated experience, this could blur the lines between voluntary and involuntary actions. Could an involuntary, simulated response still be considered morally reprehensible?\\n\\n**Self within the simulated framework:**\\n\\n1. **Authentic self vs. artificial identity:** In reality, individuals possess complexities that often go beyond mere simulation (e.g., identity formation, memories, and agency). Can a perpetrator truly experience themselves authentically through a simulated environment? This question highlights the tension between technological advancements in understanding identity.\\n2. **Blurred boundaries of simulation and self:** The line between simulator-generated content and genuine identity may become increasingly blurred in this context. As technology advances to simulate all aspects of the individual, might individuals begin to wonder what makes their experiences truly authentic?\\n\\n**Conclusion:**\\n\\nIn a society where universally adopted technology allows perfect simulation of subjective experiences, introducing simulating punishments for crimes raises multiple ethical complexities. While on one hand it may feel fitting and provide emotional closure for victims and temporary relief to perpetrators, on the other hand, this approach may be inconsistent with traditional notions of justice, empathy, free will, and individual autonomy.\\n\\nTo make such a punishment justifiable, more careful consideration must be given to:\\n\\n*   **Verification mechanisms:** Establish robust methods to detect and correct potential errors or manipulations in the simulated experience.\\n*   **Psychological support:** Ensure that simulations facilitate psychological processes (e.g., empathy, remorse) rather than simply influencing the individual's state through technology.\\n*   **Social consequences:** Consider the broader social implications of simulating crimes as punishments. This may involve integrating punishment with social rehabilitation or reformative programs to foster personal growth and responsibility.\\n\\nUltimately, this simulated framework necessitates ongoing evaluation and refinement in terms of justice, empathy, free will, and individual autonomy. By doing so, we can ensure that technological advancements align with human values while facilitating a more compassionate and nuanced understanding of the complexities surrounding these questions.\", 'Okay, this is a fascinating and deeply unsettling thought experiment. Let’s break down the ethical implications of a society where individuals can perfectly simulate the subjective experiences of others for crime punishment, and why it’s a complex and potentially problematic system.\\n\\n**Would this constitute a just punishment? A strong argument *could* be made, but it’s fraught with significant ethical challenges.**\\n\\nHere’s a breakdown of the reasoning, exploring the key ethical pillars at play:\\n\\n**1. Justice – The Core Question:**\\n\\n* **Traditional Justice:** Traditionally, justice relies on proving guilt through evidence – eyewitness accounts, forensic analysis, etc. This simulation system fundamentally undermines this. It’s not about *proving* guilt, but about *experiencing* the guilt of another.\\n* **Justification:** The argument for its legitimacy rests on the idea of *rehabilitation* and *deterrence*. The simulation allows the perpetrator to *feel* the pain, fear, and remorse of the victim, potentially triggering a profound shift in their perspective and motivating them to genuinely understand the harm they caused. It’s a form of experiential empathy, designed to break the cycle of violence.\\n* **Counter-Argument:**  The system risks becoming a manipulative tool.  It could be used to create a false sense of remorse, exploiting the simulated experience to avoid accountability.  It’s a shortcut to feeling, not a genuine understanding of the consequences.\\n\\n**2. Empathy – The Central Ethical Dilemma:**\\n\\n* **The Simulation Effect:** The core of the issue is the *degree* of simulation.  If the simulation is truly perfect – capturing every nuance of the victim’s experience – it risks blurring the lines between the simulated and the real.  Does the simulated pain feel *real*? Does the simulated fear truly resonate?  This raises questions about the nature of empathy itself.\\n* **Justification:**  Empathy is crucial for a just society. It’s the foundation of compassion, understanding, and moral judgment.  If the system diminishes empathy, it risks creating a society of detached, emotionally stunted individuals.\\n* **Counter-Argument:**  The system *could* be designed to minimize the simulation’s impact, perhaps by focusing on the core emotional drivers of the crime – fear, anger, grief. However, this raises the question of whether a truly accurate simulation is even possible, and whether it’s ethically justifiable to manipulate someone’s emotional response.\\n\\n\\n**3. Free Will – A Fundamental Threat:**\\n\\n* **The Illusion of Choice:**  The simulation system fundamentally alters the concept of free will.  The perpetrator isn’t making a conscious choice to commit the crime; they are *experiencing* the consequences of their actions within a meticulously crafted simulation.  This raises the question: are they truly responsible for their actions, or are they merely acting out a pre-determined role?\\n* **Justification:**  The system *could* be argued to be a form of “assisted justice,” allowing individuals to experience the consequences of their actions in a way that feels meaningful.  It could be seen as a way to acknowledge the gravity of their choices.\\n* **Counter-Argument:**  This raises a profound philosophical problem. If the perpetrator’s experience is entirely simulated, does it truly matter if they *feel* remorse?  It risks reducing free will to a mere algorithmic response.  It could lead to a sense of fatalism – the belief that one’s actions are predetermined, regardless of their intentions.\\n\\n\\n**4. The Concept of Self – Fragmentation and Identity:**\\n\\n* **The Blurred Self:**  The system forces individuals to confront the fragmented nature of their own identity.  They are simultaneously experiencing the victim’s life, their own thoughts, and their own emotions. This can lead to a profound sense of disorientation and potentially fragmentation of the self.\\n* **Justification:**  The system *could* be argued to be a way to foster a deeper understanding of the impact of one’s actions on others.  It could encourage individuals to grapple with the complexities of their own moral failings.\\n* **Counter-Argument:**  It risks creating a sense of profound alienation.  If the individual is constantly experiencing the simulated lives of others, it could be difficult to maintain a stable and coherent sense of self.  It could lead to a feeling of being trapped within a simulated reality.\\n\\n\\n**Conclusion:**\\n\\nWhile the idea of a system that allows for perfect simulation of the subjective experience of others for crime punishment might seem appealing as a tool for rehabilitation, it’s a deeply problematic one. It raises fundamental questions about justice, empathy, free will, and the very nature of the self. \\n\\n**Ultimately, the ethical viability of such a system hinges on a careful and rigorous consideration of these issues.  It would require a fundamental shift in our understanding of punishment, responsibility, and the human condition.**  It’s likely that such a system would require incredibly stringent safeguards and oversight to prevent abuse and ensure that it doesn’t erode the principles of accountability and justice.\\n\\n---\\n\\nWould you like me to explore any of these aspects in more detail, perhaps focusing on specific ethical frameworks (e.g., Kantian ethics, utilitarianism) or consider alternative approaches to crime prevention?', '## The Echo of Suffering: Is Simulated Experience Just Punishment?\\n\\nIn a society with perfect experiential simulation, the question of justice takes on a profoundly unsettling dimension. If a perpetrator can *become* the victim, reliving the crime with perfect fidelity as penance, does this constitute just punishment? While superficially appealing – offering a potent dose of empathy and seemingly mirroring the harm done – I argue it’s a deeply problematic and ultimately insufficient form of justice, riddled with ethical concerns regarding free will, the self, and the very nature of punishment.\\n\\n**The Appeal & Initial Ethical Considerations:**\\n\\nThe initial draw is strong. Traditional punishment aims for retribution, deterrence, rehabilitation, and societal protection. This simulated experience *could* arguably achieve aspects of all four. \\n\\n* **Retribution:** The perpetrator directly experiences the suffering they inflicted, seemingly ‘paying’ for their crime in kind.\\n* **Deterrence:** The sheer horror of the simulation could dissuade others from committing similar acts.\\n* **Rehabilitation:**  Experiencing the victim’s pain might foster genuine remorse and prevent future offenses.\\n* **Societal Protection:** If the simulation is complete and debilitating, the perpetrator is effectively incapacitated during and potentially after the experience.\\n\\nHowever, this is where the ethical cracks begin to show. The core issue isn’t whether the perpetrator *feels* bad, but whether the punishment is *just*.  Justice isn’t simply about inflicting suffering; it’s about accountability, upholding the law, and respecting the inherent dignity of all individuals – including the perpetrator.\\n\\n\\n\\n**1. The Erosion of Free Will & the Problem of Determinism:**\\n\\nThe very act of forcing someone to experience another’s subjective reality raises questions about free will. If the simulation is truly perfect, does the perpetrator have any agency *within* that experience? Are they merely a passive vessel for the victim’s trauma, or can they resist, alter, or even understand the experience in a way that mitigates its punitive effect? \\n\\nIf the simulation overrides their will, it becomes a form of psychological torture, a violation of their mental integrity.  Even if they retain some agency, the experience is fundamentally *imposed* upon them, not a consequence of their free choice.  Punishment, in a just system, should be a response to a freely chosen act, not a forced imposition of experience.  This raises the specter of determinism: if all experience is ultimately simulated and controllable, where does moral responsibility lie?\\n\\n**2. The Fragmentation of Self & the Loss of Individuality:**\\n\\nThe simulation fundamentally blurs the boundaries of the self.  To truly experience the victim’s trauma, the perpetrator must, to some degree, *become* the victim. This raises profound questions about identity.  What happens to the perpetrator’s sense of self during and after the simulation?  \\n\\n* **Psychological Damage:**  The trauma experienced within the simulation could be deeply damaging, potentially leading to personality fragmentation, mental illness, or a complete loss of self. Is inflicting such damage justifiable, even on someone who has caused harm?\\n* **The \"Ghost\" of the Victim:**  Does the simulation leave a residue of the victim’s experience within the perpetrator, effectively erasing a part of their original self? This feels like a further violation of the victim, a kind of psychic colonization.\\n* **Authenticity of Remorse:**  If the remorse felt is rooted in the simulated experience of being the victim, is it genuine remorse for *their own* actions, or simply empathy for the suffering they caused?  True remorse requires acknowledging one’s own culpability, not merely feeling the consequences for another.\\n\\n\\n\\n**3. Justice as Spectacle & the Devaluation of the Victim:**\\n\\nWhile intended to foster empathy, the simulation could inadvertently turn the victim’s suffering into a spectacle.  The authorities, and potentially even the public, could become voyeurs of the perpetrator’s torment. This risks re-traumatizing the victim by focusing on the *experience* of the crime rather than the crime itself and the victim’s agency in seeking justice. \\n\\nFurthermore, reducing justice to a purely experiential exchange devalues the victim’s inherent worth. It implies that the primary goal of punishment is to make the perpetrator *feel* what the victim felt, rather than to acknowledge the harm done, provide restitution, and prevent future harm.  The victim’s needs – healing, closure, and a sense of justice – are potentially overshadowed by the spectacle of the perpetrator’s suffering.\\n\\n**4. The Problem of Scale & the Limits of Simulation:**\\n\\nWhat about crimes that aren’t easily simulated – complex emotional abuse, systemic oppression, or crimes with long-term consequences? Can a simulation truly capture the nuances of a lifetime of suffering?  The technology might be effective for physical trauma, but its efficacy diminishes with more abstract forms of harm.  \\n\\n\\n\\n**A More Just Approach:**\\n\\nWhile the simulation technology could be a valuable tool for *understanding* criminal behavior and fostering empathy, it should not be the primary form of punishment. A just system in this society would likely involve:\\n\\n* **Restitution & Reparation:**  Focusing on making amends to the victim and the community.\\n* **Rehabilitation Programs:** Utilizing the simulation technology as a therapeutic tool to help perpetrators understand the consequences of their actions and develop empathy, but within a controlled and ethical framework.\\n* **Traditional Sentencing:**  Maintaining a system of proportionate punishment, including imprisonment or other forms of restriction, to uphold the law and protect society.\\n* **Victim-Centered Justice:**  Prioritizing the needs and agency of the victim throughout the entire process.\\n\\n\\n\\n\\nIn conclusion, while the allure of perfectly mirroring suffering is strong, the ethical implications of using experiential simulation as punishment are too profound to ignore.  It risks eroding free will, fragmenting the self, devaluing the victim, and ultimately, undermining the very foundations of a just and humane society.  True justice requires more than just making the perpetrator *feel* the pain; it demands accountability, respect, and a commitment to healing and preventing future harm.  \\n\\n\\n\\n', \"Okay, this is a fantastic thought experiment, and it really digs into the core of what we consider justice and punishment. Let’s break down whether simulating a victim’s experience as penance constitutes a just punishment in this technologically advanced society, and the complex ethical considerations involved.\\n\\n**My Initial Assessment: It’s Problematic, but Potentially a Step Towards Something Better – with Caveats.**\\n\\nWhile the idea of a perpetrator truly *feeling* the harm they caused is compelling, simply simulating it doesn’t automatically equate to justice. It’s a fascinating tool, but one fraught with potential for manipulation, superficiality, and a fundamental misunderstanding of what punishment should achieve.\\n\\n**Here’s a detailed justification, exploring the key ethical implications:**\\n\\n**1. Justice – What Are We Trying to Achieve?**\\n\\nTraditionally, justice aims to:\\n\\n* **Deterrence:** Discourage future crime.\\n* **Retribution:**  “An eye for an eye” – delivering a punishment proportionate to the harm caused.\\n* **Rehabilitation:**  Helping the offender change their behavior.\\n* **Restoration:** Repairing the harm done to the victim and the community.\\n\\nSimulating a victim’s experience *might* contribute to deterrence (seeing the consequences firsthand could be impactful), but it falls drastically short on retribution and, crucially, rehabilitation. It doesn’t address the underlying reasons for the crime.\\n\\n\\n**2. Empathy – The Illusion of Feeling**\\n\\nThe core of this system rests on empathy. However, simulation isn’t *genuine* empathy.  It’s a constructed experience. The perpetrator is essentially playing a role, experiencing a data stream representing the victim’s feelings. \\n\\n* **The Problem of Authenticity:**  Genuine empathy involves understanding another person's perspective, feeling *with* them, and recognizing their inherent worth. Simulation lacks this fundamental connection. It’s a performance, a mimicry of emotion.\\n* **Risk of Emotional Fatigue:**  Constantly simulating intense suffering could lead to emotional burnout for the perpetrator, potentially masking genuine remorse or creating a detached, clinical response to the crime.\\n\\n**3. Free Will & Moral Responsibility**\\n\\nThis is where the system becomes deeply problematic. If a perpetrator can simply *simulate* the victim’s experience, does that truly demonstrate genuine remorse or a commitment to change? \\n\\n* **Diminished Agency:**  The act of simulation could be seen as circumventing the need for the perpetrator to confront their own moral failings. It’s a way to avoid taking responsibility for their choices.\\n* **The Illusion of Choice:**  The perpetrator is choosing to *perform* the simulation, not necessarily choosing to *change* their behavior.  It’s a passive act of compliance, not an active process of self-reflection and reform.\\n\\n**4. The Concept of Self – Who is the Perpetrator?**\\n\\nThe technology fundamentally alters the concept of self. The perpetrator is no longer solely responsible for their actions. They are now a conduit for the victim’s experience. \\n\\n* **Fragmentation of Identity:**  Constantly inhabiting another’s subjective reality could lead to a fractured sense of self, blurring the lines between the perpetrator and the victim.\\n* **Devaluation of Personal Experience:**  If simulated experiences are deemed sufficient for penance, it could diminish the value of one’s own lived experience and the importance of personal accountability.\\n\\n\\n**5. Potential Benefits & a Modified Approach**\\n\\nDespite the significant concerns, there *could* be a limited, carefully managed role for this technology:\\n\\n* **Deepened Understanding:**  The simulation *could* be used as a tool for investigators to gain a deeper understanding of the perpetrator’s mindset and the motivations behind the crime.\\n* **Focus on Rehabilitation (Alongside Simulation):**  The simulation shouldn’t be the *sole* punishment. It should be coupled with intensive therapy, psychological evaluation, and programs designed to address the root causes of the crime.\\n* **Victim-Centric Approach:**  Crucially, the victim’s wishes must be paramount.  The victim should have the right to refuse the simulation and to dictate the parameters of the experience.\\n\\n**Conclusion:**\\n\\nSimply simulating a victim’s experience as penance is not a just punishment in itself. It’s a technologically impressive, potentially manipulative, and ultimately superficial approach to justice. It risks undermining the principles of free will, moral responsibility, and genuine empathy. However, if used cautiously, alongside robust rehabilitation efforts and with the full consent and agency of the victim, it *might* offer a limited, albeit ethically complex, pathway towards a more nuanced understanding of crime and its consequences. \\n\\n---\\n\\nWould you like me to delve deeper into any specific aspect of this discussion, such as:\\n\\n*   The potential for abuse of the technology?\\n*   How this system might interact with existing legal frameworks?\\n*   The philosophical implications of simulated consciousness?\"]\n"
          ]
        }
      ]
    },
    {
      "cell_type": "code",
      "source": [
        "for competitor,answer in zip(competitors,answers):\n",
        "  print(f\"competitor : {competitor} answer is {answer}\")"
      ],
      "metadata": {
        "colab": {
          "base_uri": "https://localhost:8080/"
        },
        "id": "ZQR-snQnafEO",
        "outputId": "70950318-1973-4683-e1f0-26a6ff7dd576"
      },
      "execution_count": 19,
      "outputs": [
        {
          "output_type": "stream",
          "name": "stdout",
          "text": [
            "competitor : llama3.2:1b answer is In a society where universal technology can perfectly simulate others' subjective experiences, introducing a system that simulates victims' experiences for perceived wrongdoers raises complex ethical questions about justice, empathy, free will, and individual autonomy. I'll delve into these considerations and justify my response.\n",
            "\n",
            "**Justification of the punishment:**\n",
            "\n",
            "On one hand, from an official perspective, the simulated experience can serve as a form of emotional pain relief and closure for the victim. This could be seen as fitting punishment, especially if the perpetrator's actions had severe and long-lasting consequences. In such cases, allowing the perpetrator to relive the emotions and hardships they caused might provide temporary relief, helping to ease the guilt.\n",
            "\n",
            "Moreover, in a society where harm has already been inflicted upon individuals, simulating their experiences could be seen as a mitigating factor for punishment. This approach acknowledges that true remorse and rehabilitation are contingent upon acknowledging past wrongdoing. By allowing the perpetrator to temporarily understand and sympathize with the victim's pain, it may facilitate their acceptance of responsibility and willingness to make amends.\n",
            "\n",
            "**However, raise concerns about justice:**\n",
            "\n",
            "1. **Unreliable witnesses:** Even if a simulator creates an accurate representation of the victim's experience, there are always variables that can influence the accuracy of this simulation – factors like emotions, social interactions, or even psychological trauma. This raises questions about whether it's fair to inflict punishment based on incomplete empathy.\n",
            "2. **Manipulation vs. genuine remorse:** If a perpetrator undergoes significant emotional and cognitive processing in response to their simulated experience (e.g., through increased awareness of vulnerability), would they truly be remorseful? Or is this merely an attempt to manipulate the system for personal benefits?\n",
            "\n",
            "**Empathy and free will:**\n",
            "\n",
            "1. **Consequentialism vs. deontology:** Consequentialist theories, like utilitarianism and Hedonism, focus on outcomes rather than moral principles. In this context, simulating victims' experiences could be seen as an efficient tool in reducing future harm, promoting rehabilitation and healing. On the other hand, deontological theories prioritize inherent values (moral rules) over external consequences. According to these perspectives, simulating victims' experiences is unjustifiable because it would override individual moral autonomy and responsibility.\n",
            "2. **Consequences of simulation:** If a perpetrator undergoes significant emotional processing as a result of their simulated experience, this could blur the lines between voluntary and involuntary actions. Could an involuntary, simulated response still be considered morally reprehensible?\n",
            "\n",
            "**Self within the simulated framework:**\n",
            "\n",
            "1. **Authentic self vs. artificial identity:** In reality, individuals possess complexities that often go beyond mere simulation (e.g., identity formation, memories, and agency). Can a perpetrator truly experience themselves authentically through a simulated environment? This question highlights the tension between technological advancements in understanding identity.\n",
            "2. **Blurred boundaries of simulation and self:** The line between simulator-generated content and genuine identity may become increasingly blurred in this context. As technology advances to simulate all aspects of the individual, might individuals begin to wonder what makes their experiences truly authentic?\n",
            "\n",
            "**Conclusion:**\n",
            "\n",
            "In a society where universally adopted technology allows perfect simulation of subjective experiences, introducing simulating punishments for crimes raises multiple ethical complexities. While on one hand it may feel fitting and provide emotional closure for victims and temporary relief to perpetrators, on the other hand, this approach may be inconsistent with traditional notions of justice, empathy, free will, and individual autonomy.\n",
            "\n",
            "To make such a punishment justifiable, more careful consideration must be given to:\n",
            "\n",
            "*   **Verification mechanisms:** Establish robust methods to detect and correct potential errors or manipulations in the simulated experience.\n",
            "*   **Psychological support:** Ensure that simulations facilitate psychological processes (e.g., empathy, remorse) rather than simply influencing the individual's state through technology.\n",
            "*   **Social consequences:** Consider the broader social implications of simulating crimes as punishments. This may involve integrating punishment with social rehabilitation or reformative programs to foster personal growth and responsibility.\n",
            "\n",
            "Ultimately, this simulated framework necessitates ongoing evaluation and refinement in terms of justice, empathy, free will, and individual autonomy. By doing so, we can ensure that technological advancements align with human values while facilitating a more compassionate and nuanced understanding of the complexities surrounding these questions.\n",
            "competitor : gemma-3-1b-it answer is Okay, this is a fascinating and deeply unsettling thought experiment. Let’s break down the ethical implications of a society where individuals can perfectly simulate the subjective experiences of others for crime punishment, and why it’s a complex and potentially problematic system.\n",
            "\n",
            "**Would this constitute a just punishment? A strong argument *could* be made, but it’s fraught with significant ethical challenges.**\n",
            "\n",
            "Here’s a breakdown of the reasoning, exploring the key ethical pillars at play:\n",
            "\n",
            "**1. Justice – The Core Question:**\n",
            "\n",
            "* **Traditional Justice:** Traditionally, justice relies on proving guilt through evidence – eyewitness accounts, forensic analysis, etc. This simulation system fundamentally undermines this. It’s not about *proving* guilt, but about *experiencing* the guilt of another.\n",
            "* **Justification:** The argument for its legitimacy rests on the idea of *rehabilitation* and *deterrence*. The simulation allows the perpetrator to *feel* the pain, fear, and remorse of the victim, potentially triggering a profound shift in their perspective and motivating them to genuinely understand the harm they caused. It’s a form of experiential empathy, designed to break the cycle of violence.\n",
            "* **Counter-Argument:**  The system risks becoming a manipulative tool.  It could be used to create a false sense of remorse, exploiting the simulated experience to avoid accountability.  It’s a shortcut to feeling, not a genuine understanding of the consequences.\n",
            "\n",
            "**2. Empathy – The Central Ethical Dilemma:**\n",
            "\n",
            "* **The Simulation Effect:** The core of the issue is the *degree* of simulation.  If the simulation is truly perfect – capturing every nuance of the victim’s experience – it risks blurring the lines between the simulated and the real.  Does the simulated pain feel *real*? Does the simulated fear truly resonate?  This raises questions about the nature of empathy itself.\n",
            "* **Justification:**  Empathy is crucial for a just society. It’s the foundation of compassion, understanding, and moral judgment.  If the system diminishes empathy, it risks creating a society of detached, emotionally stunted individuals.\n",
            "* **Counter-Argument:**  The system *could* be designed to minimize the simulation’s impact, perhaps by focusing on the core emotional drivers of the crime – fear, anger, grief. However, this raises the question of whether a truly accurate simulation is even possible, and whether it’s ethically justifiable to manipulate someone’s emotional response.\n",
            "\n",
            "\n",
            "**3. Free Will – A Fundamental Threat:**\n",
            "\n",
            "* **The Illusion of Choice:**  The simulation system fundamentally alters the concept of free will.  The perpetrator isn’t making a conscious choice to commit the crime; they are *experiencing* the consequences of their actions within a meticulously crafted simulation.  This raises the question: are they truly responsible for their actions, or are they merely acting out a pre-determined role?\n",
            "* **Justification:**  The system *could* be argued to be a form of “assisted justice,” allowing individuals to experience the consequences of their actions in a way that feels meaningful.  It could be seen as a way to acknowledge the gravity of their choices.\n",
            "* **Counter-Argument:**  This raises a profound philosophical problem. If the perpetrator’s experience is entirely simulated, does it truly matter if they *feel* remorse?  It risks reducing free will to a mere algorithmic response.  It could lead to a sense of fatalism – the belief that one’s actions are predetermined, regardless of their intentions.\n",
            "\n",
            "\n",
            "**4. The Concept of Self – Fragmentation and Identity:**\n",
            "\n",
            "* **The Blurred Self:**  The system forces individuals to confront the fragmented nature of their own identity.  They are simultaneously experiencing the victim’s life, their own thoughts, and their own emotions. This can lead to a profound sense of disorientation and potentially fragmentation of the self.\n",
            "* **Justification:**  The system *could* be argued to be a way to foster a deeper understanding of the impact of one’s actions on others.  It could encourage individuals to grapple with the complexities of their own moral failings.\n",
            "* **Counter-Argument:**  It risks creating a sense of profound alienation.  If the individual is constantly experiencing the simulated lives of others, it could be difficult to maintain a stable and coherent sense of self.  It could lead to a feeling of being trapped within a simulated reality.\n",
            "\n",
            "\n",
            "**Conclusion:**\n",
            "\n",
            "While the idea of a system that allows for perfect simulation of the subjective experience of others for crime punishment might seem appealing as a tool for rehabilitation, it’s a deeply problematic one. It raises fundamental questions about justice, empathy, free will, and the very nature of the self. \n",
            "\n",
            "**Ultimately, the ethical viability of such a system hinges on a careful and rigorous consideration of these issues.  It would require a fundamental shift in our understanding of punishment, responsibility, and the human condition.**  It’s likely that such a system would require incredibly stringent safeguards and oversight to prevent abuse and ensure that it doesn’t erode the principles of accountability and justice.\n",
            "\n",
            "---\n",
            "\n",
            "Would you like me to explore any of these aspects in more detail, perhaps focusing on specific ethical frameworks (e.g., Kantian ethics, utilitarianism) or consider alternative approaches to crime prevention?\n",
            "competitor : gemma-3-27b-it answer is ## The Echo of Suffering: Is Simulated Experience Just Punishment?\n",
            "\n",
            "In a society with perfect experiential simulation, the question of justice takes on a profoundly unsettling dimension. If a perpetrator can *become* the victim, reliving the crime with perfect fidelity as penance, does this constitute just punishment? While superficially appealing – offering a potent dose of empathy and seemingly mirroring the harm done – I argue it’s a deeply problematic and ultimately insufficient form of justice, riddled with ethical concerns regarding free will, the self, and the very nature of punishment.\n",
            "\n",
            "**The Appeal & Initial Ethical Considerations:**\n",
            "\n",
            "The initial draw is strong. Traditional punishment aims for retribution, deterrence, rehabilitation, and societal protection. This simulated experience *could* arguably achieve aspects of all four. \n",
            "\n",
            "* **Retribution:** The perpetrator directly experiences the suffering they inflicted, seemingly ‘paying’ for their crime in kind.\n",
            "* **Deterrence:** The sheer horror of the simulation could dissuade others from committing similar acts.\n",
            "* **Rehabilitation:**  Experiencing the victim’s pain might foster genuine remorse and prevent future offenses.\n",
            "* **Societal Protection:** If the simulation is complete and debilitating, the perpetrator is effectively incapacitated during and potentially after the experience.\n",
            "\n",
            "However, this is where the ethical cracks begin to show. The core issue isn’t whether the perpetrator *feels* bad, but whether the punishment is *just*.  Justice isn’t simply about inflicting suffering; it’s about accountability, upholding the law, and respecting the inherent dignity of all individuals – including the perpetrator.\n",
            "\n",
            "\n",
            "\n",
            "**1. The Erosion of Free Will & the Problem of Determinism:**\n",
            "\n",
            "The very act of forcing someone to experience another’s subjective reality raises questions about free will. If the simulation is truly perfect, does the perpetrator have any agency *within* that experience? Are they merely a passive vessel for the victim’s trauma, or can they resist, alter, or even understand the experience in a way that mitigates its punitive effect? \n",
            "\n",
            "If the simulation overrides their will, it becomes a form of psychological torture, a violation of their mental integrity.  Even if they retain some agency, the experience is fundamentally *imposed* upon them, not a consequence of their free choice.  Punishment, in a just system, should be a response to a freely chosen act, not a forced imposition of experience.  This raises the specter of determinism: if all experience is ultimately simulated and controllable, where does moral responsibility lie?\n",
            "\n",
            "**2. The Fragmentation of Self & the Loss of Individuality:**\n",
            "\n",
            "The simulation fundamentally blurs the boundaries of the self.  To truly experience the victim’s trauma, the perpetrator must, to some degree, *become* the victim. This raises profound questions about identity.  What happens to the perpetrator’s sense of self during and after the simulation?  \n",
            "\n",
            "* **Psychological Damage:**  The trauma experienced within the simulation could be deeply damaging, potentially leading to personality fragmentation, mental illness, or a complete loss of self. Is inflicting such damage justifiable, even on someone who has caused harm?\n",
            "* **The \"Ghost\" of the Victim:**  Does the simulation leave a residue of the victim’s experience within the perpetrator, effectively erasing a part of their original self? This feels like a further violation of the victim, a kind of psychic colonization.\n",
            "* **Authenticity of Remorse:**  If the remorse felt is rooted in the simulated experience of being the victim, is it genuine remorse for *their own* actions, or simply empathy for the suffering they caused?  True remorse requires acknowledging one’s own culpability, not merely feeling the consequences for another.\n",
            "\n",
            "\n",
            "\n",
            "**3. Justice as Spectacle & the Devaluation of the Victim:**\n",
            "\n",
            "While intended to foster empathy, the simulation could inadvertently turn the victim’s suffering into a spectacle.  The authorities, and potentially even the public, could become voyeurs of the perpetrator’s torment. This risks re-traumatizing the victim by focusing on the *experience* of the crime rather than the crime itself and the victim’s agency in seeking justice. \n",
            "\n",
            "Furthermore, reducing justice to a purely experiential exchange devalues the victim’s inherent worth. It implies that the primary goal of punishment is to make the perpetrator *feel* what the victim felt, rather than to acknowledge the harm done, provide restitution, and prevent future harm.  The victim’s needs – healing, closure, and a sense of justice – are potentially overshadowed by the spectacle of the perpetrator’s suffering.\n",
            "\n",
            "**4. The Problem of Scale & the Limits of Simulation:**\n",
            "\n",
            "What about crimes that aren’t easily simulated – complex emotional abuse, systemic oppression, or crimes with long-term consequences? Can a simulation truly capture the nuances of a lifetime of suffering?  The technology might be effective for physical trauma, but its efficacy diminishes with more abstract forms of harm.  \n",
            "\n",
            "\n",
            "\n",
            "**A More Just Approach:**\n",
            "\n",
            "While the simulation technology could be a valuable tool for *understanding* criminal behavior and fostering empathy, it should not be the primary form of punishment. A just system in this society would likely involve:\n",
            "\n",
            "* **Restitution & Reparation:**  Focusing on making amends to the victim and the community.\n",
            "* **Rehabilitation Programs:** Utilizing the simulation technology as a therapeutic tool to help perpetrators understand the consequences of their actions and develop empathy, but within a controlled and ethical framework.\n",
            "* **Traditional Sentencing:**  Maintaining a system of proportionate punishment, including imprisonment or other forms of restriction, to uphold the law and protect society.\n",
            "* **Victim-Centered Justice:**  Prioritizing the needs and agency of the victim throughout the entire process.\n",
            "\n",
            "\n",
            "\n",
            "\n",
            "In conclusion, while the allure of perfectly mirroring suffering is strong, the ethical implications of using experiential simulation as punishment are too profound to ignore.  It risks eroding free will, fragmenting the self, devaluing the victim, and ultimately, undermining the very foundations of a just and humane society.  True justice requires more than just making the perpetrator *feel* the pain; it demands accountability, respect, and a commitment to healing and preventing future harm.  \n",
            "\n",
            "\n",
            "\n",
            "\n",
            "competitor : gemma-3-4b-it answer is Okay, this is a fantastic thought experiment, and it really digs into the core of what we consider justice and punishment. Let’s break down whether simulating a victim’s experience as penance constitutes a just punishment in this technologically advanced society, and the complex ethical considerations involved.\n",
            "\n",
            "**My Initial Assessment: It’s Problematic, but Potentially a Step Towards Something Better – with Caveats.**\n",
            "\n",
            "While the idea of a perpetrator truly *feeling* the harm they caused is compelling, simply simulating it doesn’t automatically equate to justice. It’s a fascinating tool, but one fraught with potential for manipulation, superficiality, and a fundamental misunderstanding of what punishment should achieve.\n",
            "\n",
            "**Here’s a detailed justification, exploring the key ethical implications:**\n",
            "\n",
            "**1. Justice – What Are We Trying to Achieve?**\n",
            "\n",
            "Traditionally, justice aims to:\n",
            "\n",
            "* **Deterrence:** Discourage future crime.\n",
            "* **Retribution:**  “An eye for an eye” – delivering a punishment proportionate to the harm caused.\n",
            "* **Rehabilitation:**  Helping the offender change their behavior.\n",
            "* **Restoration:** Repairing the harm done to the victim and the community.\n",
            "\n",
            "Simulating a victim’s experience *might* contribute to deterrence (seeing the consequences firsthand could be impactful), but it falls drastically short on retribution and, crucially, rehabilitation. It doesn’t address the underlying reasons for the crime.\n",
            "\n",
            "\n",
            "**2. Empathy – The Illusion of Feeling**\n",
            "\n",
            "The core of this system rests on empathy. However, simulation isn’t *genuine* empathy.  It’s a constructed experience. The perpetrator is essentially playing a role, experiencing a data stream representing the victim’s feelings. \n",
            "\n",
            "* **The Problem of Authenticity:**  Genuine empathy involves understanding another person's perspective, feeling *with* them, and recognizing their inherent worth. Simulation lacks this fundamental connection. It’s a performance, a mimicry of emotion.\n",
            "* **Risk of Emotional Fatigue:**  Constantly simulating intense suffering could lead to emotional burnout for the perpetrator, potentially masking genuine remorse or creating a detached, clinical response to the crime.\n",
            "\n",
            "**3. Free Will & Moral Responsibility**\n",
            "\n",
            "This is where the system becomes deeply problematic. If a perpetrator can simply *simulate* the victim’s experience, does that truly demonstrate genuine remorse or a commitment to change? \n",
            "\n",
            "* **Diminished Agency:**  The act of simulation could be seen as circumventing the need for the perpetrator to confront their own moral failings. It’s a way to avoid taking responsibility for their choices.\n",
            "* **The Illusion of Choice:**  The perpetrator is choosing to *perform* the simulation, not necessarily choosing to *change* their behavior.  It’s a passive act of compliance, not an active process of self-reflection and reform.\n",
            "\n",
            "**4. The Concept of Self – Who is the Perpetrator?**\n",
            "\n",
            "The technology fundamentally alters the concept of self. The perpetrator is no longer solely responsible for their actions. They are now a conduit for the victim’s experience. \n",
            "\n",
            "* **Fragmentation of Identity:**  Constantly inhabiting another’s subjective reality could lead to a fractured sense of self, blurring the lines between the perpetrator and the victim.\n",
            "* **Devaluation of Personal Experience:**  If simulated experiences are deemed sufficient for penance, it could diminish the value of one’s own lived experience and the importance of personal accountability.\n",
            "\n",
            "\n",
            "**5. Potential Benefits & a Modified Approach**\n",
            "\n",
            "Despite the significant concerns, there *could* be a limited, carefully managed role for this technology:\n",
            "\n",
            "* **Deepened Understanding:**  The simulation *could* be used as a tool for investigators to gain a deeper understanding of the perpetrator’s mindset and the motivations behind the crime.\n",
            "* **Focus on Rehabilitation (Alongside Simulation):**  The simulation shouldn’t be the *sole* punishment. It should be coupled with intensive therapy, psychological evaluation, and programs designed to address the root causes of the crime.\n",
            "* **Victim-Centric Approach:**  Crucially, the victim’s wishes must be paramount.  The victim should have the right to refuse the simulation and to dictate the parameters of the experience.\n",
            "\n",
            "**Conclusion:**\n",
            "\n",
            "Simply simulating a victim’s experience as penance is not a just punishment in itself. It’s a technologically impressive, potentially manipulative, and ultimately superficial approach to justice. It risks undermining the principles of free will, moral responsibility, and genuine empathy. However, if used cautiously, alongside robust rehabilitation efforts and with the full consent and agency of the victim, it *might* offer a limited, albeit ethically complex, pathway towards a more nuanced understanding of crime and its consequences. \n",
            "\n",
            "---\n",
            "\n",
            "Would you like me to delve deeper into any specific aspect of this discussion, such as:\n",
            "\n",
            "*   The potential for abuse of the technology?\n",
            "*   How this system might interact with existing legal frameworks?\n",
            "*   The philosophical implications of simulated consciousness?\n"
          ]
        }
      ]
    },
    {
      "cell_type": "code",
      "source": [
        "# Let's bring this together - note the use of \"enumerate\"\n",
        "\n",
        "together = \"\"\n",
        "for index, answer in enumerate(answers):\n",
        "    together += f\"# Response from competitor {index+1}\\n\\n\"\n",
        "    together += answer + \"\\n\\n\""
      ],
      "metadata": {
        "id": "RXI6NCs4ae5z"
      },
      "execution_count": 20,
      "outputs": []
    },
    {
      "cell_type": "code",
      "source": [
        "#print(together)"
      ],
      "metadata": {
        "id": "hEqdv0Ysaetz"
      },
      "execution_count": 21,
      "outputs": []
    },
    {
      "cell_type": "code",
      "source": [
        "judge = f\"\"\"You are judging a competition between {len(competitors)} competitors.\n",
        "Each model has been given this question:\n",
        "\n",
        "{question}\n",
        "\n",
        "Your job is to evaluate each response for clarity and strength of argument, and rank them in order of best to worst.\n",
        "Respond with JSON, and only JSON, with the following format:\n",
        "{{\"results\": [\"best competitor number\", \"second best competitor number\", \"third best competitor number\", ...]}}\n",
        "\n",
        "Here are the responses from each competitor:\n",
        "\n",
        "{together}\n",
        "\n",
        "Now respond with the JSON and only JSON with the ranked order of the competitors, nothing else. Do not include markdown formatting or code blocks. Respond with JSON, and only JSON, with the following format:\n",
        "{{\"results\": [\"best competitor number\", \"second best competitor number\", \"third best competitor number\", ...]}}. make sure results is not in qoutes and make sure you have included all {len(competitors)} models in results\"\"\""
      ],
      "metadata": {
        "id": "WLVycRnVbXXZ"
      },
      "execution_count": 61,
      "outputs": []
    },
    {
      "cell_type": "code",
      "source": [
        "#print(judge)"
      ],
      "metadata": {
        "id": "dO6eIewTbXUS"
      },
      "execution_count": 62,
      "outputs": []
    },
    {
      "cell_type": "code",
      "source": [
        "judge_messages = [{\"role\": \"user\", \"content\": judge}]"
      ],
      "metadata": {
        "id": "STDYJuFCbXRJ"
      },
      "execution_count": 63,
      "outputs": []
    },
    {
      "cell_type": "code",
      "source": [
        "model_name=\"gemma-3-12b-it\"\n",
        "#model_name=\"gemma-3n-e4b-it\"\n",
        "\n",
        "response = gemini.chat.completions.create(model=model_name, messages=judge_messages)\n",
        "results = response.choices[0].message.content\n",
        "print(results)"
      ],
      "metadata": {
        "colab": {
          "base_uri": "https://localhost:8080/"
        },
        "id": "kUfK7hvebXNx",
        "outputId": "d94348fd-8b8f-4c05-831e-f6a445c76fce"
      },
      "execution_count": 66,
      "outputs": [
        {
          "output_type": "stream",
          "name": "stdout",
          "text": [
            "{\"results\": [\"1\", \"2\", \"4\", \"3\"]}\n"
          ]
        }
      ]
    },
    {
      "cell_type": "code",
      "source": [
        "# OK let's turn this into results!\n",
        "\n",
        "results_dict = json.loads(results)\n",
        "ranks = results_dict[\"results\"]\n",
        "for index, result in enumerate(ranks):\n",
        "    competitor = competitors[int(result)-1]\n",
        "    print(f\"Rank {index+1}: {competitor}\")"
      ],
      "metadata": {
        "colab": {
          "base_uri": "https://localhost:8080/"
        },
        "id": "KHV0G0fVbXHv",
        "outputId": "ce221b4b-af23-48af-eb89-710e87d44b5a"
      },
      "execution_count": 67,
      "outputs": [
        {
          "output_type": "stream",
          "name": "stdout",
          "text": [
            "Rank 1: llama3.2:1b\n",
            "Rank 2: gemma-3-1b-it\n",
            "Rank 3: gemma-3-4b-it\n",
            "Rank 4: gemma-3-27b-it\n"
          ]
        }
      ]
    },
    {
      "cell_type": "code",
      "source": [],
      "metadata": {
        "id": "R8ZgQkEhbW7e"
      },
      "execution_count": 57,
      "outputs": []
    },
    {
      "cell_type": "code",
      "source": [],
      "metadata": {
        "id": "ob63o98hl1b0"
      },
      "execution_count": null,
      "outputs": []
    },
    {
      "cell_type": "code",
      "source": [],
      "metadata": {
        "id": "Xlsz9eXHl1Ha"
      },
      "execution_count": null,
      "outputs": []
    },
    {
      "cell_type": "code",
      "source": [
        "deepseek_api_key=userdata.get('DEEPSEEK_API_KEY')\n",
        "if deepseek_api_key is None:\n",
        "  raise ValueError(\"DEEPSEEK_API_KEY not set\")\n",
        "else :\n",
        "  print(\"DEEPSEEK_API_KEY key is set\")"
      ],
      "metadata": {
        "colab": {
          "base_uri": "https://localhost:8080/"
        },
        "id": "zpQwiLb2WL-R",
        "outputId": "588911d0-242f-484c-bd9d-2192faf1f90e"
      },
      "execution_count": 21,
      "outputs": [
        {
          "output_type": "stream",
          "name": "stdout",
          "text": [
            "DEEPSEEK_API_KEY key is set\n"
          ]
        }
      ]
    },
    {
      "cell_type": "code",
      "source": [
        "deepseek = OpenAI(api_key=deepseek_api_key, base_url=\"https://api.deepseek.com/v1\")\n",
        "model_name = \"deepseek-chat\"\n",
        "\n",
        "response = deepseek.chat.completions.create(model=model_name, messages=messages)\n",
        "answer = response.choices[0].message.content\n",
        "\n",
        "#display(Markdown(answer))\n",
        "#competitors.append(model_name)\n",
        "#answers.append(answer)"
      ],
      "metadata": {
        "colab": {
          "base_uri": "https://localhost:8080/",
          "height": 365
        },
        "id": "CqF2PZtiUpLf",
        "outputId": "18756ff5-9346-4181-f790-9ae243182c3c"
      },
      "execution_count": 22,
      "outputs": [
        {
          "output_type": "error",
          "ename": "APIStatusError",
          "evalue": "Error code: 402 - {'error': {'message': 'Insufficient Balance', 'type': 'unknown_error', 'param': None, 'code': 'invalid_request_error'}}",
          "traceback": [
            "\u001b[0;31m---------------------------------------------------------------------------\u001b[0m",
            "\u001b[0;31mAPIStatusError\u001b[0m                            Traceback (most recent call last)",
            "\u001b[0;32m/tmp/ipython-input-22-885244502.py\u001b[0m in \u001b[0;36m<cell line: 0>\u001b[0;34m()\u001b[0m\n\u001b[1;32m      2\u001b[0m \u001b[0mmodel_name\u001b[0m \u001b[0;34m=\u001b[0m \u001b[0;34m\"deepseek-chat\"\u001b[0m\u001b[0;34m\u001b[0m\u001b[0;34m\u001b[0m\u001b[0m\n\u001b[1;32m      3\u001b[0m \u001b[0;34m\u001b[0m\u001b[0m\n\u001b[0;32m----> 4\u001b[0;31m \u001b[0mresponse\u001b[0m \u001b[0;34m=\u001b[0m \u001b[0mdeepseek\u001b[0m\u001b[0;34m.\u001b[0m\u001b[0mchat\u001b[0m\u001b[0;34m.\u001b[0m\u001b[0mcompletions\u001b[0m\u001b[0;34m.\u001b[0m\u001b[0mcreate\u001b[0m\u001b[0;34m(\u001b[0m\u001b[0mmodel\u001b[0m\u001b[0;34m=\u001b[0m\u001b[0mmodel_name\u001b[0m\u001b[0;34m,\u001b[0m \u001b[0mmessages\u001b[0m\u001b[0;34m=\u001b[0m\u001b[0mmessages\u001b[0m\u001b[0;34m)\u001b[0m\u001b[0;34m\u001b[0m\u001b[0;34m\u001b[0m\u001b[0m\n\u001b[0m\u001b[1;32m      5\u001b[0m \u001b[0manswer\u001b[0m \u001b[0;34m=\u001b[0m \u001b[0mresponse\u001b[0m\u001b[0;34m.\u001b[0m\u001b[0mchoices\u001b[0m\u001b[0;34m[\u001b[0m\u001b[0;36m0\u001b[0m\u001b[0;34m]\u001b[0m\u001b[0;34m.\u001b[0m\u001b[0mmessage\u001b[0m\u001b[0;34m.\u001b[0m\u001b[0mcontent\u001b[0m\u001b[0;34m\u001b[0m\u001b[0;34m\u001b[0m\u001b[0m\n\u001b[1;32m      6\u001b[0m \u001b[0;34m\u001b[0m\u001b[0m\n",
            "\u001b[0;32m/usr/local/lib/python3.11/dist-packages/openai/_utils/_utils.py\u001b[0m in \u001b[0;36mwrapper\u001b[0;34m(*args, **kwargs)\u001b[0m\n\u001b[1;32m    285\u001b[0m                         \u001b[0mmsg\u001b[0m \u001b[0;34m=\u001b[0m \u001b[0;34mf\"Missing required argument: {quote(missing[0])}\"\u001b[0m\u001b[0;34m\u001b[0m\u001b[0;34m\u001b[0m\u001b[0m\n\u001b[1;32m    286\u001b[0m                 \u001b[0;32mraise\u001b[0m \u001b[0mTypeError\u001b[0m\u001b[0;34m(\u001b[0m\u001b[0mmsg\u001b[0m\u001b[0;34m)\u001b[0m\u001b[0;34m\u001b[0m\u001b[0;34m\u001b[0m\u001b[0m\n\u001b[0;32m--> 287\u001b[0;31m             \u001b[0;32mreturn\u001b[0m \u001b[0mfunc\u001b[0m\u001b[0;34m(\u001b[0m\u001b[0;34m*\u001b[0m\u001b[0margs\u001b[0m\u001b[0;34m,\u001b[0m \u001b[0;34m**\u001b[0m\u001b[0mkwargs\u001b[0m\u001b[0;34m)\u001b[0m\u001b[0;34m\u001b[0m\u001b[0;34m\u001b[0m\u001b[0m\n\u001b[0m\u001b[1;32m    288\u001b[0m \u001b[0;34m\u001b[0m\u001b[0m\n\u001b[1;32m    289\u001b[0m         \u001b[0;32mreturn\u001b[0m \u001b[0mwrapper\u001b[0m  \u001b[0;31m# type: ignore\u001b[0m\u001b[0;34m\u001b[0m\u001b[0;34m\u001b[0m\u001b[0m\n",
            "\u001b[0;32m/usr/local/lib/python3.11/dist-packages/openai/resources/chat/completions/completions.py\u001b[0m in \u001b[0;36mcreate\u001b[0;34m(self, messages, model, audio, frequency_penalty, function_call, functions, logit_bias, logprobs, max_completion_tokens, max_tokens, metadata, modalities, n, parallel_tool_calls, prediction, presence_penalty, reasoning_effort, response_format, seed, service_tier, stop, store, stream, stream_options, temperature, tool_choice, tools, top_logprobs, top_p, user, web_search_options, extra_headers, extra_query, extra_body, timeout)\u001b[0m\n\u001b[1;32m    923\u001b[0m     ) -> ChatCompletion | Stream[ChatCompletionChunk]:\n\u001b[1;32m    924\u001b[0m         \u001b[0mvalidate_response_format\u001b[0m\u001b[0;34m(\u001b[0m\u001b[0mresponse_format\u001b[0m\u001b[0;34m)\u001b[0m\u001b[0;34m\u001b[0m\u001b[0;34m\u001b[0m\u001b[0m\n\u001b[0;32m--> 925\u001b[0;31m         return self._post(\n\u001b[0m\u001b[1;32m    926\u001b[0m             \u001b[0;34m\"/chat/completions\"\u001b[0m\u001b[0;34m,\u001b[0m\u001b[0;34m\u001b[0m\u001b[0;34m\u001b[0m\u001b[0m\n\u001b[1;32m    927\u001b[0m             body=maybe_transform(\n",
            "\u001b[0;32m/usr/local/lib/python3.11/dist-packages/openai/_base_client.py\u001b[0m in \u001b[0;36mpost\u001b[0;34m(self, path, cast_to, body, options, files, stream, stream_cls)\u001b[0m\n\u001b[1;32m   1240\u001b[0m             \u001b[0mmethod\u001b[0m\u001b[0;34m=\u001b[0m\u001b[0;34m\"post\"\u001b[0m\u001b[0;34m,\u001b[0m \u001b[0murl\u001b[0m\u001b[0;34m=\u001b[0m\u001b[0mpath\u001b[0m\u001b[0;34m,\u001b[0m \u001b[0mjson_data\u001b[0m\u001b[0;34m=\u001b[0m\u001b[0mbody\u001b[0m\u001b[0;34m,\u001b[0m \u001b[0mfiles\u001b[0m\u001b[0;34m=\u001b[0m\u001b[0mto_httpx_files\u001b[0m\u001b[0;34m(\u001b[0m\u001b[0mfiles\u001b[0m\u001b[0;34m)\u001b[0m\u001b[0;34m,\u001b[0m \u001b[0;34m**\u001b[0m\u001b[0moptions\u001b[0m\u001b[0;34m\u001b[0m\u001b[0;34m\u001b[0m\u001b[0m\n\u001b[1;32m   1241\u001b[0m         )\n\u001b[0;32m-> 1242\u001b[0;31m         \u001b[0;32mreturn\u001b[0m \u001b[0mcast\u001b[0m\u001b[0;34m(\u001b[0m\u001b[0mResponseT\u001b[0m\u001b[0;34m,\u001b[0m \u001b[0mself\u001b[0m\u001b[0;34m.\u001b[0m\u001b[0mrequest\u001b[0m\u001b[0;34m(\u001b[0m\u001b[0mcast_to\u001b[0m\u001b[0;34m,\u001b[0m \u001b[0mopts\u001b[0m\u001b[0;34m,\u001b[0m \u001b[0mstream\u001b[0m\u001b[0;34m=\u001b[0m\u001b[0mstream\u001b[0m\u001b[0;34m,\u001b[0m \u001b[0mstream_cls\u001b[0m\u001b[0;34m=\u001b[0m\u001b[0mstream_cls\u001b[0m\u001b[0;34m)\u001b[0m\u001b[0;34m)\u001b[0m\u001b[0;34m\u001b[0m\u001b[0;34m\u001b[0m\u001b[0m\n\u001b[0m\u001b[1;32m   1243\u001b[0m \u001b[0;34m\u001b[0m\u001b[0m\n\u001b[1;32m   1244\u001b[0m     def patch(\n",
            "\u001b[0;32m/usr/local/lib/python3.11/dist-packages/openai/_base_client.py\u001b[0m in \u001b[0;36mrequest\u001b[0;34m(self, cast_to, options, stream, stream_cls)\u001b[0m\n\u001b[1;32m   1035\u001b[0m \u001b[0;34m\u001b[0m\u001b[0m\n\u001b[1;32m   1036\u001b[0m                 \u001b[0mlog\u001b[0m\u001b[0;34m.\u001b[0m\u001b[0mdebug\u001b[0m\u001b[0;34m(\u001b[0m\u001b[0;34m\"Re-raising status error\"\u001b[0m\u001b[0;34m)\u001b[0m\u001b[0;34m\u001b[0m\u001b[0;34m\u001b[0m\u001b[0m\n\u001b[0;32m-> 1037\u001b[0;31m                 \u001b[0;32mraise\u001b[0m \u001b[0mself\u001b[0m\u001b[0;34m.\u001b[0m\u001b[0m_make_status_error_from_response\u001b[0m\u001b[0;34m(\u001b[0m\u001b[0merr\u001b[0m\u001b[0;34m.\u001b[0m\u001b[0mresponse\u001b[0m\u001b[0;34m)\u001b[0m \u001b[0;32mfrom\u001b[0m \u001b[0;32mNone\u001b[0m\u001b[0;34m\u001b[0m\u001b[0;34m\u001b[0m\u001b[0m\n\u001b[0m\u001b[1;32m   1038\u001b[0m \u001b[0;34m\u001b[0m\u001b[0m\n\u001b[1;32m   1039\u001b[0m             \u001b[0;32mbreak\u001b[0m\u001b[0;34m\u001b[0m\u001b[0;34m\u001b[0m\u001b[0m\n",
            "\u001b[0;31mAPIStatusError\u001b[0m: Error code: 402 - {'error': {'message': 'Insufficient Balance', 'type': 'unknown_error', 'param': None, 'code': 'invalid_request_error'}}"
          ]
        }
      ]
    },
    {
      "cell_type": "code",
      "source": [
        "\n",
        "\n",
        "models = gemini.models.list()\n",
        "for model in models:\n",
        "  print(model.id)"
      ],
      "metadata": {
        "colab": {
          "base_uri": "https://localhost:8080/"
        },
        "id": "oGmQh6dKiIYw",
        "outputId": "9e76b46a-2bcd-4082-a1e4-514c44302061"
      },
      "execution_count": 53,
      "outputs": [
        {
          "output_type": "stream",
          "name": "stdout",
          "text": [
            "models/embedding-gecko-001\n",
            "models/gemini-1.0-pro-vision-latest\n",
            "models/gemini-pro-vision\n",
            "models/gemini-1.5-pro-latest\n",
            "models/gemini-1.5-pro-002\n",
            "models/gemini-1.5-pro\n",
            "models/gemini-1.5-flash-latest\n",
            "models/gemini-1.5-flash\n",
            "models/gemini-1.5-flash-002\n",
            "models/gemini-1.5-flash-8b\n",
            "models/gemini-1.5-flash-8b-001\n",
            "models/gemini-1.5-flash-8b-latest\n",
            "models/gemini-2.5-pro-exp-03-25\n",
            "models/gemini-2.5-pro-preview-03-25\n",
            "models/gemini-2.5-flash-preview-04-17\n",
            "models/gemini-2.5-flash-preview-05-20\n",
            "models/gemini-2.5-flash\n",
            "models/gemini-2.5-flash-preview-04-17-thinking\n",
            "models/gemini-2.5-flash-lite-preview-06-17\n",
            "models/gemini-2.5-pro-preview-05-06\n",
            "models/gemini-2.5-pro-preview-06-05\n",
            "models/gemini-2.5-pro\n",
            "models/gemini-2.0-flash-exp\n",
            "models/gemini-2.0-flash\n",
            "models/gemini-2.0-flash-001\n",
            "models/gemini-2.0-flash-exp-image-generation\n",
            "models/gemini-2.0-flash-lite-001\n",
            "models/gemini-2.0-flash-lite\n",
            "models/gemini-2.0-flash-preview-image-generation\n",
            "models/gemini-2.0-flash-lite-preview-02-05\n",
            "models/gemini-2.0-flash-lite-preview\n",
            "models/gemini-2.0-pro-exp\n",
            "models/gemini-2.0-pro-exp-02-05\n",
            "models/gemini-exp-1206\n",
            "models/gemini-2.0-flash-thinking-exp-01-21\n",
            "models/gemini-2.0-flash-thinking-exp\n",
            "models/gemini-2.0-flash-thinking-exp-1219\n",
            "models/gemini-2.5-flash-preview-tts\n",
            "models/gemini-2.5-pro-preview-tts\n",
            "models/learnlm-2.0-flash-experimental\n",
            "models/gemma-3-1b-it\n",
            "models/gemma-3-4b-it\n",
            "models/gemma-3-12b-it\n",
            "models/gemma-3-27b-it\n",
            "models/gemma-3n-e4b-it\n",
            "models/embedding-001\n",
            "models/text-embedding-004\n",
            "models/gemini-embedding-exp-03-07\n",
            "models/gemini-embedding-exp\n",
            "models/aqa\n",
            "models/imagen-3.0-generate-002\n",
            "models/veo-2.0-generate-001\n",
            "models/gemini-2.5-flash-preview-native-audio-dialog\n",
            "models/gemini-2.5-flash-preview-native-audio-dialog-rai-v3\n",
            "models/gemini-2.5-flash-exp-native-audio-thinking-dialog\n",
            "models/gemini-2.0-flash-live-001\n"
          ]
        }
      ]
    },
    {
      "cell_type": "code",
      "source": [],
      "metadata": {
        "id": "HVmbSRE1iIwe"
      },
      "execution_count": null,
      "outputs": []
    }
  ]
}