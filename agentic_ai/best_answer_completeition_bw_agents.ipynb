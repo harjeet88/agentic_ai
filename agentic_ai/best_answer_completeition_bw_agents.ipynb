{
  "nbformat": 4,
  "nbformat_minor": 0,
  "metadata": {
    "colab": {
      "provenance": [],
      "include_colab_link": true
    },
    "kernelspec": {
      "name": "python3",
      "display_name": "Python 3"
    },
    "language_info": {
      "name": "python"
    }
  },
  "cells": [
    {
      "cell_type": "markdown",
      "metadata": {
        "id": "view-in-github",
        "colab_type": "text"
      },
      "source": [
        "<a href=\"https://colab.research.google.com/github/harjeet88/agentic_ai/blob/main/agentic_ai/best_answer_completeition_bw_agents.ipynb\" target=\"_parent\"><img src=\"https://colab.research.google.com/assets/colab-badge.svg\" alt=\"Open In Colab\"/></a>"
      ]
    },
    {
      "cell_type": "code",
      "metadata": {
        "colab": {
          "base_uri": "https://localhost:8080/"
        },
        "id": "40220025",
        "outputId": "a1759bac-c176-4145-faed-76f1975b8a7c"
      },
      "source": [
        "%pip install python-dotenv pypdf"
      ],
      "execution_count": 2,
      "outputs": [
        {
          "output_type": "stream",
          "name": "stdout",
          "text": [
            "Requirement already satisfied: python-dotenv in /usr/local/lib/python3.11/dist-packages (1.1.0)\n",
            "Requirement already satisfied: pypdf in /usr/local/lib/python3.11/dist-packages (5.6.0)\n"
          ]
        }
      ]
    },
    {
      "cell_type": "code",
      "source": [
        "!curl -fsSL https://ollama.com/install.sh | sh"
      ],
      "metadata": {
        "colab": {
          "base_uri": "https://localhost:8080/"
        },
        "id": "olA22cIJWm8E",
        "outputId": "78d061c9-5074-42f5-949f-2a2720c088da"
      },
      "execution_count": 23,
      "outputs": [
        {
          "output_type": "stream",
          "name": "stdout",
          "text": [
            ">>> Installing ollama to /usr/local\n",
            ">>> Downloading Linux amd64 bundle\n",
            "######################################################################## 100.0%\n",
            ">>> Creating ollama user...\n",
            ">>> Adding ollama user to video group...\n",
            ">>> Adding current user to ollama group...\n",
            ">>> Creating ollama systemd service...\n",
            "\u001b[1m\u001b[31mWARNING:\u001b[m systemd is not running\n",
            "\u001b[1m\u001b[31mWARNING:\u001b[m Unable to detect NVIDIA/AMD GPU. Install lspci or lshw to automatically detect and install GPU dependencies.\n",
            ">>> The Ollama API is now available at 127.0.0.1:11434.\n",
            ">>> Install complete. Run \"ollama\" from the command line.\n"
          ]
        }
      ]
    },
    {
      "cell_type": "code",
      "source": [
        "# Start Ollama server\n",
        "\n",
        "import subprocess\n",
        "\n",
        "# Start the command in a background process\n",
        "process = subprocess.Popen([\"ollama\", \"serve\"])\n",
        "\n",
        "# The kernel can continue execution while the process runs in the background\n",
        "print(\"The 'ollama serve' process is running in the background.\")"
      ],
      "metadata": {
        "colab": {
          "base_uri": "https://localhost:8080/"
        },
        "id": "Ub_fHCWqWt4K",
        "outputId": "b11885a9-775b-4114-a3bf-a4a88eee0c55"
      },
      "execution_count": 24,
      "outputs": [
        {
          "output_type": "stream",
          "name": "stdout",
          "text": [
            "The 'ollama serve' process is running in the background.\n"
          ]
        }
      ]
    },
    {
      "cell_type": "code",
      "source": [
        "!ollama pull llama3.2:1b"
      ],
      "metadata": {
        "colab": {
          "base_uri": "https://localhost:8080/"
        },
        "id": "4vXtfpoiWxnf",
        "outputId": "7f1767be-c609-47c6-eed3-fd1a8e71aae8"
      },
      "execution_count": 25,
      "outputs": [
        {
          "output_type": "stream",
          "name": "stdout",
          "text": [
            "\u001b[?2026h\u001b[?25l\u001b[1G\u001b[?25h\u001b[?2026l\u001b[?2026h\u001b[?25l\u001b[1G\u001b[?25h\u001b[?2026l\u001b[?2026h\u001b[?25l\u001b[1G\u001b[?25h\u001b[?2026l\u001b[?2026h\u001b[?25l\u001b[1G\u001b[?25h\u001b[?2026l\u001b[?2026h\u001b[?25l\u001b[1G\u001b[?25h\u001b[?2026l\u001b[?2026h\u001b[?25l\u001b[1G\u001b[?25h\u001b[?2026l\u001b[?2026h\u001b[?25l\u001b[1G\u001b[?25h\u001b[?2026l\u001b[?2026h\u001b[?25l\u001b[1G\u001b[?25h\u001b[?2026l\u001b[?2026h\u001b[?25l\u001b[1G\u001b[?25h\u001b[?2026l\u001b[?2026h\u001b[?25l\u001b[1G\u001b[?25h\u001b[?2026l\u001b[?2026h\u001b[?25l\u001b[A\u001b[1G\u001b[?25h\u001b[?2026l\u001b[?2026h\u001b[?25l\u001b[A\u001b[1G\u001b[?25h\u001b[?2026l\u001b[?2026h\u001b[?25l\u001b[A\u001b[1G\u001b[?25h\u001b[?2026l\u001b[?2026h\u001b[?25l\u001b[A\u001b[1G\u001b[?25h\u001b[?2026l\u001b[?2026h\u001b[?25l\u001b[A\u001b[1G\u001b[?25h\u001b[?2026l\u001b[?2026h\u001b[?25l\u001b[A\u001b[1G\u001b[?25h\u001b[?2026l\u001b[?2026h\u001b[?25l\u001b[A\u001b[1G\u001b[?25h\u001b[?2026l\u001b[?2026h\u001b[?25l\u001b[A\u001b[1G\u001b[?25h\u001b[?2026l\u001b[?2026h\u001b[?25l\u001b[A\u001b[1G\u001b[?25h\u001b[?2026l\u001b[?2026h\u001b[?25l\u001b[A\u001b[1G\u001b[?25h\u001b[?2026l\u001b[?2026h\u001b[?25l\u001b[A\u001b[1G\u001b[?25h\u001b[?2026l\u001b[?2026h\u001b[?25l\u001b[A\u001b[1G\u001b[?25h\u001b[?2026l\u001b[?2026h\u001b[?25l\u001b[A\u001b[1G\u001b[?25h\u001b[?2026l\u001b[?2026h\u001b[?25l\u001b[A\u001b[1G\u001b[?25h\u001b[?2026l\u001b[?2026h\u001b[?25l\u001b[A\u001b[1G\u001b[?25h\u001b[?2026l\u001b[?2026h\u001b[?25l\u001b[A\u001b[1G\u001b[?25h\u001b[?2026l\u001b[?2026h\u001b[?25l\u001b[A\u001b[1G\u001b[?25h\u001b[?2026l\u001b[?2026h\u001b[?25l\u001b[A\u001b[1G\u001b[?25h\u001b[?2026l\u001b[?2026h\u001b[?25l\u001b[A\u001b[1G\u001b[?25h\u001b[?2026l\u001b[?2026h\u001b[?25l\u001b[A\u001b[1G\u001b[?25h\u001b[?2026l\u001b[?2026h\u001b[?25l\u001b[A\u001b[1G\u001b[?25h\u001b[?2026l\u001b[?2026h\u001b[?25l\u001b[A\u001b[1G\u001b[?25h\u001b[?2026l\u001b[?2026h\u001b[?25l\u001b[A\u001b[1G\u001b[?25h\u001b[?2026l\u001b[?2026h\u001b[?25l\u001b[A\u001b[1G\u001b[?25h\u001b[?2026l\u001b[?2026h\u001b[?25l\u001b[A\u001b[1G\u001b[?25h\u001b[?2026l\u001b[?2026h\u001b[?25l\u001b[A\u001b[1G\u001b[?25h\u001b[?2026l\u001b[?2026h\u001b[?25l\u001b[A\u001b[1G\u001b[?25h\u001b[?2026l\u001b[?2026h\u001b[?25l\u001b[A\u001b[1G\u001b[?25h\u001b[?2026l\u001b[?2026h\u001b[?25l\u001b[A\u001b[1G\u001b[?25h\u001b[?2026l\u001b[?2026h\u001b[?25l\u001b[A\u001b[1G\u001b[?25h\u001b[?2026l\u001b[?2026h\u001b[?25l\u001b[A\u001b[1G\u001b[?25h\u001b[?2026l\u001b[?2026h\u001b[?25l\u001b[A\u001b[1G\u001b[?25h\u001b[?2026l\u001b[?2026h\u001b[?25l\u001b[A\u001b[1G\u001b[?25h\u001b[?2026l\u001b[?2026h\u001b[?25l\u001b[A\u001b[1G\u001b[?25h\u001b[?2026l\u001b[?2026h\u001b[?25l\u001b[A\u001b[1G\u001b[?25h\u001b[?2026l\u001b[?2026h\u001b[?25l\u001b[A\u001b[1G\u001b[?25h\u001b[?2026l\u001b[?2026h\u001b[?25l\u001b[A\u001b[1G\u001b[?25h\u001b[?2026l\u001b[?2026h\u001b[?25l\u001b[A\u001b[1G\u001b[?25h\u001b[?2026l\u001b[?2026h\u001b[?25l\u001b[A\u001b[1G\u001b[?25h\u001b[?2026l\u001b[?2026h\u001b[?25l\u001b[A\u001b[1G\u001b[?25h\u001b[?2026l\u001b[?2026h\u001b[?25l\u001b[A\u001b[1G\u001b[?25h\u001b[?2026l\u001b[?2026h\u001b[?25l\u001b[A\u001b[1G\u001b[?25h\u001b[?2026l\u001b[?2026h\u001b[?25l\u001b[A\u001b[1G\u001b[?25h\u001b[?2026l\u001b[?2026h\u001b[?25l\u001b[A\u001b[1G\u001b[?25h\u001b[?2026l\u001b[?2026h\u001b[?25l\u001b[A\u001b[1G\u001b[?25h\u001b[?2026l\u001b[?2026h\u001b[?25l\u001b[A\u001b[1G\u001b[?25h\u001b[?2026l\u001b[?2026h\u001b[?25l\u001b[A\u001b[1G\u001b[?25h\u001b[?2026l\u001b[?2026h\u001b[?25l\u001b[A\u001b[1G\u001b[?25h\u001b[?2026l\u001b[?2026h\u001b[?25l\u001b[A\u001b[1G\u001b[?25h\u001b[?2026l\u001b[?2026h\u001b[?25l\u001b[A\u001b[1G\u001b[?25h\u001b[?2026l\u001b[?2026h\u001b[?25l\u001b[A\u001b[1G\u001b[?25h\u001b[?2026l\u001b[?2026h\u001b[?25l\u001b[A\u001b[1G\u001b[?25h\u001b[?2026l\u001b[?2026h\u001b[?25l\u001b[A\u001b[1G\u001b[?25h\u001b[?2026l\u001b[?2026h\u001b[?25l\u001b[A\u001b[1G\u001b[?25h\u001b[?2026l\u001b[?2026h\u001b[?25l\u001b[A\u001b[1G\u001b[?25h\u001b[?2026l\u001b[?2026h\u001b[?25l\u001b[A\u001b[1G\u001b[?25h\u001b[?2026l\u001b[?2026h\u001b[?25l\u001b[A\u001b[1G\u001b[?25h\u001b[?2026l\u001b[?2026h\u001b[?25l\u001b[A\u001b[1G\u001b[?25h\u001b[?2026l\u001b[?2026h\u001b[?25l\u001b[A\u001b[1G\u001b[?25h\u001b[?2026l\u001b[?2026h\u001b[?25l\u001b[A\u001b[1G\u001b[?25h\u001b[?2026l\u001b[?2026h\u001b[?25l\u001b[A\u001b[1G\u001b[?25h\u001b[?2026l\u001b[?2026h\u001b[?25l\u001b[A\u001b[1G\u001b[?25h\u001b[?2026l\u001b[?2026h\u001b[?25l\u001b[A\u001b[1G\u001b[?25h\u001b[?2026l\u001b[?2026h\u001b[?25l\u001b[A\u001b[1G\u001b[?25h\u001b[?2026l\u001b[?2026h\u001b[?25l\u001b[A\u001b[1G\u001b[?25h\u001b[?2026l\u001b[?2026h\u001b[?25l\u001b[A\u001b[1G\u001b[?25h\u001b[?2026l\u001b[?2026h\u001b[?25l\u001b[A\u001b[1G\u001b[?25h\u001b[?2026l\u001b[?2026h\u001b[?25l\u001b[A\u001b[1G\u001b[?25h\u001b[?2026l\u001b[?2026h\u001b[?25l\u001b[A\u001b[1G\u001b[?25h\u001b[?2026l\u001b[?2026h\u001b[?25l\u001b[A\u001b[1G\u001b[?25h\u001b[?2026l\u001b[?2026h\u001b[?25l\u001b[A\u001b[1G\u001b[?25h\u001b[?2026l\u001b[?2026h\u001b[?25l\u001b[A\u001b[1G\u001b[?25h\u001b[?2026l\u001b[?2026h\u001b[?25l\u001b[A\u001b[1G\u001b[?25h\u001b[?2026l\u001b[?2026h\u001b[?25l\u001b[A\u001b[1G\u001b[?25h\u001b[?2026l\u001b[?2026h\u001b[?25l\u001b[A\u001b[1G\u001b[?25h\u001b[?2026l\u001b[?2026h\u001b[?25l\u001b[A\u001b[1G\u001b[?25h\u001b[?2026l\u001b[?2026h\u001b[?25l\u001b[A\u001b[1G\u001b[?25h\u001b[?2026l\u001b[?2026h\u001b[?25l\u001b[A\u001b[1G\u001b[?25h\u001b[?2026l\u001b[?2026h\u001b[?25l\u001b[A\u001b[1G\u001b[?25h\u001b[?2026l\u001b[?2026h\u001b[?25l\u001b[A\u001b[1G\u001b[?25h\u001b[?2026l\u001b[?2026h\u001b[?25l\u001b[A\u001b[1G\u001b[?25h\u001b[?2026l\u001b[?2026h\u001b[?25l\u001b[A\u001b[1G\u001b[?25h\u001b[?2026l\u001b[?2026h\u001b[?25l\u001b[A\u001b[1G\u001b[?25h\u001b[?2026l\u001b[?2026h\u001b[?25l\u001b[A\u001b[1G\u001b[?25h\u001b[?2026l\u001b[?2026h\u001b[?25l\u001b[A\u001b[1G\u001b[?25h\u001b[?2026l\u001b[?2026h\u001b[?25l\u001b[A\u001b[1G\u001b[?25h\u001b[?2026l\u001b[?2026h\u001b[?25l\u001b[A\u001b[1G\u001b[?25h\u001b[?2026l\u001b[?2026h\u001b[?25l\u001b[A\u001b[1G\u001b[?25h\u001b[?2026l\u001b[?2026h\u001b[?25l\u001b[A\u001b[1G\u001b[?25h\u001b[?2026l\u001b[?2026h\u001b[?25l\u001b[A\u001b[1G\u001b[?25h\u001b[?2026l\u001b[?2026h\u001b[?25l\u001b[A\u001b[1G\u001b[?25h\u001b[?2026l\u001b[?2026h\u001b[?25l\u001b[A\u001b[1G\u001b[?25h\u001b[?2026l\u001b[?2026h\u001b[?25l\u001b[A\u001b[1G\u001b[?25h\u001b[?2026l\u001b[?2026h\u001b[?25l\u001b[A\u001b[1G\u001b[?25h\u001b[?2026l\u001b[?2026h\u001b[?25l\u001b[A\u001b[1G\u001b[?25h\u001b[?2026l\u001b[?2026h\u001b[?25l\u001b[A\u001b[1G\u001b[?25h\u001b[?2026l\u001b[?2026h\u001b[?25l\u001b[A\u001b[1G\u001b[?25h\u001b[?2026l\u001b[?2026h\u001b[?25l\u001b[A\u001b[1G\u001b[?25h\u001b[?2026l\u001b[?2026h\u001b[?25l\u001b[A\u001b[1G\u001b[?25h\u001b[?2026l\u001b[?2026h\u001b[?25l\u001b[A\u001b[1G\u001b[?25h\u001b[?2026l\u001b[?2026h\u001b[?25l\u001b[A\u001b[1G\u001b[?25h\u001b[?2026l\u001b[?2026h\u001b[?25l\u001b[A\u001b[1G\u001b[?25h\u001b[?2026l\u001b[?2026h\u001b[?25l\u001b[A\u001b[1G\u001b[?25h\u001b[?2026l\u001b[?2026h\u001b[?25l\u001b[A\u001b[1G\u001b[?25h\u001b[?2026l\u001b[?2026h\u001b[?25l\u001b[A\u001b[1G\u001b[?25h\u001b[?2026l\u001b[?2026h\u001b[?25l\u001b[A\u001b[1G\u001b[?25h\u001b[?2026l\u001b[?2026h\u001b[?25l\u001b[A\u001b[1G\u001b[?25h\u001b[?2026l\u001b[?2026h\u001b[?25l\u001b[A\u001b[1G\u001b[?25h\u001b[?2026l\u001b[?2026h\u001b[?25l\u001b[A\u001b[1G\u001b[?25h\u001b[?2026l\u001b[?2026h\u001b[?25l\u001b[A\u001b[1G\u001b[?25h\u001b[?2026l\u001b[?2026h\u001b[?25l\u001b[A\u001b[1G\u001b[?25h\u001b[?2026l\u001b[?2026h\u001b[?25l\u001b[A\u001b[1G\u001b[?25h\u001b[?2026l\u001b[?2026h\u001b[?25l\u001b[A\u001b[1G\u001b[?25h\u001b[?2026l\u001b[?2026h\u001b[?25l\u001b[A\u001b[1G\u001b[?25h\u001b[?2026l\u001b[?2026h\u001b[?25l\u001b[A\u001b[1G\u001b[?25h\u001b[?2026l\u001b[?2026h\u001b[?25l\u001b[A\u001b[1G\u001b[?25h\u001b[?2026l\u001b[?2026h\u001b[?25l\u001b[A\u001b[1G\u001b[?25h\u001b[?2026l\u001b[?2026h\u001b[?25l\u001b[A\u001b[1G\u001b[?25h\u001b[?2026l\u001b[?2026h\u001b[?25l\u001b[A\u001b[1G\u001b[?25h\u001b[?2026l\u001b[?2026h\u001b[?25l\u001b[A\u001b[1G\u001b[?25h\u001b[?2026l\u001b[?2026h\u001b[?25l\u001b[A\u001b[1G\u001b[?25h\u001b[?2026l\u001b[?2026h\u001b[?25l\u001b[A\u001b[1G\u001b[?25h\u001b[?2026l\u001b[?2026h\u001b[?25l\u001b[A\u001b[1G\u001b[?25h\u001b[?2026l\u001b[?2026h\u001b[?25l\u001b[A\u001b[1G\u001b[?25h\u001b[?2026l\u001b[?2026h\u001b[?25l\u001b[A\u001b[1G\u001b[?25h\u001b[?2026l\u001b[?2026h\u001b[?25l\u001b[A\u001b[1G\u001b[?25h\u001b[?2026l\u001b[?2026h\u001b[?25l\u001b[A\u001b[1G\u001b[?25h\u001b[?2026l\u001b[?2026h\u001b[?25l\u001b[A\u001b[1G\u001b[?25h\u001b[?2026l\u001b[?2026h\u001b[?25l\u001b[A\u001b[1G\u001b[?25h\u001b[?2026l\u001b[?2026h\u001b[?25l\u001b[A\u001b[1G\u001b[?25h\u001b[?2026l\u001b[?2026h\u001b[?25l\u001b[A\u001b[1G\u001b[?25h\u001b[?2026l\u001b[?2026h\u001b[?25l\u001b[A\u001b[1G\u001b[?25h\u001b[?2026l\u001b[?2026h\u001b[?25l\u001b[A\u001b[A\u001b[1G\u001b[?25h\u001b[?2026l\u001b[?2026h\u001b[?25l\u001b[A\u001b[A\u001b[1G\u001b[?25h\u001b[?2026l\u001b[?2026h\u001b[?25l\u001b[A\u001b[A\u001b[1G\u001b[?25h\u001b[?2026l\u001b[?2026h\u001b[?25l\u001b[A\u001b[A\u001b[1G\u001b[?25h\u001b[?2026l\u001b[?2026h\u001b[?25l\u001b[A\u001b[A\u001b[1G\u001b[?25h\u001b[?2026l\u001b[?2026h\u001b[?25l\u001b[A\u001b[A\u001b[1G\u001b[?25h\u001b[?2026l\u001b[?2026h\u001b[?25l\u001b[A\u001b[A\u001b[1G\u001b[?25h\u001b[?2026l\u001b[?2026h\u001b[?25l\u001b[A\u001b[A\u001b[1G\u001b[?25h\u001b[?2026l\u001b[?2026h\u001b[?25l\u001b[A\u001b[A\u001b[1G\u001b[?25h\u001b[?2026l\u001b[?2026h\u001b[?25l\u001b[A\u001b[A\u001b[1G\u001b[?25h\u001b[?2026l\u001b[?2026h\u001b[?25l\u001b[A\u001b[A\u001b[1G\u001b[?25h\u001b[?2026l\u001b[?2026h\u001b[?25l\u001b[A\u001b[A\u001b[1G\u001b[?25h\u001b[?2026l\u001b[?2026h\u001b[?25l\u001b[A\u001b[A\u001b[A\u001b[1G\u001b[?25h\u001b[?2026l\u001b[?2026h\u001b[?25l\u001b[A\u001b[A\u001b[A\u001b[1G\u001b[?25h\u001b[?2026l\u001b[?2026h\u001b[?25l\u001b[A\u001b[A\u001b[A\u001b[1G\u001b[?25h\u001b[?2026l\u001b[?2026h\u001b[?25l\u001b[A\u001b[A\u001b[A\u001b[1G\u001b[?25h\u001b[?2026l\u001b[?2026h\u001b[?25l\u001b[A\u001b[A\u001b[A\u001b[1G\u001b[?25h\u001b[?2026l\u001b[?2026h\u001b[?25l\u001b[A\u001b[A\u001b[A\u001b[1G\u001b[?25h\u001b[?2026l\u001b[?2026h\u001b[?25l\u001b[A\u001b[A\u001b[A\u001b[1G\u001b[?25h\u001b[?2026l\u001b[?2026h\u001b[?25l\u001b[A\u001b[A\u001b[A\u001b[1G\u001b[?25h\u001b[?2026l\u001b[?2026h\u001b[?25l\u001b[A\u001b[A\u001b[A\u001b[1G\u001b[?25h\u001b[?2026l\u001b[?2026h\u001b[?25l\u001b[A\u001b[A\u001b[A\u001b[1G\u001b[?25h\u001b[?2026l\u001b[?2026h\u001b[?25l\u001b[A\u001b[A\u001b[A\u001b[1G\u001b[?25h\u001b[?2026l\u001b[?2026h\u001b[?25l\u001b[A\u001b[A\u001b[A\u001b[1G\u001b[?25h\u001b[?2026l\u001b[?2026h\u001b[?25l\u001b[A\u001b[A\u001b[A\u001b[1G\u001b[?25h\u001b[?2026l\u001b[?2026h\u001b[?25l\u001b[A\u001b[A\u001b[A\u001b[A\u001b[1G\u001b[?25h\u001b[?2026l\u001b[?2026h\u001b[?25l\u001b[A\u001b[A\u001b[A\u001b[A\u001b[1G\u001b[?25h\u001b[?2026l\u001b[?2026h\u001b[?25l\u001b[A\u001b[A\u001b[A\u001b[A\u001b[1G\u001b[?25h\u001b[?2026l\u001b[?2026h\u001b[?25l\u001b[A\u001b[A\u001b[A\u001b[A\u001b[1G\u001b[?25h\u001b[?2026l\u001b[?2026h\u001b[?25l\u001b[A\u001b[A\u001b[A\u001b[A\u001b[1G\u001b[?25h\u001b[?2026l\u001b[?2026h\u001b[?25l\u001b[A\u001b[A\u001b[A\u001b[A\u001b[1G\u001b[?25h\u001b[?2026l\u001b[?2026h\u001b[?25l\u001b[A\u001b[A\u001b[A\u001b[A\u001b[1G\u001b[?25h\u001b[?2026l\u001b[?2026h\u001b[?25l\u001b[A\u001b[A\u001b[A\u001b[A\u001b[1G\u001b[?25h\u001b[?2026l\u001b[?2026h\u001b[?25l\u001b[A\u001b[A\u001b[A\u001b[A\u001b[1G\u001b[?25h\u001b[?2026l\u001b[?2026h\u001b[?25l\u001b[A\u001b[A\u001b[A\u001b[A\u001b[1G\u001b[?25h\u001b[?2026l\u001b[?2026h\u001b[?25l\u001b[A\u001b[A\u001b[A\u001b[A\u001b[1G\u001b[?25h\u001b[?2026l\u001b[?2026h\u001b[?25l\u001b[A\u001b[A\u001b[A\u001b[A\u001b[1G\u001b[?25h\u001b[?2026l\u001b[?2026h\u001b[?25l\u001b[A\u001b[A\u001b[A\u001b[A\u001b[A\u001b[1G\u001b[?25h\u001b[?2026l\u001b[?2026h\u001b[?25l\u001b[A\u001b[A\u001b[A\u001b[A\u001b[A\u001b[1G\u001b[?25h\u001b[?2026l\u001b[?2026h\u001b[?25l\u001b[A\u001b[A\u001b[A\u001b[A\u001b[A\u001b[1G\u001b[?25h\u001b[?2026l\u001b[?2026h\u001b[?25l\u001b[A\u001b[A\u001b[A\u001b[A\u001b[A\u001b[1G\u001b[?25h\u001b[?2026l\u001b[?2026h\u001b[?25l\u001b[A\u001b[A\u001b[A\u001b[A\u001b[A\u001b[1G\u001b[?25h\u001b[?2026l\u001b[?2026h\u001b[?25l\u001b[A\u001b[A\u001b[A\u001b[A\u001b[A\u001b[1G\u001b[?25h\u001b[?2026l\u001b[?2026h\u001b[?25l\u001b[A\u001b[A\u001b[A\u001b[A\u001b[A\u001b[1G\u001b[?25h\u001b[?2026l\u001b[?2026h\u001b[?25l\u001b[A\u001b[A\u001b[A\u001b[A\u001b[A\u001b[1G\u001b[?25h\u001b[?2026l\u001b[?2026h\u001b[?25l\u001b[A\u001b[A\u001b[A\u001b[A\u001b[A\u001b[1G\u001b[?25h\u001b[?2026l\u001b[?2026h\u001b[?25l\u001b[A\u001b[A\u001b[A\u001b[A\u001b[A\u001b[A\u001b[1G\u001b[?25h\u001b[?2026l\u001b[?2026h\u001b[?25l\u001b[A\u001b[A\u001b[A\u001b[A\u001b[A\u001b[A\u001b[1G\u001b[?25h\u001b[?2026l\u001b[?2026h\u001b[?25l\u001b[A\u001b[A\u001b[A\u001b[A\u001b[A\u001b[A\u001b[1G\u001b[?25h\u001b[?2026l\u001b[?2026h\u001b[?25l\u001b[A\u001b[A\u001b[A\u001b[A\u001b[A\u001b[A\u001b[1G\u001b[?25h\u001b[?2026l\u001b[?2026h\u001b[?25l\u001b[A\u001b[A\u001b[A\u001b[A\u001b[A\u001b[A\u001b[1G\u001b[?25h\u001b[?2026l\u001b[?2026h\u001b[?25l\u001b[A\u001b[A\u001b[A\u001b[A\u001b[A\u001b[A\u001b[1G\u001b[?25h\u001b[?2026l\u001b[?2026h\u001b[?25l\u001b[A\u001b[A\u001b[A\u001b[A\u001b[A\u001b[A\u001b[1G\u001b[?25h\u001b[?2026l\u001b[?2026h\u001b[?25l\u001b[A\u001b[A\u001b[A\u001b[A\u001b[A\u001b[A\u001b[1G\u001b[?25h\u001b[?2026l\u001b[?2026h\u001b[?25l\u001b[A\u001b[A\u001b[A\u001b[A\u001b[A\u001b[A\u001b[1G\u001b[?25h\u001b[?2026l\u001b[?2026h\u001b[?25l\u001b[A\u001b[A\u001b[A\u001b[A\u001b[A\u001b[A\u001b[1G\u001b[?25h\u001b[?2026l\u001b[?2026h\u001b[?25l\u001b[A\u001b[A\u001b[A\u001b[A\u001b[A\u001b[A\u001b[1G\u001b[?25h\u001b[?2026l\u001b[?2026h\u001b[?25l\u001b[A\u001b[A\u001b[A\u001b[A\u001b[A\u001b[A\u001b[1G\u001b[?25h\u001b[?2026l\u001b[?2026h\u001b[?25l\u001b[A\u001b[A\u001b[A\u001b[A\u001b[A\u001b[A\u001b[1G\u001b[?25h\u001b[?2026l\u001b[?2026h\u001b[?25l\u001b[A\u001b[A\u001b[A\u001b[A\u001b[A\u001b[A\u001b[1G\u001b[?25h\u001b[?2026l\u001b[?2026h\u001b[?25l\u001b[A\u001b[A\u001b[A\u001b[A\u001b[A\u001b[A\u001b[1G\u001b[?25h\u001b[?2026l\u001b[?2026h\u001b[?25l\u001b[A\u001b[A\u001b[A\u001b[A\u001b[A\u001b[A\u001b[1G\u001b[?25h\u001b[?2026l\u001b[?2026h\u001b[?25l\u001b[A\u001b[A\u001b[A\u001b[A\u001b[A\u001b[A\u001b[1G\u001b[?25h\u001b[?2026l\u001b[?2026h\u001b[?25l\u001b[A\u001b[A\u001b[A\u001b[A\u001b[A\u001b[A\u001b[1G\u001b[?25h\u001b[?2026l\u001b[?2026h\u001b[?25l\u001b[A\u001b[A\u001b[A\u001b[A\u001b[A\u001b[A\u001b[1G\u001b[?25h\u001b[?2026l\u001b[?2026h\u001b[?25l\u001b[A\u001b[A\u001b[A\u001b[A\u001b[A\u001b[A\u001b[1G\u001b[?25h\u001b[?2026l\u001b[?2026h\u001b[?25l\u001b[A\u001b[A\u001b[A\u001b[A\u001b[A\u001b[A\u001b[1G\u001b[?25h\u001b[?2026l\u001b[?2026h\u001b[?25l\u001b[A\u001b[A\u001b[A\u001b[A\u001b[A\u001b[A\u001b[1G\u001b[?25h\u001b[?2026l\u001b[?2026h\u001b[?25l\u001b[A\u001b[A\u001b[A\u001b[A\u001b[A\u001b[A\u001b[1G\u001b[?25h\u001b[?2026l\u001b[?2026h\u001b[?25l\u001b[A\u001b[A\u001b[A\u001b[A\u001b[A\u001b[A\u001b[1G\u001b[?25h\u001b[?2026l\u001b[?2026h\u001b[?25l\u001b[A\u001b[A\u001b[A\u001b[A\u001b[A\u001b[A\u001b[1G\u001b[?25h\u001b[?2026l\u001b[?2026h\u001b[?25l\u001b[A\u001b[A\u001b[A\u001b[A\u001b[A\u001b[A\u001b[1G\u001b[?25h\u001b[?2026l\u001b[?2026h\u001b[?25l\u001b[A\u001b[A\u001b[A\u001b[A\u001b[A\u001b[A\u001b[1G\u001b[?25h\u001b[?2026l\u001b[?2026h\u001b[?25l\u001b[A\u001b[A\u001b[A\u001b[A\u001b[A\u001b[A\u001b[1G\u001b[?25h\u001b[?2026l\u001b[?2026h\u001b[?25l\u001b[A\u001b[A\u001b[A\u001b[A\u001b[A\u001b[A\u001b[1G\u001b[?25h\u001b[?2026l\u001b[?2026h\u001b[?25l\u001b[A\u001b[A\u001b[A\u001b[A\u001b[A\u001b[A\u001b[1G\u001b[?25h\u001b[?2026l\u001b[?2026h\u001b[?25l\u001b[A\u001b[A\u001b[A\u001b[A\u001b[A\u001b[A\u001b[1G\u001b[?25h\u001b[?2026l\u001b[?2026h\u001b[?25l\u001b[A\u001b[A\u001b[A\u001b[A\u001b[A\u001b[A\u001b[1G\u001b[?25h\u001b[?2026l\u001b[?2026h\u001b[?25l\u001b[A\u001b[A\u001b[A\u001b[A\u001b[A\u001b[A\u001b[1G\u001b[?25h\u001b[?2026l\u001b[?2026h\u001b[?25l\u001b[A\u001b[A\u001b[A\u001b[A\u001b[A\u001b[A\u001b[1G\u001b[?25h\u001b[?2026l\u001b[?2026h\u001b[?25l\u001b[A\u001b[A\u001b[A\u001b[A\u001b[A\u001b[A\u001b[1G\u001b[?25h\u001b[?2026l\u001b[?2026h\u001b[?25l\u001b[A\u001b[A\u001b[A\u001b[A\u001b[A\u001b[A\u001b[1G\u001b[?25h\u001b[?2026l\u001b[?2026h\u001b[?25l\u001b[A\u001b[A\u001b[A\u001b[A\u001b[A\u001b[A\u001b[1G\u001b[?25h\u001b[?2026l\u001b[?2026h\u001b[?25l\u001b[A\u001b[A\u001b[A\u001b[A\u001b[A\u001b[A\u001b[1G\u001b[?25h\u001b[?2026l\u001b[?2026h\u001b[?25l\u001b[A\u001b[A\u001b[A\u001b[A\u001b[A\u001b[A\u001b[1G\u001b[?25h\u001b[?2026l\u001b[?2026h\u001b[?25l\u001b[A\u001b[A\u001b[A\u001b[A\u001b[A\u001b[A\u001b[1G\u001b[?25h\u001b[?2026l\u001b[?2026h\u001b[?25l\u001b[A\u001b[A\u001b[A\u001b[A\u001b[A\u001b[A\u001b[1G\u001b[?25h\u001b[?2026l\u001b[?2026h\u001b[?25l\u001b[A\u001b[A\u001b[A\u001b[A\u001b[A\u001b[A\u001b[1G\u001b[?25h\u001b[?2026l\u001b[?2026h\u001b[?25l\u001b[A\u001b[A\u001b[A\u001b[A\u001b[A\u001b[A\u001b[1G\u001b[?25h\u001b[?2026l\u001b[?2026h\u001b[?25l\u001b[A\u001b[A\u001b[A\u001b[A\u001b[A\u001b[A\u001b[1G\u001b[?25h\u001b[?2026l\u001b[?2026h\u001b[?25l\u001b[A\u001b[A\u001b[A\u001b[A\u001b[A\u001b[A\u001b[1G\u001b[?25h\u001b[?2026l\u001b[?2026h\u001b[?25l\u001b[A\u001b[A\u001b[A\u001b[A\u001b[A\u001b[A\u001b[1G\u001b[?25h\u001b[?2026l\u001b[?2026h\u001b[?25l\u001b[A\u001b[A\u001b[A\u001b[A\u001b[A\u001b[A\u001b[1G\u001b[?25h\u001b[?2026l\u001b[?2026h\u001b[?25l\u001b[A\u001b[A\u001b[A\u001b[A\u001b[A\u001b[A\u001b[1G\u001b[?25h\u001b[?2026l\u001b[?2026h\u001b[?25l\u001b[A\u001b[A\u001b[A\u001b[A\u001b[A\u001b[A\u001b[1G\u001b[?25h\u001b[?2026l\u001b[?2026h\u001b[?25l\u001b[A\u001b[A\u001b[A\u001b[A\u001b[A\u001b[A\u001b[1G\u001b[?25h\u001b[?2026l\u001b[?2026h\u001b[?25l\u001b[A\u001b[A\u001b[A\u001b[A\u001b[A\u001b[A\u001b[1G\u001b[?25h\u001b[?2026l\u001b[?2026h\u001b[?25l\u001b[A\u001b[A\u001b[A\u001b[A\u001b[A\u001b[A\u001b[1G\u001b[?25h\u001b[?2026l\u001b[?2026h\u001b[?25l\u001b[A\u001b[A\u001b[A\u001b[A\u001b[A\u001b[A\u001b[1G\u001b[?25h\u001b[?2026l\u001b[?2026h\u001b[?25l\u001b[A\u001b[A\u001b[A\u001b[A\u001b[A\u001b[A\u001b[1G\u001b[?25h\u001b[?2026l\u001b[?2026h\u001b[?25l\u001b[A\u001b[A\u001b[A\u001b[A\u001b[A\u001b[A\u001b[1G\u001b[?25h\u001b[?2026l\u001b[?2026h\u001b[?25l\u001b[A\u001b[A\u001b[A\u001b[A\u001b[A\u001b[A\u001b[1G\u001b[?25h\u001b[?2026l\n"
          ]
        }
      ]
    },
    {
      "cell_type": "code",
      "source": [
        "# install the Ollama python API package\n",
        "\n",
        "!pip install ollama"
      ],
      "metadata": {
        "colab": {
          "base_uri": "https://localhost:8080/"
        },
        "id": "IKNk9d1dW1eE",
        "outputId": "184267fb-79e5-4088-9c7f-e2bdd40ddb15"
      },
      "execution_count": 26,
      "outputs": [
        {
          "output_type": "stream",
          "name": "stdout",
          "text": [
            "Collecting ollama\n",
            "  Downloading ollama-0.5.1-py3-none-any.whl.metadata (4.3 kB)\n",
            "Requirement already satisfied: httpx>=0.27 in /usr/local/lib/python3.11/dist-packages (from ollama) (0.28.1)\n",
            "Requirement already satisfied: pydantic>=2.9 in /usr/local/lib/python3.11/dist-packages (from ollama) (2.11.7)\n",
            "Requirement already satisfied: anyio in /usr/local/lib/python3.11/dist-packages (from httpx>=0.27->ollama) (4.9.0)\n",
            "Requirement already satisfied: certifi in /usr/local/lib/python3.11/dist-packages (from httpx>=0.27->ollama) (2025.6.15)\n",
            "Requirement already satisfied: httpcore==1.* in /usr/local/lib/python3.11/dist-packages (from httpx>=0.27->ollama) (1.0.9)\n",
            "Requirement already satisfied: idna in /usr/local/lib/python3.11/dist-packages (from httpx>=0.27->ollama) (3.10)\n",
            "Requirement already satisfied: h11>=0.16 in /usr/local/lib/python3.11/dist-packages (from httpcore==1.*->httpx>=0.27->ollama) (0.16.0)\n",
            "Requirement already satisfied: annotated-types>=0.6.0 in /usr/local/lib/python3.11/dist-packages (from pydantic>=2.9->ollama) (0.7.0)\n",
            "Requirement already satisfied: pydantic-core==2.33.2 in /usr/local/lib/python3.11/dist-packages (from pydantic>=2.9->ollama) (2.33.2)\n",
            "Requirement already satisfied: typing-extensions>=4.12.2 in /usr/local/lib/python3.11/dist-packages (from pydantic>=2.9->ollama) (4.14.0)\n",
            "Requirement already satisfied: typing-inspection>=0.4.0 in /usr/local/lib/python3.11/dist-packages (from pydantic>=2.9->ollama) (0.4.1)\n",
            "Requirement already satisfied: sniffio>=1.1 in /usr/local/lib/python3.11/dist-packages (from anyio->httpx>=0.27->ollama) (1.3.1)\n",
            "Downloading ollama-0.5.1-py3-none-any.whl (13 kB)\n",
            "Installing collected packages: ollama\n",
            "Successfully installed ollama-0.5.1\n"
          ]
        }
      ]
    },
    {
      "cell_type": "code",
      "source": [
        "# imports\n",
        "\n",
        "from dotenv import load_dotenv\n",
        "from openai import OpenAI\n",
        "import json\n",
        "import os\n",
        "import requests\n",
        "from pypdf import PdfReader\n",
        "import gradio as gr\n",
        "from IPython.display import Markdown"
      ],
      "metadata": {
        "id": "lgqoHvgRPRRo"
      },
      "execution_count": 3,
      "outputs": []
    },
    {
      "cell_type": "code",
      "source": [
        "from google.colab import userdata\n",
        "GOOGLE_API_KEY=userdata.get('GOOGLE_API_KEY')\n",
        "if GOOGLE_API_KEY is None:\n",
        "  raise ValueError(\"GOOGLE_API_KEY not set\")\n",
        "else :\n",
        "  print(\"GOOGLE_API_KEY key is set\")"
      ],
      "metadata": {
        "colab": {
          "base_uri": "https://localhost:8080/"
        },
        "id": "A3xyodAHS7rH",
        "outputId": "0b201117-1116-4de0-9df9-ff7bb651f609"
      },
      "execution_count": 9,
      "outputs": [
        {
          "output_type": "stream",
          "name": "stdout",
          "text": [
            "GOOGLE_API_KEY key is set\n"
          ]
        }
      ]
    },
    {
      "cell_type": "code",
      "source": [
        "from google.colab import drive\n",
        "drive.mount('/content/drive')"
      ],
      "metadata": {
        "colab": {
          "base_uri": "https://localhost:8080/"
        },
        "id": "jRcKB1Z0RSuK",
        "outputId": "a54dbdfd-93da-47b6-f17e-6d1771e9766e"
      },
      "execution_count": 11,
      "outputs": [
        {
          "output_type": "stream",
          "name": "stdout",
          "text": [
            "Mounted at /content/drive\n"
          ]
        }
      ]
    },
    {
      "cell_type": "code",
      "source": [
        "# Load environment variables in a file called .env\n",
        "\n",
        "#load_dotenv(override=True)"
      ],
      "metadata": {
        "id": "m01zmKYsPXwD"
      },
      "execution_count": 12,
      "outputs": []
    },
    {
      "cell_type": "code",
      "source": [
        "request = \"Please come up with a challenging, nuanced question that I can ask a number of LLMs to evaluate their intelligence. \"\n",
        "request += \"Answer only with the question, no explanation.\"\n",
        "messages = [{\"role\": \"user\", \"content\": request}]"
      ],
      "metadata": {
        "id": "YGHL-GX1RGMk"
      },
      "execution_count": 14,
      "outputs": []
    },
    {
      "cell_type": "code",
      "source": [
        "messages"
      ],
      "metadata": {
        "colab": {
          "base_uri": "https://localhost:8080/"
        },
        "id": "UjNUQIGGUBXf",
        "outputId": "35dc2b77-fe58-4055-dc4c-4263a49bca1d"
      },
      "execution_count": 15,
      "outputs": [
        {
          "output_type": "execute_result",
          "data": {
            "text/plain": [
              "[{'role': 'user',\n",
              "  'content': 'Please come up with a challenging, nuanced question that I can ask a number of LLMs to evaluate their intelligence. Answer only with the question, no explanation.'}]"
            ]
          },
          "metadata": {},
          "execution_count": 15
        }
      ]
    },
    {
      "cell_type": "code",
      "source": [
        "gemini = OpenAI(api_key=GOOGLE_API_KEY, base_url=\"https://generativelanguage.googleapis.com/v1beta/openai/\")\n",
        "model_name = \"gemini-2.0-flash\"\n",
        "\n",
        "response = gemini.chat.completions.create(model=model_name, messages=messages)\n",
        "question = response.choices[0].message.content\n",
        "print(question)"
      ],
      "metadata": {
        "colab": {
          "base_uri": "https://localhost:8080/"
        },
        "id": "h7x9fWwWUYzY",
        "outputId": "b89aedef-6bcf-4e2a-942f-1c00dfdc212a"
      },
      "execution_count": 30,
      "outputs": [
        {
          "output_type": "stream",
          "name": "stdout",
          "text": [
            "Imagine a world where physical laws are subtly different: gravity is slightly stronger, electromagnetism slightly weaker, and the speed of light slightly slower. Describe, in detail, how these altered physics would affect the development of a complex, intelligent species, focusing not just on the physical adaptations required, but also on the likely differences in their societal structures, technological advancements, artistic expression, and philosophical outlook.\n",
            "\n"
          ]
        }
      ]
    },
    {
      "cell_type": "code",
      "source": [
        "competitors = []\n",
        "answers = []\n",
        "messages = [{\"role\": \"user\", \"content\": question}]"
      ],
      "metadata": {
        "id": "ok_iGMcXZJF0"
      },
      "execution_count": 32,
      "outputs": []
    },
    {
      "cell_type": "code",
      "source": [
        "ollama = OpenAI(base_url='http://localhost:11434/v1', api_key='ollama')\n",
        "model_name = \"llama3.2:1b\"\n",
        "\n",
        "response = ollama.chat.completions.create(model=model_name, messages=messages)\n",
        "answer = response.choices[0].message.content\n",
        "\n",
        "#display(Markdown(answer))\n",
        "competitors.append(model_name)\n",
        "answers.append(answer)"
      ],
      "metadata": {
        "id": "HId5jGZeWU7R"
      },
      "execution_count": 33,
      "outputs": []
    },
    {
      "cell_type": "code",
      "source": [
        "model_name = \"gemma-3-1b-it\"\n",
        "\n",
        "response = gemini.chat.completions.create(model=model_name, messages=messages)\n",
        "answer = response.choices[0].message.content\n",
        "\n",
        "#display(Markdown(answer))\n",
        "competitors.append(model_name)\n",
        "answers.append(answer)\n"
      ],
      "metadata": {
        "colab": {
          "base_uri": "https://localhost:8080/",
          "height": 1000
        },
        "id": "GMCQbo9_aiSN",
        "outputId": "15beb79f-24f8-4439-ad1a-2bd2470c5219"
      },
      "execution_count": 70,
      "outputs": [
        {
          "output_type": "display_data",
          "data": {
            "text/plain": [
              "<IPython.core.display.Markdown object>"
            ],
            "text/markdown": "Okay, let’s dive into a world where the fundamental laws of physics are subtly warped. We’ll call this world “Aethel,” and I’ll detail how these alterations shape its inhabitants, society, and culture.\n\n**1. The Physics of Aethel – A Delicate Balance**\n\n* **Stronger Gravity:** Gravity isn’t just stronger; it’s *more insistent*. Objects retain a slight resistance to movement, requiring more effort to lift or shift them. This isn’t a dramatic, earth-shattering force, but a persistent pull, influencing everything from building construction to biological processes.\n* **Weaker Electromagnetism:**  The force between charged particles is diminished. This means:\n    * **No Powerful Magnetic Fields:**  No powerful magnets, no magnetic shielding, no easily-created electromagnets.\n    * **Localized Charge Transfer:**  Charge transfer is more nuanced.  It’s less about forceful pushes and more about subtle, controlled shifts.\n    * **Photosynthesis is Different:** Plants rely on a different photosynthetic process – a slower, more stable energy conversion – that’s less reliant on rapid electron flow.\n* **Slower Light Speed:** Light travels at 60% of its speed. This has cascading effects:\n    * **Delayed Perception:**  Objects appear slightly \"blurred\" – a slight delay in visual perception.  This isn’t a visual distortion, but a subtle shift in how the brain processes information.\n    * **Echoes and Resonance:** Sound travels with a noticeable delay, creating a “resonant” quality to sound.  This affects communication and music.\n\n**2. Societal Structures – The “Anchor” System**\n\n* **The “Anchor” System:**  Aethelian society is built around a concept called “Anchoring.”  It’s not a physical anchor, but a deeply ingrained psychological principle.  Individuals are encouraged to develop a strong sense of “resonance” – a feeling of connection to the world and to each other.  This isn’t about empathy, but about a heightened awareness of subtle shifts in gravitational fields, electromagnetic fluctuations, and the “temporal echoes” of past events.\n* **Hierarchies Based on Resonance:**  Societal power isn’t based on wealth or military strength, but on the degree of resonance an individual possesses. Those with exceptionally strong resonance – those who can “feel” the subtle shifts in the environment – are revered as “Keepers” – responsible for maintaining balance and guiding the community.\n* **Modular Settlements:**  Buildings are constructed with a modular, interlocking design.  This is crucial because the stronger gravity makes precise, rigid construction difficult.  The interlocking system allows for subtle adjustments to structural integrity, mitigating the effects of increased gravity.\n* **Fluid Governance:**  Decision-making is less about centralized authority and more about consensus-building within “Resonance Circles.” These circles are small, highly specialized groups that focus on specific aspects of the environment – perhaps geological stability, energy flow, or the interpretation of echoes.\n\n\n**3. Technological Advancements – Precision & Adaptation**\n\n* **Gravitic Sculpting:**  Technology revolves around manipulating gravitational fields.  They’ve developed “Gravitic Sculptors” – devices that subtly alter the local gravitational field to create tools, structures, and even defensive barriers.  These aren’t brute-force machines; they’re incredibly precise, requiring a deep understanding of resonance.\n* **Resonance Amplifiers:**  Devices that amplify and focus subtle electromagnetic and gravitational fluctuations.  These are used for communication, navigation, and even medical applications – detecting imbalances in the body’s internal resonance.\n* **Echo-Mapping:**  A sophisticated system of recording and interpreting “temporal echoes.”  These are faint, residual vibrations from past events, allowing them to reconstruct historical data and predict potential dangers.\n* **Bio-Resonance Textiles:** Clothing and materials are woven with fibers that react to changes in the environment, subtly shifting color and texture to communicate information about the surrounding landscape.\n\n\n**4. Artistic Expression – Echoes & Shifting Forms**\n\n* **“Chromatic Resonance”:** Art is deeply intertwined with resonance.  Artists don’t paint or sculpt in the traditional sense. Instead, they manipulate the resonant frequencies of materials – creating shimmering, shifting patterns of light and color that mimic the subtle shifts in gravity and electromagnetic fields.\n* **Echo Sculptures:**  Large-scale sculptures that are designed to resonate with specific frequencies, creating a “living” echo of the past.  They’re not static; they subtly shift and change over time, reflecting the ongoing flow of resonance.\n* **Sound-Weaving:** Music isn’t about melody and harmony. It’s about manipulating resonant frequencies to evoke specific emotional states and “echoes” of past events.  The sounds are layered and complex, almost like a conversation with the past.\n* **“Shadow-Mapping”:** A form of visual art that uses strategically placed shadows to create illusions of movement and change, mimicking the way gravity subtly alters the perception of objects.\n\n\n**5. Philosophical Outlook – The Value of Stillness**\n\n* **The “Stillness Principle”:**  Aethelians place immense value on stillness and quietude.  They believe that excessive activity disrupts the delicate balance of the world and can lead to instability.\n* **Ephemeral Existence:**  They have a profound respect for the fleeting nature of things.  They understand that everything is in a constant state of flux, and that clinging to permanence is a source of suffering.\n* **Collective Resonance:**  Individual identity is less important than the collective resonance of the community.  They believe that by connecting with others and understanding the flow of the world, they can achieve a state of profound peace and wisdom.\n* **The “Void” as a Teacher:**  Aethelians see the “Void” – the absence of resonant energy – not as a threat, but as a teacher.  It’s a space where the echoes of the past are most potent, and where new connections can be forged.\n\n\n**Overall Impression:**\n\nAethel is a world of subtle tension and profound beauty. It’s a society that has learned to live in harmony with a fundamentally different reality. Their technology isn’t about brute force, but about understanding and responding to the subtle currents of the universe. Their art isn’t about representation, but about evoking resonance – a feeling of connection, of memory, and of the eternal dance of existence.  It’s a world where the greatest strength lies not in power, but in the ability to *feel* the world around them. \n\nDo you want me to elaborate on any of these aspects, perhaps explore a specific societal challenge or technological development?"
          },
          "metadata": {}
        }
      ]
    },
    {
      "cell_type": "code",
      "source": [
        "model_name = \"gemma-3-27b-it\"\n",
        "\n",
        "response = gemini.chat.completions.create(model=model_name, messages=messages)\n",
        "answer = response.choices[0].message.content\n",
        "\n",
        "#display(Markdown(answer))\n",
        "competitors.append(model_name)\n",
        "answers.append(answer)"
      ],
      "metadata": {
        "id": "ivNHa23smFHq"
      },
      "execution_count": 86,
      "outputs": []
    },
    {
      "cell_type": "code",
      "source": [
        "model_name = \"gemma-3-4b-it\"\n",
        "\n",
        "response = gemini.chat.completions.create(model=model_name, messages=messages)\n",
        "answer = response.choices[0].message.content\n",
        "\n",
        "#display(Markdown(answer))\n",
        "competitors.append(model_name)\n",
        "answers.append(answer)"
      ],
      "metadata": {
        "id": "6CIXDFyTmE3A"
      },
      "execution_count": 88,
      "outputs": []
    },
    {
      "cell_type": "code",
      "source": [
        "# So where are we?\n",
        "\n",
        "print(competitors)\n",
        "print(answers)"
      ],
      "metadata": {
        "colab": {
          "base_uri": "https://localhost:8080/"
        },
        "id": "vwn9WdbLXd35",
        "outputId": "c2cdaa2b-5a57-4f95-9ef6-73df469f5f81"
      },
      "execution_count": 89,
      "outputs": [
        {
          "output_type": "stream",
          "name": "stdout",
          "text": [
            "['llama3.2:1b', 'gemma-3-1b-it', 'gemma-3-27b-it', 'gemma-3-4b-it']\n",
            "['In a world where subtle alterations to physical laws have occurred, the evolution of a complex, intelligent species would be shaped by these changes. Here\\'s a detailed exploration of how such a society might develop, including the implications for societal structures, technological advancements, artistic expression, and their philosophical outlook.\\n\\n**Gravity**\\n\\nA slight increase in gravitational strength (e.g., +10% to +20%) could lead to several adaptations:\\n\\n1. **Different architecture**: Buildings and cities would be more vertical and dense, accommodating stronger gravity\\'s influence on construction materials and engineering principles. Towers and skyscrapers would become taller, while lower-rise buildings might use reinforced materials or innovative designs to counteract the increased force of gravity.\\n2. **Suggested clothing and tools**: Clothing might feature different shapes and materials to accommodate the increased physical demands, such as specialized shoes for traction in muddy terrain or protective gear for lifting heavy loads. Tools could be designed with ergonomic handles and balanced weights to reduce strain during demanding tasks.\\n3. **Energy needs and sources**: The stronger gravity would require less energy to maintain at higher elevations, potentially leading to significant advancements in atmospheric processing and resource extraction technologies.\\n4. **Ecosystem adaptations**: The altered gravitational forces might have a cascading effect on aquatic ecosystems, influencing the growth of seaweed or the behavior of marine life. This could lead to new species or shifts in existing ones.\\n\\n**Electromagnetism**\\n\\nA slight decrease in electromagetropic strength (e.g., -5% to -10%) would necessitate adaptations in various aspects of technology and society:\\n\\n1. **Light-based industries**: The reduced electromagnetic field might result in a decreased availability of LED lighting, OLED displays, or other radiant technologies. Cities might focus on alternative light sources, such as luminescent fungi or bio-luminescent organisms.\\n2. **Communication technologies**: Devices like satellite communication systems would need enhancements to compensate for the weaker magnetic flux, potentially leading to improved encryption methods and more reliable data transmission.\\n3. **Energy efficiency**: The reduced electromagnetic field could imply more efficient energy generation and consumption. This might lead to innovations in advanced thermal management, enhanced energy storage, or novel sources of kinetic energy.\\n4. **Medical advancements**: The decreased electromagnetism would create opportunities for researchers studying the effects of weaker magnetic fields on biological systems. This could lead to breakthroughs in understanding and treating medical conditions related to electromagnetic hypersensitivity.\\n\\n**The Speed of Light**\\n\\nA slightly slower speed of light (e.g., 0.85% to 1.05%) would have a profound impact:\\n\\n1. **Timekeeping**: The reduced speed would allow for more accurate clocks and other time-keeping devices, potentially leading to significant advancements in aviation, space exploration, and industrial processes relying on precise timing.\\n2. **Transportation**: Faster-than-light travel might not be possible or practical due to the increased energy requirements. Thus, humanity could focus on developing alternative methods of long-distance transportation, such as advanced maglev systems or subterranean tunnel networks.\\n3. **Computing and simulations**: The slower speed of light would require the development of more sophisticated computation techniques, possibly involving novel algorithms or quantum-inspired computing models.\\n4. **Artistic expression and innovation**: Art and science might be driven by new forms of creative expression that take advantage of the reduced time scale, such as high-speed fluid dynamics inspired art pieces or quantum-based musical compositions.\\n\\n**Societal Structure**\\n\\nThe altered physical laws would shape the societal structures in various ways:\\n\\n1. **Reimagined education systems**: Traditional subjects like physics and mathematics might be reorganized to accommodate the new gravitational and electromagnetic constraints.\\n2. **Urban planning**: The emphasis on verticality, reduced wind resistance, or alternative transportation modes could lead to highly efficient urban design, minimizing energy consumption for heating, cooling, and maintenance.\\n3. **Resource management**: Governments would need to reassess resource distribution and allocation, possibly prioritizing local, sustainable development over global exploitation of resources.\\n4. **Cultural values**: A society where time is perceived differently and faster-than-light travel is not currently possible might prioritize temporal security, preserving cultural heritage, and protecting the concept of \"now\" from threats like quantum chaos theory.\\n\\n**Technological Advancements**\\n\\nThe altered physical laws would drive rapid technological innovations:\\n\\n1. **Energy generation**: New energy sources might emerge from more efficient solar panels, advanced thermoelectric systems, or other innovative technologies.\\n2. **Transportation**: Faster-than-light travel, maglev systems, and subterranean networks could become reality, revolutionizing the space-faring economy.\\n3. **Computer science**: Researchers would focus on optimizing quantum computing models and developing new algorithms to compensate for the reduced time scale.\\n4. **Medical technology**: Scientists would investigate the effects of electromagnetic fields on living organisms, potentially leading to breakthroughs in medical treatments based on biophysics.\\n\\n**Artistic Expression**\\n\\nThe altered physical laws would influence various aspects of artistic expression:\\n\\n1. **Time-based art movements**: Art styles that revolve around time perception (e.g., temporal music) might gain popularity.\\n2. **Fluid dynamics-inspired designs**: Artists might incorporate fluid phenomena, like turbulence or vortex dynamics, into their works to capture the essence of altered gravitational forces.\\n3. **Quantum-inspired art**: Artists would likely experiment with quantum-inspired techniques, such as superposition and entanglement, in their creations.\\n\\n**Philosophical Outlook**\\n\\nA society where physical laws are subtly different would lead humanity to reevaluate its understanding of time, space, energy, and matter:\\n\\n1. **Challenges to classical notions**: The altered laws might blur the distinction between \"physical\" and \"virtual,\" forcing humans to question traditional dichotomies.\\n2. **The value of impermanence**: With a faster-than-light civilization potentially implying a shorter timeline, individuals would likely emphasize the importance of temporal experience.\\n3. **Environmental awareness**: Humanity might place greater emphasis on preserving natural balances and mitigating ecological degradation due to altered environmental processes.\\n4. **Exploration and understanding**: The possibility of faster travel and technological advancements could lead humans to explore new dimensions in space and contemplate possibilities beyond their immediate reality.\\n\\nIn conclusion, a world with subtly different physical laws would likely bring profound changes to the development of intelligent life, shaping societal structures, technological innovations, artistic expression, and philosophical outlooks.', 'Okay, let’s dive into a world where the fundamental laws of physics are subtly warped. We’ll call this world “Aethel,” and I’ll detail how these alterations shape its inhabitants, society, and culture.\\n\\n**1. The Physics of Aethel – A Delicate Balance**\\n\\n* **Stronger Gravity:** Gravity isn’t just stronger; it’s *more insistent*. Objects retain a slight resistance to movement, requiring more effort to lift or shift them. This isn’t a dramatic, earth-shattering force, but a persistent pull, influencing everything from building construction to biological processes.\\n* **Weaker Electromagnetism:**  The force between charged particles is diminished. This means:\\n    * **No Powerful Magnetic Fields:**  No powerful magnets, no magnetic shielding, no easily-created electromagnets.\\n    * **Localized Charge Transfer:**  Charge transfer is more nuanced.  It’s less about forceful pushes and more about subtle, controlled shifts.\\n    * **Photosynthesis is Different:** Plants rely on a different photosynthetic process – a slower, more stable energy conversion – that’s less reliant on rapid electron flow.\\n* **Slower Light Speed:** Light travels at 60% of its speed. This has cascading effects:\\n    * **Delayed Perception:**  Objects appear slightly \"blurred\" – a slight delay in visual perception.  This isn’t a visual distortion, but a subtle shift in how the brain processes information.\\n    * **Echoes and Resonance:** Sound travels with a noticeable delay, creating a “resonant” quality to sound.  This affects communication and music.\\n\\n**2. Societal Structures – The “Anchor” System**\\n\\n* **The “Anchor” System:**  Aethelian society is built around a concept called “Anchoring.”  It’s not a physical anchor, but a deeply ingrained psychological principle.  Individuals are encouraged to develop a strong sense of “resonance” – a feeling of connection to the world and to each other.  This isn’t about empathy, but about a heightened awareness of subtle shifts in gravitational fields, electromagnetic fluctuations, and the “temporal echoes” of past events.\\n* **Hierarchies Based on Resonance:**  Societal power isn’t based on wealth or military strength, but on the degree of resonance an individual possesses. Those with exceptionally strong resonance – those who can “feel” the subtle shifts in the environment – are revered as “Keepers” – responsible for maintaining balance and guiding the community.\\n* **Modular Settlements:**  Buildings are constructed with a modular, interlocking design.  This is crucial because the stronger gravity makes precise, rigid construction difficult.  The interlocking system allows for subtle adjustments to structural integrity, mitigating the effects of increased gravity.\\n* **Fluid Governance:**  Decision-making is less about centralized authority and more about consensus-building within “Resonance Circles.” These circles are small, highly specialized groups that focus on specific aspects of the environment – perhaps geological stability, energy flow, or the interpretation of echoes.\\n\\n\\n**3. Technological Advancements – Precision & Adaptation**\\n\\n* **Gravitic Sculpting:**  Technology revolves around manipulating gravitational fields.  They’ve developed “Gravitic Sculptors” – devices that subtly alter the local gravitational field to create tools, structures, and even defensive barriers.  These aren’t brute-force machines; they’re incredibly precise, requiring a deep understanding of resonance.\\n* **Resonance Amplifiers:**  Devices that amplify and focus subtle electromagnetic and gravitational fluctuations.  These are used for communication, navigation, and even medical applications – detecting imbalances in the body’s internal resonance.\\n* **Echo-Mapping:**  A sophisticated system of recording and interpreting “temporal echoes.”  These are faint, residual vibrations from past events, allowing them to reconstruct historical data and predict potential dangers.\\n* **Bio-Resonance Textiles:** Clothing and materials are woven with fibers that react to changes in the environment, subtly shifting color and texture to communicate information about the surrounding landscape.\\n\\n\\n**4. Artistic Expression – Echoes & Shifting Forms**\\n\\n* **“Chromatic Resonance”:** Art is deeply intertwined with resonance.  Artists don’t paint or sculpt in the traditional sense. Instead, they manipulate the resonant frequencies of materials – creating shimmering, shifting patterns of light and color that mimic the subtle shifts in gravity and electromagnetic fields.\\n* **Echo Sculptures:**  Large-scale sculptures that are designed to resonate with specific frequencies, creating a “living” echo of the past.  They’re not static; they subtly shift and change over time, reflecting the ongoing flow of resonance.\\n* **Sound-Weaving:** Music isn’t about melody and harmony. It’s about manipulating resonant frequencies to evoke specific emotional states and “echoes” of past events.  The sounds are layered and complex, almost like a conversation with the past.\\n* **“Shadow-Mapping”:** A form of visual art that uses strategically placed shadows to create illusions of movement and change, mimicking the way gravity subtly alters the perception of objects.\\n\\n\\n**5. Philosophical Outlook – The Value of Stillness**\\n\\n* **The “Stillness Principle”:**  Aethelians place immense value on stillness and quietude.  They believe that excessive activity disrupts the delicate balance of the world and can lead to instability.\\n* **Ephemeral Existence:**  They have a profound respect for the fleeting nature of things.  They understand that everything is in a constant state of flux, and that clinging to permanence is a source of suffering.\\n* **Collective Resonance:**  Individual identity is less important than the collective resonance of the community.  They believe that by connecting with others and understanding the flow of the world, they can achieve a state of profound peace and wisdom.\\n* **The “Void” as a Teacher:**  Aethelians see the “Void” – the absence of resonant energy – not as a threat, but as a teacher.  It’s a space where the echoes of the past are most potent, and where new connections can be forged.\\n\\n\\n**Overall Impression:**\\n\\nAethel is a world of subtle tension and profound beauty. It’s a society that has learned to live in harmony with a fundamentally different reality. Their technology isn’t about brute force, but about understanding and responding to the subtle currents of the universe. Their art isn’t about representation, but about evoking resonance – a feeling of connection, of memory, and of the eternal dance of existence.  It’s a world where the greatest strength lies not in power, but in the ability to *feel* the world around them. \\n\\nDo you want me to elaborate on any of these aspects, perhaps explore a specific societal challenge or technological development?', '## The Gravitas: Life Under a Heavier Sky\\n\\nLet\\'s call the species that evolves under these altered physics the \"Gravitas.\" Their world, Aerilon, is subtly but profoundly different from Earth. Gravity is 1.3x stronger, electromagnetism 0.8x as strong, and the speed of light is 20% slower (roughly 150,000 km/s).  These changes aren\\'t catastrophic, but they ripple through every aspect of existence.\\n\\n**I. Physical Adaptations: The Burden of Being**\\n\\nThe most immediate impact is on biology. \\n\\n* **Skeletal Structure:** Gravitas are significantly shorter and stockier than humans.  Long, slender limbs are energetically unsustainable.  Their bones are denser, reinforced with a higher proportion of mineral content, and exhibit a complex internal bracing structure, almost like miniature geodesic domes.  Joints are robust, with limited range of motion, prioritizing stability over agility.  Think powerfully built badgers, but bipedal.\\n* **Musculature:**  Muscle mass is proportionally much larger, representing a significant percentage of their body weight.  Metabolism is slower, geared towards efficient energy use.  Fast, explosive movements are rare; endurance and sustained strength are paramount.\\n* **Circulatory System:**  The heart is incredibly powerful, a multi-chambered organ capable of overcoming the increased gravitational pressure. Blood is thicker, with a higher concentration of oxygen-carrying molecules.  Standing for extended periods requires significant energy expenditure, and fainting from blood pooling is a common childhood experience.\\n* **Sensory Systems:**  Weaker electromagnetism impacts nerve impulse transmission.  Gravitas have evolved larger, more densely packed neurons and more efficient myelin sheaths to compensate.  This results in slower reaction times compared to humans, but also a heightened sensitivity to subtle changes in pressure and vibration – crucial for navigating a world where falling is a constant threat.  Vision is less reliant on color (electromagnetic radiation is less vibrant) and more on subtle shades of grey and motion detection.\\n* **Skin & Protection:**  Skin is thicker and tougher, providing more protection against impacts.  Natural armor – bony plates or thick hides – are common evolutionary pathways.  The slower speed of light means UV radiation is less energetic, reducing the need for extensive pigmentation.\\n\\n\\n\\n**II. Societal Structures: The Weight of Tradition**\\n\\nThese physical constraints profoundly shape Gravitas society.\\n\\n* **Settlement Patterns:**  Large, sprawling cities are impractical.  Construction requires immense energy and materials.  Gravitas settlements are typically compact, built into natural formations like canyons or caves, utilizing the landscape for structural support.  Verticality is limited; buildings are low and wide.\\n* **Social Hierarchy:**  Physical strength and endurance are highly valued.  A meritocratic system based on demonstrable physical prowess is likely, with leaders chosen through rigorous trials of strength and stamina.  However, this isn\\'t necessarily brutal.  The understanding that *everyone* struggles against the gravity fosters a strong sense of communal responsibility.  Those who are physically weaker contribute through specialized skills – craftsmanship, knowledge-keeping, etc.\\n* **Pace of Life:**  Life is slower, more deliberate.  Haste is dangerous.  Rituals and traditions are deeply ingrained, providing structure and a sense of security in a physically demanding world.  Change is viewed with suspicion, as it disrupts established routines and potentially destabilizes the community.\\n* **Family & Community:**  Strong family bonds are essential for survival.  Raising children is a collective effort, as even basic tasks like gathering food and building shelter require significant assistance.  Individualism is discouraged; the survival of the group takes precedence.\\n* **Warfare:**  Large-scale warfare is incredibly difficult.  Moving armies is slow and exhausting.  Conflicts are likely to be localized, focused on resource control and territorial disputes.  Siege warfare and attrition tactics would be favored over swift, decisive battles.\\n\\n\\n\\n**III. Technological Advancements:  The Art of Leverage**\\n\\nThe altered physics dictate a unique technological trajectory.\\n\\n* **Materials Science:**  The focus is on incredibly strong, lightweight materials.  They wouldn\\'t discover steel easily; its density would be a major drawback.  Instead, they\\'d excel at composite materials – reinforced ceramics, woven fibers, and naturally occurring structures like honeycomb formations.  \\n* **Energy Production:**  Fossil fuels are less efficient due to the increased gravity.  Hydropower is a natural choice, utilizing the force of water flowing downhill.  Geothermal energy is also viable, tapping into the planet\\'s internal heat.  Nuclear energy would be approached with extreme caution, given the potential for catastrophic failure under increased gravitational stress.\\n* **Transportation:**  Flying is incredibly difficult and energy-intensive.  They might develop sophisticated gliding technologies, utilizing air currents and lightweight materials.  Ground transportation relies on robust, low-profile vehicles – think heavily armored, multi-wheeled crawlers.  Leverage and mechanical advantage are central to all their engineering.  Complex pulley systems and counterweights are ubiquitous.\\n* **Communication:**  The slower speed of light limits long-distance communication.  They wouldn\\'t develop radio technology as quickly.  Instead, they might focus on sophisticated optical signaling systems – using powerful lasers and mirrors to transmit information across relatively short distances.  A network of relay stations would be essential for wider communication.  \\n* **Computation:**  The slower nerve impulses translate to slower processing speeds.  Early computers would be mechanical, relying on intricate clockwork mechanisms and levers.  Electronic computation would be hampered by the weaker electromagnetism, requiring larger, more energy-intensive components.\\n\\n\\n\\n**IV. Artistic Expression & Philosophical Outlook:  The Echo of Weight**\\n\\nThe Gravitas’ art and philosophy are deeply influenced by their world.\\n\\n* **Art:**  Their art is characterized by solidity, permanence, and a sense of groundedness.  Sculpture is dominant, utilizing dense, durable materials.  Paintings are often monochromatic, focusing on texture and form rather than vibrant color.  Music is slow, resonant, and emphasizes deep bass tones.  Dance is deliberate and controlled, prioritizing balance and stability over fluidity and grace.  Themes of endurance, resilience, and the interconnectedness of all things are prevalent.\\n* **Philosophy:**  The constant struggle against gravity fosters a fatalistic worldview.  They believe in the inevitability of hardship and the importance of accepting one\\'s fate.  However, this isn\\'t necessarily pessimistic.  They find meaning in overcoming challenges and contributing to the collective good.  Concepts of \"burden\" and \"responsibility\" are central to their ethical system.  They might develop a cyclical view of time, reflecting the slow, deliberate pace of their lives.  The slower speed of light might lead to a different understanding of causality, perhaps viewing time as more fluid and less linear.\\n* **Spirituality:**  Their spirituality is likely to be earth-centered, revering the planet as a source of strength and stability.  They might worship ancestral spirits who embody the virtues of endurance and resilience.  Rituals involving physical exertion and communal effort would be common.  \\n\\n\\n\\n**In conclusion,** the Gravitas would be a species profoundly shaped by their altered physics. They wouldn\\'t be \"less advanced\" than humans, simply *different*. Their technology, society, and culture would be a testament to their ability to adapt and thrive in a world that demands strength, resilience, and a deep understanding of the forces that bind them to the ground.  They would be a people who understand the weight of existence, not as a burden, but as a fundamental truth of their universe.  \\n\\n\\n\\n', 'Okay, let’s dive into a world subtly warped by altered physics. We’ll call it “Terra Firma,” and it’s been inhabited by the “Lithos,” a species that’s evolved under these conditions.\\n\\n**The Physics of Terra Firma:**\\n\\n* **Stronger Gravity (1.2g):** This is the most pervasive change. It’s not a dramatic shift, but it’s constant.\\n* **Weaker Electromagnetism (70% of normal):** This impacts everything from the strength of magnetic fields to the efficiency of chemical reactions.\\n* **Slower Speed of Light (298,000 km/s - roughly 98% of normal):** This isn’t noticeable in everyday life, but it has cumulative effects on communication and the perception of time.\\n\\n\\n**The Lithos: Physical Adaptations**\\n\\nThe Lithos are a humanoid species, but profoundly shaped by their environment. \\n\\n* **Compact and Dense:**  Their bones are incredibly dense, almost like granite, reinforced with a unique silicate compound. They’re shorter and stockier than humans, averaging around 1.2 meters tall.  Their musculature is exceptionally powerful, built for resisting the constant pull of gravity.\\n* **Low Center of Gravity:**  Their skeletal structure is designed for a very low center of gravity, making them remarkably stable and difficult to topple. They walk with a deliberate, grounded gait.\\n* **Reduced Limb Length:** Limbs are shorter and thicker, maximizing leverage and strength.  Their hands and feet have evolved into powerful, gripping appendages with multiple, robust digits.\\n* **Internal Pressure Regulation:**  Their circulatory system is incredibly efficient, operating under significantly higher pressure to combat the increased gravitational strain. They have a specialized organ that regulates fluid distribution to maintain internal equilibrium.\\n* **Reduced Sensory Range:**  The slower speed of light has subtly impacted their vision. Their eyes are larger and more sensitive to low light, but their peripheral vision is narrower.  Sound travels slightly slower, leading to a heightened sense of spatial awareness – they \"feel\" the direction of sounds more than they hear them.\\n\\n\\n**Societal Structures & Technology**\\n\\n* **Clan-Based Society:** The constant physical strain has fostered a deep-seated respect for strength, resilience, and communal support. Lithos society is organized into tightly knit clans, each specializing in a particular craft or skill.  Individualism is less valued than collective well-being.\\n* **Geocentric Technology:**  Their technology is fundamentally rooted in manipulating and understanding the earth. They’ve mastered advanced metallurgy, particularly working with incredibly dense materials.  Their cities are built into massive, naturally occurring rock formations – colossal, layered structures that resemble immense, sculpted geodes.\\n* **Slow-Tech:** The weaker electromagnetism has made traditional electronics incredibly difficult. They’ve developed a “slow-tech” approach – relying on mechanical systems, hydraulics, and carefully calibrated pressure gradients.  Their machines are robust, reliable, and incredibly slow-moving, reflecting the need for deliberate, controlled action.  Think of intricate clockwork mechanisms scaled up to monumental proportions.\\n* **Communication - Resonance:**  Due to the slower speed of light, long-distance communication is nearly impossible. They’ve developed a system of “resonance” – utilizing precisely tuned vibrations within large, hollow rock structures to transmit information.  These structures act as natural amplifiers, and skilled “Resonators” can encode and decode complex messages.\\n* **Limited Space Travel:**  Space travel is a distant dream. The increased gravity and the limitations of their slow-tech make it prohibitively difficult. Their focus is entirely on mastering their immediate environment.\\n\\n\\n**Artistic Expression**\\n\\n* **Stone Sculpture & Carving:**  Their art is overwhelmingly focused on monumental stone sculpture and intricate carving. The sheer difficulty of working with dense materials is reflected in the deliberate, painstaking nature of their creations.  They don’t aim for delicate beauty; instead, they strive for imposing grandeur and a sense of enduring strength.\\n* **Resonance Music:**  Their music is based on manipulating resonant frequencies within rock formations. It’s not melodic in the human sense, but rather a complex tapestry of vibrations that evoke powerful emotions – a feeling of grounding, stability, and connection to the earth.\\n* **Geological Narratives:**  Their art often depicts geological events – the formation of mountains, the flow of rivers, the slow, relentless processes of erosion.  They see themselves as chroniclers of the earth’s history.\\n\\n**Philosophical Outlook**\\n\\n* **Stoicism & Acceptance:**  The constant physical challenge has instilled a deep sense of stoicism. They accept the limitations of their world and focus on mastering what they can control.  There’s a profound respect for the natural order and a belief that everything happens for a reason.\\n* **Cyclical Time:** The slower speed of light has subtly altered their perception of time. They experience time as more cyclical and less linear.  The past, present, and future feel interconnected, and they emphasize the importance of honoring tradition and learning from the wisdom of their ancestors.\\n* **The Earth as a Living Being:** They view the planet as a single, conscious entity – a vast, ancient being that they must respect and protect.  Their religion centers around maintaining the balance of the earth’s energies.\\n* **Limited Ambition:**  The difficulty of achieving anything quickly or dramatically has fostered a lack of ambition in the traditional sense. Their goals are focused on stability, preservation, and the continuation of their clan’s traditions.\\n\\n\\n**In conclusion,** the Lithos are a species profoundly shaped by a world where the laws of physics are subtly different. Their physical adaptations, societal structures, technological advancements, artistic expression, and philosophical outlook are all inextricably linked to the constant, underlying force of stronger gravity, weaker electromagnetism, and slower light. They are a testament to the remarkable adaptability of life, even when faced with a world that feels fundamentally alien. \\n\\n---\\n\\nWould you like me to delve deeper into a specific aspect of this world, such as:\\n\\n*   A detailed description of a Lithos ritual?\\n*   A scenario involving a technological challenge they face?\\n*   An exploration of their understanding of death and the afterlife?']\n"
          ]
        }
      ]
    },
    {
      "cell_type": "code",
      "source": [
        "for competitor,answer in zip(competitors,answers):\n",
        "  print(f\"competitor : {competitor} answer is {answer}\")"
      ],
      "metadata": {
        "colab": {
          "base_uri": "https://localhost:8080/"
        },
        "id": "ZQR-snQnafEO",
        "outputId": "33f16d6a-9701-4880-d898-5e65cd8eb5ac"
      },
      "execution_count": 90,
      "outputs": [
        {
          "output_type": "stream",
          "name": "stdout",
          "text": [
            "competitor : llama3.2:1b answer is In a world where subtle alterations to physical laws have occurred, the evolution of a complex, intelligent species would be shaped by these changes. Here's a detailed exploration of how such a society might develop, including the implications for societal structures, technological advancements, artistic expression, and their philosophical outlook.\n",
            "\n",
            "**Gravity**\n",
            "\n",
            "A slight increase in gravitational strength (e.g., +10% to +20%) could lead to several adaptations:\n",
            "\n",
            "1. **Different architecture**: Buildings and cities would be more vertical and dense, accommodating stronger gravity's influence on construction materials and engineering principles. Towers and skyscrapers would become taller, while lower-rise buildings might use reinforced materials or innovative designs to counteract the increased force of gravity.\n",
            "2. **Suggested clothing and tools**: Clothing might feature different shapes and materials to accommodate the increased physical demands, such as specialized shoes for traction in muddy terrain or protective gear for lifting heavy loads. Tools could be designed with ergonomic handles and balanced weights to reduce strain during demanding tasks.\n",
            "3. **Energy needs and sources**: The stronger gravity would require less energy to maintain at higher elevations, potentially leading to significant advancements in atmospheric processing and resource extraction technologies.\n",
            "4. **Ecosystem adaptations**: The altered gravitational forces might have a cascading effect on aquatic ecosystems, influencing the growth of seaweed or the behavior of marine life. This could lead to new species or shifts in existing ones.\n",
            "\n",
            "**Electromagnetism**\n",
            "\n",
            "A slight decrease in electromagetropic strength (e.g., -5% to -10%) would necessitate adaptations in various aspects of technology and society:\n",
            "\n",
            "1. **Light-based industries**: The reduced electromagnetic field might result in a decreased availability of LED lighting, OLED displays, or other radiant technologies. Cities might focus on alternative light sources, such as luminescent fungi or bio-luminescent organisms.\n",
            "2. **Communication technologies**: Devices like satellite communication systems would need enhancements to compensate for the weaker magnetic flux, potentially leading to improved encryption methods and more reliable data transmission.\n",
            "3. **Energy efficiency**: The reduced electromagnetic field could imply more efficient energy generation and consumption. This might lead to innovations in advanced thermal management, enhanced energy storage, or novel sources of kinetic energy.\n",
            "4. **Medical advancements**: The decreased electromagnetism would create opportunities for researchers studying the effects of weaker magnetic fields on biological systems. This could lead to breakthroughs in understanding and treating medical conditions related to electromagnetic hypersensitivity.\n",
            "\n",
            "**The Speed of Light**\n",
            "\n",
            "A slightly slower speed of light (e.g., 0.85% to 1.05%) would have a profound impact:\n",
            "\n",
            "1. **Timekeeping**: The reduced speed would allow for more accurate clocks and other time-keeping devices, potentially leading to significant advancements in aviation, space exploration, and industrial processes relying on precise timing.\n",
            "2. **Transportation**: Faster-than-light travel might not be possible or practical due to the increased energy requirements. Thus, humanity could focus on developing alternative methods of long-distance transportation, such as advanced maglev systems or subterranean tunnel networks.\n",
            "3. **Computing and simulations**: The slower speed of light would require the development of more sophisticated computation techniques, possibly involving novel algorithms or quantum-inspired computing models.\n",
            "4. **Artistic expression and innovation**: Art and science might be driven by new forms of creative expression that take advantage of the reduced time scale, such as high-speed fluid dynamics inspired art pieces or quantum-based musical compositions.\n",
            "\n",
            "**Societal Structure**\n",
            "\n",
            "The altered physical laws would shape the societal structures in various ways:\n",
            "\n",
            "1. **Reimagined education systems**: Traditional subjects like physics and mathematics might be reorganized to accommodate the new gravitational and electromagnetic constraints.\n",
            "2. **Urban planning**: The emphasis on verticality, reduced wind resistance, or alternative transportation modes could lead to highly efficient urban design, minimizing energy consumption for heating, cooling, and maintenance.\n",
            "3. **Resource management**: Governments would need to reassess resource distribution and allocation, possibly prioritizing local, sustainable development over global exploitation of resources.\n",
            "4. **Cultural values**: A society where time is perceived differently and faster-than-light travel is not currently possible might prioritize temporal security, preserving cultural heritage, and protecting the concept of \"now\" from threats like quantum chaos theory.\n",
            "\n",
            "**Technological Advancements**\n",
            "\n",
            "The altered physical laws would drive rapid technological innovations:\n",
            "\n",
            "1. **Energy generation**: New energy sources might emerge from more efficient solar panels, advanced thermoelectric systems, or other innovative technologies.\n",
            "2. **Transportation**: Faster-than-light travel, maglev systems, and subterranean networks could become reality, revolutionizing the space-faring economy.\n",
            "3. **Computer science**: Researchers would focus on optimizing quantum computing models and developing new algorithms to compensate for the reduced time scale.\n",
            "4. **Medical technology**: Scientists would investigate the effects of electromagnetic fields on living organisms, potentially leading to breakthroughs in medical treatments based on biophysics.\n",
            "\n",
            "**Artistic Expression**\n",
            "\n",
            "The altered physical laws would influence various aspects of artistic expression:\n",
            "\n",
            "1. **Time-based art movements**: Art styles that revolve around time perception (e.g., temporal music) might gain popularity.\n",
            "2. **Fluid dynamics-inspired designs**: Artists might incorporate fluid phenomena, like turbulence or vortex dynamics, into their works to capture the essence of altered gravitational forces.\n",
            "3. **Quantum-inspired art**: Artists would likely experiment with quantum-inspired techniques, such as superposition and entanglement, in their creations.\n",
            "\n",
            "**Philosophical Outlook**\n",
            "\n",
            "A society where physical laws are subtly different would lead humanity to reevaluate its understanding of time, space, energy, and matter:\n",
            "\n",
            "1. **Challenges to classical notions**: The altered laws might blur the distinction between \"physical\" and \"virtual,\" forcing humans to question traditional dichotomies.\n",
            "2. **The value of impermanence**: With a faster-than-light civilization potentially implying a shorter timeline, individuals would likely emphasize the importance of temporal experience.\n",
            "3. **Environmental awareness**: Humanity might place greater emphasis on preserving natural balances and mitigating ecological degradation due to altered environmental processes.\n",
            "4. **Exploration and understanding**: The possibility of faster travel and technological advancements could lead humans to explore new dimensions in space and contemplate possibilities beyond their immediate reality.\n",
            "\n",
            "In conclusion, a world with subtly different physical laws would likely bring profound changes to the development of intelligent life, shaping societal structures, technological innovations, artistic expression, and philosophical outlooks.\n",
            "competitor : gemma-3-1b-it answer is Okay, let’s dive into a world where the fundamental laws of physics are subtly warped. We’ll call this world “Aethel,” and I’ll detail how these alterations shape its inhabitants, society, and culture.\n",
            "\n",
            "**1. The Physics of Aethel – A Delicate Balance**\n",
            "\n",
            "* **Stronger Gravity:** Gravity isn’t just stronger; it’s *more insistent*. Objects retain a slight resistance to movement, requiring more effort to lift or shift them. This isn’t a dramatic, earth-shattering force, but a persistent pull, influencing everything from building construction to biological processes.\n",
            "* **Weaker Electromagnetism:**  The force between charged particles is diminished. This means:\n",
            "    * **No Powerful Magnetic Fields:**  No powerful magnets, no magnetic shielding, no easily-created electromagnets.\n",
            "    * **Localized Charge Transfer:**  Charge transfer is more nuanced.  It’s less about forceful pushes and more about subtle, controlled shifts.\n",
            "    * **Photosynthesis is Different:** Plants rely on a different photosynthetic process – a slower, more stable energy conversion – that’s less reliant on rapid electron flow.\n",
            "* **Slower Light Speed:** Light travels at 60% of its speed. This has cascading effects:\n",
            "    * **Delayed Perception:**  Objects appear slightly \"blurred\" – a slight delay in visual perception.  This isn’t a visual distortion, but a subtle shift in how the brain processes information.\n",
            "    * **Echoes and Resonance:** Sound travels with a noticeable delay, creating a “resonant” quality to sound.  This affects communication and music.\n",
            "\n",
            "**2. Societal Structures – The “Anchor” System**\n",
            "\n",
            "* **The “Anchor” System:**  Aethelian society is built around a concept called “Anchoring.”  It’s not a physical anchor, but a deeply ingrained psychological principle.  Individuals are encouraged to develop a strong sense of “resonance” – a feeling of connection to the world and to each other.  This isn’t about empathy, but about a heightened awareness of subtle shifts in gravitational fields, electromagnetic fluctuations, and the “temporal echoes” of past events.\n",
            "* **Hierarchies Based on Resonance:**  Societal power isn’t based on wealth or military strength, but on the degree of resonance an individual possesses. Those with exceptionally strong resonance – those who can “feel” the subtle shifts in the environment – are revered as “Keepers” – responsible for maintaining balance and guiding the community.\n",
            "* **Modular Settlements:**  Buildings are constructed with a modular, interlocking design.  This is crucial because the stronger gravity makes precise, rigid construction difficult.  The interlocking system allows for subtle adjustments to structural integrity, mitigating the effects of increased gravity.\n",
            "* **Fluid Governance:**  Decision-making is less about centralized authority and more about consensus-building within “Resonance Circles.” These circles are small, highly specialized groups that focus on specific aspects of the environment – perhaps geological stability, energy flow, or the interpretation of echoes.\n",
            "\n",
            "\n",
            "**3. Technological Advancements – Precision & Adaptation**\n",
            "\n",
            "* **Gravitic Sculpting:**  Technology revolves around manipulating gravitational fields.  They’ve developed “Gravitic Sculptors” – devices that subtly alter the local gravitational field to create tools, structures, and even defensive barriers.  These aren’t brute-force machines; they’re incredibly precise, requiring a deep understanding of resonance.\n",
            "* **Resonance Amplifiers:**  Devices that amplify and focus subtle electromagnetic and gravitational fluctuations.  These are used for communication, navigation, and even medical applications – detecting imbalances in the body’s internal resonance.\n",
            "* **Echo-Mapping:**  A sophisticated system of recording and interpreting “temporal echoes.”  These are faint, residual vibrations from past events, allowing them to reconstruct historical data and predict potential dangers.\n",
            "* **Bio-Resonance Textiles:** Clothing and materials are woven with fibers that react to changes in the environment, subtly shifting color and texture to communicate information about the surrounding landscape.\n",
            "\n",
            "\n",
            "**4. Artistic Expression – Echoes & Shifting Forms**\n",
            "\n",
            "* **“Chromatic Resonance”:** Art is deeply intertwined with resonance.  Artists don’t paint or sculpt in the traditional sense. Instead, they manipulate the resonant frequencies of materials – creating shimmering, shifting patterns of light and color that mimic the subtle shifts in gravity and electromagnetic fields.\n",
            "* **Echo Sculptures:**  Large-scale sculptures that are designed to resonate with specific frequencies, creating a “living” echo of the past.  They’re not static; they subtly shift and change over time, reflecting the ongoing flow of resonance.\n",
            "* **Sound-Weaving:** Music isn’t about melody and harmony. It’s about manipulating resonant frequencies to evoke specific emotional states and “echoes” of past events.  The sounds are layered and complex, almost like a conversation with the past.\n",
            "* **“Shadow-Mapping”:** A form of visual art that uses strategically placed shadows to create illusions of movement and change, mimicking the way gravity subtly alters the perception of objects.\n",
            "\n",
            "\n",
            "**5. Philosophical Outlook – The Value of Stillness**\n",
            "\n",
            "* **The “Stillness Principle”:**  Aethelians place immense value on stillness and quietude.  They believe that excessive activity disrupts the delicate balance of the world and can lead to instability.\n",
            "* **Ephemeral Existence:**  They have a profound respect for the fleeting nature of things.  They understand that everything is in a constant state of flux, and that clinging to permanence is a source of suffering.\n",
            "* **Collective Resonance:**  Individual identity is less important than the collective resonance of the community.  They believe that by connecting with others and understanding the flow of the world, they can achieve a state of profound peace and wisdom.\n",
            "* **The “Void” as a Teacher:**  Aethelians see the “Void” – the absence of resonant energy – not as a threat, but as a teacher.  It’s a space where the echoes of the past are most potent, and where new connections can be forged.\n",
            "\n",
            "\n",
            "**Overall Impression:**\n",
            "\n",
            "Aethel is a world of subtle tension and profound beauty. It’s a society that has learned to live in harmony with a fundamentally different reality. Their technology isn’t about brute force, but about understanding and responding to the subtle currents of the universe. Their art isn’t about representation, but about evoking resonance – a feeling of connection, of memory, and of the eternal dance of existence.  It’s a world where the greatest strength lies not in power, but in the ability to *feel* the world around them. \n",
            "\n",
            "Do you want me to elaborate on any of these aspects, perhaps explore a specific societal challenge or technological development?\n",
            "competitor : gemma-3-27b-it answer is ## The Gravitas: Life Under a Heavier Sky\n",
            "\n",
            "Let's call the species that evolves under these altered physics the \"Gravitas.\" Their world, Aerilon, is subtly but profoundly different from Earth. Gravity is 1.3x stronger, electromagnetism 0.8x as strong, and the speed of light is 20% slower (roughly 150,000 km/s).  These changes aren't catastrophic, but they ripple through every aspect of existence.\n",
            "\n",
            "**I. Physical Adaptations: The Burden of Being**\n",
            "\n",
            "The most immediate impact is on biology. \n",
            "\n",
            "* **Skeletal Structure:** Gravitas are significantly shorter and stockier than humans.  Long, slender limbs are energetically unsustainable.  Their bones are denser, reinforced with a higher proportion of mineral content, and exhibit a complex internal bracing structure, almost like miniature geodesic domes.  Joints are robust, with limited range of motion, prioritizing stability over agility.  Think powerfully built badgers, but bipedal.\n",
            "* **Musculature:**  Muscle mass is proportionally much larger, representing a significant percentage of their body weight.  Metabolism is slower, geared towards efficient energy use.  Fast, explosive movements are rare; endurance and sustained strength are paramount.\n",
            "* **Circulatory System:**  The heart is incredibly powerful, a multi-chambered organ capable of overcoming the increased gravitational pressure. Blood is thicker, with a higher concentration of oxygen-carrying molecules.  Standing for extended periods requires significant energy expenditure, and fainting from blood pooling is a common childhood experience.\n",
            "* **Sensory Systems:**  Weaker electromagnetism impacts nerve impulse transmission.  Gravitas have evolved larger, more densely packed neurons and more efficient myelin sheaths to compensate.  This results in slower reaction times compared to humans, but also a heightened sensitivity to subtle changes in pressure and vibration – crucial for navigating a world where falling is a constant threat.  Vision is less reliant on color (electromagnetic radiation is less vibrant) and more on subtle shades of grey and motion detection.\n",
            "* **Skin & Protection:**  Skin is thicker and tougher, providing more protection against impacts.  Natural armor – bony plates or thick hides – are common evolutionary pathways.  The slower speed of light means UV radiation is less energetic, reducing the need for extensive pigmentation.\n",
            "\n",
            "\n",
            "\n",
            "**II. Societal Structures: The Weight of Tradition**\n",
            "\n",
            "These physical constraints profoundly shape Gravitas society.\n",
            "\n",
            "* **Settlement Patterns:**  Large, sprawling cities are impractical.  Construction requires immense energy and materials.  Gravitas settlements are typically compact, built into natural formations like canyons or caves, utilizing the landscape for structural support.  Verticality is limited; buildings are low and wide.\n",
            "* **Social Hierarchy:**  Physical strength and endurance are highly valued.  A meritocratic system based on demonstrable physical prowess is likely, with leaders chosen through rigorous trials of strength and stamina.  However, this isn't necessarily brutal.  The understanding that *everyone* struggles against the gravity fosters a strong sense of communal responsibility.  Those who are physically weaker contribute through specialized skills – craftsmanship, knowledge-keeping, etc.\n",
            "* **Pace of Life:**  Life is slower, more deliberate.  Haste is dangerous.  Rituals and traditions are deeply ingrained, providing structure and a sense of security in a physically demanding world.  Change is viewed with suspicion, as it disrupts established routines and potentially destabilizes the community.\n",
            "* **Family & Community:**  Strong family bonds are essential for survival.  Raising children is a collective effort, as even basic tasks like gathering food and building shelter require significant assistance.  Individualism is discouraged; the survival of the group takes precedence.\n",
            "* **Warfare:**  Large-scale warfare is incredibly difficult.  Moving armies is slow and exhausting.  Conflicts are likely to be localized, focused on resource control and territorial disputes.  Siege warfare and attrition tactics would be favored over swift, decisive battles.\n",
            "\n",
            "\n",
            "\n",
            "**III. Technological Advancements:  The Art of Leverage**\n",
            "\n",
            "The altered physics dictate a unique technological trajectory.\n",
            "\n",
            "* **Materials Science:**  The focus is on incredibly strong, lightweight materials.  They wouldn't discover steel easily; its density would be a major drawback.  Instead, they'd excel at composite materials – reinforced ceramics, woven fibers, and naturally occurring structures like honeycomb formations.  \n",
            "* **Energy Production:**  Fossil fuels are less efficient due to the increased gravity.  Hydropower is a natural choice, utilizing the force of water flowing downhill.  Geothermal energy is also viable, tapping into the planet's internal heat.  Nuclear energy would be approached with extreme caution, given the potential for catastrophic failure under increased gravitational stress.\n",
            "* **Transportation:**  Flying is incredibly difficult and energy-intensive.  They might develop sophisticated gliding technologies, utilizing air currents and lightweight materials.  Ground transportation relies on robust, low-profile vehicles – think heavily armored, multi-wheeled crawlers.  Leverage and mechanical advantage are central to all their engineering.  Complex pulley systems and counterweights are ubiquitous.\n",
            "* **Communication:**  The slower speed of light limits long-distance communication.  They wouldn't develop radio technology as quickly.  Instead, they might focus on sophisticated optical signaling systems – using powerful lasers and mirrors to transmit information across relatively short distances.  A network of relay stations would be essential for wider communication.  \n",
            "* **Computation:**  The slower nerve impulses translate to slower processing speeds.  Early computers would be mechanical, relying on intricate clockwork mechanisms and levers.  Electronic computation would be hampered by the weaker electromagnetism, requiring larger, more energy-intensive components.\n",
            "\n",
            "\n",
            "\n",
            "**IV. Artistic Expression & Philosophical Outlook:  The Echo of Weight**\n",
            "\n",
            "The Gravitas’ art and philosophy are deeply influenced by their world.\n",
            "\n",
            "* **Art:**  Their art is characterized by solidity, permanence, and a sense of groundedness.  Sculpture is dominant, utilizing dense, durable materials.  Paintings are often monochromatic, focusing on texture and form rather than vibrant color.  Music is slow, resonant, and emphasizes deep bass tones.  Dance is deliberate and controlled, prioritizing balance and stability over fluidity and grace.  Themes of endurance, resilience, and the interconnectedness of all things are prevalent.\n",
            "* **Philosophy:**  The constant struggle against gravity fosters a fatalistic worldview.  They believe in the inevitability of hardship and the importance of accepting one's fate.  However, this isn't necessarily pessimistic.  They find meaning in overcoming challenges and contributing to the collective good.  Concepts of \"burden\" and \"responsibility\" are central to their ethical system.  They might develop a cyclical view of time, reflecting the slow, deliberate pace of their lives.  The slower speed of light might lead to a different understanding of causality, perhaps viewing time as more fluid and less linear.\n",
            "* **Spirituality:**  Their spirituality is likely to be earth-centered, revering the planet as a source of strength and stability.  They might worship ancestral spirits who embody the virtues of endurance and resilience.  Rituals involving physical exertion and communal effort would be common.  \n",
            "\n",
            "\n",
            "\n",
            "**In conclusion,** the Gravitas would be a species profoundly shaped by their altered physics. They wouldn't be \"less advanced\" than humans, simply *different*. Their technology, society, and culture would be a testament to their ability to adapt and thrive in a world that demands strength, resilience, and a deep understanding of the forces that bind them to the ground.  They would be a people who understand the weight of existence, not as a burden, but as a fundamental truth of their universe.  \n",
            "\n",
            "\n",
            "\n",
            "\n",
            "competitor : gemma-3-4b-it answer is Okay, let’s dive into a world subtly warped by altered physics. We’ll call it “Terra Firma,” and it’s been inhabited by the “Lithos,” a species that’s evolved under these conditions.\n",
            "\n",
            "**The Physics of Terra Firma:**\n",
            "\n",
            "* **Stronger Gravity (1.2g):** This is the most pervasive change. It’s not a dramatic shift, but it’s constant.\n",
            "* **Weaker Electromagnetism (70% of normal):** This impacts everything from the strength of magnetic fields to the efficiency of chemical reactions.\n",
            "* **Slower Speed of Light (298,000 km/s - roughly 98% of normal):** This isn’t noticeable in everyday life, but it has cumulative effects on communication and the perception of time.\n",
            "\n",
            "\n",
            "**The Lithos: Physical Adaptations**\n",
            "\n",
            "The Lithos are a humanoid species, but profoundly shaped by their environment. \n",
            "\n",
            "* **Compact and Dense:**  Their bones are incredibly dense, almost like granite, reinforced with a unique silicate compound. They’re shorter and stockier than humans, averaging around 1.2 meters tall.  Their musculature is exceptionally powerful, built for resisting the constant pull of gravity.\n",
            "* **Low Center of Gravity:**  Their skeletal structure is designed for a very low center of gravity, making them remarkably stable and difficult to topple. They walk with a deliberate, grounded gait.\n",
            "* **Reduced Limb Length:** Limbs are shorter and thicker, maximizing leverage and strength.  Their hands and feet have evolved into powerful, gripping appendages with multiple, robust digits.\n",
            "* **Internal Pressure Regulation:**  Their circulatory system is incredibly efficient, operating under significantly higher pressure to combat the increased gravitational strain. They have a specialized organ that regulates fluid distribution to maintain internal equilibrium.\n",
            "* **Reduced Sensory Range:**  The slower speed of light has subtly impacted their vision. Their eyes are larger and more sensitive to low light, but their peripheral vision is narrower.  Sound travels slightly slower, leading to a heightened sense of spatial awareness – they \"feel\" the direction of sounds more than they hear them.\n",
            "\n",
            "\n",
            "**Societal Structures & Technology**\n",
            "\n",
            "* **Clan-Based Society:** The constant physical strain has fostered a deep-seated respect for strength, resilience, and communal support. Lithos society is organized into tightly knit clans, each specializing in a particular craft or skill.  Individualism is less valued than collective well-being.\n",
            "* **Geocentric Technology:**  Their technology is fundamentally rooted in manipulating and understanding the earth. They’ve mastered advanced metallurgy, particularly working with incredibly dense materials.  Their cities are built into massive, naturally occurring rock formations – colossal, layered structures that resemble immense, sculpted geodes.\n",
            "* **Slow-Tech:** The weaker electromagnetism has made traditional electronics incredibly difficult. They’ve developed a “slow-tech” approach – relying on mechanical systems, hydraulics, and carefully calibrated pressure gradients.  Their machines are robust, reliable, and incredibly slow-moving, reflecting the need for deliberate, controlled action.  Think of intricate clockwork mechanisms scaled up to monumental proportions.\n",
            "* **Communication - Resonance:**  Due to the slower speed of light, long-distance communication is nearly impossible. They’ve developed a system of “resonance” – utilizing precisely tuned vibrations within large, hollow rock structures to transmit information.  These structures act as natural amplifiers, and skilled “Resonators” can encode and decode complex messages.\n",
            "* **Limited Space Travel:**  Space travel is a distant dream. The increased gravity and the limitations of their slow-tech make it prohibitively difficult. Their focus is entirely on mastering their immediate environment.\n",
            "\n",
            "\n",
            "**Artistic Expression**\n",
            "\n",
            "* **Stone Sculpture & Carving:**  Their art is overwhelmingly focused on monumental stone sculpture and intricate carving. The sheer difficulty of working with dense materials is reflected in the deliberate, painstaking nature of their creations.  They don’t aim for delicate beauty; instead, they strive for imposing grandeur and a sense of enduring strength.\n",
            "* **Resonance Music:**  Their music is based on manipulating resonant frequencies within rock formations. It’s not melodic in the human sense, but rather a complex tapestry of vibrations that evoke powerful emotions – a feeling of grounding, stability, and connection to the earth.\n",
            "* **Geological Narratives:**  Their art often depicts geological events – the formation of mountains, the flow of rivers, the slow, relentless processes of erosion.  They see themselves as chroniclers of the earth’s history.\n",
            "\n",
            "**Philosophical Outlook**\n",
            "\n",
            "* **Stoicism & Acceptance:**  The constant physical challenge has instilled a deep sense of stoicism. They accept the limitations of their world and focus on mastering what they can control.  There’s a profound respect for the natural order and a belief that everything happens for a reason.\n",
            "* **Cyclical Time:** The slower speed of light has subtly altered their perception of time. They experience time as more cyclical and less linear.  The past, present, and future feel interconnected, and they emphasize the importance of honoring tradition and learning from the wisdom of their ancestors.\n",
            "* **The Earth as a Living Being:** They view the planet as a single, conscious entity – a vast, ancient being that they must respect and protect.  Their religion centers around maintaining the balance of the earth’s energies.\n",
            "* **Limited Ambition:**  The difficulty of achieving anything quickly or dramatically has fostered a lack of ambition in the traditional sense. Their goals are focused on stability, preservation, and the continuation of their clan’s traditions.\n",
            "\n",
            "\n",
            "**In conclusion,** the Lithos are a species profoundly shaped by a world where the laws of physics are subtly different. Their physical adaptations, societal structures, technological advancements, artistic expression, and philosophical outlook are all inextricably linked to the constant, underlying force of stronger gravity, weaker electromagnetism, and slower light. They are a testament to the remarkable adaptability of life, even when faced with a world that feels fundamentally alien. \n",
            "\n",
            "---\n",
            "\n",
            "Would you like me to delve deeper into a specific aspect of this world, such as:\n",
            "\n",
            "*   A detailed description of a Lithos ritual?\n",
            "*   A scenario involving a technological challenge they face?\n",
            "*   An exploration of their understanding of death and the afterlife?\n"
          ]
        }
      ]
    },
    {
      "cell_type": "code",
      "source": [
        "# Let's bring this together - note the use of \"enumerate\"\n",
        "\n",
        "together = \"\"\n",
        "for index, answer in enumerate(answers):\n",
        "    together += f\"# Response from competitor {index+1}\\n\\n\"\n",
        "    together += answer + \"\\n\\n\""
      ],
      "metadata": {
        "id": "RXI6NCs4ae5z"
      },
      "execution_count": 91,
      "outputs": []
    },
    {
      "cell_type": "code",
      "source": [
        "#print(together)"
      ],
      "metadata": {
        "id": "hEqdv0Ysaetz"
      },
      "execution_count": 92,
      "outputs": []
    },
    {
      "cell_type": "code",
      "source": [
        "judge = f\"\"\"You are judging a competition between {len(competitors)} competitors.\n",
        "Each model has been given this question:\n",
        "\n",
        "{question}\n",
        "\n",
        "Your job is to evaluate each response for clarity and strength of argument, and rank them in order of best to worst.\n",
        "Respond with JSON, and only JSON, with the following format:\n",
        "{{\"results\": [\"best competitor number\", \"second best competitor number\", \"third best competitor number\", ...]}}\n",
        "\n",
        "Here are the responses from each competitor:\n",
        "\n",
        "{together}\n",
        "\n",
        "Now respond with the JSON and only JSON with the ranked order of the competitors, nothing else. Do not include markdown formatting or code blocks. Respond with JSON, and only JSON, with the following format:\n",
        "{{\"results\": [\"best competitor number\", \"second best competitor number\", \"third best competitor number\", ...]}}\"\"\""
      ],
      "metadata": {
        "id": "WLVycRnVbXXZ"
      },
      "execution_count": 93,
      "outputs": []
    },
    {
      "cell_type": "code",
      "source": [
        "#print(judge)"
      ],
      "metadata": {
        "id": "dO6eIewTbXUS"
      },
      "execution_count": 94,
      "outputs": []
    },
    {
      "cell_type": "code",
      "source": [
        "judge_messages = [{\"role\": \"user\", \"content\": judge}]"
      ],
      "metadata": {
        "id": "STDYJuFCbXRJ"
      },
      "execution_count": 95,
      "outputs": []
    },
    {
      "cell_type": "code",
      "source": [
        "#model_name=\"gemma-3-12b-it\"\n",
        "model_name=\"gemma-3n-e4b-it\"\n",
        "\n",
        "response = gemini.chat.completions.create(model=model_name, messages=judge_messages)\n",
        "results = response.choices[0].message.content\n",
        "print(results)"
      ],
      "metadata": {
        "colab": {
          "base_uri": "https://localhost:8080/"
        },
        "id": "kUfK7hvebXNx",
        "outputId": "3bf02f20-7f67-46a9-9db0-3048a1deb00f"
      },
      "execution_count": 98,
      "outputs": [
        {
          "output_type": "stream",
          "name": "stdout",
          "text": [
            "{\"results\": [\"2\", \"4\", \"3\"]}\n"
          ]
        }
      ]
    },
    {
      "cell_type": "code",
      "source": [
        "# OK let's turn this into results!\n",
        "\n",
        "results_dict = json.loads(results)\n",
        "ranks = results_dict[\"results\"]\n",
        "for index, result in enumerate(ranks):\n",
        "    competitor = competitors[int(result)-1]\n",
        "    print(f\"Rank {index+1}: {competitor}\")"
      ],
      "metadata": {
        "colab": {
          "base_uri": "https://localhost:8080/"
        },
        "id": "KHV0G0fVbXHv",
        "outputId": "d6a37500-297f-445b-9ed2-f3d41136302b"
      },
      "execution_count": 99,
      "outputs": [
        {
          "output_type": "stream",
          "name": "stdout",
          "text": [
            "Rank 1: gemma-3-1b-it\n",
            "Rank 2: gemma-3-4b-it\n",
            "Rank 3: gemma-3-27b-it\n"
          ]
        }
      ]
    },
    {
      "cell_type": "code",
      "source": [],
      "metadata": {
        "id": "R8ZgQkEhbW7e"
      },
      "execution_count": 57,
      "outputs": []
    },
    {
      "cell_type": "code",
      "source": [],
      "metadata": {
        "id": "ob63o98hl1b0"
      },
      "execution_count": null,
      "outputs": []
    },
    {
      "cell_type": "code",
      "source": [],
      "metadata": {
        "id": "Xlsz9eXHl1Ha"
      },
      "execution_count": null,
      "outputs": []
    },
    {
      "cell_type": "code",
      "source": [
        "deepseek_api_key=userdata.get('DEEPSEEK_API_KEY')\n",
        "if deepseek_api_key is None:\n",
        "  raise ValueError(\"DEEPSEEK_API_KEY not set\")\n",
        "else :\n",
        "  print(\"DEEPSEEK_API_KEY key is set\")"
      ],
      "metadata": {
        "colab": {
          "base_uri": "https://localhost:8080/"
        },
        "id": "zpQwiLb2WL-R",
        "outputId": "588911d0-242f-484c-bd9d-2192faf1f90e"
      },
      "execution_count": 21,
      "outputs": [
        {
          "output_type": "stream",
          "name": "stdout",
          "text": [
            "DEEPSEEK_API_KEY key is set\n"
          ]
        }
      ]
    },
    {
      "cell_type": "code",
      "source": [
        "deepseek = OpenAI(api_key=deepseek_api_key, base_url=\"https://api.deepseek.com/v1\")\n",
        "model_name = \"deepseek-chat\"\n",
        "\n",
        "response = deepseek.chat.completions.create(model=model_name, messages=messages)\n",
        "answer = response.choices[0].message.content\n",
        "\n",
        "#display(Markdown(answer))\n",
        "#competitors.append(model_name)\n",
        "#answers.append(answer)"
      ],
      "metadata": {
        "colab": {
          "base_uri": "https://localhost:8080/",
          "height": 365
        },
        "id": "CqF2PZtiUpLf",
        "outputId": "18756ff5-9346-4181-f790-9ae243182c3c"
      },
      "execution_count": 22,
      "outputs": [
        {
          "output_type": "error",
          "ename": "APIStatusError",
          "evalue": "Error code: 402 - {'error': {'message': 'Insufficient Balance', 'type': 'unknown_error', 'param': None, 'code': 'invalid_request_error'}}",
          "traceback": [
            "\u001b[0;31m---------------------------------------------------------------------------\u001b[0m",
            "\u001b[0;31mAPIStatusError\u001b[0m                            Traceback (most recent call last)",
            "\u001b[0;32m/tmp/ipython-input-22-885244502.py\u001b[0m in \u001b[0;36m<cell line: 0>\u001b[0;34m()\u001b[0m\n\u001b[1;32m      2\u001b[0m \u001b[0mmodel_name\u001b[0m \u001b[0;34m=\u001b[0m \u001b[0;34m\"deepseek-chat\"\u001b[0m\u001b[0;34m\u001b[0m\u001b[0;34m\u001b[0m\u001b[0m\n\u001b[1;32m      3\u001b[0m \u001b[0;34m\u001b[0m\u001b[0m\n\u001b[0;32m----> 4\u001b[0;31m \u001b[0mresponse\u001b[0m \u001b[0;34m=\u001b[0m \u001b[0mdeepseek\u001b[0m\u001b[0;34m.\u001b[0m\u001b[0mchat\u001b[0m\u001b[0;34m.\u001b[0m\u001b[0mcompletions\u001b[0m\u001b[0;34m.\u001b[0m\u001b[0mcreate\u001b[0m\u001b[0;34m(\u001b[0m\u001b[0mmodel\u001b[0m\u001b[0;34m=\u001b[0m\u001b[0mmodel_name\u001b[0m\u001b[0;34m,\u001b[0m \u001b[0mmessages\u001b[0m\u001b[0;34m=\u001b[0m\u001b[0mmessages\u001b[0m\u001b[0;34m)\u001b[0m\u001b[0;34m\u001b[0m\u001b[0;34m\u001b[0m\u001b[0m\n\u001b[0m\u001b[1;32m      5\u001b[0m \u001b[0manswer\u001b[0m \u001b[0;34m=\u001b[0m \u001b[0mresponse\u001b[0m\u001b[0;34m.\u001b[0m\u001b[0mchoices\u001b[0m\u001b[0;34m[\u001b[0m\u001b[0;36m0\u001b[0m\u001b[0;34m]\u001b[0m\u001b[0;34m.\u001b[0m\u001b[0mmessage\u001b[0m\u001b[0;34m.\u001b[0m\u001b[0mcontent\u001b[0m\u001b[0;34m\u001b[0m\u001b[0;34m\u001b[0m\u001b[0m\n\u001b[1;32m      6\u001b[0m \u001b[0;34m\u001b[0m\u001b[0m\n",
            "\u001b[0;32m/usr/local/lib/python3.11/dist-packages/openai/_utils/_utils.py\u001b[0m in \u001b[0;36mwrapper\u001b[0;34m(*args, **kwargs)\u001b[0m\n\u001b[1;32m    285\u001b[0m                         \u001b[0mmsg\u001b[0m \u001b[0;34m=\u001b[0m \u001b[0;34mf\"Missing required argument: {quote(missing[0])}\"\u001b[0m\u001b[0;34m\u001b[0m\u001b[0;34m\u001b[0m\u001b[0m\n\u001b[1;32m    286\u001b[0m                 \u001b[0;32mraise\u001b[0m \u001b[0mTypeError\u001b[0m\u001b[0;34m(\u001b[0m\u001b[0mmsg\u001b[0m\u001b[0;34m)\u001b[0m\u001b[0;34m\u001b[0m\u001b[0;34m\u001b[0m\u001b[0m\n\u001b[0;32m--> 287\u001b[0;31m             \u001b[0;32mreturn\u001b[0m \u001b[0mfunc\u001b[0m\u001b[0;34m(\u001b[0m\u001b[0;34m*\u001b[0m\u001b[0margs\u001b[0m\u001b[0;34m,\u001b[0m \u001b[0;34m**\u001b[0m\u001b[0mkwargs\u001b[0m\u001b[0;34m)\u001b[0m\u001b[0;34m\u001b[0m\u001b[0;34m\u001b[0m\u001b[0m\n\u001b[0m\u001b[1;32m    288\u001b[0m \u001b[0;34m\u001b[0m\u001b[0m\n\u001b[1;32m    289\u001b[0m         \u001b[0;32mreturn\u001b[0m \u001b[0mwrapper\u001b[0m  \u001b[0;31m# type: ignore\u001b[0m\u001b[0;34m\u001b[0m\u001b[0;34m\u001b[0m\u001b[0m\n",
            "\u001b[0;32m/usr/local/lib/python3.11/dist-packages/openai/resources/chat/completions/completions.py\u001b[0m in \u001b[0;36mcreate\u001b[0;34m(self, messages, model, audio, frequency_penalty, function_call, functions, logit_bias, logprobs, max_completion_tokens, max_tokens, metadata, modalities, n, parallel_tool_calls, prediction, presence_penalty, reasoning_effort, response_format, seed, service_tier, stop, store, stream, stream_options, temperature, tool_choice, tools, top_logprobs, top_p, user, web_search_options, extra_headers, extra_query, extra_body, timeout)\u001b[0m\n\u001b[1;32m    923\u001b[0m     ) -> ChatCompletion | Stream[ChatCompletionChunk]:\n\u001b[1;32m    924\u001b[0m         \u001b[0mvalidate_response_format\u001b[0m\u001b[0;34m(\u001b[0m\u001b[0mresponse_format\u001b[0m\u001b[0;34m)\u001b[0m\u001b[0;34m\u001b[0m\u001b[0;34m\u001b[0m\u001b[0m\n\u001b[0;32m--> 925\u001b[0;31m         return self._post(\n\u001b[0m\u001b[1;32m    926\u001b[0m             \u001b[0;34m\"/chat/completions\"\u001b[0m\u001b[0;34m,\u001b[0m\u001b[0;34m\u001b[0m\u001b[0;34m\u001b[0m\u001b[0m\n\u001b[1;32m    927\u001b[0m             body=maybe_transform(\n",
            "\u001b[0;32m/usr/local/lib/python3.11/dist-packages/openai/_base_client.py\u001b[0m in \u001b[0;36mpost\u001b[0;34m(self, path, cast_to, body, options, files, stream, stream_cls)\u001b[0m\n\u001b[1;32m   1240\u001b[0m             \u001b[0mmethod\u001b[0m\u001b[0;34m=\u001b[0m\u001b[0;34m\"post\"\u001b[0m\u001b[0;34m,\u001b[0m \u001b[0murl\u001b[0m\u001b[0;34m=\u001b[0m\u001b[0mpath\u001b[0m\u001b[0;34m,\u001b[0m \u001b[0mjson_data\u001b[0m\u001b[0;34m=\u001b[0m\u001b[0mbody\u001b[0m\u001b[0;34m,\u001b[0m \u001b[0mfiles\u001b[0m\u001b[0;34m=\u001b[0m\u001b[0mto_httpx_files\u001b[0m\u001b[0;34m(\u001b[0m\u001b[0mfiles\u001b[0m\u001b[0;34m)\u001b[0m\u001b[0;34m,\u001b[0m \u001b[0;34m**\u001b[0m\u001b[0moptions\u001b[0m\u001b[0;34m\u001b[0m\u001b[0;34m\u001b[0m\u001b[0m\n\u001b[1;32m   1241\u001b[0m         )\n\u001b[0;32m-> 1242\u001b[0;31m         \u001b[0;32mreturn\u001b[0m \u001b[0mcast\u001b[0m\u001b[0;34m(\u001b[0m\u001b[0mResponseT\u001b[0m\u001b[0;34m,\u001b[0m \u001b[0mself\u001b[0m\u001b[0;34m.\u001b[0m\u001b[0mrequest\u001b[0m\u001b[0;34m(\u001b[0m\u001b[0mcast_to\u001b[0m\u001b[0;34m,\u001b[0m \u001b[0mopts\u001b[0m\u001b[0;34m,\u001b[0m \u001b[0mstream\u001b[0m\u001b[0;34m=\u001b[0m\u001b[0mstream\u001b[0m\u001b[0;34m,\u001b[0m \u001b[0mstream_cls\u001b[0m\u001b[0;34m=\u001b[0m\u001b[0mstream_cls\u001b[0m\u001b[0;34m)\u001b[0m\u001b[0;34m)\u001b[0m\u001b[0;34m\u001b[0m\u001b[0;34m\u001b[0m\u001b[0m\n\u001b[0m\u001b[1;32m   1243\u001b[0m \u001b[0;34m\u001b[0m\u001b[0m\n\u001b[1;32m   1244\u001b[0m     def patch(\n",
            "\u001b[0;32m/usr/local/lib/python3.11/dist-packages/openai/_base_client.py\u001b[0m in \u001b[0;36mrequest\u001b[0;34m(self, cast_to, options, stream, stream_cls)\u001b[0m\n\u001b[1;32m   1035\u001b[0m \u001b[0;34m\u001b[0m\u001b[0m\n\u001b[1;32m   1036\u001b[0m                 \u001b[0mlog\u001b[0m\u001b[0;34m.\u001b[0m\u001b[0mdebug\u001b[0m\u001b[0;34m(\u001b[0m\u001b[0;34m\"Re-raising status error\"\u001b[0m\u001b[0;34m)\u001b[0m\u001b[0;34m\u001b[0m\u001b[0;34m\u001b[0m\u001b[0m\n\u001b[0;32m-> 1037\u001b[0;31m                 \u001b[0;32mraise\u001b[0m \u001b[0mself\u001b[0m\u001b[0;34m.\u001b[0m\u001b[0m_make_status_error_from_response\u001b[0m\u001b[0;34m(\u001b[0m\u001b[0merr\u001b[0m\u001b[0;34m.\u001b[0m\u001b[0mresponse\u001b[0m\u001b[0;34m)\u001b[0m \u001b[0;32mfrom\u001b[0m \u001b[0;32mNone\u001b[0m\u001b[0;34m\u001b[0m\u001b[0;34m\u001b[0m\u001b[0m\n\u001b[0m\u001b[1;32m   1038\u001b[0m \u001b[0;34m\u001b[0m\u001b[0m\n\u001b[1;32m   1039\u001b[0m             \u001b[0;32mbreak\u001b[0m\u001b[0;34m\u001b[0m\u001b[0;34m\u001b[0m\u001b[0m\n",
            "\u001b[0;31mAPIStatusError\u001b[0m: Error code: 402 - {'error': {'message': 'Insufficient Balance', 'type': 'unknown_error', 'param': None, 'code': 'invalid_request_error'}}"
          ]
        }
      ]
    },
    {
      "cell_type": "code",
      "source": [
        "\n",
        "\n",
        "models = gemini.models.list()\n",
        "for model in models:\n",
        "  print(model.id)"
      ],
      "metadata": {
        "colab": {
          "base_uri": "https://localhost:8080/"
        },
        "id": "oGmQh6dKiIYw",
        "outputId": "9e76b46a-2bcd-4082-a1e4-514c44302061"
      },
      "execution_count": 53,
      "outputs": [
        {
          "output_type": "stream",
          "name": "stdout",
          "text": [
            "models/embedding-gecko-001\n",
            "models/gemini-1.0-pro-vision-latest\n",
            "models/gemini-pro-vision\n",
            "models/gemini-1.5-pro-latest\n",
            "models/gemini-1.5-pro-002\n",
            "models/gemini-1.5-pro\n",
            "models/gemini-1.5-flash-latest\n",
            "models/gemini-1.5-flash\n",
            "models/gemini-1.5-flash-002\n",
            "models/gemini-1.5-flash-8b\n",
            "models/gemini-1.5-flash-8b-001\n",
            "models/gemini-1.5-flash-8b-latest\n",
            "models/gemini-2.5-pro-exp-03-25\n",
            "models/gemini-2.5-pro-preview-03-25\n",
            "models/gemini-2.5-flash-preview-04-17\n",
            "models/gemini-2.5-flash-preview-05-20\n",
            "models/gemini-2.5-flash\n",
            "models/gemini-2.5-flash-preview-04-17-thinking\n",
            "models/gemini-2.5-flash-lite-preview-06-17\n",
            "models/gemini-2.5-pro-preview-05-06\n",
            "models/gemini-2.5-pro-preview-06-05\n",
            "models/gemini-2.5-pro\n",
            "models/gemini-2.0-flash-exp\n",
            "models/gemini-2.0-flash\n",
            "models/gemini-2.0-flash-001\n",
            "models/gemini-2.0-flash-exp-image-generation\n",
            "models/gemini-2.0-flash-lite-001\n",
            "models/gemini-2.0-flash-lite\n",
            "models/gemini-2.0-flash-preview-image-generation\n",
            "models/gemini-2.0-flash-lite-preview-02-05\n",
            "models/gemini-2.0-flash-lite-preview\n",
            "models/gemini-2.0-pro-exp\n",
            "models/gemini-2.0-pro-exp-02-05\n",
            "models/gemini-exp-1206\n",
            "models/gemini-2.0-flash-thinking-exp-01-21\n",
            "models/gemini-2.0-flash-thinking-exp\n",
            "models/gemini-2.0-flash-thinking-exp-1219\n",
            "models/gemini-2.5-flash-preview-tts\n",
            "models/gemini-2.5-pro-preview-tts\n",
            "models/learnlm-2.0-flash-experimental\n",
            "models/gemma-3-1b-it\n",
            "models/gemma-3-4b-it\n",
            "models/gemma-3-12b-it\n",
            "models/gemma-3-27b-it\n",
            "models/gemma-3n-e4b-it\n",
            "models/embedding-001\n",
            "models/text-embedding-004\n",
            "models/gemini-embedding-exp-03-07\n",
            "models/gemini-embedding-exp\n",
            "models/aqa\n",
            "models/imagen-3.0-generate-002\n",
            "models/veo-2.0-generate-001\n",
            "models/gemini-2.5-flash-preview-native-audio-dialog\n",
            "models/gemini-2.5-flash-preview-native-audio-dialog-rai-v3\n",
            "models/gemini-2.5-flash-exp-native-audio-thinking-dialog\n",
            "models/gemini-2.0-flash-live-001\n"
          ]
        }
      ]
    },
    {
      "cell_type": "code",
      "source": [],
      "metadata": {
        "id": "HVmbSRE1iIwe"
      },
      "execution_count": null,
      "outputs": []
    }
  ]
}